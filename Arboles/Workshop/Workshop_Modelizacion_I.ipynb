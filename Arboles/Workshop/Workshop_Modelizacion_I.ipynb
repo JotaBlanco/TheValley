{
  "nbformat": 4,
  "nbformat_minor": 0,
  "metadata": {
    "colab": {
      "provenance": [],
      "toc_visible": true,
      "include_colab_link": true
    },
    "kernelspec": {
      "name": "python3",
      "display_name": "Python 3"
    },
    "language_info": {
      "name": "python"
    }
  },
  "cells": [
    {
      "cell_type": "markdown",
      "metadata": {
        "id": "view-in-github",
        "colab_type": "text"
      },
      "source": [
        "<a href=\"https://colab.research.google.com/github/JotaBlanco/TheValley/blob/main/Arboles/Workshop/Workshop_Modelizacion_I.ipynb\" target=\"_parent\"><img src=\"https://colab.research.google.com/assets/colab-badge.svg\" alt=\"Open In Colab\"/></a>"
      ]
    },
    {
      "cell_type": "markdown",
      "metadata": {
        "id": "vu484-2xYriI"
      },
      "source": [
        "<img width = \"300px\" class=\"center\" src=\"data:image/png;base64,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\"></img>"
      ]
    },
    {
      "cell_type": "markdown",
      "metadata": {
        "id": "ruFW4J4KZmPf"
      },
      "source": [
        "# Workshop de modelización: Modelos Supervisados\n",
        "\n",
        "Una empresa de inversión en activos inmobiliarios, busca la creación de un algoritmo que estime el precio de una vivienda. El objetivo de este sistema es doble:\n",
        "\n",
        "1. Poder tasar casas de manera automática\n",
        "2. Poder encontrar activos que estén bien de precio\n",
        "\n",
        "Para ello os unís al equipo de Data Science de un fondo de inversión y os detallan los diferentes pasos para aproximar el problema:\n"
      ]
    },
    {
      "cell_type": "markdown",
      "metadata": {
        "id": "O6eJQOKfeJRp"
      },
      "source": [
        "\n",
        "### 1) EDA (Exploratory Data Analysis)\n",
        "\n",
        "1.   Comprobar que el Dataset está balanceado - Aplicación de técnicas de transformación de variables categóricas\n",
        "2.   Visualizaciones del conjunto de datos con la librería seaborn\n",
        "3.   Detección de outliers\n",
        "4.   Mapa interactivo leaflet (Extra)\n",
        "\n",
        "### 2) Feature Engineering (Ingeniería de variables)\n",
        "\n",
        "1. Manipulación de las variables existentes\n",
        "2. Creación de nuevas variables para el modelo\n",
        "3. (Extra) ¿Qué datos externos utilizarías?\n",
        "\n",
        "### 3) Modelado\n",
        "\n",
        "1. Utilización de diferentes modelos dados en clase: Regresión Lineal, Random Forest, XGBoost\n",
        "2. Elección de una métrica de evaluación\n",
        "3. Split entre train y test de los datos\n",
        "\n",
        "\n",
        "### 4) Overfitting (Extra)\n",
        "\n",
        "1. RMSE más bajo que puede obtener para el conjunto de entrenamiento (MAL ENTRENADO)\n",
        "2. Evalua gráficamente tu overfitting\n",
        "3. (Extra) Analiza la descomposición entre sesgo y varianza\n",
        "\n",
        "### 5) Evaluación de predicciones\n",
        "\n",
        "1. Evalua el rendimiento de los diferentes modelos\n",
        "2. Dadas las predicciones de tus modelos, explorar donde funciona mejor y peor\n",
        "3. Selecciona un modelo\n",
        "4. Conclusiones\n",
        "\n",
        "### 6) Encontrar Chollos (Extra)\n",
        "\n",
        "1. ¿Cómo orientarías la búsqueda de chollos en el dataset?\n",
        "2. ¿Cómo varía la modelización al buscar oportunidades inmobiliarias?\n",
        "\n",
        "\n"
      ]
    },
    {
      "cell_type": "markdown",
      "metadata": {
        "id": "9iWQ_uCOjXQa"
      },
      "source": [
        "### 0) Cargamos nuestra base de datos\n",
        "\n",
        "La información está en el siguiente enlace:\n",
        "\n",
        "url = 'https://raw.githubusercontent.com/JimenaAreta/thevalley-MDS/refs/heads/jimena/datasets/sample-flats-madrid-synthetic-coords.csv'\n",
        "\n",
        "Contiene las siguientes columnas:\n",
        "\n",
        " - `CODE`, código de la referencia\n",
        " - `LOCATIONNAME`, nombre de la localización\n",
        " - `PRICE`, precio de venta en €\n",
        " - `AREA`, metros cuadrados ($m^2$)\n",
        " - `ROOMNUMBER`, número de habitaciones\n",
        " - `BATHNUMBER`, número de baños\n",
        " - `STATUS`, estado del piso\n",
        " - `STUDIO`, es un estudio\n",
        " - `ISPENTHOUSE`, es una casa\n",
        " - `DUPLEX`, es un duplex\n",
        " - `SWIMMINGPOOL`, tiene piscina\n",
        " - `ELEVATOR`, tiene ascensor\n",
        " - `X` Longitud en UTM\n",
        " - `Y` Latitud en UTM\n",
        "\n"
      ]
    },
    {
      "cell_type": "code",
      "source": [],
      "metadata": {
        "id": "7M9s38MRR4PB"
      },
      "execution_count": null,
      "outputs": []
    },
    {
      "cell_type": "markdown",
      "metadata": {
        "id": "lOWnSZBYiTsT"
      },
      "source": [
        "\n",
        "### 1) Exploratory Data Analysis\n",
        "\n",
        "1.  Análisis estadístico, correlaciones, comprobar si el dataset está desbalanceado ...\n",
        "2.   Visualizaciones del conjunto de datos con la librería seaborn\n",
        "3.   Deteccción de outliers\n",
        "4.   Mapa interactivo leaflet (Extra)\n"
      ]
    },
    {
      "cell_type": "code",
      "source": [],
      "metadata": {
        "id": "EJFhTXssR-u8"
      },
      "execution_count": null,
      "outputs": []
    },
    {
      "cell_type": "code",
      "metadata": {
        "colab": {
          "base_uri": "https://localhost:8080/",
          "height": 969
        },
        "id": "XP2GbNfKrva4",
        "outputId": "ca038b8d-9e02-4033-a829-46c1c98f9433"
      },
      "source": [
        "# Extra: intenta visualizar los pisos con el paquete folium\n",
        "# https://github.com/python-visualization/folium\n",
        "# https://leafletjs.com\n",
        "# Convertir de UTM a lat long\n",
        "# https://ocefpaf.github.io/python4oceanographers/blog/2013/12/16/utm/\n",
        "\n",
        "#!pip install folium\n",
        "import folium\n",
        "# The Valley: Lat / Long 40.43286340023072, -3.705797432139346\n",
        "m = folium.Map(location=[40.43286340023072, -3.705797432139346], zoom_start=20)\n",
        "folium.Marker([40.43286340023072, -3.705797432139346],popup='The Valley',tooltip='MDS+').add_to(m)\n",
        "m"
      ],
      "execution_count": null,
      "outputs": [
        {
          "output_type": "execute_result",
          "data": {
            "text/plain": [
              "<folium.folium.Map at 0x7992fc8ad840>"
            ],
            "text/html": [
              "<div style=\"width:100%;\"><div style=\"position:relative;width:100%;height:0;padding-bottom:60%;\"><span style=\"color:#565656\">Make this Notebook Trusted to load map: File -> Trust Notebook</span><iframe srcdoc=\"&lt;!DOCTYPE html&gt;\n",
              "&lt;html&gt;\n",
              "&lt;head&gt;\n",
              "    \n",
              "    &lt;meta http-equiv=&quot;content-type&quot; content=&quot;text/html; charset=UTF-8&quot; /&gt;\n",
              "    \n",
              "        &lt;script&gt;\n",
              "            L_NO_TOUCH = false;\n",
              "            L_DISABLE_3D = false;\n",
              "        &lt;/script&gt;\n",
              "    \n",
              "    &lt;style&gt;html, body {width: 100%;height: 100%;margin: 0;padding: 0;}&lt;/style&gt;\n",
              "    &lt;style&gt;#map {position:absolute;top:0;bottom:0;right:0;left:0;}&lt;/style&gt;\n",
              "    &lt;script src=&quot;https://cdn.jsdelivr.net/npm/leaflet@1.9.3/dist/leaflet.js&quot;&gt;&lt;/script&gt;\n",
              "    &lt;script src=&quot;https://code.jquery.com/jquery-1.12.4.min.js&quot;&gt;&lt;/script&gt;\n",
              "    &lt;script src=&quot;https://cdn.jsdelivr.net/npm/bootstrap@5.2.2/dist/js/bootstrap.bundle.min.js&quot;&gt;&lt;/script&gt;\n",
              "    &lt;script src=&quot;https://cdnjs.cloudflare.com/ajax/libs/Leaflet.awesome-markers/2.0.2/leaflet.awesome-markers.js&quot;&gt;&lt;/script&gt;\n",
              "    &lt;link rel=&quot;stylesheet&quot; href=&quot;https://cdn.jsdelivr.net/npm/leaflet@1.9.3/dist/leaflet.css&quot;/&gt;\n",
              "    &lt;link rel=&quot;stylesheet&quot; href=&quot;https://cdn.jsdelivr.net/npm/bootstrap@5.2.2/dist/css/bootstrap.min.css&quot;/&gt;\n",
              "    &lt;link rel=&quot;stylesheet&quot; href=&quot;https://netdna.bootstrapcdn.com/bootstrap/3.0.0/css/bootstrap.min.css&quot;/&gt;\n",
              "    &lt;link rel=&quot;stylesheet&quot; href=&quot;https://cdn.jsdelivr.net/npm/@fortawesome/fontawesome-free@6.2.0/css/all.min.css&quot;/&gt;\n",
              "    &lt;link rel=&quot;stylesheet&quot; href=&quot;https://cdnjs.cloudflare.com/ajax/libs/Leaflet.awesome-markers/2.0.2/leaflet.awesome-markers.css&quot;/&gt;\n",
              "    &lt;link rel=&quot;stylesheet&quot; href=&quot;https://cdn.jsdelivr.net/gh/python-visualization/folium/folium/templates/leaflet.awesome.rotate.min.css&quot;/&gt;\n",
              "    \n",
              "            &lt;meta name=&quot;viewport&quot; content=&quot;width=device-width,\n",
              "                initial-scale=1.0, maximum-scale=1.0, user-scalable=no&quot; /&gt;\n",
              "            &lt;style&gt;\n",
              "                #map_d3fa593a0fa6b869aa52b4d6767e0545 {\n",
              "                    position: relative;\n",
              "                    width: 100.0%;\n",
              "                    height: 100.0%;\n",
              "                    left: 0.0%;\n",
              "                    top: 0.0%;\n",
              "                }\n",
              "                .leaflet-container { font-size: 1rem; }\n",
              "            &lt;/style&gt;\n",
              "        \n",
              "&lt;/head&gt;\n",
              "&lt;body&gt;\n",
              "    \n",
              "    \n",
              "            &lt;div class=&quot;folium-map&quot; id=&quot;map_d3fa593a0fa6b869aa52b4d6767e0545&quot; &gt;&lt;/div&gt;\n",
              "        \n",
              "&lt;/body&gt;\n",
              "&lt;script&gt;\n",
              "    \n",
              "    \n",
              "            var map_d3fa593a0fa6b869aa52b4d6767e0545 = L.map(\n",
              "                &quot;map_d3fa593a0fa6b869aa52b4d6767e0545&quot;,\n",
              "                {\n",
              "                    center: [40.43286340023072, -3.705797432139346],\n",
              "                    crs: L.CRS.EPSG3857,\n",
              "                    zoom: 20,\n",
              "                    zoomControl: true,\n",
              "                    preferCanvas: false,\n",
              "                }\n",
              "            );\n",
              "\n",
              "            \n",
              "\n",
              "        \n",
              "    \n",
              "            var tile_layer_a6bf4f3ea9fe6ea896227c74bd121a11 = L.tileLayer(\n",
              "                &quot;https://{s}.tile.openstreetmap.org/{z}/{x}/{y}.png&quot;,\n",
              "                {&quot;attribution&quot;: &quot;Data by \\u0026copy; \\u003ca target=\\&quot;_blank\\&quot; href=\\&quot;http://openstreetmap.org\\&quot;\\u003eOpenStreetMap\\u003c/a\\u003e, under \\u003ca target=\\&quot;_blank\\&quot; href=\\&quot;http://www.openstreetmap.org/copyright\\&quot;\\u003eODbL\\u003c/a\\u003e.&quot;, &quot;detectRetina&quot;: false, &quot;maxNativeZoom&quot;: 18, &quot;maxZoom&quot;: 18, &quot;minZoom&quot;: 0, &quot;noWrap&quot;: false, &quot;opacity&quot;: 1, &quot;subdomains&quot;: &quot;abc&quot;, &quot;tms&quot;: false}\n",
              "            ).addTo(map_d3fa593a0fa6b869aa52b4d6767e0545);\n",
              "        \n",
              "    \n",
              "            var marker_576a513ef41c251ee4739fcfcb702f20 = L.marker(\n",
              "                [40.43286340023072, -3.705797432139346],\n",
              "                {}\n",
              "            ).addTo(map_d3fa593a0fa6b869aa52b4d6767e0545);\n",
              "        \n",
              "    \n",
              "        var popup_816e82bf0412845c198d282831c5277c = L.popup({&quot;maxWidth&quot;: &quot;100%&quot;});\n",
              "\n",
              "        \n",
              "            \n",
              "                var html_844223955ca8c6e2ec35b0f91d80c602 = $(`&lt;div id=&quot;html_844223955ca8c6e2ec35b0f91d80c602&quot; style=&quot;width: 100.0%; height: 100.0%;&quot;&gt;The Valley&lt;/div&gt;`)[0];\n",
              "                popup_816e82bf0412845c198d282831c5277c.setContent(html_844223955ca8c6e2ec35b0f91d80c602);\n",
              "            \n",
              "        \n",
              "\n",
              "        marker_576a513ef41c251ee4739fcfcb702f20.bindPopup(popup_816e82bf0412845c198d282831c5277c)\n",
              "        ;\n",
              "\n",
              "        \n",
              "    \n",
              "    \n",
              "            marker_576a513ef41c251ee4739fcfcb702f20.bindTooltip(\n",
              "                `&lt;div&gt;\n",
              "                     MDS+\n",
              "                 &lt;/div&gt;`,\n",
              "                {&quot;sticky&quot;: true}\n",
              "            );\n",
              "        \n",
              "&lt;/script&gt;\n",
              "&lt;/html&gt;\" style=\"position:absolute;width:100%;height:100%;left:0;top:0;border:none !important;\" allowfullscreen webkitallowfullscreen mozallowfullscreen></iframe></div></div>"
            ]
          },
          "metadata": {},
          "execution_count": 9
        }
      ]
    },
    {
      "cell_type": "markdown",
      "metadata": {
        "id": "_CgVDKEhiYG8"
      },
      "source": [
        "### 2) Feature Engineering (Ingeniería de variables)\n",
        "\n",
        "1. Manipulación de las variables existentes - Aplicación de técnicas de transformación de variables categóricas\n",
        "2. Creación de nuevas variables para el modelo\n",
        "3. (Extra) ¿Qué datos externos utilizarías?\n"
      ]
    },
    {
      "cell_type": "code",
      "source": [],
      "metadata": {
        "id": "BUXJB_DgW0vO"
      },
      "execution_count": null,
      "outputs": []
    },
    {
      "cell_type": "markdown",
      "metadata": {
        "id": "f-Q3v1pTihj3"
      },
      "source": [
        "### 3) Modelado\n",
        "\n",
        "1. Utilización de diferentes modelos dados en clase: Regresión lineal, Random Forest, XGBoost\n",
        "2. Elección de una métrica de evaluación\n",
        "3. Split entre train y test de los datos\n",
        "\n"
      ]
    },
    {
      "cell_type": "code",
      "source": [],
      "metadata": {
        "id": "GATnM0csSC9-"
      },
      "execution_count": null,
      "outputs": []
    },
    {
      "cell_type": "markdown",
      "metadata": {
        "id": "CUkLbuAUijpZ"
      },
      "source": [
        "\n",
        "### 4) Overfitting (Extra)\n",
        "\n",
        "1. RMSE más bajo que puede obtener para el conjunto de entrenamiento (MAL ENTRENADO)\n",
        "2. Evalua gráficamente tu overfitting\n",
        "3. (Extra) Analiza la descomposición entre sesgo y varianza\n",
        "\n"
      ]
    },
    {
      "cell_type": "code",
      "metadata": {
        "id": "lO8vk-xnvxs6"
      },
      "source": [],
      "execution_count": null,
      "outputs": []
    },
    {
      "cell_type": "markdown",
      "metadata": {
        "id": "v7FeD14TimAH"
      },
      "source": [
        "### 5) Evaluación de predicciones\n",
        "\n",
        "1. Evalua el rendimiento de los diferentes modelos\n",
        "2. Dadas las predicciones de tus modelos, explorar donde funciona mejor y peor\n",
        "3. Selecciona un modelo\n"
      ]
    },
    {
      "cell_type": "code",
      "source": [],
      "metadata": {
        "id": "FP3TSgxDW1cc"
      },
      "execution_count": null,
      "outputs": []
    },
    {
      "cell_type": "markdown",
      "metadata": {
        "id": "j34OczjJiob1"
      },
      "source": [
        "### 6) Encontrar Chollos (Extra)\n",
        "\n",
        "1. ¿Cómo orientarías la búsqueda de chollos en el dataset?\n",
        "2. ¿Cómo varía la modelización al buscar oportunidades inmobiliarias?\n",
        "\n",
        "\n"
      ]
    }
  ]
}