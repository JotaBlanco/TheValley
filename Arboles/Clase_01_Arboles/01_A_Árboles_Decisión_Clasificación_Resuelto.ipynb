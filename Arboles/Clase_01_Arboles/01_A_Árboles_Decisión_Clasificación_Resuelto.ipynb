{
  "nbformat": 4,
  "nbformat_minor": 0,
  "metadata": {
    "colab": {
      "name": "01 Árboles Decisión.ipynb",
      "provenance": [],
      "toc_visible": true,
      "authorship_tag": "ABX9TyM3ii5MVZf9Rf7X6dHwOsvx",
      "include_colab_link": true
    },
    "kernelspec": {
      "name": "python3",
      "display_name": "Python 3"
    }
  },
  "cells": [
    {
      "cell_type": "markdown",
      "metadata": {
        "id": "view-in-github",
        "colab_type": "text"
      },
      "source": [
        "<a href=\"https://colab.research.google.com/github/JotaBlanco/TheValley/blob/main/Arboles/Clase_01_Arboles/01_A_%C3%81rboles_Decisi%C3%B3n_Clasificaci%C3%B3n_Resuelto.ipynb\" target=\"_parent\"><img src=\"https://colab.research.google.com/assets/colab-badge.svg\" alt=\"Open In Colab\"/></a>"
      ]
    },
    {
      "cell_type": "markdown",
      "metadata": {
        "id": "R53FGLN8jo1L"
      },
      "source": [
        "# 01 INTRO: Árboles de Decisión\n",
        "Explicación de cómo construír árboles de decisión.\n",
        "\n",
        "Notebook por [Javier Blanco Cordero](https://www.linkedin.com/in/javier-blanco-cordero-71373656/).\n",
        "\n",
        "### Enlaces de interés\n",
        "*   [Slides de presentación](https://docs.google.com/presentation/d/16tnAAaiT6mrelG8zRg26crXAChWmzjOG2NyA0oyh4X0/edit?usp=sharing)\n",
        "*   [Enlace a este notebook en Colab](https://colab.research.google.com/github/JotaBlanco/TheValley/blob/main/Arboles/Clase_01_Arboles/01_%C3%81rboles_Decisi%C3%B3n_Clasificaci%C3%B3n_Resuelto.ipynb)\n",
        "\n",
        "\n"
      ]
    },
    {
      "cell_type": "markdown",
      "metadata": {
        "id": "LSuEDXhPLi8u"
      },
      "source": [
        "## 0101 Qué es un árbol de decisión?\n",
        "Un tipo de algoritmo de aprendizaje supervisado que se basa en realizar particiones a partir de distintos niveles de las variables disponibles."
      ]
    },
    {
      "cell_type": "markdown",
      "metadata": {
        "id": "cnHRaho3rsXS"
      },
      "source": [
        "## 0102 Import\n",
        "Importamos todas las librerías necesarias para este análisis ([¿No sabes lo que es una librería de Python?](https://www.quora.com/What-is-a-Python-library-and-what-can-I-use-it-for)): pandas, numpy, seaborn, matplotlib."
      ]
    },
    {
      "cell_type": "code",
      "metadata": {
        "id": "4be6xiUqjPHI"
      },
      "source": [
        "import pandas as pd\n",
        "import numpy as np\n",
        "import matplotlib.pyplot as plt\n",
        "import seaborn as sns"
      ],
      "execution_count": 8,
      "outputs": []
    },
    {
      "cell_type": "markdown",
      "metadata": {
        "id": "AblkT14d4Gvt"
      },
      "source": [
        "## 0103 Carga el dataset de accidentes cardiacos\n",
        "Para probar a hacer árboles de decisión utilizaremos un dataset sobre accidentes coronarios que he encontrado en Kaggle ([aquí](https://www.kaggle.com/andrewmvd/heart-failure-clinical-data)). \n",
        "\n",
        "Podéis encontrar el archivo listo para importar en mi github: 'https://raw.githubusercontent.com/JotaBlanco/TheValley/main/Data/heart_failure.csv'. \n",
        "\n",
        "Importa este dataset en un dataframe llamado **df**."
      ]
    },
    {
      "cell_type": "code",
      "metadata": {
        "id": "GMZACcIXOclu",
        "colab": {
          "base_uri": "https://localhost:8080/",
          "height": 206
        },
        "outputId": "c3acd5f6-0eb0-4562-9e0b-263a857c15f0"
      },
      "source": [
        "# Url archivo raw\n",
        "url = 'https://raw.githubusercontent.com/JotaBlanco/TheValley/main/Data/heart_failure.csv'\n",
        "\n",
        "# Importa csv\n",
        "df = pd.read_csv(url)\n",
        "\n",
        "# Visualización primeras filas\n",
        "df.head()"
      ],
      "execution_count": 2,
      "outputs": [
        {
          "output_type": "execute_result",
          "data": {
            "text/plain": [
              "    age  anaemia  creatinine_phosphokinase  diabetes  ejection_fraction  \\\n",
              "0  75.0        0                       582         0                 20   \n",
              "1  55.0        0                      7861         0                 38   \n",
              "2  65.0        0                       146         0                 20   \n",
              "3  50.0        1                       111         0                 20   \n",
              "4  65.0        1                       160         1                 20   \n",
              "\n",
              "   high_blood_pressure  platelets  serum_creatinine  serum_sodium  sex  \\\n",
              "0                    1  265000.00               1.9           130    1   \n",
              "1                    0  263358.03               1.1           136    1   \n",
              "2                    0  162000.00               1.3           129    1   \n",
              "3                    0  210000.00               1.9           137    1   \n",
              "4                    0  327000.00               2.7           116    0   \n",
              "\n",
              "   smoking  time  DEATH_EVENT  \n",
              "0        0     4            1  \n",
              "1        0     6            1  \n",
              "2        1     7            1  \n",
              "3        0     7            1  \n",
              "4        0     8            1  "
            ],
            "text/html": [
              "\n",
              "  <div id=\"df-1c23825b-fcea-449e-8a78-05a2490e866b\">\n",
              "    <div class=\"colab-df-container\">\n",
              "      <div>\n",
              "<style scoped>\n",
              "    .dataframe tbody tr th:only-of-type {\n",
              "        vertical-align: middle;\n",
              "    }\n",
              "\n",
              "    .dataframe tbody tr th {\n",
              "        vertical-align: top;\n",
              "    }\n",
              "\n",
              "    .dataframe thead th {\n",
              "        text-align: right;\n",
              "    }\n",
              "</style>\n",
              "<table border=\"1\" class=\"dataframe\">\n",
              "  <thead>\n",
              "    <tr style=\"text-align: right;\">\n",
              "      <th></th>\n",
              "      <th>age</th>\n",
              "      <th>anaemia</th>\n",
              "      <th>creatinine_phosphokinase</th>\n",
              "      <th>diabetes</th>\n",
              "      <th>ejection_fraction</th>\n",
              "      <th>high_blood_pressure</th>\n",
              "      <th>platelets</th>\n",
              "      <th>serum_creatinine</th>\n",
              "      <th>serum_sodium</th>\n",
              "      <th>sex</th>\n",
              "      <th>smoking</th>\n",
              "      <th>time</th>\n",
              "      <th>DEATH_EVENT</th>\n",
              "    </tr>\n",
              "  </thead>\n",
              "  <tbody>\n",
              "    <tr>\n",
              "      <th>0</th>\n",
              "      <td>75.0</td>\n",
              "      <td>0</td>\n",
              "      <td>582</td>\n",
              "      <td>0</td>\n",
              "      <td>20</td>\n",
              "      <td>1</td>\n",
              "      <td>265000.00</td>\n",
              "      <td>1.9</td>\n",
              "      <td>130</td>\n",
              "      <td>1</td>\n",
              "      <td>0</td>\n",
              "      <td>4</td>\n",
              "      <td>1</td>\n",
              "    </tr>\n",
              "    <tr>\n",
              "      <th>1</th>\n",
              "      <td>55.0</td>\n",
              "      <td>0</td>\n",
              "      <td>7861</td>\n",
              "      <td>0</td>\n",
              "      <td>38</td>\n",
              "      <td>0</td>\n",
              "      <td>263358.03</td>\n",
              "      <td>1.1</td>\n",
              "      <td>136</td>\n",
              "      <td>1</td>\n",
              "      <td>0</td>\n",
              "      <td>6</td>\n",
              "      <td>1</td>\n",
              "    </tr>\n",
              "    <tr>\n",
              "      <th>2</th>\n",
              "      <td>65.0</td>\n",
              "      <td>0</td>\n",
              "      <td>146</td>\n",
              "      <td>0</td>\n",
              "      <td>20</td>\n",
              "      <td>0</td>\n",
              "      <td>162000.00</td>\n",
              "      <td>1.3</td>\n",
              "      <td>129</td>\n",
              "      <td>1</td>\n",
              "      <td>1</td>\n",
              "      <td>7</td>\n",
              "      <td>1</td>\n",
              "    </tr>\n",
              "    <tr>\n",
              "      <th>3</th>\n",
              "      <td>50.0</td>\n",
              "      <td>1</td>\n",
              "      <td>111</td>\n",
              "      <td>0</td>\n",
              "      <td>20</td>\n",
              "      <td>0</td>\n",
              "      <td>210000.00</td>\n",
              "      <td>1.9</td>\n",
              "      <td>137</td>\n",
              "      <td>1</td>\n",
              "      <td>0</td>\n",
              "      <td>7</td>\n",
              "      <td>1</td>\n",
              "    </tr>\n",
              "    <tr>\n",
              "      <th>4</th>\n",
              "      <td>65.0</td>\n",
              "      <td>1</td>\n",
              "      <td>160</td>\n",
              "      <td>1</td>\n",
              "      <td>20</td>\n",
              "      <td>0</td>\n",
              "      <td>327000.00</td>\n",
              "      <td>2.7</td>\n",
              "      <td>116</td>\n",
              "      <td>0</td>\n",
              "      <td>0</td>\n",
              "      <td>8</td>\n",
              "      <td>1</td>\n",
              "    </tr>\n",
              "  </tbody>\n",
              "</table>\n",
              "</div>\n",
              "      <button class=\"colab-df-convert\" onclick=\"convertToInteractive('df-1c23825b-fcea-449e-8a78-05a2490e866b')\"\n",
              "              title=\"Convert this dataframe to an interactive table.\"\n",
              "              style=\"display:none;\">\n",
              "        \n",
              "  <svg xmlns=\"http://www.w3.org/2000/svg\" height=\"24px\"viewBox=\"0 0 24 24\"\n",
              "       width=\"24px\">\n",
              "    <path d=\"M0 0h24v24H0V0z\" fill=\"none\"/>\n",
              "    <path d=\"M18.56 5.44l.94 2.06.94-2.06 2.06-.94-2.06-.94-.94-2.06-.94 2.06-2.06.94zm-11 1L8.5 8.5l.94-2.06 2.06-.94-2.06-.94L8.5 2.5l-.94 2.06-2.06.94zm10 10l.94 2.06.94-2.06 2.06-.94-2.06-.94-.94-2.06-.94 2.06-2.06.94z\"/><path d=\"M17.41 7.96l-1.37-1.37c-.4-.4-.92-.59-1.43-.59-.52 0-1.04.2-1.43.59L10.3 9.45l-7.72 7.72c-.78.78-.78 2.05 0 2.83L4 21.41c.39.39.9.59 1.41.59.51 0 1.02-.2 1.41-.59l7.78-7.78 2.81-2.81c.8-.78.8-2.07 0-2.86zM5.41 20L4 18.59l7.72-7.72 1.47 1.35L5.41 20z\"/>\n",
              "  </svg>\n",
              "      </button>\n",
              "      \n",
              "  <style>\n",
              "    .colab-df-container {\n",
              "      display:flex;\n",
              "      flex-wrap:wrap;\n",
              "      gap: 12px;\n",
              "    }\n",
              "\n",
              "    .colab-df-convert {\n",
              "      background-color: #E8F0FE;\n",
              "      border: none;\n",
              "      border-radius: 50%;\n",
              "      cursor: pointer;\n",
              "      display: none;\n",
              "      fill: #1967D2;\n",
              "      height: 32px;\n",
              "      padding: 0 0 0 0;\n",
              "      width: 32px;\n",
              "    }\n",
              "\n",
              "    .colab-df-convert:hover {\n",
              "      background-color: #E2EBFA;\n",
              "      box-shadow: 0px 1px 2px rgba(60, 64, 67, 0.3), 0px 1px 3px 1px rgba(60, 64, 67, 0.15);\n",
              "      fill: #174EA6;\n",
              "    }\n",
              "\n",
              "    [theme=dark] .colab-df-convert {\n",
              "      background-color: #3B4455;\n",
              "      fill: #D2E3FC;\n",
              "    }\n",
              "\n",
              "    [theme=dark] .colab-df-convert:hover {\n",
              "      background-color: #434B5C;\n",
              "      box-shadow: 0px 1px 3px 1px rgba(0, 0, 0, 0.15);\n",
              "      filter: drop-shadow(0px 1px 2px rgba(0, 0, 0, 0.3));\n",
              "      fill: #FFFFFF;\n",
              "    }\n",
              "  </style>\n",
              "\n",
              "      <script>\n",
              "        const buttonEl =\n",
              "          document.querySelector('#df-1c23825b-fcea-449e-8a78-05a2490e866b button.colab-df-convert');\n",
              "        buttonEl.style.display =\n",
              "          google.colab.kernel.accessAllowed ? 'block' : 'none';\n",
              "\n",
              "        async function convertToInteractive(key) {\n",
              "          const element = document.querySelector('#df-1c23825b-fcea-449e-8a78-05a2490e866b');\n",
              "          const dataTable =\n",
              "            await google.colab.kernel.invokeFunction('convertToInteractive',\n",
              "                                                     [key], {});\n",
              "          if (!dataTable) return;\n",
              "\n",
              "          const docLinkHtml = 'Like what you see? Visit the ' +\n",
              "            '<a target=\"_blank\" href=https://colab.research.google.com/notebooks/data_table.ipynb>data table notebook</a>'\n",
              "            + ' to learn more about interactive tables.';\n",
              "          element.innerHTML = '';\n",
              "          dataTable['output_type'] = 'display_data';\n",
              "          await google.colab.output.renderOutput(dataTable, element);\n",
              "          const docLink = document.createElement('div');\n",
              "          docLink.innerHTML = docLinkHtml;\n",
              "          element.appendChild(docLink);\n",
              "        }\n",
              "      </script>\n",
              "    </div>\n",
              "  </div>\n",
              "  "
            ]
          },
          "metadata": {},
          "execution_count": 2
        }
      ]
    },
    {
      "cell_type": "markdown",
      "metadata": {
        "id": "KBOQJ0AjdYrM"
      },
      "source": [
        "# 02 EDA\n",
        "Realizaremos un pequeño análisis exploratorio visual para familiarizarnos con el dataset. \n",
        "\n",
        "Recuerda que puedes encontrar mis clases sobre análisis exploratorio [aquí](https://github.com/JotaBlanco/TheValley/tree/main/EDA/)."
      ]
    },
    {
      "cell_type": "code",
      "metadata": {
        "id": "qGrwhGyaj0-a"
      },
      "source": [
        "df.info()"
      ],
      "execution_count": null,
      "outputs": []
    },
    {
      "cell_type": "code",
      "metadata": {
        "id": "8LoZpl8rjWEX"
      },
      "source": [
        "df.describe()"
      ],
      "execution_count": null,
      "outputs": []
    },
    {
      "cell_type": "code",
      "metadata": {
        "id": "YUz-qSwBjaEW"
      },
      "source": [
        "# Visualización coeficientes Pearson\n",
        "plt.figure(figsize=(8,7))\n",
        "sns.heatmap(np.round(df.corr(),2), \n",
        "            vmin=-1, vmax=1, \n",
        "            annot=True, cmap=\"coolwarm\")\n",
        "plt.show()"
      ],
      "execution_count": null,
      "outputs": []
    },
    {
      "cell_type": "markdown",
      "metadata": {
        "id": "lcnJKyElO8FU"
      },
      "source": [
        "# 03 Construcción árbol de decisión a mano\n",
        "Nunca lo haremos en la vida real, pero para afianzar el entendimiento de este tipo de algoritmos, vamos a reproducir el proceso de entrenamiento a mano."
      ]
    },
    {
      "cell_type": "markdown",
      "metadata": {
        "id": "BBXHQSiBCzgT"
      },
      "source": [
        "## 0301 DataFrame\n",
        "Para simplificar, haremos esto con un dataframe consistente solo en las columnas ['age', 'anaemia', 'serum_creatinine', 'DEATH_EVENT'] renombradas como ['Edad', 'Anemia', 'Serum', 'Fallece']."
      ]
    },
    {
      "cell_type": "code",
      "metadata": {
        "id": "X-DsmAVtDHJH"
      },
      "source": [
        "df_resumen = df[['age', 'anaemia', 'serum_creatinine', 'DEATH_EVENT']]\n",
        "df_resumen.columns = ['Edad', 'Anemia', 'Serum', 'Fallece']\n",
        "df_resumen.sample(10).reset_index(drop=True)"
      ],
      "execution_count": null,
      "outputs": []
    },
    {
      "cell_type": "markdown",
      "metadata": {
        "id": "7TX8LhTlWZC7"
      },
      "source": [
        "## 0301 Seleccionamos el nodo raíz\n",
        "Para seleccionar el nodo raíz generaremos árboles muy sencillos, de solo 3 nodos (una sola partición)."
      ]
    },
    {
      "cell_type": "markdown",
      "metadata": {
        "id": "EE9K9D7kM9Ru"
      },
      "source": [
        "### 030101 Variable categórica\n",
        "Probamos a generar un árbol de sólo dos particiones."
      ]
    },
    {
      "cell_type": "code",
      "metadata": {
        "id": "IsFqrhz9xAYI"
      },
      "source": [
        "# Podemos hacer la partición Anemia = 1 y Anemia = 0 con un groupby\n",
        "df_resumen.groupby('Anemia')['Fallece'].agg(['count', 'sum']).reset_index()"
      ],
      "execution_count": null,
      "outputs": []
    },
    {
      "cell_type": "code",
      "metadata": {
        "id": "95bM_TGGxEoh"
      },
      "source": [
        "# Guardamos el resultado y le damos nombres más explicativos a las columnas\n",
        "df_i = df_resumen.groupby('Anemia')['Fallece'].agg(['count', 'sum']).reset_index()\n",
        "df_i.columns = ['Anemia', 'Total', 'Fallece = 1']\n",
        "df_i"
      ],
      "execution_count": null,
      "outputs": []
    },
    {
      "cell_type": "code",
      "metadata": {
        "id": "Nsu6uJHwzMun"
      },
      "source": [
        "#Añadimos más información útil\n",
        "df_i = df_resumen.groupby('Anemia')['Fallece'].agg(['count', 'sum']).reset_index()\n",
        "df_i.columns = ['Anemia', 'Total', 'Fallece = 1']\n",
        "df_i['Fallece = 0'] = df_i['Total'] - df_i['Fallece = 1']\n",
        "df_i['Mean'] = np.round(df_i['Fallece = 1']/df_i['Total'], 4)\n",
        "df_i"
      ],
      "execution_count": null,
      "outputs": []
    },
    {
      "cell_type": "markdown",
      "metadata": {
        "id": "YWcwJXfzx_1K"
      },
      "source": [
        "#### EJERCICIO\n",
        "Crea la función **particion_categorica** que, dado un dataframe con datos, una variable discreta binaria (como 'Anemia') y una variable target, devuelva un dataframe con información de la partición similar a la que acabamos de generar en la celda anterior."
      ]
    },
    {
      "cell_type": "code",
      "metadata": {
        "id": "yWrJvGWNx9La"
      },
      "source": [
        "def particion_categorica(df, target, var_discreta):\n",
        "  \"\"\"\n",
        "  Genera un dataframe con información sobre la partición utilizando la variable\n",
        "  discreta binaria aportada.\n",
        "  \"\"\"\n",
        "  df_i = df.groupby(var_discreta)[target].agg(['count', 'sum']).reset_index()\n",
        "  df_i.columns = [var_discreta, 'Total', target + ' = 1']\n",
        "  df_i[target + ' = 0'] = df_i['Total'] - df_i[target + ' = 1']\n",
        "  df_i['Mean'] = np.round(df_i[target + ' = 1']/df_i['Total'], 4)\n",
        "  return df_i"
      ],
      "execution_count": null,
      "outputs": []
    },
    {
      "cell_type": "code",
      "metadata": {
        "id": "WV-RlsbnM8p2"
      },
      "source": [
        "df_i = particion_categorica(df_resumen, 'Fallece', 'Anemia')\n",
        "df_i"
      ],
      "execution_count": null,
      "outputs": []
    },
    {
      "cell_type": "markdown",
      "metadata": {
        "id": "dlRcuKtvwD9O"
      },
      "source": [
        "### 030102 Variable Continua\n",
        "Las variables continuas pueden dar lugar a diversas particiones. Veamos la variable 'Edad' como ejemplo."
      ]
    },
    {
      "cell_type": "code",
      "metadata": {
        "id": "cuAIVLIO0Q-Z"
      },
      "source": [
        "# Cuantos valores distintos de edad hay?\n",
        "df_resumen['Edad'].nunique()"
      ],
      "execution_count": null,
      "outputs": []
    },
    {
      "cell_type": "code",
      "metadata": {
        "id": "Tpu1D2W_0wTo"
      },
      "source": [
        "# Valores distintos de edad en orden \n",
        "valores_edad_unicos_ordenados = df_resumen['Edad'].sort_values().unique()\n",
        "valores_edad_unicos_ordenados "
      ],
      "execution_count": null,
      "outputs": []
    },
    {
      "cell_type": "code",
      "metadata": {
        "id": "Gu4i7kNn1geJ"
      },
      "source": [
        "# Por tanto hay 46 particiones posibles, en torno a los valores:\n",
        "valores_particiones = (valores_edad_unicos_ordenados[:-1] + valores_edad_unicos_ordenados[1:])/2\n",
        "valores_particiones"
      ],
      "execution_count": null,
      "outputs": []
    },
    {
      "cell_type": "code",
      "metadata": {
        "id": "Cx9vjrCK1usw"
      },
      "source": [
        "# Ahora, podemos hacer un árbol para cada valor de partición. \n",
        "# Por ejemplo, para la partición 63.5\n",
        "df_resumen_i = df_resumen.copy(deep=True)\n",
        "\n",
        "filtro_i = df_resumen_i['Edad'] > 63.5\n",
        "df_resumen_i['Edad > 63.5'] = filtro_i.astype(int)\n",
        "\n",
        "df_resumen_i.head()"
      ],
      "execution_count": null,
      "outputs": []
    },
    {
      "cell_type": "code",
      "metadata": {
        "id": "TM4-cUb53hGo"
      },
      "source": [
        "# Ahora podemos generar la partición categórica sobre la oclumna Edad > 63.5\n",
        "particion_categorica(df_resumen_i, 'Fallece', 'Edad > 63.5')"
      ],
      "execution_count": null,
      "outputs": []
    },
    {
      "cell_type": "code",
      "metadata": {
        "id": "FAAY0f5SpB7s"
      },
      "source": [
        "# Hagamos un loop que devuelva todas las particiones posibles\n",
        "for particion in valores_particiones:\n",
        "  df_resumen_i = df_resumen.copy(deep=True)\n",
        "\n",
        "  filtro_i = df_resumen_i['Edad'] > particion\n",
        "  df_resumen_i['Edad > ' + str(particion)] = filtro_i.astype(int)\n",
        "\n",
        "  df_i = particion_categorica(df_resumen_i, 'Fallece', 'Edad > ' + str(particion))\n",
        "  display(df_i)"
      ],
      "execution_count": null,
      "outputs": []
    },
    {
      "cell_type": "markdown",
      "metadata": {
        "id": "qJlXHc8_4jhS"
      },
      "source": [
        "#### EJERCICIO \n",
        "Crea la función **particiones_continuas** que, dado un dataframe con datos, una variable continua (como 'Edad' o 'Serum') y una variable target, muestre una serie de dataframes con información para cada una de las particiones. (Devuelve un resultado similar al que acabamos de generar en la celda anterior)."
      ]
    },
    {
      "cell_type": "code",
      "metadata": {
        "id": "ukEeTvGEqKi7"
      },
      "source": [
        "def particiones_continuas(df, target, var_continua):\n",
        "  \"\"\"\n",
        "  Muestra una serie dataframes con información sobre las distintas particiones \n",
        "  posibles utilizando la variable continua aportada.\n",
        "  \"\"\"\n",
        "  valores_edad_unicos_ordenados = df[var_continua].sort_values().unique()\n",
        "  valores_particiones = (valores_edad_unicos_ordenados[:-1] + \n",
        "                         valores_edad_unicos_ordenados[1:])/2\n",
        "\n",
        "  for valor in valores_particiones:\n",
        "    df_i = df.copy(deep=True)\n",
        "    filtro_i = df_i[var_continua] > valor\n",
        "    df_i[str(var_continua) + ' > ' + str(valor)] = filtro_i.astype(int)\n",
        "    df_i = particion_categorica(df_i, \n",
        "                                'Fallece', \n",
        "                                str(var_continua) + ' > ' + str(valor))\n",
        "    display(df_i)"
      ],
      "execution_count": null,
      "outputs": []
    },
    {
      "cell_type": "code",
      "metadata": {
        "id": "d9Veosr7r1sl"
      },
      "source": [
        "particiones_continuas(df_resumen, 'Fallece', 'Edad')"
      ],
      "execution_count": null,
      "outputs": []
    },
    {
      "cell_type": "code",
      "metadata": {
        "id": "9OksrKOGwQvO"
      },
      "source": [
        "particiones_continuas(df_resumen, 'Fallece', 'Serum')"
      ],
      "execution_count": null,
      "outputs": []
    },
    {
      "cell_type": "markdown",
      "metadata": {
        "id": "TL2RbI9Qj529"
      },
      "source": [
        "### 030103 Impureza de Gini\n",
        "Calculamos la impureza de Gini de cada una de las particiones."
      ]
    },
    {
      "cell_type": "code",
      "metadata": {
        "id": "_03aMUMNXRuf"
      },
      "source": [
        "# Generemos una función que añade la columna Gini\n",
        "def gini(df_i):\n",
        "  df_i['Gini'] = 1 - df_i['Mean']**2 - (1-df_i['Mean'])**2\n",
        "  df_i['Gini Media Pond'] = np.round(\n",
        "      (df_i['Gini'][0]*df_i['Total'][0] + \n",
        "       df_i['Gini'][1]*df_i['Total'][1])/\n",
        "       (df_i['Total'][0]+df_i['Total'][1]),\n",
        "       4)\n",
        "  return df_i"
      ],
      "execution_count": null,
      "outputs": []
    },
    {
      "cell_type": "code",
      "metadata": {
        "id": "3Jr0TOXr99su"
      },
      "source": [
        "gini(df_i)"
      ],
      "execution_count": null,
      "outputs": []
    },
    {
      "cell_type": "markdown",
      "metadata": {
        "id": "Q8ikWtDi-TGJ"
      },
      "source": [
        "#### EJERCICIO\n",
        "Modifica la función particion_categorica para incorporar el Gini como medida de impureza al resultado."
      ]
    },
    {
      "cell_type": "code",
      "metadata": {
        "id": "6FXi71rjksOs"
      },
      "source": [
        "def particion_categorica(df, target, var_discreta):\n",
        "  \"\"\"\n",
        "  Genera un dataframe con información sobre la partición utilizando la variable\n",
        "  discreta binaria aportada, incluyendo la medida de impureza con Gini.\n",
        "  \"\"\"\n",
        "  df_i = df.groupby(var_discreta)[target].agg(['count', 'sum']).reset_index()\n",
        "  df_i.columns = [var_discreta, 'Total', target + ' = 1']\n",
        "  df_i[target + ' = 0'] = df_i['Total'] - df_i[target + ' = 1']\n",
        "  df_i['Mean'] = np.round(df_i[target + ' = 1']/df_i['Total'], 4)\n",
        "  return gini(df_i)"
      ],
      "execution_count": null,
      "outputs": []
    },
    {
      "cell_type": "code",
      "metadata": {
        "id": "63WQR20IBqLk"
      },
      "source": [
        "df_i = particion_categorica(df_resumen, 'Fallece', 'Anemia')\n",
        "df_i"
      ],
      "execution_count": null,
      "outputs": []
    },
    {
      "cell_type": "markdown",
      "metadata": {
        "id": "IS2VfTOg_vq2"
      },
      "source": [
        "#### EJERCICIO\n",
        "Crea la función mejor_particion_continua que devuelve el árbol con la partición óptima (según el Gini) para una variable continua. "
      ]
    },
    {
      "cell_type": "code",
      "metadata": {
        "id": "qxM8qZIFk7E-"
      },
      "source": [
        "def mejor_particion_continua(df, target, var_continua):\n",
        "  \"\"\"\n",
        "  Devuelve un dataframe con información sobre la partición ópitma de entre las \n",
        "  posibles utilizando la variable continua aportada.\n",
        "  \"\"\"\n",
        "  valores_edad_unicos_ordenados = df[var_continua].sort_values().unique()\n",
        "  valores_particiones = (valores_edad_unicos_ordenados[:-1] + \n",
        "                         valores_edad_unicos_ordenados[1:])/2\n",
        "  particion_optima = []\n",
        "\n",
        "  for i, valor in enumerate(valores_particiones):\n",
        "    df_i = df.copy(deep=True)\n",
        "    filtro_i = df_i[var_continua] > valor\n",
        "    df_i[str(var_continua) + ' > ' + str(valor)] = filtro_i.astype(int)\n",
        "    df_i = particion_categorica(df_i, \n",
        "                                'Fallece', \n",
        "                                str(var_continua) + ' > ' + str(valor))\n",
        "\n",
        "    if i == 0:\n",
        "      particion_optima = df_i\n",
        "    else:\n",
        "      if df_i['Gini Media Pond'][0] < particion_optima['Gini Media Pond'][0]:\n",
        "        particion_optima = df_i\n",
        "    \n",
        "  return particion_optima"
      ],
      "execution_count": null,
      "outputs": []
    },
    {
      "cell_type": "code",
      "metadata": {
        "id": "svk6dvlGlWus"
      },
      "source": [
        "mejor_particion_continua(df_resumen, 'Fallece', 'Edad')"
      ],
      "execution_count": null,
      "outputs": []
    },
    {
      "cell_type": "code",
      "metadata": {
        "id": "Wt9d2l3Vm3VK"
      },
      "source": [
        "mejor_particion_continua(df_resumen, 'Fallece', 'Serum')"
      ],
      "execution_count": null,
      "outputs": []
    },
    {
      "cell_type": "markdown",
      "metadata": {
        "id": "Yr0XMPnaCaRN"
      },
      "source": [
        "### 030104 Cuál es la mejor partición?"
      ]
    },
    {
      "cell_type": "code",
      "metadata": {
        "id": "NM9zFkwUBAbU"
      },
      "source": [
        "particion_categorica(df_resumen, 'Fallece', 'Anemia')"
      ],
      "execution_count": null,
      "outputs": []
    },
    {
      "cell_type": "code",
      "metadata": {
        "id": "o9Bkx8VmBAfE"
      },
      "source": [
        "mejor_particion_continua(df_resumen, 'Fallece', 'Edad')"
      ],
      "execution_count": null,
      "outputs": []
    },
    {
      "cell_type": "code",
      "metadata": {
        "id": "OfRF3QfUBAiw"
      },
      "source": [
        "mejor_particion_continua(df_resumen, 'Fallece', 'Serum')"
      ],
      "execution_count": null,
      "outputs": []
    },
    {
      "cell_type": "markdown",
      "metadata": {
        "id": "QoHsABZAGPBr"
      },
      "source": [
        "#### EJEMPLO\n",
        "Función que devuelve la mejor partición dados un dataframe, una lista de variables continuas y otra de variables discretas variables"
      ]
    },
    {
      "cell_type": "code",
      "metadata": {
        "id": "LZunZWMpGhg6"
      },
      "source": [
        "def seleccion_particion(df, target, lista_vars_continuas, lista_vars_binarias):\n",
        "  particion_optima = []\n",
        "\n",
        "  for i, var in enumerate(lista_vars_continuas+lista_vars_binarias):\n",
        "    if var in lista_vars_continuas:\n",
        "      df_i = mejor_particion_continua(df, target, var)\n",
        "    if var in lista_vars_binarias:\n",
        "      df_i = particion_categorica(df,  target, var)\n",
        "    \n",
        "\n",
        "    if i == 0:\n",
        "      particion_optima = df_i\n",
        "    else:\n",
        "      if df_i['Gini Media Pond'][0] < particion_optima['Gini Media Pond'][0]:\n",
        "        particion_optima = df_i\n",
        "    \n",
        "  return particion_optima"
      ],
      "execution_count": null,
      "outputs": []
    },
    {
      "cell_type": "code",
      "metadata": {
        "id": "8_uKIpZEHlX7"
      },
      "source": [
        "seleccion_particion(df_resumen, 'Fallece', ['Edad', 'Serum'], ['Anemia'])"
      ],
      "execution_count": null,
      "outputs": []
    },
    {
      "cell_type": "markdown",
      "metadata": {
        "id": "mjWxs5R_FxEH"
      },
      "source": [
        "## 0302 Construímos las ramas\n",
        "Vamos a contruír el resto del árbol sin repetir variables."
      ]
    },
    {
      "cell_type": "code",
      "metadata": {
        "id": "OEo0D52qCmbs"
      },
      "source": [
        "# Realizamos la partición\n",
        "df_resumen_1 = df_resumen[df_resumen['Serum']>1.815]\n",
        "df_resumen_2 = df_resumen[df_resumen['Serum']<1.815]"
      ],
      "execution_count": null,
      "outputs": []
    },
    {
      "cell_type": "markdown",
      "metadata": {
        "id": "W7WioeqWMbbF"
      },
      "source": [
        "### 030201 Rama Izquierda (1)"
      ]
    },
    {
      "cell_type": "code",
      "metadata": {
        "id": "KJnyLZRACmfc"
      },
      "source": [
        "# Siguiente partición\n",
        "seleccion_particion(df_resumen_1, 'Fallece', ['Edad'], ['Anemia'])"
      ],
      "execution_count": null,
      "outputs": []
    },
    {
      "cell_type": "code",
      "metadata": {
        "id": "DUa4pGiZI_AF"
      },
      "source": [
        "# Realizamos la siguiente partición\n",
        "df_resumen_1_1 = df_resumen[((df_resumen['Serum']>1.815)&(df_resumen['Edad']>71))]\n",
        "df_resumen_1_2 = df_resumen[((df_resumen['Serum']>1.815)&(df_resumen['Edad']<71))]"
      ],
      "execution_count": null,
      "outputs": []
    },
    {
      "cell_type": "code",
      "metadata": {
        "id": "7AkXkkPKJPmz"
      },
      "source": [
        "# Siguiente partición\n",
        "seleccion_particion(df_resumen_1_1, 'Fallece', [], ['Anemia'])"
      ],
      "execution_count": null,
      "outputs": []
    },
    {
      "cell_type": "code",
      "metadata": {
        "id": "pI2rXQiDJT6H"
      },
      "source": [
        "# Siguiente partición\n",
        "seleccion_particion(df_resumen_1_2, 'Fallece', [], ['Anemia'])"
      ],
      "execution_count": null,
      "outputs": []
    },
    {
      "cell_type": "markdown",
      "metadata": {
        "id": "8g7jwnRYMg_I"
      },
      "source": [
        "### 030202 Rama derecha (2)"
      ]
    },
    {
      "cell_type": "code",
      "metadata": {
        "id": "vKC_p05cCmjM"
      },
      "source": [
        "# Siguiente partición\n",
        "seleccion_particion(df_resumen_2, 'Fallece', ['Edad'], ['Anemia'])"
      ],
      "execution_count": null,
      "outputs": []
    },
    {
      "cell_type": "code",
      "metadata": {
        "id": "MPtY6yUCIsqS"
      },
      "source": [
        "# Realizamos la siguiente partición\n",
        "df_resumen_2_1 = df_resumen[((df_resumen['Serum']<1.815)&(df_resumen['Edad']>79.5))]\n",
        "df_resumen_2_2 = df_resumen[((df_resumen['Serum']<1.815)&(df_resumen['Edad']<79.5))]"
      ],
      "execution_count": null,
      "outputs": []
    },
    {
      "cell_type": "code",
      "metadata": {
        "id": "TzCpQfxIIsuN"
      },
      "source": [
        "# Siguiente partición\n",
        "seleccion_particion(df_resumen_2_1, 'Fallece', [], ['Anemia'])"
      ],
      "execution_count": null,
      "outputs": []
    },
    {
      "cell_type": "code",
      "metadata": {
        "id": "ki0hwWcbIsx8"
      },
      "source": [
        "# Siguiente partición\n",
        "seleccion_particion(df_resumen_2_2, 'Fallece', [], ['Anemia'])"
      ],
      "execution_count": null,
      "outputs": []
    },
    {
      "cell_type": "markdown",
      "metadata": {
        "id": "ue1Rhq1gNAJa"
      },
      "source": [
        "### EJERCICIO\n",
        "Genera un árbol sin restringir la repetición de variables en una misma rama."
      ]
    },
    {
      "cell_type": "code",
      "metadata": {
        "id": "hsJgYZQ1Fnk2"
      },
      "source": [
        "seleccion_particion(df_resumen, 'Fallece', ['Edad', 'Serum'], ['Anemia'])"
      ],
      "execution_count": null,
      "outputs": []
    },
    {
      "cell_type": "code",
      "metadata": {
        "id": "9EB0yDK7ODM1"
      },
      "source": [
        "df_resumen_1 = df_resumen[(df_resumen['Serum']>1.815)]\n",
        "df_resumen_2 = df_resumen[(df_resumen['Serum']<1.815)]"
      ],
      "execution_count": null,
      "outputs": []
    },
    {
      "cell_type": "code",
      "metadata": {
        "id": "nuDcrd_sOQsf"
      },
      "source": [
        "seleccion_particion(df_resumen_1, 'Fallece', ['Edad', 'Serum'], ['Anemia'])"
      ],
      "execution_count": null,
      "outputs": []
    },
    {
      "cell_type": "code",
      "metadata": {
        "id": "mbncuzhUOVSx"
      },
      "source": [
        "df_resumen_1_1 = df_resumen[((df_resumen['Serum']>1.815)&(df_resumen['Serum']>2.05))]\n",
        "df_resumen_1_2 = df_resumen[((df_resumen['Serum']>1.815)&(df_resumen['Serum']<2.05))]"
      ],
      "execution_count": null,
      "outputs": []
    },
    {
      "cell_type": "code",
      "metadata": {
        "id": "pM4UhRh4Oo-S"
      },
      "source": [
        "seleccion_particion(df_resumen_1_1, 'Fallece', ['Edad', 'Serum'], ['Anemia'])"
      ],
      "execution_count": null,
      "outputs": []
    },
    {
      "cell_type": "code",
      "metadata": {
        "id": "1KLVAnYTOrZP"
      },
      "source": [
        "seleccion_particion(df_resumen_1_2, 'Fallece', ['Edad', 'Serum'], ['Anemia'])"
      ],
      "execution_count": null,
      "outputs": []
    },
    {
      "cell_type": "code",
      "metadata": {
        "id": "zjz3iBnZOuD5"
      },
      "source": [
        "seleccion_particion(df_resumen_2, 'Fallece', ['Edad', 'Serum'], ['Anemia'])"
      ],
      "execution_count": null,
      "outputs": []
    },
    {
      "cell_type": "code",
      "metadata": {
        "id": "_rqFaWPYO3UI"
      },
      "source": [
        "df_resumen_2_1 = df_resumen[((df_resumen['Serum']<1.815)&(df_resumen['Edad']>79.5))]\n",
        "df_resumen_2_2 = df_resumen[((df_resumen['Serum']<1.815)&(df_resumen['Edad']<79.5))]"
      ],
      "execution_count": null,
      "outputs": []
    },
    {
      "cell_type": "code",
      "metadata": {
        "id": "EMb3efS8O-qY"
      },
      "source": [
        "seleccion_particion(df_resumen_2_1, 'Fallece', ['Edad', 'Serum'], ['Anemia'])"
      ],
      "execution_count": null,
      "outputs": []
    },
    {
      "cell_type": "code",
      "metadata": {
        "id": "HUPjXBihPDB7"
      },
      "source": [
        "seleccion_particion(df_resumen_2_2, 'Fallece', ['Edad', 'Serum'], ['Anemia'])"
      ],
      "execution_count": null,
      "outputs": []
    },
    {
      "cell_type": "markdown",
      "metadata": {
        "id": "sRO6wMepPOJj"
      },
      "source": [
        "# 04 Construcción árbol de decisión con scikit learn\n",
        "Ahora de manera automática, utilizando la librería [scikit learn](https://scikit-learn.org/stable/), la libería básica de referencia para machine learning."
      ]
    },
    {
      "cell_type": "markdown",
      "metadata": {
        "id": "SXSNgNJrsdva"
      },
      "source": [
        "## 0401 Importamos las librerías"
      ]
    },
    {
      "cell_type": "code",
      "metadata": {
        "id": "dpc44ulgPFkN"
      },
      "source": [
        "# Nos importamos las funciones de árboles de scikit learn\n",
        "from sklearn import tree"
      ],
      "execution_count": null,
      "outputs": []
    },
    {
      "cell_type": "markdown",
      "metadata": {
        "id": "H9WKeVmAv89P"
      },
      "source": [
        "## 0402 Inicializamos el árbol\n",
        "Definiendo las características que tendrá.\n",
        "\n",
        "https://scikit-learn.org/stable/modules/generated/sklearn.tree.DecisionTreeClassifier.html#sklearn.tree.DecisionTreeClassifier"
      ]
    },
    {
      "cell_type": "code",
      "metadata": {
        "id": "c_yzGJ-UP6wq"
      },
      "source": [
        "# Inicializamos un árbol. Por ahora está vacío. \n",
        "# Solo definimos cómo queremos que sea en cuanto a su estructura y condiciones de entrenamiento\n",
        "arbol = tree.DecisionTreeClassifier(max_depth=3)\n",
        "arbol"
      ],
      "execution_count": null,
      "outputs": []
    },
    {
      "cell_type": "markdown",
      "metadata": {
        "id": "1_Q84Q2GJjDC"
      },
      "source": [
        "## 0403 Entrenamos el modelo\n",
        "Una vez inicializado y definido el árbol, el método .[fit()](https://scikit-learn.org/stable/modules/generated/sklearn.tree.DecisionTreeClassifier.html#sklearn.tree.DecisionTreeClassifier.fit) realiza el proceso de particionado recursivo que hemos hecho nosotros antes a mano."
      ]
    },
    {
      "cell_type": "code",
      "metadata": {
        "id": "QzlRebscRxCe"
      },
      "source": [
        "# Entrenamos el árbol inicializado a partir de los datos que le pasemos con .fit()\n",
        "arbol = arbol.fit(X = df_resumen[['Edad', 'Serum', 'Anemia']],  # vars descriptivas\n",
        "                  y = df_resumen[['Fallece']])                  # var objetico\n",
        "arbol"
      ],
      "execution_count": null,
      "outputs": []
    },
    {
      "cell_type": "markdown",
      "metadata": {
        "id": "akjuRe9yLQ8R"
      },
      "source": [
        "##0404 Visualizamos el modelo\n",
        "Una vez entrenado el modelo, podemos visualizarlo."
      ]
    },
    {
      "cell_type": "code",
      "metadata": {
        "id": "23xmBvxkRFsq"
      },
      "source": [
        "# Con el método export_text en un print()\n",
        "esquema_print = tree.export_text(arbol, \n",
        "                                 feature_names=['Edad', 'Serum', 'Anemia'])\n",
        "print(esquema_print)"
      ],
      "execution_count": null,
      "outputs": []
    },
    {
      "cell_type": "code",
      "metadata": {
        "id": "mcJgYPAMQSNG"
      },
      "source": [
        "# O con la librería graphviz\n",
        "import graphviz \n",
        "\n",
        "# Export_graphviz\n",
        "dot_data = tree.export_graphviz(arbol, \n",
        "                                out_file=None, \n",
        "                                feature_names=['Edad', 'Serum', 'Anemia']) \n",
        "graph = graphviz.Source(dot_data) \n",
        "graph"
      ],
      "execution_count": null,
      "outputs": []
    },
    {
      "cell_type": "markdown",
      "metadata": {
        "id": "WYs1eiOgMKWU"
      },
      "source": [
        "## 0405 Realizamos una predicción\n",
        "Una vez el modelo está entrenado (definido) podemos pasarle datos para obtener las prediciones correspondientes de la variable objetivo. \n",
        "\n",
        "Para esto utilizamos el método .[predict()](https://scikit-learn.org/stable/modules/generated/sklearn.tree.DecisionTreeClassifier.html#sklearn.tree.DecisionTreeClassifier.predict)."
      ]
    },
    {
      "cell_type": "code",
      "metadata": {
        "id": "acmqdf6ByLdw"
      },
      "source": [
        "# Predicción\n",
        "prediccion = arbol.predict(df_resumen[['Edad', 'Serum', 'Anemia']])\n",
        "prediccion"
      ],
      "execution_count": null,
      "outputs": []
    },
    {
      "cell_type": "code",
      "metadata": {
        "id": "3cMYHbiDyRPW"
      },
      "source": [
        "# Cómo de buena es la predicción?\n",
        "from sklearn.metrics import accuracy_score\n",
        "accuracy_score(df_resumen['Fallece'], prediccion)"
      ],
      "execution_count": null,
      "outputs": []
    },
    {
      "cell_type": "markdown",
      "metadata": {
        "id": "OOwjE0vpVDAV"
      },
      "source": [
        "# 05 EJEMPLO\n",
        "Entrenamos un árbol de decisión con todas las variables del set de datos de accidente cardiaco, y evaluamos si la predicción es mejor o peor que utilizando tres variables."
      ]
    },
    {
      "cell_type": "code",
      "metadata": {
        "id": "IA-sUogXVhQo"
      },
      "source": [
        "df.head(2)"
      ],
      "execution_count": null,
      "outputs": []
    },
    {
      "cell_type": "code",
      "metadata": {
        "id": "ayeaAVKLVBzE"
      },
      "source": [
        "# Inicializamos un árbol. Por ahora está vacío. Solo definimos cómo queremos que sea.\n",
        "arbol_grande = tree.DecisionTreeClassifier(max_depth=6)"
      ],
      "execution_count": null,
      "outputs": []
    },
    {
      "cell_type": "code",
      "metadata": {
        "id": "JtLHTyK163Aw"
      },
      "source": [
        "# Matrices de datos\n",
        "cols = ['age', 'anaemia', 'creatinine_phosphokinase', 'diabetes', \n",
        "        'ejection_fraction', 'high_blood_pressure', 'platelets', \n",
        "        'serum_creatinine', 'serum_sodium', 'sex', 'smoking']\n",
        "X = df[cols]\n",
        "y = df['DEATH_EVENT']"
      ],
      "execution_count": null,
      "outputs": []
    },
    {
      "cell_type": "code",
      "metadata": {
        "id": "s9yle38RS-DP"
      },
      "source": [
        "# Entrenamos el árbol inicializado a partir de los datos que le pasemos con .fit()\n",
        "# No utilizamos la variable Time porque da información del target \n",
        "# (no la conoceríamos a la hora de hacer una predicción del futuro)\n",
        "\n",
        "arbol_grande = arbol_grande.fit(X = X, \n",
        "                                y = y)\n",
        "arbol_grande"
      ],
      "execution_count": null,
      "outputs": []
    },
    {
      "cell_type": "code",
      "metadata": {
        "id": "-w4XaJn9VqRY"
      },
      "source": [
        "# Podemos visualizar la estructura\n",
        "print(tree.export_text(arbol_grande, \n",
        "                       feature_names=list(df.iloc[:,:-2].columns)))"
      ],
      "execution_count": null,
      "outputs": []
    },
    {
      "cell_type": "code",
      "metadata": {
        "id": "dZc4ejfOV7oX"
      },
      "source": [
        "import graphviz \n",
        "dot_data = tree.export_graphviz(arbol_grande, \n",
        "                                out_file=None, \n",
        "                                feature_names=list(X.columns)) \n",
        "graph = graphviz.Source(dot_data) \n",
        "graph"
      ],
      "execution_count": null,
      "outputs": []
    },
    {
      "cell_type": "code",
      "metadata": {
        "id": "N-0NlQ6xV-b4"
      },
      "source": [
        "# Predicción\n",
        "prediccion = arbol_grande.predict(X)\n",
        "prediccion"
      ],
      "execution_count": null,
      "outputs": []
    },
    {
      "cell_type": "code",
      "metadata": {
        "id": "MRlWh4DzXdnD"
      },
      "source": [
        "# Precisión de la predicción\n",
        "accuracy_score(y, prediccion)"
      ],
      "execution_count": null,
      "outputs": []
    },
    {
      "cell_type": "markdown",
      "metadata": {
        "id": "V66-xgckYMQs"
      },
      "source": [
        "# 06 EJERCICIO TITANIC\n",
        "Recordais el dataset del Titanic?\n",
        "\n",
        "Vamos a hacer un árbol de decisión que prediga si alguien fallece o no. \n",
        "\n",
        "Para ello utilizaremos un dataset previamente transformado, ya listo para entrenar un árbol. En la próxima clase veremos por qué el dataset tiene que estar en un formato determinado y cómo conseguirlo."
      ]
    },
    {
      "cell_type": "code",
      "source": [
        "# Nos importamos las funciones de árboles de scikit learn\n",
        "from sklearn import tree\n",
        "import pandas as pd\n",
        "import graphviz"
      ],
      "metadata": {
        "id": "foP74g-r0Rox"
      },
      "execution_count": 25,
      "outputs": []
    },
    {
      "cell_type": "markdown",
      "metadata": {
        "id": "EDiMGl7xOm6o"
      },
      "source": [
        "## 0601 Importa el dataset\n",
        "Puedes encontrarlo en mi github. Este es el link al archivo raw: https://raw.githubusercontent.com/JotaBlanco/TheValley/main/Data/Titanic_Limpio.csv.\n",
        "\n",
        "Importa los datos en un dataframe llamado **dataframe df_titanic**."
      ]
    },
    {
      "cell_type": "code",
      "metadata": {
        "id": "hYiZbvGgYGzt",
        "colab": {
          "base_uri": "https://localhost:8080/",
          "height": 112
        },
        "outputId": "a5aed66b-1813-462a-8147-7546f0db184f"
      },
      "source": [
        "# Url archivo raw\n",
        "url = 'https://raw.githubusercontent.com/JotaBlanco/TheValley/main/Data/Titanic_Limpio.csv'\n",
        "\n",
        "# Importa csv\n",
        "df_titanic = pd.read_csv(url)\n",
        "\n",
        "# Visualización primeras filas\n",
        "df_titanic.head(2)"
      ],
      "execution_count": 26,
      "outputs": [
        {
          "output_type": "execute_result",
          "data": {
            "text/plain": [
              "   Survived  Pclass  Sex  SibSp  Parch     Fare   Age  Embarked_C  Embarked_Q  \\\n",
              "0         0       3    1      1      0   7.2500  22.0           0           0   \n",
              "1         1       1    0      1      0  71.2833  38.0           1           0   \n",
              "\n",
              "   Embarked_S  \n",
              "0           1  \n",
              "1           0  "
            ],
            "text/html": [
              "\n",
              "  <div id=\"df-8efb3163-cbd9-4f78-802b-75646e408dcc\">\n",
              "    <div class=\"colab-df-container\">\n",
              "      <div>\n",
              "<style scoped>\n",
              "    .dataframe tbody tr th:only-of-type {\n",
              "        vertical-align: middle;\n",
              "    }\n",
              "\n",
              "    .dataframe tbody tr th {\n",
              "        vertical-align: top;\n",
              "    }\n",
              "\n",
              "    .dataframe thead th {\n",
              "        text-align: right;\n",
              "    }\n",
              "</style>\n",
              "<table border=\"1\" class=\"dataframe\">\n",
              "  <thead>\n",
              "    <tr style=\"text-align: right;\">\n",
              "      <th></th>\n",
              "      <th>Survived</th>\n",
              "      <th>Pclass</th>\n",
              "      <th>Sex</th>\n",
              "      <th>SibSp</th>\n",
              "      <th>Parch</th>\n",
              "      <th>Fare</th>\n",
              "      <th>Age</th>\n",
              "      <th>Embarked_C</th>\n",
              "      <th>Embarked_Q</th>\n",
              "      <th>Embarked_S</th>\n",
              "    </tr>\n",
              "  </thead>\n",
              "  <tbody>\n",
              "    <tr>\n",
              "      <th>0</th>\n",
              "      <td>0</td>\n",
              "      <td>3</td>\n",
              "      <td>1</td>\n",
              "      <td>1</td>\n",
              "      <td>0</td>\n",
              "      <td>7.2500</td>\n",
              "      <td>22.0</td>\n",
              "      <td>0</td>\n",
              "      <td>0</td>\n",
              "      <td>1</td>\n",
              "    </tr>\n",
              "    <tr>\n",
              "      <th>1</th>\n",
              "      <td>1</td>\n",
              "      <td>1</td>\n",
              "      <td>0</td>\n",
              "      <td>1</td>\n",
              "      <td>0</td>\n",
              "      <td>71.2833</td>\n",
              "      <td>38.0</td>\n",
              "      <td>1</td>\n",
              "      <td>0</td>\n",
              "      <td>0</td>\n",
              "    </tr>\n",
              "  </tbody>\n",
              "</table>\n",
              "</div>\n",
              "      <button class=\"colab-df-convert\" onclick=\"convertToInteractive('df-8efb3163-cbd9-4f78-802b-75646e408dcc')\"\n",
              "              title=\"Convert this dataframe to an interactive table.\"\n",
              "              style=\"display:none;\">\n",
              "        \n",
              "  <svg xmlns=\"http://www.w3.org/2000/svg\" height=\"24px\"viewBox=\"0 0 24 24\"\n",
              "       width=\"24px\">\n",
              "    <path d=\"M0 0h24v24H0V0z\" fill=\"none\"/>\n",
              "    <path d=\"M18.56 5.44l.94 2.06.94-2.06 2.06-.94-2.06-.94-.94-2.06-.94 2.06-2.06.94zm-11 1L8.5 8.5l.94-2.06 2.06-.94-2.06-.94L8.5 2.5l-.94 2.06-2.06.94zm10 10l.94 2.06.94-2.06 2.06-.94-2.06-.94-.94-2.06-.94 2.06-2.06.94z\"/><path d=\"M17.41 7.96l-1.37-1.37c-.4-.4-.92-.59-1.43-.59-.52 0-1.04.2-1.43.59L10.3 9.45l-7.72 7.72c-.78.78-.78 2.05 0 2.83L4 21.41c.39.39.9.59 1.41.59.51 0 1.02-.2 1.41-.59l7.78-7.78 2.81-2.81c.8-.78.8-2.07 0-2.86zM5.41 20L4 18.59l7.72-7.72 1.47 1.35L5.41 20z\"/>\n",
              "  </svg>\n",
              "      </button>\n",
              "      \n",
              "  <style>\n",
              "    .colab-df-container {\n",
              "      display:flex;\n",
              "      flex-wrap:wrap;\n",
              "      gap: 12px;\n",
              "    }\n",
              "\n",
              "    .colab-df-convert {\n",
              "      background-color: #E8F0FE;\n",
              "      border: none;\n",
              "      border-radius: 50%;\n",
              "      cursor: pointer;\n",
              "      display: none;\n",
              "      fill: #1967D2;\n",
              "      height: 32px;\n",
              "      padding: 0 0 0 0;\n",
              "      width: 32px;\n",
              "    }\n",
              "\n",
              "    .colab-df-convert:hover {\n",
              "      background-color: #E2EBFA;\n",
              "      box-shadow: 0px 1px 2px rgba(60, 64, 67, 0.3), 0px 1px 3px 1px rgba(60, 64, 67, 0.15);\n",
              "      fill: #174EA6;\n",
              "    }\n",
              "\n",
              "    [theme=dark] .colab-df-convert {\n",
              "      background-color: #3B4455;\n",
              "      fill: #D2E3FC;\n",
              "    }\n",
              "\n",
              "    [theme=dark] .colab-df-convert:hover {\n",
              "      background-color: #434B5C;\n",
              "      box-shadow: 0px 1px 3px 1px rgba(0, 0, 0, 0.15);\n",
              "      filter: drop-shadow(0px 1px 2px rgba(0, 0, 0, 0.3));\n",
              "      fill: #FFFFFF;\n",
              "    }\n",
              "  </style>\n",
              "\n",
              "      <script>\n",
              "        const buttonEl =\n",
              "          document.querySelector('#df-8efb3163-cbd9-4f78-802b-75646e408dcc button.colab-df-convert');\n",
              "        buttonEl.style.display =\n",
              "          google.colab.kernel.accessAllowed ? 'block' : 'none';\n",
              "\n",
              "        async function convertToInteractive(key) {\n",
              "          const element = document.querySelector('#df-8efb3163-cbd9-4f78-802b-75646e408dcc');\n",
              "          const dataTable =\n",
              "            await google.colab.kernel.invokeFunction('convertToInteractive',\n",
              "                                                     [key], {});\n",
              "          if (!dataTable) return;\n",
              "\n",
              "          const docLinkHtml = 'Like what you see? Visit the ' +\n",
              "            '<a target=\"_blank\" href=https://colab.research.google.com/notebooks/data_table.ipynb>data table notebook</a>'\n",
              "            + ' to learn more about interactive tables.';\n",
              "          element.innerHTML = '';\n",
              "          dataTable['output_type'] = 'display_data';\n",
              "          await google.colab.output.renderOutput(dataTable, element);\n",
              "          const docLink = document.createElement('div');\n",
              "          docLink.innerHTML = docLinkHtml;\n",
              "          element.appendChild(docLink);\n",
              "        }\n",
              "      </script>\n",
              "    </div>\n",
              "  </div>\n",
              "  "
            ]
          },
          "metadata": {},
          "execution_count": 26
        }
      ]
    },
    {
      "cell_type": "code",
      "metadata": {
        "id": "60P6G1BxzWBD",
        "colab": {
          "base_uri": "https://localhost:8080/"
        },
        "outputId": "8cebb1c1-81e0-4c57-c1b8-66232ed550ae"
      },
      "source": [
        "df_titanic.columns"
      ],
      "execution_count": 27,
      "outputs": [
        {
          "output_type": "execute_result",
          "data": {
            "text/plain": [
              "Index(['Survived', 'Pclass', 'Sex', 'SibSp', 'Parch', 'Fare', 'Age',\n",
              "       'Embarked_C', 'Embarked_Q', 'Embarked_S'],\n",
              "      dtype='object')"
            ]
          },
          "metadata": {},
          "execution_count": 27
        }
      ]
    },
    {
      "cell_type": "markdown",
      "metadata": {
        "id": "GFRXHI0DPEpq"
      },
      "source": [
        "## 0602 Crea el árbol de decisión\n",
        "Utiliza una profundidad de 6 capas."
      ]
    },
    {
      "cell_type": "code",
      "metadata": {
        "id": "RXLmB0Vpq8N6"
      },
      "source": [
        "# Crea una lista con las variables que vamos a utilizar para predecir:\n",
        "# ['Pclass', 'Sex', 'SibSp', 'Parch', 'Fare', 'Age', 'Embarked_C', 'Embarked_Q', 'Embarked_S']\n",
        "lista = ['Pclass', 'Sex', 'SibSp', 'Parch', 'Fare', 'Age', 'Embarked_C', 'Embarked_Q', 'Embarked_S']\n",
        "\n",
        "X = df_titanic[lista]\n",
        "y = df_titanic['Survived']"
      ],
      "execution_count": 28,
      "outputs": []
    },
    {
      "cell_type": "code",
      "metadata": {
        "id": "KacvVtRaPJ8z"
      },
      "source": [
        "# Inicializamos un árbol definiendo la profundidad\n",
        "arbol_titanic = tree.DecisionTreeClassifier(max_depth=10, min_samples_split=15, min_samples_leaf=7)"
      ],
      "execution_count": 29,
      "outputs": []
    },
    {
      "cell_type": "code",
      "metadata": {
        "id": "zZPdXY0EPZbY",
        "colab": {
          "base_uri": "https://localhost:8080/"
        },
        "outputId": "02eaf6ad-9dd0-4557-e459-979e4c33d013"
      },
      "source": [
        "# Entrena el árbol con los datos del Titanic\n",
        "arbol_titanic.fit(X=X, y=y)\n",
        "arbol_titanic"
      ],
      "execution_count": 30,
      "outputs": [
        {
          "output_type": "execute_result",
          "data": {
            "text/plain": [
              "DecisionTreeClassifier(max_depth=10, min_samples_leaf=7, min_samples_split=15)"
            ]
          },
          "metadata": {},
          "execution_count": 30
        }
      ]
    },
    {
      "cell_type": "markdown",
      "metadata": {
        "id": "U0qVZHdNPT0I"
      },
      "source": [
        "## 0603 Visualiza el árbol\n",
        "Qué variables utiliza el árbol para inferir el riesgo de muerte? Tiene sentido?"
      ]
    },
    {
      "cell_type": "code",
      "metadata": {
        "id": "PJ9TMK6CPhXm",
        "colab": {
          "base_uri": "https://localhost:8080/"
        },
        "outputId": "bae63fa9-0963-489f-87d9-134611ed285c"
      },
      "source": [
        "# con export_test\n",
        "# Podemos visualizar la estructura\n",
        "print(tree.export_text(arbol_titanic, \n",
        "                       feature_names=list(X.columns)))"
      ],
      "execution_count": 31,
      "outputs": [
        {
          "output_type": "stream",
          "name": "stdout",
          "text": [
            "|--- Sex <= 0.50\n",
            "|   |--- Pclass <= 2.50\n",
            "|   |   |--- Fare <= 28.86\n",
            "|   |   |   |--- Age <= 37.00\n",
            "|   |   |   |   |--- Age <= 27.50\n",
            "|   |   |   |   |   |--- Age <= 23.50\n",
            "|   |   |   |   |   |   |--- class: 1\n",
            "|   |   |   |   |   |--- Age >  23.50\n",
            "|   |   |   |   |   |   |--- class: 1\n",
            "|   |   |   |   |--- Age >  27.50\n",
            "|   |   |   |   |   |--- class: 1\n",
            "|   |   |   |--- Age >  37.00\n",
            "|   |   |   |   |--- Fare <= 14.62\n",
            "|   |   |   |   |   |--- class: 1\n",
            "|   |   |   |   |--- Fare >  14.62\n",
            "|   |   |   |   |   |--- class: 1\n",
            "|   |   |--- Fare >  28.86\n",
            "|   |   |   |--- Parch <= 1.50\n",
            "|   |   |   |   |--- class: 1\n",
            "|   |   |   |--- Parch >  1.50\n",
            "|   |   |   |   |--- Fare <= 135.78\n",
            "|   |   |   |   |   |--- class: 1\n",
            "|   |   |   |   |--- Fare >  135.78\n",
            "|   |   |   |   |   |--- class: 1\n",
            "|   |--- Pclass >  2.50\n",
            "|   |   |--- Fare <= 23.35\n",
            "|   |   |   |--- Age <= 36.50\n",
            "|   |   |   |   |--- Embarked_S <= 0.50\n",
            "|   |   |   |   |   |--- Fare <= 15.62\n",
            "|   |   |   |   |   |   |--- Fare <= 13.94\n",
            "|   |   |   |   |   |   |   |--- Age <= 17.00\n",
            "|   |   |   |   |   |   |   |   |--- class: 1\n",
            "|   |   |   |   |   |   |   |--- Age >  17.00\n",
            "|   |   |   |   |   |   |   |   |--- Fare <= 7.77\n",
            "|   |   |   |   |   |   |   |   |   |--- class: 1\n",
            "|   |   |   |   |   |   |   |   |--- Fare >  7.77\n",
            "|   |   |   |   |   |   |   |   |   |--- class: 1\n",
            "|   |   |   |   |   |   |--- Fare >  13.94\n",
            "|   |   |   |   |   |   |   |--- class: 0\n",
            "|   |   |   |   |   |--- Fare >  15.62\n",
            "|   |   |   |   |   |   |--- class: 1\n",
            "|   |   |   |   |--- Embarked_S >  0.50\n",
            "|   |   |   |   |   |--- Fare <= 10.82\n",
            "|   |   |   |   |   |   |--- Fare <= 7.99\n",
            "|   |   |   |   |   |   |   |--- Age <= 22.50\n",
            "|   |   |   |   |   |   |   |   |--- class: 1\n",
            "|   |   |   |   |   |   |   |--- Age >  22.50\n",
            "|   |   |   |   |   |   |   |   |--- class: 0\n",
            "|   |   |   |   |   |   |--- Fare >  7.99\n",
            "|   |   |   |   |   |   |   |--- class: 0\n",
            "|   |   |   |   |   |--- Fare >  10.82\n",
            "|   |   |   |   |   |   |--- Fare <= 17.60\n",
            "|   |   |   |   |   |   |   |--- Fare <= 15.12\n",
            "|   |   |   |   |   |   |   |   |--- class: 1\n",
            "|   |   |   |   |   |   |   |--- Fare >  15.12\n",
            "|   |   |   |   |   |   |   |   |--- class: 1\n",
            "|   |   |   |   |   |   |--- Fare >  17.60\n",
            "|   |   |   |   |   |   |   |--- class: 0\n",
            "|   |   |   |--- Age >  36.50\n",
            "|   |   |   |   |--- class: 0\n",
            "|   |   |--- Fare >  23.35\n",
            "|   |   |   |--- Fare <= 32.88\n",
            "|   |   |   |   |--- Fare <= 30.20\n",
            "|   |   |   |   |   |--- class: 0\n",
            "|   |   |   |   |--- Fare >  30.20\n",
            "|   |   |   |   |   |--- class: 0\n",
            "|   |   |   |--- Fare >  32.88\n",
            "|   |   |   |   |--- class: 0\n",
            "|--- Sex >  0.50\n",
            "|   |--- Age <= 13.00\n",
            "|   |   |--- SibSp <= 2.50\n",
            "|   |   |   |--- Age <= 5.00\n",
            "|   |   |   |   |--- class: 1\n",
            "|   |   |   |--- Age >  5.00\n",
            "|   |   |   |   |--- class: 1\n",
            "|   |   |--- SibSp >  2.50\n",
            "|   |   |   |--- Age <= 3.75\n",
            "|   |   |   |   |--- class: 0\n",
            "|   |   |   |--- Age >  3.75\n",
            "|   |   |   |   |--- class: 0\n",
            "|   |--- Age >  13.00\n",
            "|   |   |--- Fare <= 26.27\n",
            "|   |   |   |--- Age <= 32.50\n",
            "|   |   |   |   |--- Age <= 30.75\n",
            "|   |   |   |   |   |--- Embarked_C <= 0.50\n",
            "|   |   |   |   |   |   |--- Fare <= 11.00\n",
            "|   |   |   |   |   |   |   |--- Age <= 29.50\n",
            "|   |   |   |   |   |   |   |   |--- Age <= 26.50\n",
            "|   |   |   |   |   |   |   |   |   |--- SibSp <= 0.50\n",
            "|   |   |   |   |   |   |   |   |   |   |--- class: 0\n",
            "|   |   |   |   |   |   |   |   |   |--- SibSp >  0.50\n",
            "|   |   |   |   |   |   |   |   |   |   |--- class: 0\n",
            "|   |   |   |   |   |   |   |   |--- Age >  26.50\n",
            "|   |   |   |   |   |   |   |   |   |--- Fare <= 7.86\n",
            "|   |   |   |   |   |   |   |   |   |   |--- class: 0\n",
            "|   |   |   |   |   |   |   |   |   |--- Fare >  7.86\n",
            "|   |   |   |   |   |   |   |   |   |   |--- class: 0\n",
            "|   |   |   |   |   |   |   |--- Age >  29.50\n",
            "|   |   |   |   |   |   |   |   |--- Fare <= 7.74\n",
            "|   |   |   |   |   |   |   |   |   |--- class: 0\n",
            "|   |   |   |   |   |   |   |   |--- Fare >  7.74\n",
            "|   |   |   |   |   |   |   |   |   |--- Fare <= 7.80\n",
            "|   |   |   |   |   |   |   |   |   |   |--- class: 0\n",
            "|   |   |   |   |   |   |   |   |   |--- Fare >  7.80\n",
            "|   |   |   |   |   |   |   |   |   |   |--- class: 0\n",
            "|   |   |   |   |   |   |--- Fare >  11.00\n",
            "|   |   |   |   |   |   |   |--- Age <= 29.50\n",
            "|   |   |   |   |   |   |   |   |--- class: 0\n",
            "|   |   |   |   |   |   |   |--- Age >  29.50\n",
            "|   |   |   |   |   |   |   |   |--- Fare <= 15.30\n",
            "|   |   |   |   |   |   |   |   |   |--- class: 0\n",
            "|   |   |   |   |   |   |   |   |--- Fare >  15.30\n",
            "|   |   |   |   |   |   |   |   |   |--- class: 0\n",
            "|   |   |   |   |   |--- Embarked_C >  0.50\n",
            "|   |   |   |   |   |   |--- Age <= 29.50\n",
            "|   |   |   |   |   |   |   |--- Age <= 22.50\n",
            "|   |   |   |   |   |   |   |   |--- class: 0\n",
            "|   |   |   |   |   |   |   |--- Age >  22.50\n",
            "|   |   |   |   |   |   |   |   |--- class: 0\n",
            "|   |   |   |   |   |   |--- Age >  29.50\n",
            "|   |   |   |   |   |   |   |--- Fare <= 7.56\n",
            "|   |   |   |   |   |   |   |   |--- class: 0\n",
            "|   |   |   |   |   |   |   |--- Fare >  7.56\n",
            "|   |   |   |   |   |   |   |   |--- class: 0\n",
            "|   |   |   |   |--- Age >  30.75\n",
            "|   |   |   |   |   |--- Fare <= 8.21\n",
            "|   |   |   |   |   |   |--- class: 0\n",
            "|   |   |   |   |   |--- Fare >  8.21\n",
            "|   |   |   |   |   |   |--- class: 0\n",
            "|   |   |   |--- Age >  32.50\n",
            "|   |   |   |   |--- Fare <= 7.91\n",
            "|   |   |   |   |   |--- class: 0\n",
            "|   |   |   |   |--- Fare >  7.91\n",
            "|   |   |   |   |   |--- Fare <= 13.25\n",
            "|   |   |   |   |   |   |--- Age <= 38.50\n",
            "|   |   |   |   |   |   |   |--- Pclass <= 2.50\n",
            "|   |   |   |   |   |   |   |   |--- class: 0\n",
            "|   |   |   |   |   |   |   |--- Pclass >  2.50\n",
            "|   |   |   |   |   |   |   |   |--- class: 0\n",
            "|   |   |   |   |   |   |--- Age >  38.50\n",
            "|   |   |   |   |   |   |   |--- Age <= 46.00\n",
            "|   |   |   |   |   |   |   |   |--- class: 0\n",
            "|   |   |   |   |   |   |   |--- Age >  46.00\n",
            "|   |   |   |   |   |   |   |   |--- class: 0\n",
            "|   |   |   |   |   |--- Fare >  13.25\n",
            "|   |   |   |   |   |   |--- class: 0\n",
            "|   |   |--- Fare >  26.27\n",
            "|   |   |   |--- Fare <= 26.77\n",
            "|   |   |   |   |--- Age <= 43.50\n",
            "|   |   |   |   |   |--- class: 1\n",
            "|   |   |   |   |--- Age >  43.50\n",
            "|   |   |   |   |   |--- class: 0\n",
            "|   |   |   |--- Fare >  26.77\n",
            "|   |   |   |   |--- Fare <= 29.10\n",
            "|   |   |   |   |   |--- class: 0\n",
            "|   |   |   |   |--- Fare >  29.10\n",
            "|   |   |   |   |   |--- Fare <= 30.60\n",
            "|   |   |   |   |   |   |--- class: 1\n",
            "|   |   |   |   |   |--- Fare >  30.60\n",
            "|   |   |   |   |   |   |--- Fare <= 52.28\n",
            "|   |   |   |   |   |   |   |--- Fare <= 36.12\n",
            "|   |   |   |   |   |   |   |   |--- Fare <= 34.20\n",
            "|   |   |   |   |   |   |   |   |   |--- class: 0\n",
            "|   |   |   |   |   |   |   |   |--- Fare >  34.20\n",
            "|   |   |   |   |   |   |   |   |   |--- class: 0\n",
            "|   |   |   |   |   |   |   |--- Fare >  36.12\n",
            "|   |   |   |   |   |   |   |   |--- Age <= 44.25\n",
            "|   |   |   |   |   |   |   |   |   |--- class: 0\n",
            "|   |   |   |   |   |   |   |   |--- Age >  44.25\n",
            "|   |   |   |   |   |   |   |   |   |--- class: 0\n",
            "|   |   |   |   |   |   |--- Fare >  52.28\n",
            "|   |   |   |   |   |   |   |--- Fare <= 59.09\n",
            "|   |   |   |   |   |   |   |   |--- Fare <= 56.20\n",
            "|   |   |   |   |   |   |   |   |   |--- class: 1\n",
            "|   |   |   |   |   |   |   |   |--- Fare >  56.20\n",
            "|   |   |   |   |   |   |   |   |   |--- class: 1\n",
            "|   |   |   |   |   |   |   |--- Fare >  59.09\n",
            "|   |   |   |   |   |   |   |   |--- Embarked_C <= 0.50\n",
            "|   |   |   |   |   |   |   |   |   |--- Fare <= 86.74\n",
            "|   |   |   |   |   |   |   |   |   |   |--- class: 0\n",
            "|   |   |   |   |   |   |   |   |   |--- Fare >  86.74\n",
            "|   |   |   |   |   |   |   |   |   |   |--- class: 0\n",
            "|   |   |   |   |   |   |   |   |--- Embarked_C >  0.50\n",
            "|   |   |   |   |   |   |   |   |   |--- Fare <= 98.75\n",
            "|   |   |   |   |   |   |   |   |   |   |--- class: 1\n",
            "|   |   |   |   |   |   |   |   |   |--- Fare >  98.75\n",
            "|   |   |   |   |   |   |   |   |   |   |--- class: 0\n",
            "\n"
          ]
        }
      ]
    },
    {
      "cell_type": "code",
      "metadata": {
        "id": "A4tx4cKxPl0E",
        "colab": {
          "base_uri": "https://localhost:8080/",
          "height": 1000
        },
        "outputId": "7a3bb99d-c839-4060-b6e6-286dbdf5d88e"
      },
      "source": [
        "# con export_graphviz\n",
        "dot_data = tree.export_graphviz(arbol_titanic, \n",
        "                                out_file=None, \n",
        "                                feature_names=list(X.columns)) \n",
        "graph = graphviz.Source(dot_data) \n",
        "graph"
      ],
      "execution_count": 32,
      "outputs": [
        {
          "output_type": "execute_result",
          "data": {
            "text/plain": [
              "<graphviz.files.Source at 0x7fa701eaab20>"
            ],
            "image/svg+xml": "<?xml version=\"1.0\" encoding=\"UTF-8\" standalone=\"no\"?>\n<!DOCTYPE svg PUBLIC \"-//W3C//DTD SVG 1.1//EN\"\n \"http://www.w3.org/Graphics/SVG/1.1/DTD/svg11.dtd\">\n<!-- Generated by graphviz version 2.43.0 (0)\n -->\n<!-- Title: Tree Pages: 1 -->\n<svg width=\"3480pt\" height=\"1101pt\"\n viewBox=\"0.00 0.00 3480.00 1101.00\" xmlns=\"http://www.w3.org/2000/svg\" xmlns:xlink=\"http://www.w3.org/1999/xlink\">\n<g id=\"graph0\" class=\"graph\" transform=\"scale(1 1) rotate(0) translate(4 1097)\">\n<title>Tree</title>\n<polygon fill=\"white\" stroke=\"transparent\" points=\"-4,4 -4,-1097 3476,-1097 3476,4 -4,4\"/>\n<!-- 0 -->\n<g id=\"node1\" class=\"node\">\n<title>0</title>\n<polygon fill=\"none\" stroke=\"black\" points=\"1414.5,-1093 1289.5,-1093 1289.5,-1025 1414.5,-1025 1414.5,-1093\"/>\n<text text-anchor=\"middle\" x=\"1352\" y=\"-1077.8\" font-family=\"Helvetica,sans-Serif\" font-size=\"14.00\">Sex &lt;= 0.5</text>\n<text text-anchor=\"middle\" x=\"1352\" y=\"-1062.8\" font-family=\"Helvetica,sans-Serif\" font-size=\"14.00\">gini = 0.472</text>\n<text text-anchor=\"middle\" x=\"1352\" y=\"-1047.8\" font-family=\"Helvetica,sans-Serif\" font-size=\"14.00\">samples = 889</text>\n<text text-anchor=\"middle\" x=\"1352\" y=\"-1032.8\" font-family=\"Helvetica,sans-Serif\" font-size=\"14.00\">value = [549, 340]</text>\n</g>\n<!-- 1 -->\n<g id=\"node2\" class=\"node\">\n<title>1</title>\n<polygon fill=\"none\" stroke=\"black\" points=\"1111.5,-989 994.5,-989 994.5,-921 1111.5,-921 1111.5,-989\"/>\n<text text-anchor=\"middle\" x=\"1053\" y=\"-973.8\" font-family=\"Helvetica,sans-Serif\" font-size=\"14.00\">Pclass &lt;= 2.5</text>\n<text text-anchor=\"middle\" x=\"1053\" y=\"-958.8\" font-family=\"Helvetica,sans-Serif\" font-size=\"14.00\">gini = 0.384</text>\n<text text-anchor=\"middle\" x=\"1053\" y=\"-943.8\" font-family=\"Helvetica,sans-Serif\" font-size=\"14.00\">samples = 312</text>\n<text text-anchor=\"middle\" x=\"1053\" y=\"-928.8\" font-family=\"Helvetica,sans-Serif\" font-size=\"14.00\">value = [81, 231]</text>\n</g>\n<!-- 0&#45;&gt;1 -->\n<g id=\"edge1\" class=\"edge\">\n<title>0&#45;&gt;1</title>\n<path fill=\"none\" stroke=\"black\" d=\"M1289.32,-1036.62C1240.09,-1019.82 1171.64,-996.47 1121.08,-979.22\"/>\n<polygon fill=\"black\" stroke=\"black\" points=\"1122.13,-975.88 1111.54,-975.97 1119.87,-982.51 1122.13,-975.88\"/>\n<text text-anchor=\"middle\" x=\"1122.56\" y=\"-994.71\" font-family=\"Helvetica,sans-Serif\" font-size=\"14.00\">True</text>\n</g>\n<!-- 46 -->\n<g id=\"node47\" class=\"node\">\n<title>46</title>\n<polygon fill=\"none\" stroke=\"black\" points=\"1640.5,-989 1515.5,-989 1515.5,-921 1640.5,-921 1640.5,-989\"/>\n<text text-anchor=\"middle\" x=\"1578\" y=\"-973.8\" font-family=\"Helvetica,sans-Serif\" font-size=\"14.00\">Age &lt;= 13.0</text>\n<text text-anchor=\"middle\" x=\"1578\" y=\"-958.8\" font-family=\"Helvetica,sans-Serif\" font-size=\"14.00\">gini = 0.306</text>\n<text text-anchor=\"middle\" x=\"1578\" y=\"-943.8\" font-family=\"Helvetica,sans-Serif\" font-size=\"14.00\">samples = 577</text>\n<text text-anchor=\"middle\" x=\"1578\" y=\"-928.8\" font-family=\"Helvetica,sans-Serif\" font-size=\"14.00\">value = [468, 109]</text>\n</g>\n<!-- 0&#45;&gt;46 -->\n<g id=\"edge46\" class=\"edge\">\n<title>0&#45;&gt;46</title>\n<path fill=\"none\" stroke=\"black\" d=\"M1414.65,-1029.72C1442.94,-1016.95 1476.53,-1001.8 1505.86,-988.56\"/>\n<polygon fill=\"black\" stroke=\"black\" points=\"1507.55,-991.64 1515.22,-984.33 1504.67,-985.26 1507.55,-991.64\"/>\n<text text-anchor=\"middle\" x=\"1506.38\" y=\"-1004.02\" font-family=\"Helvetica,sans-Serif\" font-size=\"14.00\">False</text>\n</g>\n<!-- 2 -->\n<g id=\"node3\" class=\"node\">\n<title>2</title>\n<polygon fill=\"none\" stroke=\"black\" points=\"641,-885 531,-885 531,-817 641,-817 641,-885\"/>\n<text text-anchor=\"middle\" x=\"586\" y=\"-869.8\" font-family=\"Helvetica,sans-Serif\" font-size=\"14.00\">Fare &lt;= 28.856</text>\n<text text-anchor=\"middle\" x=\"586\" y=\"-854.8\" font-family=\"Helvetica,sans-Serif\" font-size=\"14.00\">gini = 0.101</text>\n<text text-anchor=\"middle\" x=\"586\" y=\"-839.8\" font-family=\"Helvetica,sans-Serif\" font-size=\"14.00\">samples = 168</text>\n<text text-anchor=\"middle\" x=\"586\" y=\"-824.8\" font-family=\"Helvetica,sans-Serif\" font-size=\"14.00\">value = [9, 159]</text>\n</g>\n<!-- 1&#45;&gt;2 -->\n<g id=\"edge2\" class=\"edge\">\n<title>1&#45;&gt;2</title>\n<path fill=\"none\" stroke=\"black\" d=\"M994.33,-941.18C906.73,-922.05 742.31,-886.14 651.11,-866.22\"/>\n<polygon fill=\"black\" stroke=\"black\" points=\"651.68,-862.76 641.17,-864.05 650.19,-869.6 651.68,-862.76\"/>\n</g>\n<!-- 17 -->\n<g id=\"node18\" class=\"node\">\n<title>17</title>\n<polygon fill=\"none\" stroke=\"black\" points=\"1108,-885 998,-885 998,-817 1108,-817 1108,-885\"/>\n<text text-anchor=\"middle\" x=\"1053\" y=\"-869.8\" font-family=\"Helvetica,sans-Serif\" font-size=\"14.00\">Fare &lt;= 23.35</text>\n<text text-anchor=\"middle\" x=\"1053\" y=\"-854.8\" font-family=\"Helvetica,sans-Serif\" font-size=\"14.00\">gini = 0.5</text>\n<text text-anchor=\"middle\" x=\"1053\" y=\"-839.8\" font-family=\"Helvetica,sans-Serif\" font-size=\"14.00\">samples = 144</text>\n<text text-anchor=\"middle\" x=\"1053\" y=\"-824.8\" font-family=\"Helvetica,sans-Serif\" font-size=\"14.00\">value = [72, 72]</text>\n</g>\n<!-- 1&#45;&gt;17 -->\n<g id=\"edge17\" class=\"edge\">\n<title>1&#45;&gt;17</title>\n<path fill=\"none\" stroke=\"black\" d=\"M1053,-920.88C1053,-912.78 1053,-903.98 1053,-895.47\"/>\n<polygon fill=\"black\" stroke=\"black\" points=\"1056.5,-895.3 1053,-885.3 1049.5,-895.3 1056.5,-895.3\"/>\n</g>\n<!-- 3 -->\n<g id=\"node4\" class=\"node\">\n<title>3</title>\n<polygon fill=\"none\" stroke=\"black\" points=\"427,-781 325,-781 325,-713 427,-713 427,-781\"/>\n<text text-anchor=\"middle\" x=\"376\" y=\"-765.8\" font-family=\"Helvetica,sans-Serif\" font-size=\"14.00\">Age &lt;= 37.0</text>\n<text text-anchor=\"middle\" x=\"376\" y=\"-750.8\" font-family=\"Helvetica,sans-Serif\" font-size=\"14.00\">gini = 0.18</text>\n<text text-anchor=\"middle\" x=\"376\" y=\"-735.8\" font-family=\"Helvetica,sans-Serif\" font-size=\"14.00\">samples = 70</text>\n<text text-anchor=\"middle\" x=\"376\" y=\"-720.8\" font-family=\"Helvetica,sans-Serif\" font-size=\"14.00\">value = [7, 63]</text>\n</g>\n<!-- 2&#45;&gt;3 -->\n<g id=\"edge3\" class=\"edge\">\n<title>2&#45;&gt;3</title>\n<path fill=\"none\" stroke=\"black\" d=\"M530.82,-823.2C501.75,-809.08 466.04,-791.73 436.25,-777.26\"/>\n<polygon fill=\"black\" stroke=\"black\" points=\"437.73,-774.09 427.2,-772.87 434.67,-780.39 437.73,-774.09\"/>\n</g>\n<!-- 12 -->\n<g id=\"node13\" class=\"node\">\n<title>12</title>\n<polygon fill=\"none\" stroke=\"black\" points=\"637,-781 535,-781 535,-713 637,-713 637,-781\"/>\n<text text-anchor=\"middle\" x=\"586\" y=\"-765.8\" font-family=\"Helvetica,sans-Serif\" font-size=\"14.00\">Parch &lt;= 1.5</text>\n<text text-anchor=\"middle\" x=\"586\" y=\"-750.8\" font-family=\"Helvetica,sans-Serif\" font-size=\"14.00\">gini = 0.04</text>\n<text text-anchor=\"middle\" x=\"586\" y=\"-735.8\" font-family=\"Helvetica,sans-Serif\" font-size=\"14.00\">samples = 98</text>\n<text text-anchor=\"middle\" x=\"586\" y=\"-720.8\" font-family=\"Helvetica,sans-Serif\" font-size=\"14.00\">value = [2, 96]</text>\n</g>\n<!-- 2&#45;&gt;12 -->\n<g id=\"edge12\" class=\"edge\">\n<title>2&#45;&gt;12</title>\n<path fill=\"none\" stroke=\"black\" d=\"M586,-816.88C586,-808.78 586,-799.98 586,-791.47\"/>\n<polygon fill=\"black\" stroke=\"black\" points=\"589.5,-791.3 586,-781.3 582.5,-791.3 589.5,-791.3\"/>\n</g>\n<!-- 4 -->\n<g id=\"node5\" class=\"node\">\n<title>4</title>\n<polygon fill=\"none\" stroke=\"black\" points=\"281,-677 179,-677 179,-609 281,-609 281,-677\"/>\n<text text-anchor=\"middle\" x=\"230\" y=\"-661.8\" font-family=\"Helvetica,sans-Serif\" font-size=\"14.00\">Age &lt;= 27.5</text>\n<text text-anchor=\"middle\" x=\"230\" y=\"-646.8\" font-family=\"Helvetica,sans-Serif\" font-size=\"14.00\">gini = 0.113</text>\n<text text-anchor=\"middle\" x=\"230\" y=\"-631.8\" font-family=\"Helvetica,sans-Serif\" font-size=\"14.00\">samples = 50</text>\n<text text-anchor=\"middle\" x=\"230\" y=\"-616.8\" font-family=\"Helvetica,sans-Serif\" font-size=\"14.00\">value = [3, 47]</text>\n</g>\n<!-- 3&#45;&gt;4 -->\n<g id=\"edge4\" class=\"edge\">\n<title>3&#45;&gt;4</title>\n<path fill=\"none\" stroke=\"black\" d=\"M328.6,-712.88C315.08,-703.44 300.23,-693.06 286.24,-683.29\"/>\n<polygon fill=\"black\" stroke=\"black\" points=\"287.87,-680.16 277.66,-677.3 283.86,-685.9 287.87,-680.16\"/>\n</g>\n<!-- 9 -->\n<g id=\"node10\" class=\"node\">\n<title>9</title>\n<polygon fill=\"none\" stroke=\"black\" points=\"431,-677 321,-677 321,-609 431,-609 431,-677\"/>\n<text text-anchor=\"middle\" x=\"376\" y=\"-661.8\" font-family=\"Helvetica,sans-Serif\" font-size=\"14.00\">Fare &lt;= 14.625</text>\n<text text-anchor=\"middle\" x=\"376\" y=\"-646.8\" font-family=\"Helvetica,sans-Serif\" font-size=\"14.00\">gini = 0.32</text>\n<text text-anchor=\"middle\" x=\"376\" y=\"-631.8\" font-family=\"Helvetica,sans-Serif\" font-size=\"14.00\">samples = 20</text>\n<text text-anchor=\"middle\" x=\"376\" y=\"-616.8\" font-family=\"Helvetica,sans-Serif\" font-size=\"14.00\">value = [4, 16]</text>\n</g>\n<!-- 3&#45;&gt;9 -->\n<g id=\"edge9\" class=\"edge\">\n<title>3&#45;&gt;9</title>\n<path fill=\"none\" stroke=\"black\" d=\"M376,-712.88C376,-704.78 376,-695.98 376,-687.47\"/>\n<polygon fill=\"black\" stroke=\"black\" points=\"379.5,-687.3 376,-677.3 372.5,-687.3 379.5,-687.3\"/>\n</g>\n<!-- 5 -->\n<g id=\"node6\" class=\"node\">\n<title>5</title>\n<polygon fill=\"none\" stroke=\"black\" points=\"161,-573 59,-573 59,-505 161,-505 161,-573\"/>\n<text text-anchor=\"middle\" x=\"110\" y=\"-557.8\" font-family=\"Helvetica,sans-Serif\" font-size=\"14.00\">Age &lt;= 23.5</text>\n<text text-anchor=\"middle\" x=\"110\" y=\"-542.8\" font-family=\"Helvetica,sans-Serif\" font-size=\"14.00\">gini = 0.198</text>\n<text text-anchor=\"middle\" x=\"110\" y=\"-527.8\" font-family=\"Helvetica,sans-Serif\" font-size=\"14.00\">samples = 27</text>\n<text text-anchor=\"middle\" x=\"110\" y=\"-512.8\" font-family=\"Helvetica,sans-Serif\" font-size=\"14.00\">value = [3, 24]</text>\n</g>\n<!-- 4&#45;&gt;5 -->\n<g id=\"edge5\" class=\"edge\">\n<title>4&#45;&gt;5</title>\n<path fill=\"none\" stroke=\"black\" d=\"M191.04,-608.88C180.14,-599.62 168.18,-589.45 156.88,-579.85\"/>\n<polygon fill=\"black\" stroke=\"black\" points=\"159.06,-577.11 149.18,-573.3 154.53,-582.44 159.06,-577.11\"/>\n</g>\n<!-- 8 -->\n<g id=\"node9\" class=\"node\">\n<title>8</title>\n<polygon fill=\"none\" stroke=\"black\" points=\"281,-565.5 179,-565.5 179,-512.5 281,-512.5 281,-565.5\"/>\n<text text-anchor=\"middle\" x=\"230\" y=\"-550.3\" font-family=\"Helvetica,sans-Serif\" font-size=\"14.00\">gini = 0.0</text>\n<text text-anchor=\"middle\" x=\"230\" y=\"-535.3\" font-family=\"Helvetica,sans-Serif\" font-size=\"14.00\">samples = 23</text>\n<text text-anchor=\"middle\" x=\"230\" y=\"-520.3\" font-family=\"Helvetica,sans-Serif\" font-size=\"14.00\">value = [0, 23]</text>\n</g>\n<!-- 4&#45;&gt;8 -->\n<g id=\"edge8\" class=\"edge\">\n<title>4&#45;&gt;8</title>\n<path fill=\"none\" stroke=\"black\" d=\"M230,-608.88C230,-598.33 230,-586.6 230,-575.85\"/>\n<polygon fill=\"black\" stroke=\"black\" points=\"233.5,-575.52 230,-565.52 226.5,-575.52 233.5,-575.52\"/>\n</g>\n<!-- 6 -->\n<g id=\"node7\" class=\"node\">\n<title>6</title>\n<polygon fill=\"none\" stroke=\"black\" points=\"102,-461.5 0,-461.5 0,-408.5 102,-408.5 102,-461.5\"/>\n<text text-anchor=\"middle\" x=\"51\" y=\"-446.3\" font-family=\"Helvetica,sans-Serif\" font-size=\"14.00\">gini = 0.0</text>\n<text text-anchor=\"middle\" x=\"51\" y=\"-431.3\" font-family=\"Helvetica,sans-Serif\" font-size=\"14.00\">samples = 16</text>\n<text text-anchor=\"middle\" x=\"51\" y=\"-416.3\" font-family=\"Helvetica,sans-Serif\" font-size=\"14.00\">value = [0, 16]</text>\n</g>\n<!-- 5&#45;&gt;6 -->\n<g id=\"edge6\" class=\"edge\">\n<title>5&#45;&gt;6</title>\n<path fill=\"none\" stroke=\"black\" d=\"M90.84,-504.88C84.42,-493.78 77.24,-481.37 70.77,-470.18\"/>\n<polygon fill=\"black\" stroke=\"black\" points=\"73.8,-468.42 65.76,-461.52 67.74,-471.93 73.8,-468.42\"/>\n</g>\n<!-- 7 -->\n<g id=\"node8\" class=\"node\">\n<title>7</title>\n<polygon fill=\"none\" stroke=\"black\" points=\"218,-461.5 120,-461.5 120,-408.5 218,-408.5 218,-461.5\"/>\n<text text-anchor=\"middle\" x=\"169\" y=\"-446.3\" font-family=\"Helvetica,sans-Serif\" font-size=\"14.00\">gini = 0.397</text>\n<text text-anchor=\"middle\" x=\"169\" y=\"-431.3\" font-family=\"Helvetica,sans-Serif\" font-size=\"14.00\">samples = 11</text>\n<text text-anchor=\"middle\" x=\"169\" y=\"-416.3\" font-family=\"Helvetica,sans-Serif\" font-size=\"14.00\">value = [3, 8]</text>\n</g>\n<!-- 5&#45;&gt;7 -->\n<g id=\"edge7\" class=\"edge\">\n<title>5&#45;&gt;7</title>\n<path fill=\"none\" stroke=\"black\" d=\"M129.16,-504.88C135.58,-493.78 142.76,-481.37 149.23,-470.18\"/>\n<polygon fill=\"black\" stroke=\"black\" points=\"152.26,-471.93 154.24,-461.52 146.2,-468.42 152.26,-471.93\"/>\n</g>\n<!-- 10 -->\n<g id=\"node11\" class=\"node\">\n<title>10</title>\n<polygon fill=\"none\" stroke=\"black\" points=\"394.5,-565.5 299.5,-565.5 299.5,-512.5 394.5,-512.5 394.5,-565.5\"/>\n<text text-anchor=\"middle\" x=\"347\" y=\"-550.3\" font-family=\"Helvetica,sans-Serif\" font-size=\"14.00\">gini = 0.408</text>\n<text text-anchor=\"middle\" x=\"347\" y=\"-535.3\" font-family=\"Helvetica,sans-Serif\" font-size=\"14.00\">samples = 7</text>\n<text text-anchor=\"middle\" x=\"347\" y=\"-520.3\" font-family=\"Helvetica,sans-Serif\" font-size=\"14.00\">value = [2, 5]</text>\n</g>\n<!-- 9&#45;&gt;10 -->\n<g id=\"edge10\" class=\"edge\">\n<title>9&#45;&gt;10</title>\n<path fill=\"none\" stroke=\"black\" d=\"M366.58,-608.88C363.52,-598.11 360.11,-586.11 357,-575.18\"/>\n<polygon fill=\"black\" stroke=\"black\" points=\"360.36,-574.18 354.26,-565.52 353.62,-576.1 360.36,-574.18\"/>\n</g>\n<!-- 11 -->\n<g id=\"node12\" class=\"node\">\n<title>11</title>\n<polygon fill=\"none\" stroke=\"black\" points=\"515,-565.5 413,-565.5 413,-512.5 515,-512.5 515,-565.5\"/>\n<text text-anchor=\"middle\" x=\"464\" y=\"-550.3\" font-family=\"Helvetica,sans-Serif\" font-size=\"14.00\">gini = 0.26</text>\n<text text-anchor=\"middle\" x=\"464\" y=\"-535.3\" font-family=\"Helvetica,sans-Serif\" font-size=\"14.00\">samples = 13</text>\n<text text-anchor=\"middle\" x=\"464\" y=\"-520.3\" font-family=\"Helvetica,sans-Serif\" font-size=\"14.00\">value = [2, 11]</text>\n</g>\n<!-- 9&#45;&gt;11 -->\n<g id=\"edge11\" class=\"edge\">\n<title>9&#45;&gt;11</title>\n<path fill=\"none\" stroke=\"black\" d=\"M404.57,-608.88C414.44,-597.45 425.49,-584.63 435.37,-573.19\"/>\n<polygon fill=\"black\" stroke=\"black\" points=\"438.1,-575.38 441.98,-565.52 432.8,-570.81 438.1,-575.38\"/>\n</g>\n<!-- 13 -->\n<g id=\"node14\" class=\"node\">\n<title>13</title>\n<polygon fill=\"none\" stroke=\"black\" points=\"573,-669.5 471,-669.5 471,-616.5 573,-616.5 573,-669.5\"/>\n<text text-anchor=\"middle\" x=\"522\" y=\"-654.3\" font-family=\"Helvetica,sans-Serif\" font-size=\"14.00\">gini = 0.0</text>\n<text text-anchor=\"middle\" x=\"522\" y=\"-639.3\" font-family=\"Helvetica,sans-Serif\" font-size=\"14.00\">samples = 82</text>\n<text text-anchor=\"middle\" x=\"522\" y=\"-624.3\" font-family=\"Helvetica,sans-Serif\" font-size=\"14.00\">value = [0, 82]</text>\n</g>\n<!-- 12&#45;&gt;13 -->\n<g id=\"edge13\" class=\"edge\">\n<title>12&#45;&gt;13</title>\n<path fill=\"none\" stroke=\"black\" d=\"M565.22,-712.88C558.25,-701.78 550.47,-689.37 543.45,-678.18\"/>\n<polygon fill=\"black\" stroke=\"black\" points=\"546.29,-676.13 538.01,-669.52 540.36,-679.85 546.29,-676.13\"/>\n</g>\n<!-- 14 -->\n<g id=\"node15\" class=\"node\">\n<title>14</title>\n<polygon fill=\"none\" stroke=\"black\" points=\"708.5,-677 591.5,-677 591.5,-609 708.5,-609 708.5,-677\"/>\n<text text-anchor=\"middle\" x=\"650\" y=\"-661.8\" font-family=\"Helvetica,sans-Serif\" font-size=\"14.00\">Fare &lt;= 135.775</text>\n<text text-anchor=\"middle\" x=\"650\" y=\"-646.8\" font-family=\"Helvetica,sans-Serif\" font-size=\"14.00\">gini = 0.219</text>\n<text text-anchor=\"middle\" x=\"650\" y=\"-631.8\" font-family=\"Helvetica,sans-Serif\" font-size=\"14.00\">samples = 16</text>\n<text text-anchor=\"middle\" x=\"650\" y=\"-616.8\" font-family=\"Helvetica,sans-Serif\" font-size=\"14.00\">value = [2, 14]</text>\n</g>\n<!-- 12&#45;&gt;14 -->\n<g id=\"edge14\" class=\"edge\">\n<title>12&#45;&gt;14</title>\n<path fill=\"none\" stroke=\"black\" d=\"M606.78,-712.88C612.2,-704.24 618.11,-694.82 623.78,-685.79\"/>\n<polygon fill=\"black\" stroke=\"black\" points=\"626.76,-687.63 629.11,-677.3 620.83,-683.91 626.76,-687.63\"/>\n</g>\n<!-- 15 -->\n<g id=\"node16\" class=\"node\">\n<title>15</title>\n<polygon fill=\"none\" stroke=\"black\" points=\"628.5,-565.5 533.5,-565.5 533.5,-512.5 628.5,-512.5 628.5,-565.5\"/>\n<text text-anchor=\"middle\" x=\"581\" y=\"-550.3\" font-family=\"Helvetica,sans-Serif\" font-size=\"14.00\">gini = 0.0</text>\n<text text-anchor=\"middle\" x=\"581\" y=\"-535.3\" font-family=\"Helvetica,sans-Serif\" font-size=\"14.00\">samples = 9</text>\n<text text-anchor=\"middle\" x=\"581\" y=\"-520.3\" font-family=\"Helvetica,sans-Serif\" font-size=\"14.00\">value = [0, 9]</text>\n</g>\n<!-- 14&#45;&gt;15 -->\n<g id=\"edge15\" class=\"edge\">\n<title>14&#45;&gt;15</title>\n<path fill=\"none\" stroke=\"black\" d=\"M627.6,-608.88C620.01,-597.67 611.53,-585.13 603.9,-573.85\"/>\n<polygon fill=\"black\" stroke=\"black\" points=\"606.77,-571.84 598.26,-565.52 600.97,-575.76 606.77,-571.84\"/>\n</g>\n<!-- 16 -->\n<g id=\"node17\" class=\"node\">\n<title>16</title>\n<polygon fill=\"none\" stroke=\"black\" points=\"741.5,-565.5 646.5,-565.5 646.5,-512.5 741.5,-512.5 741.5,-565.5\"/>\n<text text-anchor=\"middle\" x=\"694\" y=\"-550.3\" font-family=\"Helvetica,sans-Serif\" font-size=\"14.00\">gini = 0.408</text>\n<text text-anchor=\"middle\" x=\"694\" y=\"-535.3\" font-family=\"Helvetica,sans-Serif\" font-size=\"14.00\">samples = 7</text>\n<text text-anchor=\"middle\" x=\"694\" y=\"-520.3\" font-family=\"Helvetica,sans-Serif\" font-size=\"14.00\">value = [2, 5]</text>\n</g>\n<!-- 14&#45;&gt;16 -->\n<g id=\"edge16\" class=\"edge\">\n<title>14&#45;&gt;16</title>\n<path fill=\"none\" stroke=\"black\" d=\"M664.29,-608.88C668.98,-598 674.22,-585.86 678.97,-574.85\"/>\n<polygon fill=\"black\" stroke=\"black\" points=\"682.24,-576.09 682.99,-565.52 675.82,-573.32 682.24,-576.09\"/>\n</g>\n<!-- 18 -->\n<g id=\"node19\" class=\"node\">\n<title>18</title>\n<polygon fill=\"none\" stroke=\"black\" points=\"1044,-781 934,-781 934,-713 1044,-713 1044,-781\"/>\n<text text-anchor=\"middle\" x=\"989\" y=\"-765.8\" font-family=\"Helvetica,sans-Serif\" font-size=\"14.00\">Age &lt;= 36.5</text>\n<text text-anchor=\"middle\" x=\"989\" y=\"-750.8\" font-family=\"Helvetica,sans-Serif\" font-size=\"14.00\">gini = 0.484</text>\n<text text-anchor=\"middle\" x=\"989\" y=\"-735.8\" font-family=\"Helvetica,sans-Serif\" font-size=\"14.00\">samples = 117</text>\n<text text-anchor=\"middle\" x=\"989\" y=\"-720.8\" font-family=\"Helvetica,sans-Serif\" font-size=\"14.00\">value = [48, 69]</text>\n</g>\n<!-- 17&#45;&gt;18 -->\n<g id=\"edge18\" class=\"edge\">\n<title>17&#45;&gt;18</title>\n<path fill=\"none\" stroke=\"black\" d=\"M1032.22,-816.88C1026.8,-808.24 1020.89,-798.82 1015.22,-789.79\"/>\n<polygon fill=\"black\" stroke=\"black\" points=\"1018.17,-787.91 1009.89,-781.3 1012.24,-791.63 1018.17,-787.91\"/>\n</g>\n<!-- 41 -->\n<g id=\"node42\" class=\"node\">\n<title>41</title>\n<polygon fill=\"none\" stroke=\"black\" points=\"1172,-781 1062,-781 1062,-713 1172,-713 1172,-781\"/>\n<text text-anchor=\"middle\" x=\"1117\" y=\"-765.8\" font-family=\"Helvetica,sans-Serif\" font-size=\"14.00\">Fare &lt;= 32.881</text>\n<text text-anchor=\"middle\" x=\"1117\" y=\"-750.8\" font-family=\"Helvetica,sans-Serif\" font-size=\"14.00\">gini = 0.198</text>\n<text text-anchor=\"middle\" x=\"1117\" y=\"-735.8\" font-family=\"Helvetica,sans-Serif\" font-size=\"14.00\">samples = 27</text>\n<text text-anchor=\"middle\" x=\"1117\" y=\"-720.8\" font-family=\"Helvetica,sans-Serif\" font-size=\"14.00\">value = [24, 3]</text>\n</g>\n<!-- 17&#45;&gt;41 -->\n<g id=\"edge41\" class=\"edge\">\n<title>17&#45;&gt;41</title>\n<path fill=\"none\" stroke=\"black\" d=\"M1073.78,-816.88C1079.2,-808.24 1085.11,-798.82 1090.78,-789.79\"/>\n<polygon fill=\"black\" stroke=\"black\" points=\"1093.76,-791.63 1096.11,-781.3 1087.83,-787.91 1093.76,-791.63\"/>\n</g>\n<!-- 19 -->\n<g id=\"node20\" class=\"node\">\n<title>19</title>\n<polygon fill=\"none\" stroke=\"black\" points=\"926,-677 788,-677 788,-609 926,-609 926,-677\"/>\n<text text-anchor=\"middle\" x=\"857\" y=\"-661.8\" font-family=\"Helvetica,sans-Serif\" font-size=\"14.00\">Embarked_S &lt;= 0.5</text>\n<text text-anchor=\"middle\" x=\"857\" y=\"-646.8\" font-family=\"Helvetica,sans-Serif\" font-size=\"14.00\">gini = 0.472</text>\n<text text-anchor=\"middle\" x=\"857\" y=\"-631.8\" font-family=\"Helvetica,sans-Serif\" font-size=\"14.00\">samples = 110</text>\n<text text-anchor=\"middle\" x=\"857\" y=\"-616.8\" font-family=\"Helvetica,sans-Serif\" font-size=\"14.00\">value = [42, 68]</text>\n</g>\n<!-- 18&#45;&gt;19 -->\n<g id=\"edge19\" class=\"edge\">\n<title>18&#45;&gt;19</title>\n<path fill=\"none\" stroke=\"black\" d=\"M946.14,-712.88C934.04,-703.53 920.75,-693.26 908.21,-683.57\"/>\n<polygon fill=\"black\" stroke=\"black\" points=\"910.15,-680.64 900.09,-677.3 905.87,-686.18 910.15,-680.64\"/>\n</g>\n<!-- 40 -->\n<g id=\"node41\" class=\"node\">\n<title>40</title>\n<polygon fill=\"none\" stroke=\"black\" points=\"1039.5,-669.5 944.5,-669.5 944.5,-616.5 1039.5,-616.5 1039.5,-669.5\"/>\n<text text-anchor=\"middle\" x=\"992\" y=\"-654.3\" font-family=\"Helvetica,sans-Serif\" font-size=\"14.00\">gini = 0.245</text>\n<text text-anchor=\"middle\" x=\"992\" y=\"-639.3\" font-family=\"Helvetica,sans-Serif\" font-size=\"14.00\">samples = 7</text>\n<text text-anchor=\"middle\" x=\"992\" y=\"-624.3\" font-family=\"Helvetica,sans-Serif\" font-size=\"14.00\">value = [6, 1]</text>\n</g>\n<!-- 18&#45;&gt;40 -->\n<g id=\"edge40\" class=\"edge\">\n<title>18&#45;&gt;40</title>\n<path fill=\"none\" stroke=\"black\" d=\"M989.97,-712.88C990.29,-702.22 990.64,-690.35 990.96,-679.52\"/>\n<polygon fill=\"black\" stroke=\"black\" points=\"994.45,-679.62 991.25,-669.52 987.46,-679.41 994.45,-679.62\"/>\n</g>\n<!-- 20 -->\n<g id=\"node21\" class=\"node\">\n<title>20</title>\n<polygon fill=\"none\" stroke=\"black\" points=\"870,-573 760,-573 760,-505 870,-505 870,-573\"/>\n<text text-anchor=\"middle\" x=\"815\" y=\"-557.8\" font-family=\"Helvetica,sans-Serif\" font-size=\"14.00\">Fare &lt;= 15.621</text>\n<text text-anchor=\"middle\" x=\"815\" y=\"-542.8\" font-family=\"Helvetica,sans-Serif\" font-size=\"14.00\">gini = 0.406</text>\n<text text-anchor=\"middle\" x=\"815\" y=\"-527.8\" font-family=\"Helvetica,sans-Serif\" font-size=\"14.00\">samples = 53</text>\n<text text-anchor=\"middle\" x=\"815\" y=\"-512.8\" font-family=\"Helvetica,sans-Serif\" font-size=\"14.00\">value = [15, 38]</text>\n</g>\n<!-- 19&#45;&gt;20 -->\n<g id=\"edge20\" class=\"edge\">\n<title>19&#45;&gt;20</title>\n<path fill=\"none\" stroke=\"black\" d=\"M843.36,-608.88C839.92,-600.51 836.17,-591.4 832.55,-582.63\"/>\n<polygon fill=\"black\" stroke=\"black\" points=\"835.76,-581.21 828.71,-573.3 829.28,-583.88 835.76,-581.21\"/>\n</g>\n<!-- 29 -->\n<g id=\"node30\" class=\"node\">\n<title>29</title>\n<polygon fill=\"none\" stroke=\"black\" points=\"998,-573 888,-573 888,-505 998,-505 998,-573\"/>\n<text text-anchor=\"middle\" x=\"943\" y=\"-557.8\" font-family=\"Helvetica,sans-Serif\" font-size=\"14.00\">Fare &lt;= 10.825</text>\n<text text-anchor=\"middle\" x=\"943\" y=\"-542.8\" font-family=\"Helvetica,sans-Serif\" font-size=\"14.00\">gini = 0.499</text>\n<text text-anchor=\"middle\" x=\"943\" y=\"-527.8\" font-family=\"Helvetica,sans-Serif\" font-size=\"14.00\">samples = 57</text>\n<text text-anchor=\"middle\" x=\"943\" y=\"-512.8\" font-family=\"Helvetica,sans-Serif\" font-size=\"14.00\">value = [27, 30]</text>\n</g>\n<!-- 19&#45;&gt;29 -->\n<g id=\"edge29\" class=\"edge\">\n<title>19&#45;&gt;29</title>\n<path fill=\"none\" stroke=\"black\" d=\"M884.92,-608.88C892.43,-599.98 900.64,-590.24 908.47,-580.96\"/>\n<polygon fill=\"black\" stroke=\"black\" points=\"911.15,-583.2 914.92,-573.3 905.8,-578.69 911.15,-583.2\"/>\n</g>\n<!-- 21 -->\n<g id=\"node22\" class=\"node\">\n<title>21</title>\n<polygon fill=\"none\" stroke=\"black\" points=\"749,-469 639,-469 639,-401 749,-401 749,-469\"/>\n<text text-anchor=\"middle\" x=\"694\" y=\"-453.8\" font-family=\"Helvetica,sans-Serif\" font-size=\"14.00\">Fare &lt;= 13.935</text>\n<text text-anchor=\"middle\" x=\"694\" y=\"-438.8\" font-family=\"Helvetica,sans-Serif\" font-size=\"14.00\">gini = 0.444</text>\n<text text-anchor=\"middle\" x=\"694\" y=\"-423.8\" font-family=\"Helvetica,sans-Serif\" font-size=\"14.00\">samples = 45</text>\n<text text-anchor=\"middle\" x=\"694\" y=\"-408.8\" font-family=\"Helvetica,sans-Serif\" font-size=\"14.00\">value = [15, 30]</text>\n</g>\n<!-- 20&#45;&gt;21 -->\n<g id=\"edge21\" class=\"edge\">\n<title>20&#45;&gt;21</title>\n<path fill=\"none\" stroke=\"black\" d=\"M775.71,-504.88C764.73,-495.62 752.67,-485.45 741.27,-475.85\"/>\n<polygon fill=\"black\" stroke=\"black\" points=\"743.4,-473.07 733.5,-469.3 738.89,-478.42 743.4,-473.07\"/>\n</g>\n<!-- 28 -->\n<g id=\"node29\" class=\"node\">\n<title>28</title>\n<polygon fill=\"none\" stroke=\"black\" points=\"862.5,-461.5 767.5,-461.5 767.5,-408.5 862.5,-408.5 862.5,-461.5\"/>\n<text text-anchor=\"middle\" x=\"815\" y=\"-446.3\" font-family=\"Helvetica,sans-Serif\" font-size=\"14.00\">gini = 0.0</text>\n<text text-anchor=\"middle\" x=\"815\" y=\"-431.3\" font-family=\"Helvetica,sans-Serif\" font-size=\"14.00\">samples = 8</text>\n<text text-anchor=\"middle\" x=\"815\" y=\"-416.3\" font-family=\"Helvetica,sans-Serif\" font-size=\"14.00\">value = [0, 8]</text>\n</g>\n<!-- 20&#45;&gt;28 -->\n<g id=\"edge28\" class=\"edge\">\n<title>20&#45;&gt;28</title>\n<path fill=\"none\" stroke=\"black\" d=\"M815,-504.88C815,-494.33 815,-482.6 815,-471.85\"/>\n<polygon fill=\"black\" stroke=\"black\" points=\"818.5,-471.52 815,-461.52 811.5,-471.52 818.5,-471.52\"/>\n</g>\n<!-- 22 -->\n<g id=\"node23\" class=\"node\">\n<title>22</title>\n<polygon fill=\"none\" stroke=\"black\" points=\"629,-365 527,-365 527,-297 629,-297 629,-365\"/>\n<text text-anchor=\"middle\" x=\"578\" y=\"-349.8\" font-family=\"Helvetica,sans-Serif\" font-size=\"14.00\">Age &lt;= 17.0</text>\n<text text-anchor=\"middle\" x=\"578\" y=\"-334.8\" font-family=\"Helvetica,sans-Serif\" font-size=\"14.00\">gini = 0.342</text>\n<text text-anchor=\"middle\" x=\"578\" y=\"-319.8\" font-family=\"Helvetica,sans-Serif\" font-size=\"14.00\">samples = 32</text>\n<text text-anchor=\"middle\" x=\"578\" y=\"-304.8\" font-family=\"Helvetica,sans-Serif\" font-size=\"14.00\">value = [7, 25]</text>\n</g>\n<!-- 21&#45;&gt;22 -->\n<g id=\"edge22\" class=\"edge\">\n<title>21&#45;&gt;22</title>\n<path fill=\"none\" stroke=\"black\" d=\"M656.34,-400.88C645.9,-391.71 634.46,-381.65 623.63,-372.12\"/>\n<polygon fill=\"black\" stroke=\"black\" points=\"625.69,-369.27 615.87,-365.3 621.07,-374.53 625.69,-369.27\"/>\n</g>\n<!-- 27 -->\n<g id=\"node28\" class=\"node\">\n<title>27</title>\n<polygon fill=\"none\" stroke=\"black\" points=\"745,-357.5 647,-357.5 647,-304.5 745,-304.5 745,-357.5\"/>\n<text text-anchor=\"middle\" x=\"696\" y=\"-342.3\" font-family=\"Helvetica,sans-Serif\" font-size=\"14.00\">gini = 0.473</text>\n<text text-anchor=\"middle\" x=\"696\" y=\"-327.3\" font-family=\"Helvetica,sans-Serif\" font-size=\"14.00\">samples = 13</text>\n<text text-anchor=\"middle\" x=\"696\" y=\"-312.3\" font-family=\"Helvetica,sans-Serif\" font-size=\"14.00\">value = [8, 5]</text>\n</g>\n<!-- 21&#45;&gt;27 -->\n<g id=\"edge27\" class=\"edge\">\n<title>21&#45;&gt;27</title>\n<path fill=\"none\" stroke=\"black\" d=\"M694.65,-400.88C694.86,-390.22 695.09,-378.35 695.3,-367.52\"/>\n<polygon fill=\"black\" stroke=\"black\" points=\"698.8,-367.59 695.5,-357.52 691.8,-367.45 698.8,-367.59\"/>\n</g>\n<!-- 23 -->\n<g id=\"node24\" class=\"node\">\n<title>23</title>\n<polygon fill=\"none\" stroke=\"black\" points=\"514.5,-253.5 419.5,-253.5 419.5,-200.5 514.5,-200.5 514.5,-253.5\"/>\n<text text-anchor=\"middle\" x=\"467\" y=\"-238.3\" font-family=\"Helvetica,sans-Serif\" font-size=\"14.00\">gini = 0.0</text>\n<text text-anchor=\"middle\" x=\"467\" y=\"-223.3\" font-family=\"Helvetica,sans-Serif\" font-size=\"14.00\">samples = 7</text>\n<text text-anchor=\"middle\" x=\"467\" y=\"-208.3\" font-family=\"Helvetica,sans-Serif\" font-size=\"14.00\">value = [0, 7]</text>\n</g>\n<!-- 22&#45;&gt;23 -->\n<g id=\"edge23\" class=\"edge\">\n<title>22&#45;&gt;23</title>\n<path fill=\"none\" stroke=\"black\" d=\"M541.96,-296.88C529.28,-285.23 515.04,-272.14 502.4,-260.53\"/>\n<polygon fill=\"black\" stroke=\"black\" points=\"504.5,-257.71 494.77,-253.52 499.77,-262.86 504.5,-257.71\"/>\n</g>\n<!-- 24 -->\n<g id=\"node25\" class=\"node\">\n<title>24</title>\n<polygon fill=\"none\" stroke=\"black\" points=\"635,-261 533,-261 533,-193 635,-193 635,-261\"/>\n<text text-anchor=\"middle\" x=\"584\" y=\"-245.8\" font-family=\"Helvetica,sans-Serif\" font-size=\"14.00\">Fare &lt;= 7.769</text>\n<text text-anchor=\"middle\" x=\"584\" y=\"-230.8\" font-family=\"Helvetica,sans-Serif\" font-size=\"14.00\">gini = 0.403</text>\n<text text-anchor=\"middle\" x=\"584\" y=\"-215.8\" font-family=\"Helvetica,sans-Serif\" font-size=\"14.00\">samples = 25</text>\n<text text-anchor=\"middle\" x=\"584\" y=\"-200.8\" font-family=\"Helvetica,sans-Serif\" font-size=\"14.00\">value = [7, 18]</text>\n</g>\n<!-- 22&#45;&gt;24 -->\n<g id=\"edge24\" class=\"edge\">\n<title>22&#45;&gt;24</title>\n<path fill=\"none\" stroke=\"black\" d=\"M579.95,-296.88C580.42,-288.78 580.94,-279.98 581.44,-271.47\"/>\n<polygon fill=\"black\" stroke=\"black\" points=\"584.95,-271.49 582.04,-261.3 577.96,-271.08 584.95,-271.49\"/>\n</g>\n<!-- 25 -->\n<g id=\"node26\" class=\"node\">\n<title>25</title>\n<polygon fill=\"none\" stroke=\"black\" points=\"577,-149.5 475,-149.5 475,-96.5 577,-96.5 577,-149.5\"/>\n<text text-anchor=\"middle\" x=\"526\" y=\"-134.3\" font-family=\"Helvetica,sans-Serif\" font-size=\"14.00\">gini = 0.444</text>\n<text text-anchor=\"middle\" x=\"526\" y=\"-119.3\" font-family=\"Helvetica,sans-Serif\" font-size=\"14.00\">samples = 18</text>\n<text text-anchor=\"middle\" x=\"526\" y=\"-104.3\" font-family=\"Helvetica,sans-Serif\" font-size=\"14.00\">value = [6, 12]</text>\n</g>\n<!-- 24&#45;&gt;25 -->\n<g id=\"edge25\" class=\"edge\">\n<title>24&#45;&gt;25</title>\n<path fill=\"none\" stroke=\"black\" d=\"M565.17,-192.88C558.92,-181.89 551.94,-169.62 545.63,-158.52\"/>\n<polygon fill=\"black\" stroke=\"black\" points=\"548.5,-156.48 540.51,-149.52 542.41,-159.94 548.5,-156.48\"/>\n</g>\n<!-- 26 -->\n<g id=\"node27\" class=\"node\">\n<title>26</title>\n<polygon fill=\"none\" stroke=\"black\" points=\"690.5,-149.5 595.5,-149.5 595.5,-96.5 690.5,-96.5 690.5,-149.5\"/>\n<text text-anchor=\"middle\" x=\"643\" y=\"-134.3\" font-family=\"Helvetica,sans-Serif\" font-size=\"14.00\">gini = 0.245</text>\n<text text-anchor=\"middle\" x=\"643\" y=\"-119.3\" font-family=\"Helvetica,sans-Serif\" font-size=\"14.00\">samples = 7</text>\n<text text-anchor=\"middle\" x=\"643\" y=\"-104.3\" font-family=\"Helvetica,sans-Serif\" font-size=\"14.00\">value = [1, 6]</text>\n</g>\n<!-- 24&#45;&gt;26 -->\n<g id=\"edge26\" class=\"edge\">\n<title>24&#45;&gt;26</title>\n<path fill=\"none\" stroke=\"black\" d=\"M603.16,-192.88C609.58,-181.78 616.76,-169.37 623.23,-158.18\"/>\n<polygon fill=\"black\" stroke=\"black\" points=\"626.26,-159.93 628.24,-149.52 620.2,-156.42 626.26,-159.93\"/>\n</g>\n<!-- 30 -->\n<g id=\"node31\" class=\"node\">\n<title>30</title>\n<polygon fill=\"none\" stroke=\"black\" points=\"991,-469 881,-469 881,-401 991,-401 991,-469\"/>\n<text text-anchor=\"middle\" x=\"936\" y=\"-453.8\" font-family=\"Helvetica,sans-Serif\" font-size=\"14.00\">Fare &lt;= 7.988</text>\n<text text-anchor=\"middle\" x=\"936\" y=\"-438.8\" font-family=\"Helvetica,sans-Serif\" font-size=\"14.00\">gini = 0.489</text>\n<text text-anchor=\"middle\" x=\"936\" y=\"-423.8\" font-family=\"Helvetica,sans-Serif\" font-size=\"14.00\">samples = 33</text>\n<text text-anchor=\"middle\" x=\"936\" y=\"-408.8\" font-family=\"Helvetica,sans-Serif\" font-size=\"14.00\">value = [19, 14]</text>\n</g>\n<!-- 29&#45;&gt;30 -->\n<g id=\"edge30\" class=\"edge\">\n<title>29&#45;&gt;30</title>\n<path fill=\"none\" stroke=\"black\" d=\"M940.73,-504.88C940.17,-496.78 939.57,-487.98 938.98,-479.47\"/>\n<polygon fill=\"black\" stroke=\"black\" points=\"942.46,-479.04 938.29,-469.3 935.48,-479.52 942.46,-479.04\"/>\n</g>\n<!-- 35 -->\n<g id=\"node36\" class=\"node\">\n<title>35</title>\n<polygon fill=\"none\" stroke=\"black\" points=\"1111,-469 1009,-469 1009,-401 1111,-401 1111,-469\"/>\n<text text-anchor=\"middle\" x=\"1060\" y=\"-453.8\" font-family=\"Helvetica,sans-Serif\" font-size=\"14.00\">Fare &lt;= 17.6</text>\n<text text-anchor=\"middle\" x=\"1060\" y=\"-438.8\" font-family=\"Helvetica,sans-Serif\" font-size=\"14.00\">gini = 0.444</text>\n<text text-anchor=\"middle\" x=\"1060\" y=\"-423.8\" font-family=\"Helvetica,sans-Serif\" font-size=\"14.00\">samples = 24</text>\n<text text-anchor=\"middle\" x=\"1060\" y=\"-408.8\" font-family=\"Helvetica,sans-Serif\" font-size=\"14.00\">value = [8, 16]</text>\n</g>\n<!-- 29&#45;&gt;35 -->\n<g id=\"edge35\" class=\"edge\">\n<title>29&#45;&gt;35</title>\n<path fill=\"none\" stroke=\"black\" d=\"M980.99,-504.88C991.51,-495.71 1003.05,-485.65 1013.98,-476.12\"/>\n<polygon fill=\"black\" stroke=\"black\" points=\"1016.57,-478.51 1021.8,-469.3 1011.97,-473.23 1016.57,-478.51\"/>\n</g>\n<!-- 31 -->\n<g id=\"node32\" class=\"node\">\n<title>31</title>\n<polygon fill=\"none\" stroke=\"black\" points=\"867,-365 765,-365 765,-297 867,-297 867,-365\"/>\n<text text-anchor=\"middle\" x=\"816\" y=\"-349.8\" font-family=\"Helvetica,sans-Serif\" font-size=\"14.00\">Age &lt;= 22.5</text>\n<text text-anchor=\"middle\" x=\"816\" y=\"-334.8\" font-family=\"Helvetica,sans-Serif\" font-size=\"14.00\">gini = 0.488</text>\n<text text-anchor=\"middle\" x=\"816\" y=\"-319.8\" font-family=\"Helvetica,sans-Serif\" font-size=\"14.00\">samples = 19</text>\n<text text-anchor=\"middle\" x=\"816\" y=\"-304.8\" font-family=\"Helvetica,sans-Serif\" font-size=\"14.00\">value = [8, 11]</text>\n</g>\n<!-- 30&#45;&gt;31 -->\n<g id=\"edge31\" class=\"edge\">\n<title>30&#45;&gt;31</title>\n<path fill=\"none\" stroke=\"black\" d=\"M897.04,-400.88C886.14,-391.62 874.18,-381.45 862.88,-371.85\"/>\n<polygon fill=\"black\" stroke=\"black\" points=\"865.06,-369.11 855.18,-365.3 860.53,-374.44 865.06,-369.11\"/>\n</g>\n<!-- 34 -->\n<g id=\"node35\" class=\"node\">\n<title>34</title>\n<polygon fill=\"none\" stroke=\"black\" points=\"987,-357.5 885,-357.5 885,-304.5 987,-304.5 987,-357.5\"/>\n<text text-anchor=\"middle\" x=\"936\" y=\"-342.3\" font-family=\"Helvetica,sans-Serif\" font-size=\"14.00\">gini = 0.337</text>\n<text text-anchor=\"middle\" x=\"936\" y=\"-327.3\" font-family=\"Helvetica,sans-Serif\" font-size=\"14.00\">samples = 14</text>\n<text text-anchor=\"middle\" x=\"936\" y=\"-312.3\" font-family=\"Helvetica,sans-Serif\" font-size=\"14.00\">value = [11, 3]</text>\n</g>\n<!-- 30&#45;&gt;34 -->\n<g id=\"edge34\" class=\"edge\">\n<title>30&#45;&gt;34</title>\n<path fill=\"none\" stroke=\"black\" d=\"M936,-400.88C936,-390.33 936,-378.6 936,-367.85\"/>\n<polygon fill=\"black\" stroke=\"black\" points=\"939.5,-367.52 936,-357.52 932.5,-367.52 939.5,-367.52\"/>\n</g>\n<!-- 32 -->\n<g id=\"node33\" class=\"node\">\n<title>32</title>\n<polygon fill=\"none\" stroke=\"black\" points=\"759,-253.5 661,-253.5 661,-200.5 759,-200.5 759,-253.5\"/>\n<text text-anchor=\"middle\" x=\"710\" y=\"-238.3\" font-family=\"Helvetica,sans-Serif\" font-size=\"14.00\">gini = 0.42</text>\n<text text-anchor=\"middle\" x=\"710\" y=\"-223.3\" font-family=\"Helvetica,sans-Serif\" font-size=\"14.00\">samples = 10</text>\n<text text-anchor=\"middle\" x=\"710\" y=\"-208.3\" font-family=\"Helvetica,sans-Serif\" font-size=\"14.00\">value = [3, 7]</text>\n</g>\n<!-- 31&#45;&gt;32 -->\n<g id=\"edge32\" class=\"edge\">\n<title>31&#45;&gt;32</title>\n<path fill=\"none\" stroke=\"black\" d=\"M781.58,-296.88C769.47,-285.23 755.87,-272.14 743.81,-260.53\"/>\n<polygon fill=\"black\" stroke=\"black\" points=\"746.15,-257.93 736.52,-253.52 741.3,-262.98 746.15,-257.93\"/>\n</g>\n<!-- 33 -->\n<g id=\"node34\" class=\"node\">\n<title>33</title>\n<polygon fill=\"none\" stroke=\"black\" points=\"872.5,-253.5 777.5,-253.5 777.5,-200.5 872.5,-200.5 872.5,-253.5\"/>\n<text text-anchor=\"middle\" x=\"825\" y=\"-238.3\" font-family=\"Helvetica,sans-Serif\" font-size=\"14.00\">gini = 0.494</text>\n<text text-anchor=\"middle\" x=\"825\" y=\"-223.3\" font-family=\"Helvetica,sans-Serif\" font-size=\"14.00\">samples = 9</text>\n<text text-anchor=\"middle\" x=\"825\" y=\"-208.3\" font-family=\"Helvetica,sans-Serif\" font-size=\"14.00\">value = [5, 4]</text>\n</g>\n<!-- 31&#45;&gt;33 -->\n<g id=\"edge33\" class=\"edge\">\n<title>31&#45;&gt;33</title>\n<path fill=\"none\" stroke=\"black\" d=\"M818.92,-296.88C819.86,-286.22 820.91,-274.35 821.87,-263.52\"/>\n<polygon fill=\"black\" stroke=\"black\" points=\"825.36,-263.79 822.75,-253.52 818.38,-263.17 825.36,-263.79\"/>\n</g>\n<!-- 36 -->\n<g id=\"node37\" class=\"node\">\n<title>36</title>\n<polygon fill=\"none\" stroke=\"black\" points=\"1115,-365 1005,-365 1005,-297 1115,-297 1115,-365\"/>\n<text text-anchor=\"middle\" x=\"1060\" y=\"-349.8\" font-family=\"Helvetica,sans-Serif\" font-size=\"14.00\">Fare &lt;= 15.125</text>\n<text text-anchor=\"middle\" x=\"1060\" y=\"-334.8\" font-family=\"Helvetica,sans-Serif\" font-size=\"14.00\">gini = 0.231</text>\n<text text-anchor=\"middle\" x=\"1060\" y=\"-319.8\" font-family=\"Helvetica,sans-Serif\" font-size=\"14.00\">samples = 15</text>\n<text text-anchor=\"middle\" x=\"1060\" y=\"-304.8\" font-family=\"Helvetica,sans-Serif\" font-size=\"14.00\">value = [2, 13]</text>\n</g>\n<!-- 35&#45;&gt;36 -->\n<g id=\"edge36\" class=\"edge\">\n<title>35&#45;&gt;36</title>\n<path fill=\"none\" stroke=\"black\" d=\"M1060,-400.88C1060,-392.78 1060,-383.98 1060,-375.47\"/>\n<polygon fill=\"black\" stroke=\"black\" points=\"1063.5,-375.3 1060,-365.3 1056.5,-375.3 1063.5,-375.3\"/>\n</g>\n<!-- 39 -->\n<g id=\"node40\" class=\"node\">\n<title>39</title>\n<polygon fill=\"none\" stroke=\"black\" points=\"1228.5,-357.5 1133.5,-357.5 1133.5,-304.5 1228.5,-304.5 1228.5,-357.5\"/>\n<text text-anchor=\"middle\" x=\"1181\" y=\"-342.3\" font-family=\"Helvetica,sans-Serif\" font-size=\"14.00\">gini = 0.444</text>\n<text text-anchor=\"middle\" x=\"1181\" y=\"-327.3\" font-family=\"Helvetica,sans-Serif\" font-size=\"14.00\">samples = 9</text>\n<text text-anchor=\"middle\" x=\"1181\" y=\"-312.3\" font-family=\"Helvetica,sans-Serif\" font-size=\"14.00\">value = [6, 3]</text>\n</g>\n<!-- 35&#45;&gt;39 -->\n<g id=\"edge39\" class=\"edge\">\n<title>35&#45;&gt;39</title>\n<path fill=\"none\" stroke=\"black\" d=\"M1099.29,-400.88C1113.24,-389.12 1128.93,-375.89 1142.8,-364.2\"/>\n<polygon fill=\"black\" stroke=\"black\" points=\"1145.34,-366.64 1150.73,-357.52 1140.82,-361.29 1145.34,-366.64\"/>\n</g>\n<!-- 37 -->\n<g id=\"node38\" class=\"node\">\n<title>37</title>\n<polygon fill=\"none\" stroke=\"black\" points=\"994.5,-253.5 899.5,-253.5 899.5,-200.5 994.5,-200.5 994.5,-253.5\"/>\n<text text-anchor=\"middle\" x=\"947\" y=\"-238.3\" font-family=\"Helvetica,sans-Serif\" font-size=\"14.00\">gini = 0.245</text>\n<text text-anchor=\"middle\" x=\"947\" y=\"-223.3\" font-family=\"Helvetica,sans-Serif\" font-size=\"14.00\">samples = 7</text>\n<text text-anchor=\"middle\" x=\"947\" y=\"-208.3\" font-family=\"Helvetica,sans-Serif\" font-size=\"14.00\">value = [1, 6]</text>\n</g>\n<!-- 36&#45;&gt;37 -->\n<g id=\"edge37\" class=\"edge\">\n<title>36&#45;&gt;37</title>\n<path fill=\"none\" stroke=\"black\" d=\"M1023.31,-296.88C1010.4,-285.23 995.9,-272.14 983.04,-260.53\"/>\n<polygon fill=\"black\" stroke=\"black\" points=\"985.04,-257.62 975.27,-253.52 980.35,-262.82 985.04,-257.62\"/>\n</g>\n<!-- 38 -->\n<g id=\"node39\" class=\"node\">\n<title>38</title>\n<polygon fill=\"none\" stroke=\"black\" points=\"1107.5,-253.5 1012.5,-253.5 1012.5,-200.5 1107.5,-200.5 1107.5,-253.5\"/>\n<text text-anchor=\"middle\" x=\"1060\" y=\"-238.3\" font-family=\"Helvetica,sans-Serif\" font-size=\"14.00\">gini = 0.219</text>\n<text text-anchor=\"middle\" x=\"1060\" y=\"-223.3\" font-family=\"Helvetica,sans-Serif\" font-size=\"14.00\">samples = 8</text>\n<text text-anchor=\"middle\" x=\"1060\" y=\"-208.3\" font-family=\"Helvetica,sans-Serif\" font-size=\"14.00\">value = [1, 7]</text>\n</g>\n<!-- 36&#45;&gt;38 -->\n<g id=\"edge38\" class=\"edge\">\n<title>36&#45;&gt;38</title>\n<path fill=\"none\" stroke=\"black\" d=\"M1060,-296.88C1060,-286.33 1060,-274.6 1060,-263.85\"/>\n<polygon fill=\"black\" stroke=\"black\" points=\"1063.5,-263.52 1060,-253.52 1056.5,-263.52 1063.5,-263.52\"/>\n</g>\n<!-- 42 -->\n<g id=\"node43\" class=\"node\">\n<title>42</title>\n<polygon fill=\"none\" stroke=\"black\" points=\"1165,-677 1063,-677 1063,-609 1165,-609 1165,-677\"/>\n<text text-anchor=\"middle\" x=\"1114\" y=\"-661.8\" font-family=\"Helvetica,sans-Serif\" font-size=\"14.00\">Fare &lt;= 30.2</text>\n<text text-anchor=\"middle\" x=\"1114\" y=\"-646.8\" font-family=\"Helvetica,sans-Serif\" font-size=\"14.00\">gini = 0.278</text>\n<text text-anchor=\"middle\" x=\"1114\" y=\"-631.8\" font-family=\"Helvetica,sans-Serif\" font-size=\"14.00\">samples = 18</text>\n<text text-anchor=\"middle\" x=\"1114\" y=\"-616.8\" font-family=\"Helvetica,sans-Serif\" font-size=\"14.00\">value = [15, 3]</text>\n</g>\n<!-- 41&#45;&gt;42 -->\n<g id=\"edge42\" class=\"edge\">\n<title>41&#45;&gt;42</title>\n<path fill=\"none\" stroke=\"black\" d=\"M1116.03,-712.88C1115.79,-704.78 1115.53,-695.98 1115.28,-687.47\"/>\n<polygon fill=\"black\" stroke=\"black\" points=\"1118.77,-687.19 1114.98,-677.3 1111.77,-687.4 1118.77,-687.19\"/>\n</g>\n<!-- 45 -->\n<g id=\"node46\" class=\"node\">\n<title>45</title>\n<polygon fill=\"none\" stroke=\"black\" points=\"1278.5,-669.5 1183.5,-669.5 1183.5,-616.5 1278.5,-616.5 1278.5,-669.5\"/>\n<text text-anchor=\"middle\" x=\"1231\" y=\"-654.3\" font-family=\"Helvetica,sans-Serif\" font-size=\"14.00\">gini = 0.0</text>\n<text text-anchor=\"middle\" x=\"1231\" y=\"-639.3\" font-family=\"Helvetica,sans-Serif\" font-size=\"14.00\">samples = 9</text>\n<text text-anchor=\"middle\" x=\"1231\" y=\"-624.3\" font-family=\"Helvetica,sans-Serif\" font-size=\"14.00\">value = [9, 0]</text>\n</g>\n<!-- 41&#45;&gt;45 -->\n<g id=\"edge45\" class=\"edge\">\n<title>41&#45;&gt;45</title>\n<path fill=\"none\" stroke=\"black\" d=\"M1154.01,-712.88C1167.16,-701.12 1181.94,-687.89 1195.01,-676.2\"/>\n<polygon fill=\"black\" stroke=\"black\" points=\"1197.36,-678.8 1202.48,-669.52 1192.69,-673.58 1197.36,-678.8\"/>\n</g>\n<!-- 43 -->\n<g id=\"node44\" class=\"node\">\n<title>43</title>\n<polygon fill=\"none\" stroke=\"black\" points=\"1133,-565.5 1031,-565.5 1031,-512.5 1133,-512.5 1133,-565.5\"/>\n<text text-anchor=\"middle\" x=\"1082\" y=\"-550.3\" font-family=\"Helvetica,sans-Serif\" font-size=\"14.00\">gini = 0.165</text>\n<text text-anchor=\"middle\" x=\"1082\" y=\"-535.3\" font-family=\"Helvetica,sans-Serif\" font-size=\"14.00\">samples = 11</text>\n<text text-anchor=\"middle\" x=\"1082\" y=\"-520.3\" font-family=\"Helvetica,sans-Serif\" font-size=\"14.00\">value = [10, 1]</text>\n</g>\n<!-- 42&#45;&gt;43 -->\n<g id=\"edge43\" class=\"edge\">\n<title>42&#45;&gt;43</title>\n<path fill=\"none\" stroke=\"black\" d=\"M1103.61,-608.88C1100.23,-598.11 1096.47,-586.11 1093.04,-575.18\"/>\n<polygon fill=\"black\" stroke=\"black\" points=\"1096.34,-574.01 1090.01,-565.52 1089.66,-576.11 1096.34,-574.01\"/>\n</g>\n<!-- 44 -->\n<g id=\"node45\" class=\"node\">\n<title>44</title>\n<polygon fill=\"none\" stroke=\"black\" points=\"1246.5,-565.5 1151.5,-565.5 1151.5,-512.5 1246.5,-512.5 1246.5,-565.5\"/>\n<text text-anchor=\"middle\" x=\"1199\" y=\"-550.3\" font-family=\"Helvetica,sans-Serif\" font-size=\"14.00\">gini = 0.408</text>\n<text text-anchor=\"middle\" x=\"1199\" y=\"-535.3\" font-family=\"Helvetica,sans-Serif\" font-size=\"14.00\">samples = 7</text>\n<text text-anchor=\"middle\" x=\"1199\" y=\"-520.3\" font-family=\"Helvetica,sans-Serif\" font-size=\"14.00\">value = [5, 2]</text>\n</g>\n<!-- 42&#45;&gt;44 -->\n<g id=\"edge44\" class=\"edge\">\n<title>42&#45;&gt;44</title>\n<path fill=\"none\" stroke=\"black\" d=\"M1141.6,-608.88C1151.04,-597.56 1161.6,-584.88 1171.07,-573.52\"/>\n<polygon fill=\"black\" stroke=\"black\" points=\"1174.02,-575.44 1177.73,-565.52 1168.64,-570.96 1174.02,-575.44\"/>\n</g>\n<!-- 47 -->\n<g id=\"node48\" class=\"node\">\n<title>47</title>\n<polygon fill=\"none\" stroke=\"black\" points=\"1633,-885 1523,-885 1523,-817 1633,-817 1633,-885\"/>\n<text text-anchor=\"middle\" x=\"1578\" y=\"-869.8\" font-family=\"Helvetica,sans-Serif\" font-size=\"14.00\">SibSp &lt;= 2.5</text>\n<text text-anchor=\"middle\" x=\"1578\" y=\"-854.8\" font-family=\"Helvetica,sans-Serif\" font-size=\"14.00\">gini = 0.493</text>\n<text text-anchor=\"middle\" x=\"1578\" y=\"-839.8\" font-family=\"Helvetica,sans-Serif\" font-size=\"14.00\">samples = 41</text>\n<text text-anchor=\"middle\" x=\"1578\" y=\"-824.8\" font-family=\"Helvetica,sans-Serif\" font-size=\"14.00\">value = [18, 23]</text>\n</g>\n<!-- 46&#45;&gt;47 -->\n<g id=\"edge47\" class=\"edge\">\n<title>46&#45;&gt;47</title>\n<path fill=\"none\" stroke=\"black\" d=\"M1578,-920.88C1578,-912.78 1578,-903.98 1578,-895.47\"/>\n<polygon fill=\"black\" stroke=\"black\" points=\"1581.5,-895.3 1578,-885.3 1574.5,-895.3 1581.5,-895.3\"/>\n</g>\n<!-- 54 -->\n<g id=\"node55\" class=\"node\">\n<title>54</title>\n<polygon fill=\"none\" stroke=\"black\" points=\"2030.5,-885 1913.5,-885 1913.5,-817 2030.5,-817 2030.5,-885\"/>\n<text text-anchor=\"middle\" x=\"1972\" y=\"-869.8\" font-family=\"Helvetica,sans-Serif\" font-size=\"14.00\">Fare &lt;= 26.269</text>\n<text text-anchor=\"middle\" x=\"1972\" y=\"-854.8\" font-family=\"Helvetica,sans-Serif\" font-size=\"14.00\">gini = 0.269</text>\n<text text-anchor=\"middle\" x=\"1972\" y=\"-839.8\" font-family=\"Helvetica,sans-Serif\" font-size=\"14.00\">samples = 536</text>\n<text text-anchor=\"middle\" x=\"1972\" y=\"-824.8\" font-family=\"Helvetica,sans-Serif\" font-size=\"14.00\">value = [450, 86]</text>\n</g>\n<!-- 46&#45;&gt;54 -->\n<g id=\"edge54\" class=\"edge\">\n<title>46&#45;&gt;54</title>\n<path fill=\"none\" stroke=\"black\" d=\"M1640.87,-937.73C1712.6,-919.15 1829.52,-888.89 1903.52,-869.73\"/>\n<polygon fill=\"black\" stroke=\"black\" points=\"1904.41,-873.11 1913.22,-867.22 1902.66,-866.34 1904.41,-873.11\"/>\n</g>\n<!-- 48 -->\n<g id=\"node49\" class=\"node\">\n<title>48</title>\n<polygon fill=\"none\" stroke=\"black\" points=\"1569,-781 1467,-781 1467,-713 1569,-713 1569,-781\"/>\n<text text-anchor=\"middle\" x=\"1518\" y=\"-765.8\" font-family=\"Helvetica,sans-Serif\" font-size=\"14.00\">Age &lt;= 5.0</text>\n<text text-anchor=\"middle\" x=\"1518\" y=\"-750.8\" font-family=\"Helvetica,sans-Serif\" font-size=\"14.00\">gini = 0.083</text>\n<text text-anchor=\"middle\" x=\"1518\" y=\"-735.8\" font-family=\"Helvetica,sans-Serif\" font-size=\"14.00\">samples = 23</text>\n<text text-anchor=\"middle\" x=\"1518\" y=\"-720.8\" font-family=\"Helvetica,sans-Serif\" font-size=\"14.00\">value = [1, 22]</text>\n</g>\n<!-- 47&#45;&gt;48 -->\n<g id=\"edge48\" class=\"edge\">\n<title>47&#45;&gt;48</title>\n<path fill=\"none\" stroke=\"black\" d=\"M1558.52,-816.88C1553.49,-808.33 1548.01,-799.01 1542.75,-790.07\"/>\n<polygon fill=\"black\" stroke=\"black\" points=\"1545.67,-788.14 1537.59,-781.3 1539.64,-791.69 1545.67,-788.14\"/>\n</g>\n<!-- 51 -->\n<g id=\"node52\" class=\"node\">\n<title>51</title>\n<polygon fill=\"none\" stroke=\"black\" points=\"1689,-781 1587,-781 1587,-713 1689,-713 1689,-781\"/>\n<text text-anchor=\"middle\" x=\"1638\" y=\"-765.8\" font-family=\"Helvetica,sans-Serif\" font-size=\"14.00\">Age &lt;= 3.75</text>\n<text text-anchor=\"middle\" x=\"1638\" y=\"-750.8\" font-family=\"Helvetica,sans-Serif\" font-size=\"14.00\">gini = 0.105</text>\n<text text-anchor=\"middle\" x=\"1638\" y=\"-735.8\" font-family=\"Helvetica,sans-Serif\" font-size=\"14.00\">samples = 18</text>\n<text text-anchor=\"middle\" x=\"1638\" y=\"-720.8\" font-family=\"Helvetica,sans-Serif\" font-size=\"14.00\">value = [17, 1]</text>\n</g>\n<!-- 47&#45;&gt;51 -->\n<g id=\"edge51\" class=\"edge\">\n<title>47&#45;&gt;51</title>\n<path fill=\"none\" stroke=\"black\" d=\"M1597.48,-816.88C1602.51,-808.33 1607.99,-799.01 1613.25,-790.07\"/>\n<polygon fill=\"black\" stroke=\"black\" points=\"1616.36,-791.69 1618.41,-781.3 1610.33,-788.14 1616.36,-791.69\"/>\n</g>\n<!-- 49 -->\n<g id=\"node50\" class=\"node\">\n<title>49</title>\n<polygon fill=\"none\" stroke=\"black\" points=\"1454,-669.5 1352,-669.5 1352,-616.5 1454,-616.5 1454,-669.5\"/>\n<text text-anchor=\"middle\" x=\"1403\" y=\"-654.3\" font-family=\"Helvetica,sans-Serif\" font-size=\"14.00\">gini = 0.0</text>\n<text text-anchor=\"middle\" x=\"1403\" y=\"-639.3\" font-family=\"Helvetica,sans-Serif\" font-size=\"14.00\">samples = 16</text>\n<text text-anchor=\"middle\" x=\"1403\" y=\"-624.3\" font-family=\"Helvetica,sans-Serif\" font-size=\"14.00\">value = [0, 16]</text>\n</g>\n<!-- 48&#45;&gt;49 -->\n<g id=\"edge49\" class=\"edge\">\n<title>48&#45;&gt;49</title>\n<path fill=\"none\" stroke=\"black\" d=\"M1480.66,-712.88C1467.4,-701.12 1452.49,-687.89 1439.31,-676.2\"/>\n<polygon fill=\"black\" stroke=\"black\" points=\"1441.58,-673.54 1431.77,-669.52 1436.93,-678.77 1441.58,-673.54\"/>\n</g>\n<!-- 50 -->\n<g id=\"node51\" class=\"node\">\n<title>50</title>\n<polygon fill=\"none\" stroke=\"black\" points=\"1567.5,-669.5 1472.5,-669.5 1472.5,-616.5 1567.5,-616.5 1567.5,-669.5\"/>\n<text text-anchor=\"middle\" x=\"1520\" y=\"-654.3\" font-family=\"Helvetica,sans-Serif\" font-size=\"14.00\">gini = 0.245</text>\n<text text-anchor=\"middle\" x=\"1520\" y=\"-639.3\" font-family=\"Helvetica,sans-Serif\" font-size=\"14.00\">samples = 7</text>\n<text text-anchor=\"middle\" x=\"1520\" y=\"-624.3\" font-family=\"Helvetica,sans-Serif\" font-size=\"14.00\">value = [1, 6]</text>\n</g>\n<!-- 48&#45;&gt;50 -->\n<g id=\"edge50\" class=\"edge\">\n<title>48&#45;&gt;50</title>\n<path fill=\"none\" stroke=\"black\" d=\"M1518.65,-712.88C1518.86,-702.22 1519.09,-690.35 1519.3,-679.52\"/>\n<polygon fill=\"black\" stroke=\"black\" points=\"1522.8,-679.59 1519.5,-669.52 1515.8,-679.45 1522.8,-679.59\"/>\n</g>\n<!-- 52 -->\n<g id=\"node53\" class=\"node\">\n<title>52</title>\n<polygon fill=\"none\" stroke=\"black\" points=\"1683.5,-669.5 1588.5,-669.5 1588.5,-616.5 1683.5,-616.5 1683.5,-669.5\"/>\n<text text-anchor=\"middle\" x=\"1636\" y=\"-654.3\" font-family=\"Helvetica,sans-Serif\" font-size=\"14.00\">gini = 0.219</text>\n<text text-anchor=\"middle\" x=\"1636\" y=\"-639.3\" font-family=\"Helvetica,sans-Serif\" font-size=\"14.00\">samples = 8</text>\n<text text-anchor=\"middle\" x=\"1636\" y=\"-624.3\" font-family=\"Helvetica,sans-Serif\" font-size=\"14.00\">value = [7, 1]</text>\n</g>\n<!-- 51&#45;&gt;52 -->\n<g id=\"edge52\" class=\"edge\">\n<title>51&#45;&gt;52</title>\n<path fill=\"none\" stroke=\"black\" d=\"M1637.35,-712.88C1637.14,-702.22 1636.91,-690.35 1636.7,-679.52\"/>\n<polygon fill=\"black\" stroke=\"black\" points=\"1640.2,-679.45 1636.5,-669.52 1633.2,-679.59 1640.2,-679.45\"/>\n</g>\n<!-- 53 -->\n<g id=\"node54\" class=\"node\">\n<title>53</title>\n<polygon fill=\"none\" stroke=\"black\" points=\"1804,-669.5 1702,-669.5 1702,-616.5 1804,-616.5 1804,-669.5\"/>\n<text text-anchor=\"middle\" x=\"1753\" y=\"-654.3\" font-family=\"Helvetica,sans-Serif\" font-size=\"14.00\">gini = 0.0</text>\n<text text-anchor=\"middle\" x=\"1753\" y=\"-639.3\" font-family=\"Helvetica,sans-Serif\" font-size=\"14.00\">samples = 10</text>\n<text text-anchor=\"middle\" x=\"1753\" y=\"-624.3\" font-family=\"Helvetica,sans-Serif\" font-size=\"14.00\">value = [10, 0]</text>\n</g>\n<!-- 51&#45;&gt;53 -->\n<g id=\"edge53\" class=\"edge\">\n<title>51&#45;&gt;53</title>\n<path fill=\"none\" stroke=\"black\" d=\"M1675.34,-712.88C1688.6,-701.12 1703.51,-687.89 1716.69,-676.2\"/>\n<polygon fill=\"black\" stroke=\"black\" points=\"1719.07,-678.77 1724.23,-669.52 1714.42,-673.54 1719.07,-678.77\"/>\n</g>\n<!-- 55 -->\n<g id=\"node56\" class=\"node\">\n<title>55</title>\n<polygon fill=\"none\" stroke=\"black\" points=\"2030.5,-781 1913.5,-781 1913.5,-713 2030.5,-713 2030.5,-781\"/>\n<text text-anchor=\"middle\" x=\"1972\" y=\"-765.8\" font-family=\"Helvetica,sans-Serif\" font-size=\"14.00\">Age &lt;= 32.5</text>\n<text text-anchor=\"middle\" x=\"1972\" y=\"-750.8\" font-family=\"Helvetica,sans-Serif\" font-size=\"14.00\">gini = 0.177</text>\n<text text-anchor=\"middle\" x=\"1972\" y=\"-735.8\" font-family=\"Helvetica,sans-Serif\" font-size=\"14.00\">samples = 397</text>\n<text text-anchor=\"middle\" x=\"1972\" y=\"-720.8\" font-family=\"Helvetica,sans-Serif\" font-size=\"14.00\">value = [358, 39]</text>\n</g>\n<!-- 54&#45;&gt;55 -->\n<g id=\"edge55\" class=\"edge\">\n<title>54&#45;&gt;55</title>\n<path fill=\"none\" stroke=\"black\" d=\"M1972,-816.88C1972,-808.78 1972,-799.98 1972,-791.47\"/>\n<polygon fill=\"black\" stroke=\"black\" points=\"1975.5,-791.3 1972,-781.3 1968.5,-791.3 1975.5,-791.3\"/>\n</g>\n<!-- 98 -->\n<g id=\"node99\" class=\"node\">\n<title>98</title>\n<polygon fill=\"none\" stroke=\"black\" points=\"2375,-781 2265,-781 2265,-713 2375,-713 2375,-781\"/>\n<text text-anchor=\"middle\" x=\"2320\" y=\"-765.8\" font-family=\"Helvetica,sans-Serif\" font-size=\"14.00\">Fare &lt;= 26.775</text>\n<text text-anchor=\"middle\" x=\"2320\" y=\"-750.8\" font-family=\"Helvetica,sans-Serif\" font-size=\"14.00\">gini = 0.448</text>\n<text text-anchor=\"middle\" x=\"2320\" y=\"-735.8\" font-family=\"Helvetica,sans-Serif\" font-size=\"14.00\">samples = 139</text>\n<text text-anchor=\"middle\" x=\"2320\" y=\"-720.8\" font-family=\"Helvetica,sans-Serif\" font-size=\"14.00\">value = [92, 47]</text>\n</g>\n<!-- 54&#45;&gt;98 -->\n<g id=\"edge98\" class=\"edge\">\n<title>54&#45;&gt;98</title>\n<path fill=\"none\" stroke=\"black\" d=\"M2030.64,-832.81C2092.82,-814.59 2190.78,-785.87 2255.21,-766.99\"/>\n<polygon fill=\"black\" stroke=\"black\" points=\"2256.25,-770.33 2264.86,-764.16 2254.28,-763.62 2256.25,-770.33\"/>\n</g>\n<!-- 56 -->\n<g id=\"node57\" class=\"node\">\n<title>56</title>\n<polygon fill=\"none\" stroke=\"black\" points=\"1965.5,-677 1848.5,-677 1848.5,-609 1965.5,-609 1965.5,-677\"/>\n<text text-anchor=\"middle\" x=\"1907\" y=\"-661.8\" font-family=\"Helvetica,sans-Serif\" font-size=\"14.00\">Age &lt;= 30.75</text>\n<text text-anchor=\"middle\" x=\"1907\" y=\"-646.8\" font-family=\"Helvetica,sans-Serif\" font-size=\"14.00\">gini = 0.2</text>\n<text text-anchor=\"middle\" x=\"1907\" y=\"-631.8\" font-family=\"Helvetica,sans-Serif\" font-size=\"14.00\">samples = 292</text>\n<text text-anchor=\"middle\" x=\"1907\" y=\"-616.8\" font-family=\"Helvetica,sans-Serif\" font-size=\"14.00\">value = [259, 33]</text>\n</g>\n<!-- 55&#45;&gt;56 -->\n<g id=\"edge56\" class=\"edge\">\n<title>55&#45;&gt;56</title>\n<path fill=\"none\" stroke=\"black\" d=\"M1950.9,-712.88C1945.39,-704.24 1939.38,-694.82 1933.63,-685.79\"/>\n<polygon fill=\"black\" stroke=\"black\" points=\"1936.55,-683.85 1928.22,-677.3 1930.64,-687.61 1936.55,-683.85\"/>\n</g>\n<!-- 87 -->\n<g id=\"node88\" class=\"node\">\n<title>87</title>\n<polygon fill=\"none\" stroke=\"black\" points=\"2090,-677 1984,-677 1984,-609 2090,-609 2090,-677\"/>\n<text text-anchor=\"middle\" x=\"2037\" y=\"-661.8\" font-family=\"Helvetica,sans-Serif\" font-size=\"14.00\">Fare &lt;= 7.91</text>\n<text text-anchor=\"middle\" x=\"2037\" y=\"-646.8\" font-family=\"Helvetica,sans-Serif\" font-size=\"14.00\">gini = 0.108</text>\n<text text-anchor=\"middle\" x=\"2037\" y=\"-631.8\" font-family=\"Helvetica,sans-Serif\" font-size=\"14.00\">samples = 105</text>\n<text text-anchor=\"middle\" x=\"2037\" y=\"-616.8\" font-family=\"Helvetica,sans-Serif\" font-size=\"14.00\">value = [99, 6]</text>\n</g>\n<!-- 55&#45;&gt;87 -->\n<g id=\"edge87\" class=\"edge\">\n<title>55&#45;&gt;87</title>\n<path fill=\"none\" stroke=\"black\" d=\"M1993.1,-712.88C1998.61,-704.24 2004.62,-694.82 2010.37,-685.79\"/>\n<polygon fill=\"black\" stroke=\"black\" points=\"2013.36,-687.61 2015.78,-677.3 2007.45,-683.85 2013.36,-687.61\"/>\n</g>\n<!-- 57 -->\n<g id=\"node58\" class=\"node\">\n<title>57</title>\n<polygon fill=\"none\" stroke=\"black\" points=\"1839.5,-573 1700.5,-573 1700.5,-505 1839.5,-505 1839.5,-573\"/>\n<text text-anchor=\"middle\" x=\"1770\" y=\"-557.8\" font-family=\"Helvetica,sans-Serif\" font-size=\"14.00\">Embarked_C &lt;= 0.5</text>\n<text text-anchor=\"middle\" x=\"1770\" y=\"-542.8\" font-family=\"Helvetica,sans-Serif\" font-size=\"14.00\">gini = 0.177</text>\n<text text-anchor=\"middle\" x=\"1770\" y=\"-527.8\" font-family=\"Helvetica,sans-Serif\" font-size=\"14.00\">samples = 275</text>\n<text text-anchor=\"middle\" x=\"1770\" y=\"-512.8\" font-family=\"Helvetica,sans-Serif\" font-size=\"14.00\">value = [248, 27]</text>\n</g>\n<!-- 56&#45;&gt;57 -->\n<g id=\"edge57\" class=\"edge\">\n<title>56&#45;&gt;57</title>\n<path fill=\"none\" stroke=\"black\" d=\"M1862.52,-608.88C1849.84,-599.44 1835.9,-589.06 1822.77,-579.29\"/>\n<polygon fill=\"black\" stroke=\"black\" points=\"1824.84,-576.46 1814.73,-573.3 1820.66,-582.08 1824.84,-576.46\"/>\n</g>\n<!-- 84 -->\n<g id=\"node85\" class=\"node\">\n<title>84</title>\n<polygon fill=\"none\" stroke=\"black\" points=\"1960,-573 1858,-573 1858,-505 1960,-505 1960,-573\"/>\n<text text-anchor=\"middle\" x=\"1909\" y=\"-557.8\" font-family=\"Helvetica,sans-Serif\" font-size=\"14.00\">Fare &lt;= 8.206</text>\n<text text-anchor=\"middle\" x=\"1909\" y=\"-542.8\" font-family=\"Helvetica,sans-Serif\" font-size=\"14.00\">gini = 0.457</text>\n<text text-anchor=\"middle\" x=\"1909\" y=\"-527.8\" font-family=\"Helvetica,sans-Serif\" font-size=\"14.00\">samples = 17</text>\n<text text-anchor=\"middle\" x=\"1909\" y=\"-512.8\" font-family=\"Helvetica,sans-Serif\" font-size=\"14.00\">value = [11, 6]</text>\n</g>\n<!-- 56&#45;&gt;84 -->\n<g id=\"edge84\" class=\"edge\">\n<title>56&#45;&gt;84</title>\n<path fill=\"none\" stroke=\"black\" d=\"M1907.65,-608.88C1907.81,-600.78 1907.98,-591.98 1908.15,-583.47\"/>\n<polygon fill=\"black\" stroke=\"black\" points=\"1911.65,-583.37 1908.35,-573.3 1904.65,-583.23 1911.65,-583.37\"/>\n</g>\n<!-- 58 -->\n<g id=\"node59\" class=\"node\">\n<title>58</title>\n<polygon fill=\"none\" stroke=\"black\" points=\"1554.5,-469 1437.5,-469 1437.5,-401 1554.5,-401 1554.5,-469\"/>\n<text text-anchor=\"middle\" x=\"1496\" y=\"-453.8\" font-family=\"Helvetica,sans-Serif\" font-size=\"14.00\">Fare &lt;= 11.0</text>\n<text text-anchor=\"middle\" x=\"1496\" y=\"-438.8\" font-family=\"Helvetica,sans-Serif\" font-size=\"14.00\">gini = 0.153</text>\n<text text-anchor=\"middle\" x=\"1496\" y=\"-423.8\" font-family=\"Helvetica,sans-Serif\" font-size=\"14.00\">samples = 239</text>\n<text text-anchor=\"middle\" x=\"1496\" y=\"-408.8\" font-family=\"Helvetica,sans-Serif\" font-size=\"14.00\">value = [219, 20]</text>\n</g>\n<!-- 57&#45;&gt;58 -->\n<g id=\"edge58\" class=\"edge\">\n<title>57&#45;&gt;58</title>\n<path fill=\"none\" stroke=\"black\" d=\"M1700.15,-512C1658.37,-496.45 1605.53,-476.77 1564.08,-461.34\"/>\n<polygon fill=\"black\" stroke=\"black\" points=\"1565.2,-458.03 1554.61,-457.82 1562.76,-464.59 1565.2,-458.03\"/>\n</g>\n<!-- 77 -->\n<g id=\"node78\" class=\"node\">\n<title>77</title>\n<polygon fill=\"none\" stroke=\"black\" points=\"1826,-469 1724,-469 1724,-401 1826,-401 1826,-469\"/>\n<text text-anchor=\"middle\" x=\"1775\" y=\"-453.8\" font-family=\"Helvetica,sans-Serif\" font-size=\"14.00\">Age &lt;= 29.5</text>\n<text text-anchor=\"middle\" x=\"1775\" y=\"-438.8\" font-family=\"Helvetica,sans-Serif\" font-size=\"14.00\">gini = 0.313</text>\n<text text-anchor=\"middle\" x=\"1775\" y=\"-423.8\" font-family=\"Helvetica,sans-Serif\" font-size=\"14.00\">samples = 36</text>\n<text text-anchor=\"middle\" x=\"1775\" y=\"-408.8\" font-family=\"Helvetica,sans-Serif\" font-size=\"14.00\">value = [29, 7]</text>\n</g>\n<!-- 57&#45;&gt;77 -->\n<g id=\"edge77\" class=\"edge\">\n<title>57&#45;&gt;77</title>\n<path fill=\"none\" stroke=\"black\" d=\"M1771.62,-504.88C1772.02,-496.78 1772.45,-487.98 1772.87,-479.47\"/>\n<polygon fill=\"black\" stroke=\"black\" points=\"1776.37,-479.46 1773.37,-469.3 1769.38,-479.12 1776.37,-479.46\"/>\n</g>\n<!-- 59 -->\n<g id=\"node60\" class=\"node\">\n<title>59</title>\n<polygon fill=\"none\" stroke=\"black\" points=\"1370.5,-365 1253.5,-365 1253.5,-297 1370.5,-297 1370.5,-365\"/>\n<text text-anchor=\"middle\" x=\"1312\" y=\"-349.8\" font-family=\"Helvetica,sans-Serif\" font-size=\"14.00\">Age &lt;= 29.5</text>\n<text text-anchor=\"middle\" x=\"1312\" y=\"-334.8\" font-family=\"Helvetica,sans-Serif\" font-size=\"14.00\">gini = 0.175</text>\n<text text-anchor=\"middle\" x=\"1312\" y=\"-319.8\" font-family=\"Helvetica,sans-Serif\" font-size=\"14.00\">samples = 186</text>\n<text text-anchor=\"middle\" x=\"1312\" y=\"-304.8\" font-family=\"Helvetica,sans-Serif\" font-size=\"14.00\">value = [168, 18]</text>\n</g>\n<!-- 58&#45;&gt;59 -->\n<g id=\"edge59\" class=\"edge\">\n<title>58&#45;&gt;59</title>\n<path fill=\"none\" stroke=\"black\" d=\"M1437.28,-401.45C1418.93,-391.28 1398.56,-379.98 1379.65,-369.5\"/>\n<polygon fill=\"black\" stroke=\"black\" points=\"1381.24,-366.38 1370.8,-364.59 1377.85,-372.5 1381.24,-366.38\"/>\n</g>\n<!-- 72 -->\n<g id=\"node73\" class=\"node\">\n<title>72</title>\n<polygon fill=\"none\" stroke=\"black\" points=\"1547,-365 1445,-365 1445,-297 1547,-297 1547,-365\"/>\n<text text-anchor=\"middle\" x=\"1496\" y=\"-349.8\" font-family=\"Helvetica,sans-Serif\" font-size=\"14.00\">Age &lt;= 29.5</text>\n<text text-anchor=\"middle\" x=\"1496\" y=\"-334.8\" font-family=\"Helvetica,sans-Serif\" font-size=\"14.00\">gini = 0.073</text>\n<text text-anchor=\"middle\" x=\"1496\" y=\"-319.8\" font-family=\"Helvetica,sans-Serif\" font-size=\"14.00\">samples = 53</text>\n<text text-anchor=\"middle\" x=\"1496\" y=\"-304.8\" font-family=\"Helvetica,sans-Serif\" font-size=\"14.00\">value = [51, 2]</text>\n</g>\n<!-- 58&#45;&gt;72 -->\n<g id=\"edge72\" class=\"edge\">\n<title>58&#45;&gt;72</title>\n<path fill=\"none\" stroke=\"black\" d=\"M1496,-400.88C1496,-392.78 1496,-383.98 1496,-375.47\"/>\n<polygon fill=\"black\" stroke=\"black\" points=\"1499.5,-375.3 1496,-365.3 1492.5,-375.3 1499.5,-375.3\"/>\n</g>\n<!-- 60 -->\n<g id=\"node61\" class=\"node\">\n<title>60</title>\n<polygon fill=\"none\" stroke=\"black\" points=\"1242.5,-261 1125.5,-261 1125.5,-193 1242.5,-193 1242.5,-261\"/>\n<text text-anchor=\"middle\" x=\"1184\" y=\"-245.8\" font-family=\"Helvetica,sans-Serif\" font-size=\"14.00\">Age &lt;= 26.5</text>\n<text text-anchor=\"middle\" x=\"1184\" y=\"-230.8\" font-family=\"Helvetica,sans-Serif\" font-size=\"14.00\">gini = 0.212</text>\n<text text-anchor=\"middle\" x=\"1184\" y=\"-215.8\" font-family=\"Helvetica,sans-Serif\" font-size=\"14.00\">samples = 116</text>\n<text text-anchor=\"middle\" x=\"1184\" y=\"-200.8\" font-family=\"Helvetica,sans-Serif\" font-size=\"14.00\">value = [102, 14]</text>\n</g>\n<!-- 59&#45;&gt;60 -->\n<g id=\"edge60\" class=\"edge\">\n<title>59&#45;&gt;60</title>\n<path fill=\"none\" stroke=\"black\" d=\"M1270.44,-296.88C1258.71,-287.53 1245.82,-277.26 1233.65,-267.57\"/>\n<polygon fill=\"black\" stroke=\"black\" points=\"1235.79,-264.79 1225.79,-261.3 1231.43,-270.27 1235.79,-264.79\"/>\n</g>\n<!-- 67 -->\n<g id=\"node68\" class=\"node\">\n<title>67</title>\n<polygon fill=\"none\" stroke=\"black\" points=\"1363,-261 1261,-261 1261,-193 1363,-193 1363,-261\"/>\n<text text-anchor=\"middle\" x=\"1312\" y=\"-245.8\" font-family=\"Helvetica,sans-Serif\" font-size=\"14.00\">Fare &lt;= 7.744</text>\n<text text-anchor=\"middle\" x=\"1312\" y=\"-230.8\" font-family=\"Helvetica,sans-Serif\" font-size=\"14.00\">gini = 0.108</text>\n<text text-anchor=\"middle\" x=\"1312\" y=\"-215.8\" font-family=\"Helvetica,sans-Serif\" font-size=\"14.00\">samples = 70</text>\n<text text-anchor=\"middle\" x=\"1312\" y=\"-200.8\" font-family=\"Helvetica,sans-Serif\" font-size=\"14.00\">value = [66, 4]</text>\n</g>\n<!-- 59&#45;&gt;67 -->\n<g id=\"edge67\" class=\"edge\">\n<title>59&#45;&gt;67</title>\n<path fill=\"none\" stroke=\"black\" d=\"M1312,-296.88C1312,-288.78 1312,-279.98 1312,-271.47\"/>\n<polygon fill=\"black\" stroke=\"black\" points=\"1315.5,-271.3 1312,-261.3 1308.5,-271.3 1315.5,-271.3\"/>\n</g>\n<!-- 61 -->\n<g id=\"node62\" class=\"node\">\n<title>61</title>\n<polygon fill=\"none\" stroke=\"black\" points=\"1117,-157 1015,-157 1015,-89 1117,-89 1117,-157\"/>\n<text text-anchor=\"middle\" x=\"1066\" y=\"-141.8\" font-family=\"Helvetica,sans-Serif\" font-size=\"14.00\">SibSp &lt;= 0.5</text>\n<text text-anchor=\"middle\" x=\"1066\" y=\"-126.8\" font-family=\"Helvetica,sans-Serif\" font-size=\"14.00\">gini = 0.17</text>\n<text text-anchor=\"middle\" x=\"1066\" y=\"-111.8\" font-family=\"Helvetica,sans-Serif\" font-size=\"14.00\">samples = 96</text>\n<text text-anchor=\"middle\" x=\"1066\" y=\"-96.8\" font-family=\"Helvetica,sans-Serif\" font-size=\"14.00\">value = [87, 9]</text>\n</g>\n<!-- 60&#45;&gt;61 -->\n<g id=\"edge61\" class=\"edge\">\n<title>60&#45;&gt;61</title>\n<path fill=\"none\" stroke=\"black\" d=\"M1145.69,-192.88C1134.97,-183.62 1123.21,-173.45 1112.1,-163.85\"/>\n<polygon fill=\"black\" stroke=\"black\" points=\"1114.38,-161.19 1104.52,-157.3 1109.8,-166.49 1114.38,-161.19\"/>\n</g>\n<!-- 64 -->\n<g id=\"node65\" class=\"node\">\n<title>64</title>\n<polygon fill=\"none\" stroke=\"black\" points=\"1237,-157 1135,-157 1135,-89 1237,-89 1237,-157\"/>\n<text text-anchor=\"middle\" x=\"1186\" y=\"-141.8\" font-family=\"Helvetica,sans-Serif\" font-size=\"14.00\">Fare &lt;= 7.865</text>\n<text text-anchor=\"middle\" x=\"1186\" y=\"-126.8\" font-family=\"Helvetica,sans-Serif\" font-size=\"14.00\">gini = 0.375</text>\n<text text-anchor=\"middle\" x=\"1186\" y=\"-111.8\" font-family=\"Helvetica,sans-Serif\" font-size=\"14.00\">samples = 20</text>\n<text text-anchor=\"middle\" x=\"1186\" y=\"-96.8\" font-family=\"Helvetica,sans-Serif\" font-size=\"14.00\">value = [15, 5]</text>\n</g>\n<!-- 60&#45;&gt;64 -->\n<g id=\"edge64\" class=\"edge\">\n<title>60&#45;&gt;64</title>\n<path fill=\"none\" stroke=\"black\" d=\"M1184.65,-192.88C1184.81,-184.78 1184.98,-175.98 1185.15,-167.47\"/>\n<polygon fill=\"black\" stroke=\"black\" points=\"1188.65,-167.37 1185.35,-157.3 1181.65,-167.23 1188.65,-167.37\"/>\n</g>\n<!-- 62 -->\n<g id=\"node63\" class=\"node\">\n<title>62</title>\n<polygon fill=\"none\" stroke=\"black\" points=\"1002,-53 900,-53 900,0 1002,0 1002,-53\"/>\n<text text-anchor=\"middle\" x=\"951\" y=\"-37.8\" font-family=\"Helvetica,sans-Serif\" font-size=\"14.00\">gini = 0.148</text>\n<text text-anchor=\"middle\" x=\"951\" y=\"-22.8\" font-family=\"Helvetica,sans-Serif\" font-size=\"14.00\">samples = 87</text>\n<text text-anchor=\"middle\" x=\"951\" y=\"-7.8\" font-family=\"Helvetica,sans-Serif\" font-size=\"14.00\">value = [80, 7]</text>\n</g>\n<!-- 61&#45;&gt;62 -->\n<g id=\"edge62\" class=\"edge\">\n<title>61&#45;&gt;62</title>\n<path fill=\"none\" stroke=\"black\" d=\"M1025.78,-88.95C1014.2,-79.43 1001.59,-69.07 990.08,-59.62\"/>\n<polygon fill=\"black\" stroke=\"black\" points=\"992.27,-56.88 982.32,-53.24 987.82,-62.29 992.27,-56.88\"/>\n</g>\n<!-- 63 -->\n<g id=\"node64\" class=\"node\">\n<title>63</title>\n<polygon fill=\"none\" stroke=\"black\" points=\"1115.5,-53 1020.5,-53 1020.5,0 1115.5,0 1115.5,-53\"/>\n<text text-anchor=\"middle\" x=\"1068\" y=\"-37.8\" font-family=\"Helvetica,sans-Serif\" font-size=\"14.00\">gini = 0.346</text>\n<text text-anchor=\"middle\" x=\"1068\" y=\"-22.8\" font-family=\"Helvetica,sans-Serif\" font-size=\"14.00\">samples = 9</text>\n<text text-anchor=\"middle\" x=\"1068\" y=\"-7.8\" font-family=\"Helvetica,sans-Serif\" font-size=\"14.00\">value = [7, 2]</text>\n</g>\n<!-- 61&#45;&gt;63 -->\n<g id=\"edge63\" class=\"edge\">\n<title>61&#45;&gt;63</title>\n<path fill=\"none\" stroke=\"black\" d=\"M1066.7,-88.95C1066.87,-80.72 1067.06,-71.85 1067.24,-63.48\"/>\n<polygon fill=\"black\" stroke=\"black\" points=\"1070.74,-63.31 1067.46,-53.24 1063.74,-63.16 1070.74,-63.31\"/>\n</g>\n<!-- 65 -->\n<g id=\"node66\" class=\"node\">\n<title>65</title>\n<polygon fill=\"none\" stroke=\"black\" points=\"1231.5,-53 1136.5,-53 1136.5,0 1231.5,0 1231.5,-53\"/>\n<text text-anchor=\"middle\" x=\"1184\" y=\"-37.8\" font-family=\"Helvetica,sans-Serif\" font-size=\"14.00\">gini = 0.49</text>\n<text text-anchor=\"middle\" x=\"1184\" y=\"-22.8\" font-family=\"Helvetica,sans-Serif\" font-size=\"14.00\">samples = 7</text>\n<text text-anchor=\"middle\" x=\"1184\" y=\"-7.8\" font-family=\"Helvetica,sans-Serif\" font-size=\"14.00\">value = [4, 3]</text>\n</g>\n<!-- 64&#45;&gt;65 -->\n<g id=\"edge65\" class=\"edge\">\n<title>64&#45;&gt;65</title>\n<path fill=\"none\" stroke=\"black\" d=\"M1185.3,-88.95C1185.13,-80.72 1184.94,-71.85 1184.76,-63.48\"/>\n<polygon fill=\"black\" stroke=\"black\" points=\"1188.26,-63.16 1184.54,-53.24 1181.26,-63.31 1188.26,-63.16\"/>\n</g>\n<!-- 66 -->\n<g id=\"node67\" class=\"node\">\n<title>66</title>\n<polygon fill=\"none\" stroke=\"black\" points=\"1352,-53 1250,-53 1250,0 1352,0 1352,-53\"/>\n<text text-anchor=\"middle\" x=\"1301\" y=\"-37.8\" font-family=\"Helvetica,sans-Serif\" font-size=\"14.00\">gini = 0.26</text>\n<text text-anchor=\"middle\" x=\"1301\" y=\"-22.8\" font-family=\"Helvetica,sans-Serif\" font-size=\"14.00\">samples = 13</text>\n<text text-anchor=\"middle\" x=\"1301\" y=\"-7.8\" font-family=\"Helvetica,sans-Serif\" font-size=\"14.00\">value = [11, 2]</text>\n</g>\n<!-- 64&#45;&gt;66 -->\n<g id=\"edge66\" class=\"edge\">\n<title>64&#45;&gt;66</title>\n<path fill=\"none\" stroke=\"black\" d=\"M1226.22,-88.95C1237.8,-79.43 1250.41,-69.07 1261.92,-59.62\"/>\n<polygon fill=\"black\" stroke=\"black\" points=\"1264.18,-62.29 1269.68,-53.24 1259.73,-56.88 1264.18,-62.29\"/>\n</g>\n<!-- 68 -->\n<g id=\"node69\" class=\"node\">\n<title>68</title>\n<polygon fill=\"none\" stroke=\"black\" points=\"1359,-149.5 1257,-149.5 1257,-96.5 1359,-96.5 1359,-149.5\"/>\n<text text-anchor=\"middle\" x=\"1308\" y=\"-134.3\" font-family=\"Helvetica,sans-Serif\" font-size=\"14.00\">gini = 0.0</text>\n<text text-anchor=\"middle\" x=\"1308\" y=\"-119.3\" font-family=\"Helvetica,sans-Serif\" font-size=\"14.00\">samples = 21</text>\n<text text-anchor=\"middle\" x=\"1308\" y=\"-104.3\" font-family=\"Helvetica,sans-Serif\" font-size=\"14.00\">value = [21, 0]</text>\n</g>\n<!-- 67&#45;&gt;68 -->\n<g id=\"edge68\" class=\"edge\">\n<title>67&#45;&gt;68</title>\n<path fill=\"none\" stroke=\"black\" d=\"M1310.7,-192.88C1310.28,-182.22 1309.82,-170.35 1309.39,-159.52\"/>\n<polygon fill=\"black\" stroke=\"black\" points=\"1312.89,-159.38 1309,-149.52 1305.9,-159.65 1312.89,-159.38\"/>\n</g>\n<!-- 69 -->\n<g id=\"node70\" class=\"node\">\n<title>69</title>\n<polygon fill=\"none\" stroke=\"black\" points=\"1479,-157 1377,-157 1377,-89 1479,-89 1479,-157\"/>\n<text text-anchor=\"middle\" x=\"1428\" y=\"-141.8\" font-family=\"Helvetica,sans-Serif\" font-size=\"14.00\">Fare &lt;= 7.802</text>\n<text text-anchor=\"middle\" x=\"1428\" y=\"-126.8\" font-family=\"Helvetica,sans-Serif\" font-size=\"14.00\">gini = 0.15</text>\n<text text-anchor=\"middle\" x=\"1428\" y=\"-111.8\" font-family=\"Helvetica,sans-Serif\" font-size=\"14.00\">samples = 49</text>\n<text text-anchor=\"middle\" x=\"1428\" y=\"-96.8\" font-family=\"Helvetica,sans-Serif\" font-size=\"14.00\">value = [45, 4]</text>\n</g>\n<!-- 67&#45;&gt;69 -->\n<g id=\"edge69\" class=\"edge\">\n<title>67&#45;&gt;69</title>\n<path fill=\"none\" stroke=\"black\" d=\"M1349.66,-192.88C1360.1,-183.71 1371.54,-173.65 1382.37,-164.12\"/>\n<polygon fill=\"black\" stroke=\"black\" points=\"1384.93,-166.53 1390.13,-157.3 1380.31,-161.27 1384.93,-166.53\"/>\n</g>\n<!-- 70 -->\n<g id=\"node71\" class=\"node\">\n<title>70</title>\n<polygon fill=\"none\" stroke=\"black\" points=\"1473,-53 1371,-53 1371,0 1473,0 1473,-53\"/>\n<text text-anchor=\"middle\" x=\"1422\" y=\"-37.8\" font-family=\"Helvetica,sans-Serif\" font-size=\"14.00\">gini = 0.26</text>\n<text text-anchor=\"middle\" x=\"1422\" y=\"-22.8\" font-family=\"Helvetica,sans-Serif\" font-size=\"14.00\">samples = 13</text>\n<text text-anchor=\"middle\" x=\"1422\" y=\"-7.8\" font-family=\"Helvetica,sans-Serif\" font-size=\"14.00\">value = [11, 2]</text>\n</g>\n<!-- 69&#45;&gt;70 -->\n<g id=\"edge70\" class=\"edge\">\n<title>69&#45;&gt;70</title>\n<path fill=\"none\" stroke=\"black\" d=\"M1425.9,-88.95C1425.38,-80.72 1424.82,-71.85 1424.28,-63.48\"/>\n<polygon fill=\"black\" stroke=\"black\" points=\"1427.76,-62.99 1423.63,-53.24 1420.77,-63.44 1427.76,-62.99\"/>\n</g>\n<!-- 71 -->\n<g id=\"node72\" class=\"node\">\n<title>71</title>\n<polygon fill=\"none\" stroke=\"black\" points=\"1593,-53 1491,-53 1491,0 1593,0 1593,-53\"/>\n<text text-anchor=\"middle\" x=\"1542\" y=\"-37.8\" font-family=\"Helvetica,sans-Serif\" font-size=\"14.00\">gini = 0.105</text>\n<text text-anchor=\"middle\" x=\"1542\" y=\"-22.8\" font-family=\"Helvetica,sans-Serif\" font-size=\"14.00\">samples = 36</text>\n<text text-anchor=\"middle\" x=\"1542\" y=\"-7.8\" font-family=\"Helvetica,sans-Serif\" font-size=\"14.00\">value = [34, 2]</text>\n</g>\n<!-- 69&#45;&gt;71 -->\n<g id=\"edge71\" class=\"edge\">\n<title>69&#45;&gt;71</title>\n<path fill=\"none\" stroke=\"black\" d=\"M1467.87,-88.95C1479.24,-79.53 1491.61,-69.27 1502.93,-59.89\"/>\n<polygon fill=\"black\" stroke=\"black\" points=\"1505.49,-62.31 1510.95,-53.24 1501.02,-56.92 1505.49,-62.31\"/>\n</g>\n<!-- 73 -->\n<g id=\"node74\" class=\"node\">\n<title>73</title>\n<polygon fill=\"none\" stroke=\"black\" points=\"1483,-253.5 1381,-253.5 1381,-200.5 1483,-200.5 1483,-253.5\"/>\n<text text-anchor=\"middle\" x=\"1432\" y=\"-238.3\" font-family=\"Helvetica,sans-Serif\" font-size=\"14.00\">gini = 0.0</text>\n<text text-anchor=\"middle\" x=\"1432\" y=\"-223.3\" font-family=\"Helvetica,sans-Serif\" font-size=\"14.00\">samples = 33</text>\n<text text-anchor=\"middle\" x=\"1432\" y=\"-208.3\" font-family=\"Helvetica,sans-Serif\" font-size=\"14.00\">value = [33, 0]</text>\n</g>\n<!-- 72&#45;&gt;73 -->\n<g id=\"edge73\" class=\"edge\">\n<title>72&#45;&gt;73</title>\n<path fill=\"none\" stroke=\"black\" d=\"M1475.22,-296.88C1468.25,-285.78 1460.47,-273.37 1453.45,-262.18\"/>\n<polygon fill=\"black\" stroke=\"black\" points=\"1456.29,-260.13 1448.01,-253.52 1450.36,-263.85 1456.29,-260.13\"/>\n</g>\n<!-- 74 -->\n<g id=\"node75\" class=\"node\">\n<title>74</title>\n<polygon fill=\"none\" stroke=\"black\" points=\"1603,-261 1501,-261 1501,-193 1603,-193 1603,-261\"/>\n<text text-anchor=\"middle\" x=\"1552\" y=\"-245.8\" font-family=\"Helvetica,sans-Serif\" font-size=\"14.00\">Fare &lt;= 15.3</text>\n<text text-anchor=\"middle\" x=\"1552\" y=\"-230.8\" font-family=\"Helvetica,sans-Serif\" font-size=\"14.00\">gini = 0.18</text>\n<text text-anchor=\"middle\" x=\"1552\" y=\"-215.8\" font-family=\"Helvetica,sans-Serif\" font-size=\"14.00\">samples = 20</text>\n<text text-anchor=\"middle\" x=\"1552\" y=\"-200.8\" font-family=\"Helvetica,sans-Serif\" font-size=\"14.00\">value = [18, 2]</text>\n</g>\n<!-- 72&#45;&gt;74 -->\n<g id=\"edge74\" class=\"edge\">\n<title>72&#45;&gt;74</title>\n<path fill=\"none\" stroke=\"black\" d=\"M1514.18,-296.88C1518.88,-288.33 1523.99,-279.01 1528.9,-270.07\"/>\n<polygon fill=\"black\" stroke=\"black\" points=\"1531.97,-271.75 1533.72,-261.3 1525.84,-268.38 1531.97,-271.75\"/>\n</g>\n<!-- 75 -->\n<g id=\"node76\" class=\"node\">\n<title>75</title>\n<polygon fill=\"none\" stroke=\"black\" points=\"1595.5,-149.5 1500.5,-149.5 1500.5,-96.5 1595.5,-96.5 1595.5,-149.5\"/>\n<text text-anchor=\"middle\" x=\"1548\" y=\"-134.3\" font-family=\"Helvetica,sans-Serif\" font-size=\"14.00\">gini = 0.245</text>\n<text text-anchor=\"middle\" x=\"1548\" y=\"-119.3\" font-family=\"Helvetica,sans-Serif\" font-size=\"14.00\">samples = 7</text>\n<text text-anchor=\"middle\" x=\"1548\" y=\"-104.3\" font-family=\"Helvetica,sans-Serif\" font-size=\"14.00\">value = [6, 1]</text>\n</g>\n<!-- 74&#45;&gt;75 -->\n<g id=\"edge75\" class=\"edge\">\n<title>74&#45;&gt;75</title>\n<path fill=\"none\" stroke=\"black\" d=\"M1550.7,-192.88C1550.28,-182.22 1549.82,-170.35 1549.39,-159.52\"/>\n<polygon fill=\"black\" stroke=\"black\" points=\"1552.89,-159.38 1549,-149.52 1545.9,-159.65 1552.89,-159.38\"/>\n</g>\n<!-- 76 -->\n<g id=\"node77\" class=\"node\">\n<title>76</title>\n<polygon fill=\"none\" stroke=\"black\" points=\"1716,-149.5 1614,-149.5 1614,-96.5 1716,-96.5 1716,-149.5\"/>\n<text text-anchor=\"middle\" x=\"1665\" y=\"-134.3\" font-family=\"Helvetica,sans-Serif\" font-size=\"14.00\">gini = 0.142</text>\n<text text-anchor=\"middle\" x=\"1665\" y=\"-119.3\" font-family=\"Helvetica,sans-Serif\" font-size=\"14.00\">samples = 13</text>\n<text text-anchor=\"middle\" x=\"1665\" y=\"-104.3\" font-family=\"Helvetica,sans-Serif\" font-size=\"14.00\">value = [12, 1]</text>\n</g>\n<!-- 74&#45;&gt;76 -->\n<g id=\"edge76\" class=\"edge\">\n<title>74&#45;&gt;76</title>\n<path fill=\"none\" stroke=\"black\" d=\"M1588.69,-192.88C1601.6,-181.23 1616.1,-168.14 1628.96,-156.53\"/>\n<polygon fill=\"black\" stroke=\"black\" points=\"1631.65,-158.82 1636.73,-149.52 1626.96,-153.62 1631.65,-158.82\"/>\n</g>\n<!-- 78 -->\n<g id=\"node79\" class=\"node\">\n<title>78</title>\n<polygon fill=\"none\" stroke=\"black\" points=\"1826,-365 1724,-365 1724,-297 1826,-297 1826,-365\"/>\n<text text-anchor=\"middle\" x=\"1775\" y=\"-349.8\" font-family=\"Helvetica,sans-Serif\" font-size=\"14.00\">Age &lt;= 22.5</text>\n<text text-anchor=\"middle\" x=\"1775\" y=\"-334.8\" font-family=\"Helvetica,sans-Serif\" font-size=\"14.00\">gini = 0.444</text>\n<text text-anchor=\"middle\" x=\"1775\" y=\"-319.8\" font-family=\"Helvetica,sans-Serif\" font-size=\"14.00\">samples = 15</text>\n<text text-anchor=\"middle\" x=\"1775\" y=\"-304.8\" font-family=\"Helvetica,sans-Serif\" font-size=\"14.00\">value = [10, 5]</text>\n</g>\n<!-- 77&#45;&gt;78 -->\n<g id=\"edge78\" class=\"edge\">\n<title>77&#45;&gt;78</title>\n<path fill=\"none\" stroke=\"black\" d=\"M1775,-400.88C1775,-392.78 1775,-383.98 1775,-375.47\"/>\n<polygon fill=\"black\" stroke=\"black\" points=\"1778.5,-375.3 1775,-365.3 1771.5,-375.3 1778.5,-375.3\"/>\n</g>\n<!-- 81 -->\n<g id=\"node82\" class=\"node\">\n<title>81</title>\n<polygon fill=\"none\" stroke=\"black\" points=\"1950,-365 1848,-365 1848,-297 1950,-297 1950,-365\"/>\n<text text-anchor=\"middle\" x=\"1899\" y=\"-349.8\" font-family=\"Helvetica,sans-Serif\" font-size=\"14.00\">Fare &lt;= 7.562</text>\n<text text-anchor=\"middle\" x=\"1899\" y=\"-334.8\" font-family=\"Helvetica,sans-Serif\" font-size=\"14.00\">gini = 0.172</text>\n<text text-anchor=\"middle\" x=\"1899\" y=\"-319.8\" font-family=\"Helvetica,sans-Serif\" font-size=\"14.00\">samples = 21</text>\n<text text-anchor=\"middle\" x=\"1899\" y=\"-304.8\" font-family=\"Helvetica,sans-Serif\" font-size=\"14.00\">value = [19, 2]</text>\n</g>\n<!-- 77&#45;&gt;81 -->\n<g id=\"edge81\" class=\"edge\">\n<title>77&#45;&gt;81</title>\n<path fill=\"none\" stroke=\"black\" d=\"M1815.26,-400.88C1826.52,-391.62 1838.88,-381.45 1850.56,-371.85\"/>\n<polygon fill=\"black\" stroke=\"black\" points=\"1853.02,-374.36 1858.52,-365.3 1848.57,-368.95 1853.02,-374.36\"/>\n</g>\n<!-- 79 -->\n<g id=\"node80\" class=\"node\">\n<title>79</title>\n<polygon fill=\"none\" stroke=\"black\" points=\"1716.5,-253.5 1621.5,-253.5 1621.5,-200.5 1716.5,-200.5 1716.5,-253.5\"/>\n<text text-anchor=\"middle\" x=\"1669\" y=\"-238.3\" font-family=\"Helvetica,sans-Serif\" font-size=\"14.00\">gini = 0.49</text>\n<text text-anchor=\"middle\" x=\"1669\" y=\"-223.3\" font-family=\"Helvetica,sans-Serif\" font-size=\"14.00\">samples = 7</text>\n<text text-anchor=\"middle\" x=\"1669\" y=\"-208.3\" font-family=\"Helvetica,sans-Serif\" font-size=\"14.00\">value = [4, 3]</text>\n</g>\n<!-- 78&#45;&gt;79 -->\n<g id=\"edge79\" class=\"edge\">\n<title>78&#45;&gt;79</title>\n<path fill=\"none\" stroke=\"black\" d=\"M1740.58,-296.88C1728.47,-285.23 1714.87,-272.14 1702.81,-260.53\"/>\n<polygon fill=\"black\" stroke=\"black\" points=\"1705.15,-257.93 1695.52,-253.52 1700.3,-262.98 1705.15,-257.93\"/>\n</g>\n<!-- 80 -->\n<g id=\"node81\" class=\"node\">\n<title>80</title>\n<polygon fill=\"none\" stroke=\"black\" points=\"1829.5,-253.5 1734.5,-253.5 1734.5,-200.5 1829.5,-200.5 1829.5,-253.5\"/>\n<text text-anchor=\"middle\" x=\"1782\" y=\"-238.3\" font-family=\"Helvetica,sans-Serif\" font-size=\"14.00\">gini = 0.375</text>\n<text text-anchor=\"middle\" x=\"1782\" y=\"-223.3\" font-family=\"Helvetica,sans-Serif\" font-size=\"14.00\">samples = 8</text>\n<text text-anchor=\"middle\" x=\"1782\" y=\"-208.3\" font-family=\"Helvetica,sans-Serif\" font-size=\"14.00\">value = [6, 2]</text>\n</g>\n<!-- 78&#45;&gt;80 -->\n<g id=\"edge80\" class=\"edge\">\n<title>78&#45;&gt;80</title>\n<path fill=\"none\" stroke=\"black\" d=\"M1777.27,-296.88C1778,-286.22 1778.82,-274.35 1779.56,-263.52\"/>\n<polygon fill=\"black\" stroke=\"black\" points=\"1783.06,-263.74 1780.25,-253.52 1776.07,-263.26 1783.06,-263.74\"/>\n</g>\n<!-- 82 -->\n<g id=\"node83\" class=\"node\">\n<title>82</title>\n<polygon fill=\"none\" stroke=\"black\" points=\"1950,-253.5 1848,-253.5 1848,-200.5 1950,-200.5 1950,-253.5\"/>\n<text text-anchor=\"middle\" x=\"1899\" y=\"-238.3\" font-family=\"Helvetica,sans-Serif\" font-size=\"14.00\">gini = 0.142</text>\n<text text-anchor=\"middle\" x=\"1899\" y=\"-223.3\" font-family=\"Helvetica,sans-Serif\" font-size=\"14.00\">samples = 13</text>\n<text text-anchor=\"middle\" x=\"1899\" y=\"-208.3\" font-family=\"Helvetica,sans-Serif\" font-size=\"14.00\">value = [12, 1]</text>\n</g>\n<!-- 81&#45;&gt;82 -->\n<g id=\"edge82\" class=\"edge\">\n<title>81&#45;&gt;82</title>\n<path fill=\"none\" stroke=\"black\" d=\"M1899,-296.88C1899,-286.33 1899,-274.6 1899,-263.85\"/>\n<polygon fill=\"black\" stroke=\"black\" points=\"1902.5,-263.52 1899,-253.52 1895.5,-263.52 1902.5,-263.52\"/>\n</g>\n<!-- 83 -->\n<g id=\"node84\" class=\"node\">\n<title>83</title>\n<polygon fill=\"none\" stroke=\"black\" points=\"2063.5,-253.5 1968.5,-253.5 1968.5,-200.5 2063.5,-200.5 2063.5,-253.5\"/>\n<text text-anchor=\"middle\" x=\"2016\" y=\"-238.3\" font-family=\"Helvetica,sans-Serif\" font-size=\"14.00\">gini = 0.219</text>\n<text text-anchor=\"middle\" x=\"2016\" y=\"-223.3\" font-family=\"Helvetica,sans-Serif\" font-size=\"14.00\">samples = 8</text>\n<text text-anchor=\"middle\" x=\"2016\" y=\"-208.3\" font-family=\"Helvetica,sans-Serif\" font-size=\"14.00\">value = [7, 1]</text>\n</g>\n<!-- 81&#45;&gt;83 -->\n<g id=\"edge83\" class=\"edge\">\n<title>81&#45;&gt;83</title>\n<path fill=\"none\" stroke=\"black\" d=\"M1936.99,-296.88C1950.48,-285.12 1965.65,-271.89 1979.06,-260.2\"/>\n<polygon fill=\"black\" stroke=\"black\" points=\"1981.49,-262.73 1986.73,-253.52 1976.89,-257.45 1981.49,-262.73\"/>\n</g>\n<!-- 85 -->\n<g id=\"node86\" class=\"node\">\n<title>85</title>\n<polygon fill=\"none\" stroke=\"black\" points=\"1952,-461.5 1854,-461.5 1854,-408.5 1952,-408.5 1952,-461.5\"/>\n<text text-anchor=\"middle\" x=\"1903\" y=\"-446.3\" font-family=\"Helvetica,sans-Serif\" font-size=\"14.00\">gini = 0.48</text>\n<text text-anchor=\"middle\" x=\"1903\" y=\"-431.3\" font-family=\"Helvetica,sans-Serif\" font-size=\"14.00\">samples = 10</text>\n<text text-anchor=\"middle\" x=\"1903\" y=\"-416.3\" font-family=\"Helvetica,sans-Serif\" font-size=\"14.00\">value = [6, 4]</text>\n</g>\n<!-- 84&#45;&gt;85 -->\n<g id=\"edge85\" class=\"edge\">\n<title>84&#45;&gt;85</title>\n<path fill=\"none\" stroke=\"black\" d=\"M1907.05,-504.88C1906.42,-494.22 1905.73,-482.35 1905.09,-471.52\"/>\n<polygon fill=\"black\" stroke=\"black\" points=\"1908.58,-471.3 1904.5,-461.52 1901.59,-471.71 1908.58,-471.3\"/>\n</g>\n<!-- 86 -->\n<g id=\"node87\" class=\"node\">\n<title>86</title>\n<polygon fill=\"none\" stroke=\"black\" points=\"2065.5,-461.5 1970.5,-461.5 1970.5,-408.5 2065.5,-408.5 2065.5,-461.5\"/>\n<text text-anchor=\"middle\" x=\"2018\" y=\"-446.3\" font-family=\"Helvetica,sans-Serif\" font-size=\"14.00\">gini = 0.408</text>\n<text text-anchor=\"middle\" x=\"2018\" y=\"-431.3\" font-family=\"Helvetica,sans-Serif\" font-size=\"14.00\">samples = 7</text>\n<text text-anchor=\"middle\" x=\"2018\" y=\"-416.3\" font-family=\"Helvetica,sans-Serif\" font-size=\"14.00\">value = [5, 2]</text>\n</g>\n<!-- 84&#45;&gt;86 -->\n<g id=\"edge86\" class=\"edge\">\n<title>84&#45;&gt;86</title>\n<path fill=\"none\" stroke=\"black\" d=\"M1944.39,-504.88C1956.85,-493.23 1970.83,-480.14 1983.24,-468.53\"/>\n<polygon fill=\"black\" stroke=\"black\" points=\"1985.82,-470.91 1990.73,-461.52 1981.04,-465.8 1985.82,-470.91\"/>\n</g>\n<!-- 88 -->\n<g id=\"node89\" class=\"node\">\n<title>88</title>\n<polygon fill=\"none\" stroke=\"black\" points=\"2083,-565.5 1981,-565.5 1981,-512.5 2083,-512.5 2083,-565.5\"/>\n<text text-anchor=\"middle\" x=\"2032\" y=\"-550.3\" font-family=\"Helvetica,sans-Serif\" font-size=\"14.00\">gini = 0.0</text>\n<text text-anchor=\"middle\" x=\"2032\" y=\"-535.3\" font-family=\"Helvetica,sans-Serif\" font-size=\"14.00\">samples = 36</text>\n<text text-anchor=\"middle\" x=\"2032\" y=\"-520.3\" font-family=\"Helvetica,sans-Serif\" font-size=\"14.00\">value = [36, 0]</text>\n</g>\n<!-- 87&#45;&gt;88 -->\n<g id=\"edge88\" class=\"edge\">\n<title>87&#45;&gt;88</title>\n<path fill=\"none\" stroke=\"black\" d=\"M2035.38,-608.88C2034.85,-598.22 2034.27,-586.35 2033.74,-575.52\"/>\n<polygon fill=\"black\" stroke=\"black\" points=\"2037.24,-575.34 2033.25,-565.52 2030.24,-575.68 2037.24,-575.34\"/>\n</g>\n<!-- 89 -->\n<g id=\"node90\" class=\"node\">\n<title>89</title>\n<polygon fill=\"none\" stroke=\"black\" points=\"2203,-573 2101,-573 2101,-505 2203,-505 2203,-573\"/>\n<text text-anchor=\"middle\" x=\"2152\" y=\"-557.8\" font-family=\"Helvetica,sans-Serif\" font-size=\"14.00\">Fare &lt;= 13.25</text>\n<text text-anchor=\"middle\" x=\"2152\" y=\"-542.8\" font-family=\"Helvetica,sans-Serif\" font-size=\"14.00\">gini = 0.159</text>\n<text text-anchor=\"middle\" x=\"2152\" y=\"-527.8\" font-family=\"Helvetica,sans-Serif\" font-size=\"14.00\">samples = 69</text>\n<text text-anchor=\"middle\" x=\"2152\" y=\"-512.8\" font-family=\"Helvetica,sans-Serif\" font-size=\"14.00\">value = [63, 6]</text>\n</g>\n<!-- 87&#45;&gt;89 -->\n<g id=\"edge89\" class=\"edge\">\n<title>87&#45;&gt;89</title>\n<path fill=\"none\" stroke=\"black\" d=\"M2074.34,-608.88C2084.68,-599.71 2096.02,-589.65 2106.76,-580.12\"/>\n<polygon fill=\"black\" stroke=\"black\" points=\"2109.3,-582.55 2114.46,-573.3 2104.65,-577.32 2109.3,-582.55\"/>\n</g>\n<!-- 90 -->\n<g id=\"node91\" class=\"node\">\n<title>90</title>\n<polygon fill=\"none\" stroke=\"black\" points=\"2203,-469 2101,-469 2101,-401 2203,-401 2203,-469\"/>\n<text text-anchor=\"middle\" x=\"2152\" y=\"-453.8\" font-family=\"Helvetica,sans-Serif\" font-size=\"14.00\">Age &lt;= 38.5</text>\n<text text-anchor=\"middle\" x=\"2152\" y=\"-438.8\" font-family=\"Helvetica,sans-Serif\" font-size=\"14.00\">gini = 0.245</text>\n<text text-anchor=\"middle\" x=\"2152\" y=\"-423.8\" font-family=\"Helvetica,sans-Serif\" font-size=\"14.00\">samples = 42</text>\n<text text-anchor=\"middle\" x=\"2152\" y=\"-408.8\" font-family=\"Helvetica,sans-Serif\" font-size=\"14.00\">value = [36, 6]</text>\n</g>\n<!-- 89&#45;&gt;90 -->\n<g id=\"edge90\" class=\"edge\">\n<title>89&#45;&gt;90</title>\n<path fill=\"none\" stroke=\"black\" d=\"M2152,-504.88C2152,-496.78 2152,-487.98 2152,-479.47\"/>\n<polygon fill=\"black\" stroke=\"black\" points=\"2155.5,-479.3 2152,-469.3 2148.5,-479.3 2155.5,-479.3\"/>\n</g>\n<!-- 97 -->\n<g id=\"node98\" class=\"node\">\n<title>97</title>\n<polygon fill=\"none\" stroke=\"black\" points=\"2323,-461.5 2221,-461.5 2221,-408.5 2323,-408.5 2323,-461.5\"/>\n<text text-anchor=\"middle\" x=\"2272\" y=\"-446.3\" font-family=\"Helvetica,sans-Serif\" font-size=\"14.00\">gini = 0.0</text>\n<text text-anchor=\"middle\" x=\"2272\" y=\"-431.3\" font-family=\"Helvetica,sans-Serif\" font-size=\"14.00\">samples = 27</text>\n<text text-anchor=\"middle\" x=\"2272\" y=\"-416.3\" font-family=\"Helvetica,sans-Serif\" font-size=\"14.00\">value = [27, 0]</text>\n</g>\n<!-- 89&#45;&gt;97 -->\n<g id=\"edge97\" class=\"edge\">\n<title>89&#45;&gt;97</title>\n<path fill=\"none\" stroke=\"black\" d=\"M2190.96,-504.88C2204.8,-493.12 2220.36,-479.89 2234.11,-468.2\"/>\n<polygon fill=\"black\" stroke=\"black\" points=\"2236.62,-470.66 2241.98,-461.52 2232.09,-465.33 2236.62,-470.66\"/>\n</g>\n<!-- 91 -->\n<g id=\"node92\" class=\"node\">\n<title>91</title>\n<polygon fill=\"none\" stroke=\"black\" points=\"2203,-365 2101,-365 2101,-297 2203,-297 2203,-365\"/>\n<text text-anchor=\"middle\" x=\"2152\" y=\"-349.8\" font-family=\"Helvetica,sans-Serif\" font-size=\"14.00\">Pclass &lt;= 2.5</text>\n<text text-anchor=\"middle\" x=\"2152\" y=\"-334.8\" font-family=\"Helvetica,sans-Serif\" font-size=\"14.00\">gini = 0.111</text>\n<text text-anchor=\"middle\" x=\"2152\" y=\"-319.8\" font-family=\"Helvetica,sans-Serif\" font-size=\"14.00\">samples = 17</text>\n<text text-anchor=\"middle\" x=\"2152\" y=\"-304.8\" font-family=\"Helvetica,sans-Serif\" font-size=\"14.00\">value = [16, 1]</text>\n</g>\n<!-- 90&#45;&gt;91 -->\n<g id=\"edge91\" class=\"edge\">\n<title>90&#45;&gt;91</title>\n<path fill=\"none\" stroke=\"black\" d=\"M2152,-400.88C2152,-392.78 2152,-383.98 2152,-375.47\"/>\n<polygon fill=\"black\" stroke=\"black\" points=\"2155.5,-375.3 2152,-365.3 2148.5,-375.3 2155.5,-375.3\"/>\n</g>\n<!-- 94 -->\n<g id=\"node95\" class=\"node\">\n<title>94</title>\n<polygon fill=\"none\" stroke=\"black\" points=\"2408,-365 2306,-365 2306,-297 2408,-297 2408,-365\"/>\n<text text-anchor=\"middle\" x=\"2357\" y=\"-349.8\" font-family=\"Helvetica,sans-Serif\" font-size=\"14.00\">Age &lt;= 46.0</text>\n<text text-anchor=\"middle\" x=\"2357\" y=\"-334.8\" font-family=\"Helvetica,sans-Serif\" font-size=\"14.00\">gini = 0.32</text>\n<text text-anchor=\"middle\" x=\"2357\" y=\"-319.8\" font-family=\"Helvetica,sans-Serif\" font-size=\"14.00\">samples = 25</text>\n<text text-anchor=\"middle\" x=\"2357\" y=\"-304.8\" font-family=\"Helvetica,sans-Serif\" font-size=\"14.00\">value = [20, 5]</text>\n</g>\n<!-- 90&#45;&gt;94 -->\n<g id=\"edge94\" class=\"edge\">\n<title>90&#45;&gt;94</title>\n<path fill=\"none\" stroke=\"black\" d=\"M2203.28,-405.54C2206.22,-403.99 2209.14,-402.46 2212,-401 2239.63,-386.84 2270.66,-371.94 2296.91,-359.63\"/>\n<polygon fill=\"black\" stroke=\"black\" points=\"2298.4,-362.79 2305.98,-355.39 2295.44,-356.45 2298.4,-362.79\"/>\n</g>\n<!-- 92 -->\n<g id=\"node93\" class=\"node\">\n<title>92</title>\n<polygon fill=\"none\" stroke=\"black\" points=\"2176.5,-253.5 2081.5,-253.5 2081.5,-200.5 2176.5,-200.5 2176.5,-253.5\"/>\n<text text-anchor=\"middle\" x=\"2129\" y=\"-238.3\" font-family=\"Helvetica,sans-Serif\" font-size=\"14.00\">gini = 0.219</text>\n<text text-anchor=\"middle\" x=\"2129\" y=\"-223.3\" font-family=\"Helvetica,sans-Serif\" font-size=\"14.00\">samples = 8</text>\n<text text-anchor=\"middle\" x=\"2129\" y=\"-208.3\" font-family=\"Helvetica,sans-Serif\" font-size=\"14.00\">value = [7, 1]</text>\n</g>\n<!-- 91&#45;&gt;92 -->\n<g id=\"edge92\" class=\"edge\">\n<title>91&#45;&gt;92</title>\n<path fill=\"none\" stroke=\"black\" d=\"M2144.53,-296.88C2142.13,-286.22 2139.45,-274.35 2137.01,-263.52\"/>\n<polygon fill=\"black\" stroke=\"black\" points=\"2140.37,-262.51 2134.75,-253.52 2133.54,-264.04 2140.37,-262.51\"/>\n</g>\n<!-- 93 -->\n<g id=\"node94\" class=\"node\">\n<title>93</title>\n<polygon fill=\"none\" stroke=\"black\" points=\"2289.5,-253.5 2194.5,-253.5 2194.5,-200.5 2289.5,-200.5 2289.5,-253.5\"/>\n<text text-anchor=\"middle\" x=\"2242\" y=\"-238.3\" font-family=\"Helvetica,sans-Serif\" font-size=\"14.00\">gini = 0.0</text>\n<text text-anchor=\"middle\" x=\"2242\" y=\"-223.3\" font-family=\"Helvetica,sans-Serif\" font-size=\"14.00\">samples = 9</text>\n<text text-anchor=\"middle\" x=\"2242\" y=\"-208.3\" font-family=\"Helvetica,sans-Serif\" font-size=\"14.00\">value = [9, 0]</text>\n</g>\n<!-- 91&#45;&gt;93 -->\n<g id=\"edge93\" class=\"edge\">\n<title>91&#45;&gt;93</title>\n<path fill=\"none\" stroke=\"black\" d=\"M2181.22,-296.88C2191.31,-285.45 2202.62,-272.63 2212.71,-261.19\"/>\n<polygon fill=\"black\" stroke=\"black\" points=\"2215.49,-263.33 2219.48,-253.52 2210.24,-258.7 2215.49,-263.33\"/>\n</g>\n<!-- 95 -->\n<g id=\"node96\" class=\"node\">\n<title>95</title>\n<polygon fill=\"none\" stroke=\"black\" points=\"2406,-253.5 2308,-253.5 2308,-200.5 2406,-200.5 2406,-253.5\"/>\n<text text-anchor=\"middle\" x=\"2357\" y=\"-238.3\" font-family=\"Helvetica,sans-Serif\" font-size=\"14.00\">gini = 0.426</text>\n<text text-anchor=\"middle\" x=\"2357\" y=\"-223.3\" font-family=\"Helvetica,sans-Serif\" font-size=\"14.00\">samples = 13</text>\n<text text-anchor=\"middle\" x=\"2357\" y=\"-208.3\" font-family=\"Helvetica,sans-Serif\" font-size=\"14.00\">value = [9, 4]</text>\n</g>\n<!-- 94&#45;&gt;95 -->\n<g id=\"edge95\" class=\"edge\">\n<title>94&#45;&gt;95</title>\n<path fill=\"none\" stroke=\"black\" d=\"M2357,-296.88C2357,-286.33 2357,-274.6 2357,-263.85\"/>\n<polygon fill=\"black\" stroke=\"black\" points=\"2360.5,-263.52 2357,-253.52 2353.5,-263.52 2360.5,-263.52\"/>\n</g>\n<!-- 96 -->\n<g id=\"node97\" class=\"node\">\n<title>96</title>\n<polygon fill=\"none\" stroke=\"black\" points=\"2526,-253.5 2424,-253.5 2424,-200.5 2526,-200.5 2526,-253.5\"/>\n<text text-anchor=\"middle\" x=\"2475\" y=\"-238.3\" font-family=\"Helvetica,sans-Serif\" font-size=\"14.00\">gini = 0.153</text>\n<text text-anchor=\"middle\" x=\"2475\" y=\"-223.3\" font-family=\"Helvetica,sans-Serif\" font-size=\"14.00\">samples = 12</text>\n<text text-anchor=\"middle\" x=\"2475\" y=\"-208.3\" font-family=\"Helvetica,sans-Serif\" font-size=\"14.00\">value = [11, 1]</text>\n</g>\n<!-- 94&#45;&gt;96 -->\n<g id=\"edge96\" class=\"edge\">\n<title>94&#45;&gt;96</title>\n<path fill=\"none\" stroke=\"black\" d=\"M2395.31,-296.88C2408.92,-285.12 2424.22,-271.89 2437.75,-260.2\"/>\n<polygon fill=\"black\" stroke=\"black\" points=\"2440.2,-262.71 2445.48,-253.52 2435.62,-257.41 2440.2,-262.71\"/>\n</g>\n<!-- 99 -->\n<g id=\"node100\" class=\"node\">\n<title>99</title>\n<polygon fill=\"none\" stroke=\"black\" points=\"2371,-677 2269,-677 2269,-609 2371,-609 2371,-677\"/>\n<text text-anchor=\"middle\" x=\"2320\" y=\"-661.8\" font-family=\"Helvetica,sans-Serif\" font-size=\"14.00\">Age &lt;= 43.5</text>\n<text text-anchor=\"middle\" x=\"2320\" y=\"-646.8\" font-family=\"Helvetica,sans-Serif\" font-size=\"14.00\">gini = 0.475</text>\n<text text-anchor=\"middle\" x=\"2320\" y=\"-631.8\" font-family=\"Helvetica,sans-Serif\" font-size=\"14.00\">samples = 18</text>\n<text text-anchor=\"middle\" x=\"2320\" y=\"-616.8\" font-family=\"Helvetica,sans-Serif\" font-size=\"14.00\">value = [7, 11]</text>\n</g>\n<!-- 98&#45;&gt;99 -->\n<g id=\"edge99\" class=\"edge\">\n<title>98&#45;&gt;99</title>\n<path fill=\"none\" stroke=\"black\" d=\"M2320,-712.88C2320,-704.78 2320,-695.98 2320,-687.47\"/>\n<polygon fill=\"black\" stroke=\"black\" points=\"2323.5,-687.3 2320,-677.3 2316.5,-687.3 2323.5,-687.3\"/>\n</g>\n<!-- 102 -->\n<g id=\"node103\" class=\"node\">\n<title>102</title>\n<polygon fill=\"none\" stroke=\"black\" points=\"2550,-677 2440,-677 2440,-609 2550,-609 2550,-677\"/>\n<text text-anchor=\"middle\" x=\"2495\" y=\"-661.8\" font-family=\"Helvetica,sans-Serif\" font-size=\"14.00\">Fare &lt;= 29.1</text>\n<text text-anchor=\"middle\" x=\"2495\" y=\"-646.8\" font-family=\"Helvetica,sans-Serif\" font-size=\"14.00\">gini = 0.418</text>\n<text text-anchor=\"middle\" x=\"2495\" y=\"-631.8\" font-family=\"Helvetica,sans-Serif\" font-size=\"14.00\">samples = 121</text>\n<text text-anchor=\"middle\" x=\"2495\" y=\"-616.8\" font-family=\"Helvetica,sans-Serif\" font-size=\"14.00\">value = [85, 36]</text>\n</g>\n<!-- 98&#45;&gt;102 -->\n<g id=\"edge102\" class=\"edge\">\n<title>98&#45;&gt;102</title>\n<path fill=\"none\" stroke=\"black\" d=\"M2375.37,-713.73C2393.1,-703.39 2412.87,-691.87 2431.15,-681.22\"/>\n<polygon fill=\"black\" stroke=\"black\" points=\"2433.11,-684.12 2439.99,-676.06 2429.59,-678.08 2433.11,-684.12\"/>\n</g>\n<!-- 100 -->\n<g id=\"node101\" class=\"node\">\n<title>100</title>\n<polygon fill=\"none\" stroke=\"black\" points=\"2316.5,-565.5 2221.5,-565.5 2221.5,-512.5 2316.5,-512.5 2316.5,-565.5\"/>\n<text text-anchor=\"middle\" x=\"2269\" y=\"-550.3\" font-family=\"Helvetica,sans-Serif\" font-size=\"14.00\">gini = 0.198</text>\n<text text-anchor=\"middle\" x=\"2269\" y=\"-535.3\" font-family=\"Helvetica,sans-Serif\" font-size=\"14.00\">samples = 9</text>\n<text text-anchor=\"middle\" x=\"2269\" y=\"-520.3\" font-family=\"Helvetica,sans-Serif\" font-size=\"14.00\">value = [1, 8]</text>\n</g>\n<!-- 99&#45;&gt;100 -->\n<g id=\"edge100\" class=\"edge\">\n<title>99&#45;&gt;100</title>\n<path fill=\"none\" stroke=\"black\" d=\"M2303.44,-608.88C2297.94,-597.89 2291.81,-585.62 2286.26,-574.52\"/>\n<polygon fill=\"black\" stroke=\"black\" points=\"2289.36,-572.9 2281.76,-565.52 2283.1,-576.03 2289.36,-572.9\"/>\n</g>\n<!-- 101 -->\n<g id=\"node102\" class=\"node\">\n<title>101</title>\n<polygon fill=\"none\" stroke=\"black\" points=\"2429.5,-565.5 2334.5,-565.5 2334.5,-512.5 2429.5,-512.5 2429.5,-565.5\"/>\n<text text-anchor=\"middle\" x=\"2382\" y=\"-550.3\" font-family=\"Helvetica,sans-Serif\" font-size=\"14.00\">gini = 0.444</text>\n<text text-anchor=\"middle\" x=\"2382\" y=\"-535.3\" font-family=\"Helvetica,sans-Serif\" font-size=\"14.00\">samples = 9</text>\n<text text-anchor=\"middle\" x=\"2382\" y=\"-520.3\" font-family=\"Helvetica,sans-Serif\" font-size=\"14.00\">value = [6, 3]</text>\n</g>\n<!-- 99&#45;&gt;101 -->\n<g id=\"edge101\" class=\"edge\">\n<title>99&#45;&gt;101</title>\n<path fill=\"none\" stroke=\"black\" d=\"M2340.13,-608.88C2346.88,-597.78 2354.42,-585.37 2361.22,-574.18\"/>\n<polygon fill=\"black\" stroke=\"black\" points=\"2364.28,-575.88 2366.49,-565.52 2358.3,-572.25 2364.28,-575.88\"/>\n</g>\n<!-- 103 -->\n<g id=\"node104\" class=\"node\">\n<title>103</title>\n<polygon fill=\"none\" stroke=\"black\" points=\"2542.5,-565.5 2447.5,-565.5 2447.5,-512.5 2542.5,-512.5 2542.5,-565.5\"/>\n<text text-anchor=\"middle\" x=\"2495\" y=\"-550.3\" font-family=\"Helvetica,sans-Serif\" font-size=\"14.00\">gini = 0.0</text>\n<text text-anchor=\"middle\" x=\"2495\" y=\"-535.3\" font-family=\"Helvetica,sans-Serif\" font-size=\"14.00\">samples = 9</text>\n<text text-anchor=\"middle\" x=\"2495\" y=\"-520.3\" font-family=\"Helvetica,sans-Serif\" font-size=\"14.00\">value = [9, 0]</text>\n</g>\n<!-- 102&#45;&gt;103 -->\n<g id=\"edge103\" class=\"edge\">\n<title>102&#45;&gt;103</title>\n<path fill=\"none\" stroke=\"black\" d=\"M2495,-608.88C2495,-598.33 2495,-586.6 2495,-575.85\"/>\n<polygon fill=\"black\" stroke=\"black\" points=\"2498.5,-575.52 2495,-565.52 2491.5,-575.52 2498.5,-575.52\"/>\n</g>\n<!-- 104 -->\n<g id=\"node105\" class=\"node\">\n<title>104</title>\n<polygon fill=\"none\" stroke=\"black\" points=\"2671,-573 2561,-573 2561,-505 2671,-505 2671,-573\"/>\n<text text-anchor=\"middle\" x=\"2616\" y=\"-557.8\" font-family=\"Helvetica,sans-Serif\" font-size=\"14.00\">Fare &lt;= 30.598</text>\n<text text-anchor=\"middle\" x=\"2616\" y=\"-542.8\" font-family=\"Helvetica,sans-Serif\" font-size=\"14.00\">gini = 0.436</text>\n<text text-anchor=\"middle\" x=\"2616\" y=\"-527.8\" font-family=\"Helvetica,sans-Serif\" font-size=\"14.00\">samples = 112</text>\n<text text-anchor=\"middle\" x=\"2616\" y=\"-512.8\" font-family=\"Helvetica,sans-Serif\" font-size=\"14.00\">value = [76, 36]</text>\n</g>\n<!-- 102&#45;&gt;104 -->\n<g id=\"edge104\" class=\"edge\">\n<title>102&#45;&gt;104</title>\n<path fill=\"none\" stroke=\"black\" d=\"M2534.29,-608.88C2545.27,-599.62 2557.33,-589.45 2568.73,-579.85\"/>\n<polygon fill=\"black\" stroke=\"black\" points=\"2571.11,-582.42 2576.5,-573.3 2566.6,-577.07 2571.11,-582.42\"/>\n</g>\n<!-- 105 -->\n<g id=\"node106\" class=\"node\">\n<title>105</title>\n<polygon fill=\"none\" stroke=\"black\" points=\"2661,-461.5 2563,-461.5 2563,-408.5 2661,-408.5 2661,-461.5\"/>\n<text text-anchor=\"middle\" x=\"2612\" y=\"-446.3\" font-family=\"Helvetica,sans-Serif\" font-size=\"14.00\">gini = 0.473</text>\n<text text-anchor=\"middle\" x=\"2612\" y=\"-431.3\" font-family=\"Helvetica,sans-Serif\" font-size=\"14.00\">samples = 13</text>\n<text text-anchor=\"middle\" x=\"2612\" y=\"-416.3\" font-family=\"Helvetica,sans-Serif\" font-size=\"14.00\">value = [5, 8]</text>\n</g>\n<!-- 104&#45;&gt;105 -->\n<g id=\"edge105\" class=\"edge\">\n<title>104&#45;&gt;105</title>\n<path fill=\"none\" stroke=\"black\" d=\"M2614.7,-504.88C2614.28,-494.22 2613.82,-482.35 2613.39,-471.52\"/>\n<polygon fill=\"black\" stroke=\"black\" points=\"2616.89,-471.38 2613,-461.52 2609.9,-471.65 2616.89,-471.38\"/>\n</g>\n<!-- 106 -->\n<g id=\"node107\" class=\"node\">\n<title>106</title>\n<polygon fill=\"none\" stroke=\"black\" points=\"2789,-469 2679,-469 2679,-401 2789,-401 2789,-469\"/>\n<text text-anchor=\"middle\" x=\"2734\" y=\"-453.8\" font-family=\"Helvetica,sans-Serif\" font-size=\"14.00\">Fare &lt;= 52.277</text>\n<text text-anchor=\"middle\" x=\"2734\" y=\"-438.8\" font-family=\"Helvetica,sans-Serif\" font-size=\"14.00\">gini = 0.406</text>\n<text text-anchor=\"middle\" x=\"2734\" y=\"-423.8\" font-family=\"Helvetica,sans-Serif\" font-size=\"14.00\">samples = 99</text>\n<text text-anchor=\"middle\" x=\"2734\" y=\"-408.8\" font-family=\"Helvetica,sans-Serif\" font-size=\"14.00\">value = [71, 28]</text>\n</g>\n<!-- 104&#45;&gt;106 -->\n<g id=\"edge106\" class=\"edge\">\n<title>104&#45;&gt;106</title>\n<path fill=\"none\" stroke=\"black\" d=\"M2654.31,-504.88C2665.03,-495.62 2676.79,-485.45 2687.9,-475.85\"/>\n<polygon fill=\"black\" stroke=\"black\" points=\"2690.2,-478.49 2695.48,-469.3 2685.62,-473.19 2690.2,-478.49\"/>\n</g>\n<!-- 107 -->\n<g id=\"node108\" class=\"node\">\n<title>107</title>\n<polygon fill=\"none\" stroke=\"black\" points=\"2782,-365 2672,-365 2672,-297 2782,-297 2782,-365\"/>\n<text text-anchor=\"middle\" x=\"2727\" y=\"-349.8\" font-family=\"Helvetica,sans-Serif\" font-size=\"14.00\">Fare &lt;= 36.125</text>\n<text text-anchor=\"middle\" x=\"2727\" y=\"-334.8\" font-family=\"Helvetica,sans-Serif\" font-size=\"14.00\">gini = 0.234</text>\n<text text-anchor=\"middle\" x=\"2727\" y=\"-319.8\" font-family=\"Helvetica,sans-Serif\" font-size=\"14.00\">samples = 37</text>\n<text text-anchor=\"middle\" x=\"2727\" y=\"-304.8\" font-family=\"Helvetica,sans-Serif\" font-size=\"14.00\">value = [32, 5]</text>\n</g>\n<!-- 106&#45;&gt;107 -->\n<g id=\"edge107\" class=\"edge\">\n<title>106&#45;&gt;107</title>\n<path fill=\"none\" stroke=\"black\" d=\"M2731.73,-400.88C2731.17,-392.78 2730.57,-383.98 2729.98,-375.47\"/>\n<polygon fill=\"black\" stroke=\"black\" points=\"2733.46,-375.04 2729.29,-365.3 2726.48,-375.52 2733.46,-375.04\"/>\n</g>\n<!-- 114 -->\n<g id=\"node115\" class=\"node\">\n<title>114</title>\n<polygon fill=\"none\" stroke=\"black\" points=\"3049,-365 2939,-365 2939,-297 3049,-297 3049,-365\"/>\n<text text-anchor=\"middle\" x=\"2994\" y=\"-349.8\" font-family=\"Helvetica,sans-Serif\" font-size=\"14.00\">Fare &lt;= 59.087</text>\n<text text-anchor=\"middle\" x=\"2994\" y=\"-334.8\" font-family=\"Helvetica,sans-Serif\" font-size=\"14.00\">gini = 0.467</text>\n<text text-anchor=\"middle\" x=\"2994\" y=\"-319.8\" font-family=\"Helvetica,sans-Serif\" font-size=\"14.00\">samples = 62</text>\n<text text-anchor=\"middle\" x=\"2994\" y=\"-304.8\" font-family=\"Helvetica,sans-Serif\" font-size=\"14.00\">value = [39, 23]</text>\n</g>\n<!-- 106&#45;&gt;114 -->\n<g id=\"edge114\" class=\"edge\">\n<title>106&#45;&gt;114</title>\n<path fill=\"none\" stroke=\"black\" d=\"M2789.14,-412.37C2830.16,-396.28 2886.27,-374.27 2929.39,-357.35\"/>\n<polygon fill=\"black\" stroke=\"black\" points=\"2930.91,-360.51 2938.94,-353.6 2928.35,-353.99 2930.91,-360.51\"/>\n</g>\n<!-- 108 -->\n<g id=\"node109\" class=\"node\">\n<title>108</title>\n<polygon fill=\"none\" stroke=\"black\" points=\"2657,-261 2547,-261 2547,-193 2657,-193 2657,-261\"/>\n<text text-anchor=\"middle\" x=\"2602\" y=\"-245.8\" font-family=\"Helvetica,sans-Serif\" font-size=\"14.00\">Fare &lt;= 34.198</text>\n<text text-anchor=\"middle\" x=\"2602\" y=\"-230.8\" font-family=\"Helvetica,sans-Serif\" font-size=\"14.00\">gini = 0.375</text>\n<text text-anchor=\"middle\" x=\"2602\" y=\"-215.8\" font-family=\"Helvetica,sans-Serif\" font-size=\"14.00\">samples = 16</text>\n<text text-anchor=\"middle\" x=\"2602\" y=\"-200.8\" font-family=\"Helvetica,sans-Serif\" font-size=\"14.00\">value = [12, 4]</text>\n</g>\n<!-- 107&#45;&gt;108 -->\n<g id=\"edge108\" class=\"edge\">\n<title>107&#45;&gt;108</title>\n<path fill=\"none\" stroke=\"black\" d=\"M2686.42,-296.88C2675.06,-287.62 2662.61,-277.45 2650.83,-267.85\"/>\n<polygon fill=\"black\" stroke=\"black\" points=\"2652.77,-264.91 2642.81,-261.3 2648.34,-270.33 2652.77,-264.91\"/>\n</g>\n<!-- 111 -->\n<g id=\"node112\" class=\"node\">\n<title>111</title>\n<polygon fill=\"none\" stroke=\"black\" points=\"2778,-261 2676,-261 2676,-193 2778,-193 2778,-261\"/>\n<text text-anchor=\"middle\" x=\"2727\" y=\"-245.8\" font-family=\"Helvetica,sans-Serif\" font-size=\"14.00\">Age &lt;= 44.25</text>\n<text text-anchor=\"middle\" x=\"2727\" y=\"-230.8\" font-family=\"Helvetica,sans-Serif\" font-size=\"14.00\">gini = 0.091</text>\n<text text-anchor=\"middle\" x=\"2727\" y=\"-215.8\" font-family=\"Helvetica,sans-Serif\" font-size=\"14.00\">samples = 21</text>\n<text text-anchor=\"middle\" x=\"2727\" y=\"-200.8\" font-family=\"Helvetica,sans-Serif\" font-size=\"14.00\">value = [20, 1]</text>\n</g>\n<!-- 107&#45;&gt;111 -->\n<g id=\"edge111\" class=\"edge\">\n<title>107&#45;&gt;111</title>\n<path fill=\"none\" stroke=\"black\" d=\"M2727,-296.88C2727,-288.78 2727,-279.98 2727,-271.47\"/>\n<polygon fill=\"black\" stroke=\"black\" points=\"2730.5,-271.3 2727,-261.3 2723.5,-271.3 2730.5,-271.3\"/>\n</g>\n<!-- 109 -->\n<g id=\"node110\" class=\"node\">\n<title>109</title>\n<polygon fill=\"none\" stroke=\"black\" points=\"2536.5,-149.5 2441.5,-149.5 2441.5,-96.5 2536.5,-96.5 2536.5,-149.5\"/>\n<text text-anchor=\"middle\" x=\"2489\" y=\"-134.3\" font-family=\"Helvetica,sans-Serif\" font-size=\"14.00\">gini = 0.198</text>\n<text text-anchor=\"middle\" x=\"2489\" y=\"-119.3\" font-family=\"Helvetica,sans-Serif\" font-size=\"14.00\">samples = 9</text>\n<text text-anchor=\"middle\" x=\"2489\" y=\"-104.3\" font-family=\"Helvetica,sans-Serif\" font-size=\"14.00\">value = [8, 1]</text>\n</g>\n<!-- 108&#45;&gt;109 -->\n<g id=\"edge109\" class=\"edge\">\n<title>108&#45;&gt;109</title>\n<path fill=\"none\" stroke=\"black\" d=\"M2565.31,-192.88C2552.4,-181.23 2537.9,-168.14 2525.04,-156.53\"/>\n<polygon fill=\"black\" stroke=\"black\" points=\"2527.04,-153.62 2517.27,-149.52 2522.35,-158.82 2527.04,-153.62\"/>\n</g>\n<!-- 110 -->\n<g id=\"node111\" class=\"node\">\n<title>110</title>\n<polygon fill=\"none\" stroke=\"black\" points=\"2649.5,-149.5 2554.5,-149.5 2554.5,-96.5 2649.5,-96.5 2649.5,-149.5\"/>\n<text text-anchor=\"middle\" x=\"2602\" y=\"-134.3\" font-family=\"Helvetica,sans-Serif\" font-size=\"14.00\">gini = 0.49</text>\n<text text-anchor=\"middle\" x=\"2602\" y=\"-119.3\" font-family=\"Helvetica,sans-Serif\" font-size=\"14.00\">samples = 7</text>\n<text text-anchor=\"middle\" x=\"2602\" y=\"-104.3\" font-family=\"Helvetica,sans-Serif\" font-size=\"14.00\">value = [4, 3]</text>\n</g>\n<!-- 108&#45;&gt;110 -->\n<g id=\"edge110\" class=\"edge\">\n<title>108&#45;&gt;110</title>\n<path fill=\"none\" stroke=\"black\" d=\"M2602,-192.88C2602,-182.33 2602,-170.6 2602,-159.85\"/>\n<polygon fill=\"black\" stroke=\"black\" points=\"2605.5,-159.52 2602,-149.52 2598.5,-159.52 2605.5,-159.52\"/>\n</g>\n<!-- 112 -->\n<g id=\"node113\" class=\"node\">\n<title>112</title>\n<polygon fill=\"none\" stroke=\"black\" points=\"2770,-149.5 2668,-149.5 2668,-96.5 2770,-96.5 2770,-149.5\"/>\n<text text-anchor=\"middle\" x=\"2719\" y=\"-134.3\" font-family=\"Helvetica,sans-Serif\" font-size=\"14.00\">gini = 0.0</text>\n<text text-anchor=\"middle\" x=\"2719\" y=\"-119.3\" font-family=\"Helvetica,sans-Serif\" font-size=\"14.00\">samples = 14</text>\n<text text-anchor=\"middle\" x=\"2719\" y=\"-104.3\" font-family=\"Helvetica,sans-Serif\" font-size=\"14.00\">value = [14, 0]</text>\n</g>\n<!-- 111&#45;&gt;112 -->\n<g id=\"edge112\" class=\"edge\">\n<title>111&#45;&gt;112</title>\n<path fill=\"none\" stroke=\"black\" d=\"M2724.4,-192.88C2723.57,-182.22 2722.64,-170.35 2721.79,-159.52\"/>\n<polygon fill=\"black\" stroke=\"black\" points=\"2725.27,-159.22 2721,-149.52 2718.29,-159.76 2725.27,-159.22\"/>\n</g>\n<!-- 113 -->\n<g id=\"node114\" class=\"node\">\n<title>113</title>\n<polygon fill=\"none\" stroke=\"black\" points=\"2883.5,-149.5 2788.5,-149.5 2788.5,-96.5 2883.5,-96.5 2883.5,-149.5\"/>\n<text text-anchor=\"middle\" x=\"2836\" y=\"-134.3\" font-family=\"Helvetica,sans-Serif\" font-size=\"14.00\">gini = 0.245</text>\n<text text-anchor=\"middle\" x=\"2836\" y=\"-119.3\" font-family=\"Helvetica,sans-Serif\" font-size=\"14.00\">samples = 7</text>\n<text text-anchor=\"middle\" x=\"2836\" y=\"-104.3\" font-family=\"Helvetica,sans-Serif\" font-size=\"14.00\">value = [6, 1]</text>\n</g>\n<!-- 111&#45;&gt;113 -->\n<g id=\"edge113\" class=\"edge\">\n<title>111&#45;&gt;113</title>\n<path fill=\"none\" stroke=\"black\" d=\"M2762.39,-192.88C2774.85,-181.23 2788.83,-168.14 2801.24,-156.53\"/>\n<polygon fill=\"black\" stroke=\"black\" points=\"2803.82,-158.91 2808.73,-149.52 2799.04,-153.8 2803.82,-158.91\"/>\n</g>\n<!-- 115 -->\n<g id=\"node116\" class=\"node\">\n<title>115</title>\n<polygon fill=\"none\" stroke=\"black\" points=\"3049,-261 2939,-261 2939,-193 3049,-193 3049,-261\"/>\n<text text-anchor=\"middle\" x=\"2994\" y=\"-245.8\" font-family=\"Helvetica,sans-Serif\" font-size=\"14.00\">Fare &lt;= 56.198</text>\n<text text-anchor=\"middle\" x=\"2994\" y=\"-230.8\" font-family=\"Helvetica,sans-Serif\" font-size=\"14.00\">gini = 0.43</text>\n<text text-anchor=\"middle\" x=\"2994\" y=\"-215.8\" font-family=\"Helvetica,sans-Serif\" font-size=\"14.00\">samples = 16</text>\n<text text-anchor=\"middle\" x=\"2994\" y=\"-200.8\" font-family=\"Helvetica,sans-Serif\" font-size=\"14.00\">value = [5, 11]</text>\n</g>\n<!-- 114&#45;&gt;115 -->\n<g id=\"edge115\" class=\"edge\">\n<title>114&#45;&gt;115</title>\n<path fill=\"none\" stroke=\"black\" d=\"M2994,-296.88C2994,-288.78 2994,-279.98 2994,-271.47\"/>\n<polygon fill=\"black\" stroke=\"black\" points=\"2997.5,-271.3 2994,-261.3 2990.5,-271.3 2997.5,-271.3\"/>\n</g>\n<!-- 118 -->\n<g id=\"node119\" class=\"node\">\n<title>118</title>\n<polygon fill=\"none\" stroke=\"black\" points=\"3252.5,-261 3113.5,-261 3113.5,-193 3252.5,-193 3252.5,-261\"/>\n<text text-anchor=\"middle\" x=\"3183\" y=\"-245.8\" font-family=\"Helvetica,sans-Serif\" font-size=\"14.00\">Embarked_C &lt;= 0.5</text>\n<text text-anchor=\"middle\" x=\"3183\" y=\"-230.8\" font-family=\"Helvetica,sans-Serif\" font-size=\"14.00\">gini = 0.386</text>\n<text text-anchor=\"middle\" x=\"3183\" y=\"-215.8\" font-family=\"Helvetica,sans-Serif\" font-size=\"14.00\">samples = 46</text>\n<text text-anchor=\"middle\" x=\"3183\" y=\"-200.8\" font-family=\"Helvetica,sans-Serif\" font-size=\"14.00\">value = [34, 12]</text>\n</g>\n<!-- 114&#45;&gt;118 -->\n<g id=\"edge118\" class=\"edge\">\n<title>114&#45;&gt;118</title>\n<path fill=\"none\" stroke=\"black\" d=\"M3049.17,-300.22C3069.1,-289.47 3091.86,-277.18 3112.9,-265.83\"/>\n<polygon fill=\"black\" stroke=\"black\" points=\"3114.66,-268.86 3121.79,-261.03 3111.33,-262.7 3114.66,-268.86\"/>\n</g>\n<!-- 116 -->\n<g id=\"node117\" class=\"node\">\n<title>116</title>\n<polygon fill=\"none\" stroke=\"black\" points=\"2996.5,-149.5 2901.5,-149.5 2901.5,-96.5 2996.5,-96.5 2996.5,-149.5\"/>\n<text text-anchor=\"middle\" x=\"2949\" y=\"-134.3\" font-family=\"Helvetica,sans-Serif\" font-size=\"14.00\">gini = 0.49</text>\n<text text-anchor=\"middle\" x=\"2949\" y=\"-119.3\" font-family=\"Helvetica,sans-Serif\" font-size=\"14.00\">samples = 7</text>\n<text text-anchor=\"middle\" x=\"2949\" y=\"-104.3\" font-family=\"Helvetica,sans-Serif\" font-size=\"14.00\">value = [3, 4]</text>\n</g>\n<!-- 115&#45;&gt;116 -->\n<g id=\"edge116\" class=\"edge\">\n<title>115&#45;&gt;116</title>\n<path fill=\"none\" stroke=\"black\" d=\"M2979.39,-192.88C2974.59,-182 2969.23,-169.86 2964.37,-158.85\"/>\n<polygon fill=\"black\" stroke=\"black\" points=\"2967.5,-157.26 2960.26,-149.52 2961.09,-160.08 2967.5,-157.26\"/>\n</g>\n<!-- 117 -->\n<g id=\"node118\" class=\"node\">\n<title>117</title>\n<polygon fill=\"none\" stroke=\"black\" points=\"3109.5,-149.5 3014.5,-149.5 3014.5,-96.5 3109.5,-96.5 3109.5,-149.5\"/>\n<text text-anchor=\"middle\" x=\"3062\" y=\"-134.3\" font-family=\"Helvetica,sans-Serif\" font-size=\"14.00\">gini = 0.346</text>\n<text text-anchor=\"middle\" x=\"3062\" y=\"-119.3\" font-family=\"Helvetica,sans-Serif\" font-size=\"14.00\">samples = 9</text>\n<text text-anchor=\"middle\" x=\"3062\" y=\"-104.3\" font-family=\"Helvetica,sans-Serif\" font-size=\"14.00\">value = [2, 7]</text>\n</g>\n<!-- 115&#45;&gt;117 -->\n<g id=\"edge117\" class=\"edge\">\n<title>115&#45;&gt;117</title>\n<path fill=\"none\" stroke=\"black\" d=\"M3016.08,-192.88C3023.56,-181.67 3031.92,-169.13 3039.43,-157.85\"/>\n<polygon fill=\"black\" stroke=\"black\" points=\"3042.35,-159.78 3044.99,-149.52 3036.53,-155.9 3042.35,-159.78\"/>\n</g>\n<!-- 119 -->\n<g id=\"node120\" class=\"node\">\n<title>119</title>\n<polygon fill=\"none\" stroke=\"black\" points=\"3238,-157 3128,-157 3128,-89 3238,-89 3238,-157\"/>\n<text text-anchor=\"middle\" x=\"3183\" y=\"-141.8\" font-family=\"Helvetica,sans-Serif\" font-size=\"14.00\">Fare &lt;= 86.737</text>\n<text text-anchor=\"middle\" x=\"3183\" y=\"-126.8\" font-family=\"Helvetica,sans-Serif\" font-size=\"14.00\">gini = 0.219</text>\n<text text-anchor=\"middle\" x=\"3183\" y=\"-111.8\" font-family=\"Helvetica,sans-Serif\" font-size=\"14.00\">samples = 24</text>\n<text text-anchor=\"middle\" x=\"3183\" y=\"-96.8\" font-family=\"Helvetica,sans-Serif\" font-size=\"14.00\">value = [21, 3]</text>\n</g>\n<!-- 118&#45;&gt;119 -->\n<g id=\"edge119\" class=\"edge\">\n<title>118&#45;&gt;119</title>\n<path fill=\"none\" stroke=\"black\" d=\"M3183,-192.88C3183,-184.78 3183,-175.98 3183,-167.47\"/>\n<polygon fill=\"black\" stroke=\"black\" points=\"3186.5,-167.3 3183,-157.3 3179.5,-167.3 3186.5,-167.3\"/>\n</g>\n<!-- 122 -->\n<g id=\"node123\" class=\"node\">\n<title>122</title>\n<polygon fill=\"none\" stroke=\"black\" points=\"3366,-157 3256,-157 3256,-89 3366,-89 3366,-157\"/>\n<text text-anchor=\"middle\" x=\"3311\" y=\"-141.8\" font-family=\"Helvetica,sans-Serif\" font-size=\"14.00\">Fare &lt;= 98.752</text>\n<text text-anchor=\"middle\" x=\"3311\" y=\"-126.8\" font-family=\"Helvetica,sans-Serif\" font-size=\"14.00\">gini = 0.483</text>\n<text text-anchor=\"middle\" x=\"3311\" y=\"-111.8\" font-family=\"Helvetica,sans-Serif\" font-size=\"14.00\">samples = 22</text>\n<text text-anchor=\"middle\" x=\"3311\" y=\"-96.8\" font-family=\"Helvetica,sans-Serif\" font-size=\"14.00\">value = [13, 9]</text>\n</g>\n<!-- 118&#45;&gt;122 -->\n<g id=\"edge122\" class=\"edge\">\n<title>118&#45;&gt;122</title>\n<path fill=\"none\" stroke=\"black\" d=\"M3224.56,-192.88C3236.29,-183.53 3249.18,-173.26 3261.35,-163.57\"/>\n<polygon fill=\"black\" stroke=\"black\" points=\"3263.57,-166.27 3269.21,-157.3 3259.21,-160.79 3263.57,-166.27\"/>\n</g>\n<!-- 120 -->\n<g id=\"node121\" class=\"node\">\n<title>120</title>\n<polygon fill=\"none\" stroke=\"black\" points=\"3120,-53 3018,-53 3018,0 3120,0 3120,-53\"/>\n<text text-anchor=\"middle\" x=\"3069\" y=\"-37.8\" font-family=\"Helvetica,sans-Serif\" font-size=\"14.00\">gini = 0.0</text>\n<text text-anchor=\"middle\" x=\"3069\" y=\"-22.8\" font-family=\"Helvetica,sans-Serif\" font-size=\"14.00\">samples = 16</text>\n<text text-anchor=\"middle\" x=\"3069\" y=\"-7.8\" font-family=\"Helvetica,sans-Serif\" font-size=\"14.00\">value = [16, 0]</text>\n</g>\n<!-- 119&#45;&gt;120 -->\n<g id=\"edge120\" class=\"edge\">\n<title>119&#45;&gt;120</title>\n<path fill=\"none\" stroke=\"black\" d=\"M3143.13,-88.95C3131.76,-79.53 3119.39,-69.27 3108.07,-59.89\"/>\n<polygon fill=\"black\" stroke=\"black\" points=\"3109.98,-56.92 3100.05,-53.24 3105.51,-62.31 3109.98,-56.92\"/>\n</g>\n<!-- 121 -->\n<g id=\"node122\" class=\"node\">\n<title>121</title>\n<polygon fill=\"none\" stroke=\"black\" points=\"3233.5,-53 3138.5,-53 3138.5,0 3233.5,0 3233.5,-53\"/>\n<text text-anchor=\"middle\" x=\"3186\" y=\"-37.8\" font-family=\"Helvetica,sans-Serif\" font-size=\"14.00\">gini = 0.469</text>\n<text text-anchor=\"middle\" x=\"3186\" y=\"-22.8\" font-family=\"Helvetica,sans-Serif\" font-size=\"14.00\">samples = 8</text>\n<text text-anchor=\"middle\" x=\"3186\" y=\"-7.8\" font-family=\"Helvetica,sans-Serif\" font-size=\"14.00\">value = [5, 3]</text>\n</g>\n<!-- 119&#45;&gt;121 -->\n<g id=\"edge121\" class=\"edge\">\n<title>119&#45;&gt;121</title>\n<path fill=\"none\" stroke=\"black\" d=\"M3184.05,-88.95C3184.31,-80.72 3184.59,-71.85 3184.86,-63.48\"/>\n<polygon fill=\"black\" stroke=\"black\" points=\"3188.36,-63.34 3185.18,-53.24 3181.37,-63.12 3188.36,-63.34\"/>\n</g>\n<!-- 123 -->\n<g id=\"node124\" class=\"node\">\n<title>123</title>\n<polygon fill=\"none\" stroke=\"black\" points=\"3356,-53 3258,-53 3258,0 3356,0 3356,-53\"/>\n<text text-anchor=\"middle\" x=\"3307\" y=\"-37.8\" font-family=\"Helvetica,sans-Serif\" font-size=\"14.00\">gini = 0.496</text>\n<text text-anchor=\"middle\" x=\"3307\" y=\"-22.8\" font-family=\"Helvetica,sans-Serif\" font-size=\"14.00\">samples = 11</text>\n<text text-anchor=\"middle\" x=\"3307\" y=\"-7.8\" font-family=\"Helvetica,sans-Serif\" font-size=\"14.00\">value = [5, 6]</text>\n</g>\n<!-- 122&#45;&gt;123 -->\n<g id=\"edge123\" class=\"edge\">\n<title>122&#45;&gt;123</title>\n<path fill=\"none\" stroke=\"black\" d=\"M3309.6,-88.95C3309.25,-80.72 3308.88,-71.85 3308.52,-63.48\"/>\n<polygon fill=\"black\" stroke=\"black\" points=\"3312.01,-63.08 3308.09,-53.24 3305.02,-63.38 3312.01,-63.08\"/>\n</g>\n<!-- 124 -->\n<g id=\"node125\" class=\"node\">\n<title>124</title>\n<polygon fill=\"none\" stroke=\"black\" points=\"3472,-53 3374,-53 3374,0 3472,0 3472,-53\"/>\n<text text-anchor=\"middle\" x=\"3423\" y=\"-37.8\" font-family=\"Helvetica,sans-Serif\" font-size=\"14.00\">gini = 0.397</text>\n<text text-anchor=\"middle\" x=\"3423\" y=\"-22.8\" font-family=\"Helvetica,sans-Serif\" font-size=\"14.00\">samples = 11</text>\n<text text-anchor=\"middle\" x=\"3423\" y=\"-7.8\" font-family=\"Helvetica,sans-Serif\" font-size=\"14.00\">value = [8, 3]</text>\n</g>\n<!-- 122&#45;&gt;124 -->\n<g id=\"edge124\" class=\"edge\">\n<title>122&#45;&gt;124</title>\n<path fill=\"none\" stroke=\"black\" d=\"M3350.17,-88.95C3361.34,-79.53 3373.49,-69.27 3384.61,-59.89\"/>\n<polygon fill=\"black\" stroke=\"black\" points=\"3387.11,-62.36 3392.5,-53.24 3382.6,-57.01 3387.11,-62.36\"/>\n</g>\n</g>\n</svg>\n"
          },
          "metadata": {},
          "execution_count": 32
        }
      ]
    },
    {
      "cell_type": "markdown",
      "metadata": {
        "id": "xLKZUzIzP0aa"
      },
      "source": [
        "## 0604 Realiza una predicción\n",
        "Realiza una predicción con tu árbol y comprueba cuánto ha acertado."
      ]
    },
    {
      "cell_type": "code",
      "metadata": {
        "id": "l8CBX0oZP8ac"
      },
      "source": [
        "# Predicción\n",
        "prediccion = arbol_titanic.predict(X)"
      ],
      "execution_count": null,
      "outputs": []
    },
    {
      "cell_type": "code",
      "metadata": {
        "id": "wrgn54Pa6YVQ"
      },
      "source": [
        "# Precisión de la predicción\n",
        "accuracy_score(y, prediccion)"
      ],
      "execution_count": null,
      "outputs": []
    }
  ]
}