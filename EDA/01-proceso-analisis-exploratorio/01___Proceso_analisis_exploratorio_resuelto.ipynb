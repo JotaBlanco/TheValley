{
  "nbformat": 4,
  "nbformat_minor": 0,
  "metadata": {
    "colab": {
      "name": "01 _ Proceso-analisis-exploratorio.ipynb",
      "provenance": [],
      "authorship_tag": "ABX9TyO8ZH9OE4Ui6udPR2ngvJNh",
      "include_colab_link": true
    },
    "kernelspec": {
      "name": "python3",
      "display_name": "Python 3"
    }
  },
  "cells": [
    {
      "cell_type": "markdown",
      "metadata": {
        "id": "view-in-github",
        "colab_type": "text"
      },
      "source": [
        "<a href=\"https://colab.research.google.com/github/JotaBlanco/TheValley/blob/main/EDA/01-proceso-analisis-exploratorio/01___Proceso_analisis_exploratorio_resuelto.ipynb\" target=\"_parent\"><img src=\"https://colab.research.google.com/assets/colab-badge.svg\" alt=\"Open In Colab\"/></a>"
      ]
    },
    {
      "cell_type": "markdown",
      "metadata": {
        "id": "R53FGLN8jo1L"
      },
      "source": [
        "# INTRO: Proceso Análisis Exploratorio \n",
        "Introducción al EDA (Exploratory Data Analysis).\n",
        "\n",
        "Notebook por [Javier Blanco Cordero](https://www.linkedin.com/in/javier-blanco-cordero-71373656/).\n",
        "\n",
        "### Enlaces de interés\n",
        "*   [Slides de presentación](https://docs.google.com/presentation/d/1IT6OVy9YS_sbgHF2oU9D0L--fZiyUfij7NxVhu3cAdg/edit?usp=sharing)\n",
        "*   [Enlace a este notebook en Colab](https://colab.research.google.com/drive/1B37GMOCjKQ0S8NoRI6lALEW9EZtE0Hit#scrollTo=R53FGLN8jo1L)\n",
        "\n",
        "\n"
      ]
    },
    {
      "cell_type": "markdown",
      "metadata": {
        "id": "cnHRaho3rsXS"
      },
      "source": [
        "# 01 Import\n",
        "Importamos todas las librerías necesarias para este análisis ([¿No sabes lo que es una librería de Python?](https://www.quora.com/What-is-a-Python-library-and-what-can-I-use-it-for))."
      ]
    },
    {
      "cell_type": "code",
      "metadata": {
        "id": "4be6xiUqjPHI"
      },
      "source": [
        "import pandas as pd\n",
        "import numpy as np\n",
        "import matplotlib.pyplot as plt"
      ],
      "execution_count": 1,
      "outputs": []
    },
    {
      "cell_type": "markdown",
      "metadata": {
        "id": "B_0JTVo0sIvm"
      },
      "source": [
        "# 02 Load Data\n",
        "El primer paso para analizar datos es, claro, importarlos. Esto no es siempre trivial, especialmente trabajando con Colab ya que nuestro notebook está en la nube de Google y hay que conseguir hacer llegar los datos allí también. \n",
        "\n",
        "Vamos a ver [varias formas de importar](https://towardsdatascience.com/3-ways-to-load-csv-files-into-colab-7c14fcbdcb92) datos en Colab.\n",
        "\n",
        "\n",
        "*   Importar una tabla desde Github\n",
        "*   Cargar (y luego importar) una tabla de nuestro local\n",
        "*   Importar una tabla de Google Drive"
      ]
    },
    {
      "cell_type": "markdown",
      "metadata": {
        "id": "_dPwOUhOXNyg"
      },
      "source": [
        "## 0201 Importar una tabla desde GitHub\n",
        "\n",
        "Es posible importar una tabla que guardemos en GitHub ([¿No sabes lo que es GitHub?](https://guides.github.com/activities/hello-world/)). GitHub es un repositorio de código, más que un lugar donde guardar datos habitualmente. De todas formas, podemos importar una tabla (pequeña) desde gitHub así:\n",
        "\n",
        "1.   Las tablas deben ser pequeñas, pues GitHub no permite archivos mayores de 25MB \n",
        "2.   Localiza la tabla en un repositorio tuyo o público\n",
        "3.   Pulsa en la opción RAW y copia el link de la dirección resultante\n",
        "4.   Importa los datos utilizando pd.read_csv(link_raw)\n",
        "\n"
      ]
    },
    {
      "cell_type": "markdown",
      "metadata": {
        "id": "YUPn3Da-m0IV"
      },
      "source": [
        "### 020101 EJEMPLO 1: Covid-19\n",
        "La universidad Johns Hopkins (USA) viene recopilando datos de la mayor fiabilidad posible sobre los casos y muertes confirmados por covid-19 mundialmente. Los datos son públicos y se actualizan diariamente en [su repositorio de GitHub](https://github.com/CSSEGISandData/COVID-19).\n",
        "\n",
        "Dentro de este repositorio, hay diversos datasets, fuentes, código. Pongamos que nos interesa el dataset de casos confirmados a nivel mundial. \n",
        "\n",
        "¿Cómo podemos cargalo en este notebook en un Dataframe llamado df_covid?"
      ]
    },
    {
      "cell_type": "code",
      "metadata": {
        "id": "Vv9n9Pmgkn2O",
        "outputId": "08fac647-2adb-42bf-a32b-1331f12b74ec",
        "colab": {
          "base_uri": "https://localhost:8080/",
          "height": 299
        }
      },
      "source": [
        "# url de archivo raw de casos confirmados\n",
        "url = 'https://raw.githubusercontent.com/CSSEGISandData/COVID-19/master/csse_covid_19_data/csse_covid_19_time_series/time_series_covid19_confirmed_global.csv'\n",
        "\n",
        "# carga el archivo en un dataframe df_covid\n",
        "df_covid = pd.read_csv(url)\n",
        "\n",
        "df_covid.head()"
      ],
      "execution_count": 2,
      "outputs": [
        {
          "output_type": "execute_result",
          "data": {
            "text/plain": [
              "  Province/State Country/Region       Lat       Long  1/22/20  1/23/20  \\\n",
              "0            NaN    Afghanistan  33.93911  67.709953        0        0   \n",
              "1            NaN        Albania  41.15330  20.168300        0        0   \n",
              "2            NaN        Algeria  28.03390   1.659600        0        0   \n",
              "3            NaN        Andorra  42.50630   1.521800        0        0   \n",
              "4            NaN         Angola -11.20270  17.873900        0        0   \n",
              "\n",
              "   1/24/20  1/25/20  1/26/20  1/27/20  ...  12/9/22  12/10/22  12/11/22  \\\n",
              "0        0        0        0        0  ...   206504    206543    206603   \n",
              "1        0        0        0        0  ...   333491    333521    333533   \n",
              "2        0        0        0        0  ...   271140    271146    271146   \n",
              "3        0        0        0        0  ...    47446     47446     47446   \n",
              "4        0        0        0        0  ...   104808    104808    104808   \n",
              "\n",
              "   12/12/22  12/13/22  12/14/22  12/15/22  12/16/22  12/17/22  12/18/22  \n",
              "0    206702    206743    206788    206879    206912    206943    207037  \n",
              "1    333535    333567    333591    333613    333635    333635    333650  \n",
              "2    271147    271149    271156    271156    271156    271168    271174  \n",
              "3     47446     47446     47606     47606     47606     47606     47606  \n",
              "4    104808    104808    104946    104946    104946    104946    104946  \n",
              "\n",
              "[5 rows x 1066 columns]"
            ],
            "text/html": [
              "\n",
              "  <div id=\"df-d7862f4c-bf7d-442b-bc32-2a751a56e77c\">\n",
              "    <div class=\"colab-df-container\">\n",
              "      <div>\n",
              "<style scoped>\n",
              "    .dataframe tbody tr th:only-of-type {\n",
              "        vertical-align: middle;\n",
              "    }\n",
              "\n",
              "    .dataframe tbody tr th {\n",
              "        vertical-align: top;\n",
              "    }\n",
              "\n",
              "    .dataframe thead th {\n",
              "        text-align: right;\n",
              "    }\n",
              "</style>\n",
              "<table border=\"1\" class=\"dataframe\">\n",
              "  <thead>\n",
              "    <tr style=\"text-align: right;\">\n",
              "      <th></th>\n",
              "      <th>Province/State</th>\n",
              "      <th>Country/Region</th>\n",
              "      <th>Lat</th>\n",
              "      <th>Long</th>\n",
              "      <th>1/22/20</th>\n",
              "      <th>1/23/20</th>\n",
              "      <th>1/24/20</th>\n",
              "      <th>1/25/20</th>\n",
              "      <th>1/26/20</th>\n",
              "      <th>1/27/20</th>\n",
              "      <th>...</th>\n",
              "      <th>12/9/22</th>\n",
              "      <th>12/10/22</th>\n",
              "      <th>12/11/22</th>\n",
              "      <th>12/12/22</th>\n",
              "      <th>12/13/22</th>\n",
              "      <th>12/14/22</th>\n",
              "      <th>12/15/22</th>\n",
              "      <th>12/16/22</th>\n",
              "      <th>12/17/22</th>\n",
              "      <th>12/18/22</th>\n",
              "    </tr>\n",
              "  </thead>\n",
              "  <tbody>\n",
              "    <tr>\n",
              "      <th>0</th>\n",
              "      <td>NaN</td>\n",
              "      <td>Afghanistan</td>\n",
              "      <td>33.93911</td>\n",
              "      <td>67.709953</td>\n",
              "      <td>0</td>\n",
              "      <td>0</td>\n",
              "      <td>0</td>\n",
              "      <td>0</td>\n",
              "      <td>0</td>\n",
              "      <td>0</td>\n",
              "      <td>...</td>\n",
              "      <td>206504</td>\n",
              "      <td>206543</td>\n",
              "      <td>206603</td>\n",
              "      <td>206702</td>\n",
              "      <td>206743</td>\n",
              "      <td>206788</td>\n",
              "      <td>206879</td>\n",
              "      <td>206912</td>\n",
              "      <td>206943</td>\n",
              "      <td>207037</td>\n",
              "    </tr>\n",
              "    <tr>\n",
              "      <th>1</th>\n",
              "      <td>NaN</td>\n",
              "      <td>Albania</td>\n",
              "      <td>41.15330</td>\n",
              "      <td>20.168300</td>\n",
              "      <td>0</td>\n",
              "      <td>0</td>\n",
              "      <td>0</td>\n",
              "      <td>0</td>\n",
              "      <td>0</td>\n",
              "      <td>0</td>\n",
              "      <td>...</td>\n",
              "      <td>333491</td>\n",
              "      <td>333521</td>\n",
              "      <td>333533</td>\n",
              "      <td>333535</td>\n",
              "      <td>333567</td>\n",
              "      <td>333591</td>\n",
              "      <td>333613</td>\n",
              "      <td>333635</td>\n",
              "      <td>333635</td>\n",
              "      <td>333650</td>\n",
              "    </tr>\n",
              "    <tr>\n",
              "      <th>2</th>\n",
              "      <td>NaN</td>\n",
              "      <td>Algeria</td>\n",
              "      <td>28.03390</td>\n",
              "      <td>1.659600</td>\n",
              "      <td>0</td>\n",
              "      <td>0</td>\n",
              "      <td>0</td>\n",
              "      <td>0</td>\n",
              "      <td>0</td>\n",
              "      <td>0</td>\n",
              "      <td>...</td>\n",
              "      <td>271140</td>\n",
              "      <td>271146</td>\n",
              "      <td>271146</td>\n",
              "      <td>271147</td>\n",
              "      <td>271149</td>\n",
              "      <td>271156</td>\n",
              "      <td>271156</td>\n",
              "      <td>271156</td>\n",
              "      <td>271168</td>\n",
              "      <td>271174</td>\n",
              "    </tr>\n",
              "    <tr>\n",
              "      <th>3</th>\n",
              "      <td>NaN</td>\n",
              "      <td>Andorra</td>\n",
              "      <td>42.50630</td>\n",
              "      <td>1.521800</td>\n",
              "      <td>0</td>\n",
              "      <td>0</td>\n",
              "      <td>0</td>\n",
              "      <td>0</td>\n",
              "      <td>0</td>\n",
              "      <td>0</td>\n",
              "      <td>...</td>\n",
              "      <td>47446</td>\n",
              "      <td>47446</td>\n",
              "      <td>47446</td>\n",
              "      <td>47446</td>\n",
              "      <td>47446</td>\n",
              "      <td>47606</td>\n",
              "      <td>47606</td>\n",
              "      <td>47606</td>\n",
              "      <td>47606</td>\n",
              "      <td>47606</td>\n",
              "    </tr>\n",
              "    <tr>\n",
              "      <th>4</th>\n",
              "      <td>NaN</td>\n",
              "      <td>Angola</td>\n",
              "      <td>-11.20270</td>\n",
              "      <td>17.873900</td>\n",
              "      <td>0</td>\n",
              "      <td>0</td>\n",
              "      <td>0</td>\n",
              "      <td>0</td>\n",
              "      <td>0</td>\n",
              "      <td>0</td>\n",
              "      <td>...</td>\n",
              "      <td>104808</td>\n",
              "      <td>104808</td>\n",
              "      <td>104808</td>\n",
              "      <td>104808</td>\n",
              "      <td>104808</td>\n",
              "      <td>104946</td>\n",
              "      <td>104946</td>\n",
              "      <td>104946</td>\n",
              "      <td>104946</td>\n",
              "      <td>104946</td>\n",
              "    </tr>\n",
              "  </tbody>\n",
              "</table>\n",
              "<p>5 rows × 1066 columns</p>\n",
              "</div>\n",
              "      <button class=\"colab-df-convert\" onclick=\"convertToInteractive('df-d7862f4c-bf7d-442b-bc32-2a751a56e77c')\"\n",
              "              title=\"Convert this dataframe to an interactive table.\"\n",
              "              style=\"display:none;\">\n",
              "        \n",
              "  <svg xmlns=\"http://www.w3.org/2000/svg\" height=\"24px\"viewBox=\"0 0 24 24\"\n",
              "       width=\"24px\">\n",
              "    <path d=\"M0 0h24v24H0V0z\" fill=\"none\"/>\n",
              "    <path d=\"M18.56 5.44l.94 2.06.94-2.06 2.06-.94-2.06-.94-.94-2.06-.94 2.06-2.06.94zm-11 1L8.5 8.5l.94-2.06 2.06-.94-2.06-.94L8.5 2.5l-.94 2.06-2.06.94zm10 10l.94 2.06.94-2.06 2.06-.94-2.06-.94-.94-2.06-.94 2.06-2.06.94z\"/><path d=\"M17.41 7.96l-1.37-1.37c-.4-.4-.92-.59-1.43-.59-.52 0-1.04.2-1.43.59L10.3 9.45l-7.72 7.72c-.78.78-.78 2.05 0 2.83L4 21.41c.39.39.9.59 1.41.59.51 0 1.02-.2 1.41-.59l7.78-7.78 2.81-2.81c.8-.78.8-2.07 0-2.86zM5.41 20L4 18.59l7.72-7.72 1.47 1.35L5.41 20z\"/>\n",
              "  </svg>\n",
              "      </button>\n",
              "      \n",
              "  <style>\n",
              "    .colab-df-container {\n",
              "      display:flex;\n",
              "      flex-wrap:wrap;\n",
              "      gap: 12px;\n",
              "    }\n",
              "\n",
              "    .colab-df-convert {\n",
              "      background-color: #E8F0FE;\n",
              "      border: none;\n",
              "      border-radius: 50%;\n",
              "      cursor: pointer;\n",
              "      display: none;\n",
              "      fill: #1967D2;\n",
              "      height: 32px;\n",
              "      padding: 0 0 0 0;\n",
              "      width: 32px;\n",
              "    }\n",
              "\n",
              "    .colab-df-convert:hover {\n",
              "      background-color: #E2EBFA;\n",
              "      box-shadow: 0px 1px 2px rgba(60, 64, 67, 0.3), 0px 1px 3px 1px rgba(60, 64, 67, 0.15);\n",
              "      fill: #174EA6;\n",
              "    }\n",
              "\n",
              "    [theme=dark] .colab-df-convert {\n",
              "      background-color: #3B4455;\n",
              "      fill: #D2E3FC;\n",
              "    }\n",
              "\n",
              "    [theme=dark] .colab-df-convert:hover {\n",
              "      background-color: #434B5C;\n",
              "      box-shadow: 0px 1px 3px 1px rgba(0, 0, 0, 0.15);\n",
              "      filter: drop-shadow(0px 1px 2px rgba(0, 0, 0, 0.3));\n",
              "      fill: #FFFFFF;\n",
              "    }\n",
              "  </style>\n",
              "\n",
              "      <script>\n",
              "        const buttonEl =\n",
              "          document.querySelector('#df-d7862f4c-bf7d-442b-bc32-2a751a56e77c button.colab-df-convert');\n",
              "        buttonEl.style.display =\n",
              "          google.colab.kernel.accessAllowed ? 'block' : 'none';\n",
              "\n",
              "        async function convertToInteractive(key) {\n",
              "          const element = document.querySelector('#df-d7862f4c-bf7d-442b-bc32-2a751a56e77c');\n",
              "          const dataTable =\n",
              "            await google.colab.kernel.invokeFunction('convertToInteractive',\n",
              "                                                     [key], {});\n",
              "          if (!dataTable) return;\n",
              "\n",
              "          const docLinkHtml = 'Like what you see? Visit the ' +\n",
              "            '<a target=\"_blank\" href=https://colab.research.google.com/notebooks/data_table.ipynb>data table notebook</a>'\n",
              "            + ' to learn more about interactive tables.';\n",
              "          element.innerHTML = '';\n",
              "          dataTable['output_type'] = 'display_data';\n",
              "          await google.colab.output.renderOutput(dataTable, element);\n",
              "          const docLink = document.createElement('div');\n",
              "          docLink.innerHTML = docLinkHtml;\n",
              "          element.appendChild(docLink);\n",
              "        }\n",
              "      </script>\n",
              "    </div>\n",
              "  </div>\n",
              "  "
            ]
          },
          "metadata": {},
          "execution_count": 2
        }
      ]
    },
    {
      "cell_type": "markdown",
      "metadata": {
        "id": "xewz8mV20Yp-"
      },
      "source": [
        "## 0202 Importar una tabla local\n",
        "\n",
        "Es posible importar una tabla que guardemos en nuestro local (en nuestro PC). \n",
        "\n",
        "1.   Primero tendremos que subir el archivo de nuestro local a la nube de Google \n",
        "2.   Luego generamos un buffer de los datos\n",
        "3.   Finalmente los importaremos utilizando pd.read_csv()"
      ]
    },
    {
      "cell_type": "markdown",
      "metadata": {
        "id": "X9uX8-ujlaWO"
      },
      "source": [
        "### 020201 EJEMPLO 2: SP500\n",
        "Descargad [ese dataset](https://drive.google.com/file/d/1OfTfaCTGtiS27G-uNpDsRgHqFUIaZ3XP/view?usp=sharing) de mi Google Drive personal a vuestro PC. Recoge la evolución diaria histórica del [SP&500](https://en.wikipedia.org/wiki/S%26P_500_Index). \n",
        "\n",
        "\n",
        "Ahora que está en vuestro local, ¿Cómo podríamos cargarlo a este notebook?"
      ]
    },
    {
      "cell_type": "code",
      "metadata": {
        "id": "QPHiytPq1eYG",
        "outputId": "0a270f00-c043-45fb-9439-b97799ea302d",
        "colab": {
          "base_uri": "https://localhost:8080/",
          "height": 74
        }
      },
      "source": [
        "# Subimos el archivo\n",
        "from google.colab import files\n",
        "uploaded = files.upload()"
      ],
      "execution_count": 3,
      "outputs": [
        {
          "output_type": "display_data",
          "data": {
            "text/plain": [
              "<IPython.core.display.HTML object>"
            ],
            "text/html": [
              "\n",
              "     <input type=\"file\" id=\"files-cd01d123-a0d0-4066-ba58-837f58f1b760\" name=\"files[]\" multiple disabled\n",
              "        style=\"border:none\" />\n",
              "     <output id=\"result-cd01d123-a0d0-4066-ba58-837f58f1b760\">\n",
              "      Upload widget is only available when the cell has been executed in the\n",
              "      current browser session. Please rerun this cell to enable.\n",
              "      </output>\n",
              "      <script>// Copyright 2017 Google LLC\n",
              "//\n",
              "// Licensed under the Apache License, Version 2.0 (the \"License\");\n",
              "// you may not use this file except in compliance with the License.\n",
              "// You may obtain a copy of the License at\n",
              "//\n",
              "//      http://www.apache.org/licenses/LICENSE-2.0\n",
              "//\n",
              "// Unless required by applicable law or agreed to in writing, software\n",
              "// distributed under the License is distributed on an \"AS IS\" BASIS,\n",
              "// WITHOUT WARRANTIES OR CONDITIONS OF ANY KIND, either express or implied.\n",
              "// See the License for the specific language governing permissions and\n",
              "// limitations under the License.\n",
              "\n",
              "/**\n",
              " * @fileoverview Helpers for google.colab Python module.\n",
              " */\n",
              "(function(scope) {\n",
              "function span(text, styleAttributes = {}) {\n",
              "  const element = document.createElement('span');\n",
              "  element.textContent = text;\n",
              "  for (const key of Object.keys(styleAttributes)) {\n",
              "    element.style[key] = styleAttributes[key];\n",
              "  }\n",
              "  return element;\n",
              "}\n",
              "\n",
              "// Max number of bytes which will be uploaded at a time.\n",
              "const MAX_PAYLOAD_SIZE = 100 * 1024;\n",
              "\n",
              "function _uploadFiles(inputId, outputId) {\n",
              "  const steps = uploadFilesStep(inputId, outputId);\n",
              "  const outputElement = document.getElementById(outputId);\n",
              "  // Cache steps on the outputElement to make it available for the next call\n",
              "  // to uploadFilesContinue from Python.\n",
              "  outputElement.steps = steps;\n",
              "\n",
              "  return _uploadFilesContinue(outputId);\n",
              "}\n",
              "\n",
              "// This is roughly an async generator (not supported in the browser yet),\n",
              "// where there are multiple asynchronous steps and the Python side is going\n",
              "// to poll for completion of each step.\n",
              "// This uses a Promise to block the python side on completion of each step,\n",
              "// then passes the result of the previous step as the input to the next step.\n",
              "function _uploadFilesContinue(outputId) {\n",
              "  const outputElement = document.getElementById(outputId);\n",
              "  const steps = outputElement.steps;\n",
              "\n",
              "  const next = steps.next(outputElement.lastPromiseValue);\n",
              "  return Promise.resolve(next.value.promise).then((value) => {\n",
              "    // Cache the last promise value to make it available to the next\n",
              "    // step of the generator.\n",
              "    outputElement.lastPromiseValue = value;\n",
              "    return next.value.response;\n",
              "  });\n",
              "}\n",
              "\n",
              "/**\n",
              " * Generator function which is called between each async step of the upload\n",
              " * process.\n",
              " * @param {string} inputId Element ID of the input file picker element.\n",
              " * @param {string} outputId Element ID of the output display.\n",
              " * @return {!Iterable<!Object>} Iterable of next steps.\n",
              " */\n",
              "function* uploadFilesStep(inputId, outputId) {\n",
              "  const inputElement = document.getElementById(inputId);\n",
              "  inputElement.disabled = false;\n",
              "\n",
              "  const outputElement = document.getElementById(outputId);\n",
              "  outputElement.innerHTML = '';\n",
              "\n",
              "  const pickedPromise = new Promise((resolve) => {\n",
              "    inputElement.addEventListener('change', (e) => {\n",
              "      resolve(e.target.files);\n",
              "    });\n",
              "  });\n",
              "\n",
              "  const cancel = document.createElement('button');\n",
              "  inputElement.parentElement.appendChild(cancel);\n",
              "  cancel.textContent = 'Cancel upload';\n",
              "  const cancelPromise = new Promise((resolve) => {\n",
              "    cancel.onclick = () => {\n",
              "      resolve(null);\n",
              "    };\n",
              "  });\n",
              "\n",
              "  // Wait for the user to pick the files.\n",
              "  const files = yield {\n",
              "    promise: Promise.race([pickedPromise, cancelPromise]),\n",
              "    response: {\n",
              "      action: 'starting',\n",
              "    }\n",
              "  };\n",
              "\n",
              "  cancel.remove();\n",
              "\n",
              "  // Disable the input element since further picks are not allowed.\n",
              "  inputElement.disabled = true;\n",
              "\n",
              "  if (!files) {\n",
              "    return {\n",
              "      response: {\n",
              "        action: 'complete',\n",
              "      }\n",
              "    };\n",
              "  }\n",
              "\n",
              "  for (const file of files) {\n",
              "    const li = document.createElement('li');\n",
              "    li.append(span(file.name, {fontWeight: 'bold'}));\n",
              "    li.append(span(\n",
              "        `(${file.type || 'n/a'}) - ${file.size} bytes, ` +\n",
              "        `last modified: ${\n",
              "            file.lastModifiedDate ? file.lastModifiedDate.toLocaleDateString() :\n",
              "                                    'n/a'} - `));\n",
              "    const percent = span('0% done');\n",
              "    li.appendChild(percent);\n",
              "\n",
              "    outputElement.appendChild(li);\n",
              "\n",
              "    const fileDataPromise = new Promise((resolve) => {\n",
              "      const reader = new FileReader();\n",
              "      reader.onload = (e) => {\n",
              "        resolve(e.target.result);\n",
              "      };\n",
              "      reader.readAsArrayBuffer(file);\n",
              "    });\n",
              "    // Wait for the data to be ready.\n",
              "    let fileData = yield {\n",
              "      promise: fileDataPromise,\n",
              "      response: {\n",
              "        action: 'continue',\n",
              "      }\n",
              "    };\n",
              "\n",
              "    // Use a chunked sending to avoid message size limits. See b/62115660.\n",
              "    let position = 0;\n",
              "    do {\n",
              "      const length = Math.min(fileData.byteLength - position, MAX_PAYLOAD_SIZE);\n",
              "      const chunk = new Uint8Array(fileData, position, length);\n",
              "      position += length;\n",
              "\n",
              "      const base64 = btoa(String.fromCharCode.apply(null, chunk));\n",
              "      yield {\n",
              "        response: {\n",
              "          action: 'append',\n",
              "          file: file.name,\n",
              "          data: base64,\n",
              "        },\n",
              "      };\n",
              "\n",
              "      let percentDone = fileData.byteLength === 0 ?\n",
              "          100 :\n",
              "          Math.round((position / fileData.byteLength) * 100);\n",
              "      percent.textContent = `${percentDone}% done`;\n",
              "\n",
              "    } while (position < fileData.byteLength);\n",
              "  }\n",
              "\n",
              "  // All done.\n",
              "  yield {\n",
              "    response: {\n",
              "      action: 'complete',\n",
              "    }\n",
              "  };\n",
              "}\n",
              "\n",
              "scope.google = scope.google || {};\n",
              "scope.google.colab = scope.google.colab || {};\n",
              "scope.google.colab._files = {\n",
              "  _uploadFiles,\n",
              "  _uploadFilesContinue,\n",
              "};\n",
              "})(self);\n",
              "</script> "
            ]
          },
          "metadata": {}
        },
        {
          "output_type": "stream",
          "name": "stdout",
          "text": [
            "Saving sp500.csv to sp500.csv\n"
          ]
        }
      ]
    },
    {
      "cell_type": "code",
      "metadata": {
        "id": "Kyjci7SKFRJe",
        "outputId": "a02da4ef-f5c0-44f7-9ff9-273fb07f6b20",
        "colab": {
          "base_uri": "https://localhost:8080/",
          "height": 143
        }
      },
      "source": [
        "# Cargamos el archivo ya subido en un dataframe\n",
        "df_sp500 = pd.read_csv(\"sp500.csv\")\n",
        "df_sp500.head(3)"
      ],
      "execution_count": 5,
      "outputs": [
        {
          "output_type": "execute_result",
          "data": {
            "text/plain": [
              "         Date       Open       High        Low      Close  Adj Close  Volume\n",
              "0  1927-12-30  17.660000  17.660000  17.660000  17.660000  17.660000       0\n",
              "1  1928-01-03  17.760000  17.760000  17.760000  17.760000  17.760000       0\n",
              "2  1928-01-04  17.719999  17.719999  17.719999  17.719999  17.719999       0"
            ],
            "text/html": [
              "\n",
              "  <div id=\"df-f3e1feec-a2a1-44fa-994f-1412c00a0504\">\n",
              "    <div class=\"colab-df-container\">\n",
              "      <div>\n",
              "<style scoped>\n",
              "    .dataframe tbody tr th:only-of-type {\n",
              "        vertical-align: middle;\n",
              "    }\n",
              "\n",
              "    .dataframe tbody tr th {\n",
              "        vertical-align: top;\n",
              "    }\n",
              "\n",
              "    .dataframe thead th {\n",
              "        text-align: right;\n",
              "    }\n",
              "</style>\n",
              "<table border=\"1\" class=\"dataframe\">\n",
              "  <thead>\n",
              "    <tr style=\"text-align: right;\">\n",
              "      <th></th>\n",
              "      <th>Date</th>\n",
              "      <th>Open</th>\n",
              "      <th>High</th>\n",
              "      <th>Low</th>\n",
              "      <th>Close</th>\n",
              "      <th>Adj Close</th>\n",
              "      <th>Volume</th>\n",
              "    </tr>\n",
              "  </thead>\n",
              "  <tbody>\n",
              "    <tr>\n",
              "      <th>0</th>\n",
              "      <td>1927-12-30</td>\n",
              "      <td>17.660000</td>\n",
              "      <td>17.660000</td>\n",
              "      <td>17.660000</td>\n",
              "      <td>17.660000</td>\n",
              "      <td>17.660000</td>\n",
              "      <td>0</td>\n",
              "    </tr>\n",
              "    <tr>\n",
              "      <th>1</th>\n",
              "      <td>1928-01-03</td>\n",
              "      <td>17.760000</td>\n",
              "      <td>17.760000</td>\n",
              "      <td>17.760000</td>\n",
              "      <td>17.760000</td>\n",
              "      <td>17.760000</td>\n",
              "      <td>0</td>\n",
              "    </tr>\n",
              "    <tr>\n",
              "      <th>2</th>\n",
              "      <td>1928-01-04</td>\n",
              "      <td>17.719999</td>\n",
              "      <td>17.719999</td>\n",
              "      <td>17.719999</td>\n",
              "      <td>17.719999</td>\n",
              "      <td>17.719999</td>\n",
              "      <td>0</td>\n",
              "    </tr>\n",
              "  </tbody>\n",
              "</table>\n",
              "</div>\n",
              "      <button class=\"colab-df-convert\" onclick=\"convertToInteractive('df-f3e1feec-a2a1-44fa-994f-1412c00a0504')\"\n",
              "              title=\"Convert this dataframe to an interactive table.\"\n",
              "              style=\"display:none;\">\n",
              "        \n",
              "  <svg xmlns=\"http://www.w3.org/2000/svg\" height=\"24px\"viewBox=\"0 0 24 24\"\n",
              "       width=\"24px\">\n",
              "    <path d=\"M0 0h24v24H0V0z\" fill=\"none\"/>\n",
              "    <path d=\"M18.56 5.44l.94 2.06.94-2.06 2.06-.94-2.06-.94-.94-2.06-.94 2.06-2.06.94zm-11 1L8.5 8.5l.94-2.06 2.06-.94-2.06-.94L8.5 2.5l-.94 2.06-2.06.94zm10 10l.94 2.06.94-2.06 2.06-.94-2.06-.94-.94-2.06-.94 2.06-2.06.94z\"/><path d=\"M17.41 7.96l-1.37-1.37c-.4-.4-.92-.59-1.43-.59-.52 0-1.04.2-1.43.59L10.3 9.45l-7.72 7.72c-.78.78-.78 2.05 0 2.83L4 21.41c.39.39.9.59 1.41.59.51 0 1.02-.2 1.41-.59l7.78-7.78 2.81-2.81c.8-.78.8-2.07 0-2.86zM5.41 20L4 18.59l7.72-7.72 1.47 1.35L5.41 20z\"/>\n",
              "  </svg>\n",
              "      </button>\n",
              "      \n",
              "  <style>\n",
              "    .colab-df-container {\n",
              "      display:flex;\n",
              "      flex-wrap:wrap;\n",
              "      gap: 12px;\n",
              "    }\n",
              "\n",
              "    .colab-df-convert {\n",
              "      background-color: #E8F0FE;\n",
              "      border: none;\n",
              "      border-radius: 50%;\n",
              "      cursor: pointer;\n",
              "      display: none;\n",
              "      fill: #1967D2;\n",
              "      height: 32px;\n",
              "      padding: 0 0 0 0;\n",
              "      width: 32px;\n",
              "    }\n",
              "\n",
              "    .colab-df-convert:hover {\n",
              "      background-color: #E2EBFA;\n",
              "      box-shadow: 0px 1px 2px rgba(60, 64, 67, 0.3), 0px 1px 3px 1px rgba(60, 64, 67, 0.15);\n",
              "      fill: #174EA6;\n",
              "    }\n",
              "\n",
              "    [theme=dark] .colab-df-convert {\n",
              "      background-color: #3B4455;\n",
              "      fill: #D2E3FC;\n",
              "    }\n",
              "\n",
              "    [theme=dark] .colab-df-convert:hover {\n",
              "      background-color: #434B5C;\n",
              "      box-shadow: 0px 1px 3px 1px rgba(0, 0, 0, 0.15);\n",
              "      filter: drop-shadow(0px 1px 2px rgba(0, 0, 0, 0.3));\n",
              "      fill: #FFFFFF;\n",
              "    }\n",
              "  </style>\n",
              "\n",
              "      <script>\n",
              "        const buttonEl =\n",
              "          document.querySelector('#df-f3e1feec-a2a1-44fa-994f-1412c00a0504 button.colab-df-convert');\n",
              "        buttonEl.style.display =\n",
              "          google.colab.kernel.accessAllowed ? 'block' : 'none';\n",
              "\n",
              "        async function convertToInteractive(key) {\n",
              "          const element = document.querySelector('#df-f3e1feec-a2a1-44fa-994f-1412c00a0504');\n",
              "          const dataTable =\n",
              "            await google.colab.kernel.invokeFunction('convertToInteractive',\n",
              "                                                     [key], {});\n",
              "          if (!dataTable) return;\n",
              "\n",
              "          const docLinkHtml = 'Like what you see? Visit the ' +\n",
              "            '<a target=\"_blank\" href=https://colab.research.google.com/notebooks/data_table.ipynb>data table notebook</a>'\n",
              "            + ' to learn more about interactive tables.';\n",
              "          element.innerHTML = '';\n",
              "          dataTable['output_type'] = 'display_data';\n",
              "          await google.colab.output.renderOutput(dataTable, element);\n",
              "          const docLink = document.createElement('div');\n",
              "          docLink.innerHTML = docLinkHtml;\n",
              "          element.appendChild(docLink);\n",
              "        }\n",
              "      </script>\n",
              "    </div>\n",
              "  </div>\n",
              "  "
            ]
          },
          "metadata": {},
          "execution_count": 5
        }
      ]
    },
    {
      "cell_type": "markdown",
      "metadata": {
        "id": "gn4n_Pr8IXvR"
      },
      "source": [
        "## 0203 Importar una tabla de Google Drive\n",
        "\n",
        "Es posible importar una tabla guardada en Google Drive. Requiere:\n",
        "\n",
        "1.   Emparejar Colab y Google Drive \n",
        "2.   Importarlo utilizando pd.read_csv()"
      ]
    },
    {
      "cell_type": "markdown",
      "metadata": {
        "id": "AblkT14d4Gvt"
      },
      "source": [
        "### 020301 EJEMPLO 3: Fifa19\n",
        "Descargad [este dataset](https://drive.google.com/file/d/1_qzowEIMZsLYL1VbeXb9pzSpMkPSRqWb/view?usp=sharing) con las características de los jugadores del Fifa 19 de mi Google Drive personal a vuestro pc y luego subidlo a vuestro Google Drive. \n",
        "\n",
        "¿Cómo podríamos cargarlo desde ahí a este notebook?"
      ]
    },
    {
      "cell_type": "code",
      "metadata": {
        "id": "HAe4wephIW8a",
        "outputId": "9de8596a-1d57-482a-abe8-3152927e6415",
        "colab": {
          "base_uri": "https://localhost:8080/"
        }
      },
      "source": [
        "# Primero emparejamos Colab con Google Drive\n",
        "from google.colab import drive\n",
        "drive.mount('/content/drive')"
      ],
      "execution_count": 6,
      "outputs": [
        {
          "output_type": "stream",
          "name": "stdout",
          "text": [
            "Mounted at /content/drive\n"
          ]
        }
      ]
    },
    {
      "cell_type": "code",
      "metadata": {
        "id": "nIRDFybWHzFC",
        "outputId": "c2812425-b496-43bd-83d8-76caa4a9b1fd",
        "colab": {
          "base_uri": "https://localhost:8080/",
          "height": 404
        }
      },
      "source": [
        "# Importamos el archivos usando read_csv()\n",
        "dir_archivo = 'drive/My Drive/Data/Clases/fifa19.csv'\n",
        "df_fifa19 = pd.read_csv(dir_archivo)\n",
        "df_fifa19.head()"
      ],
      "execution_count": 11,
      "outputs": [
        {
          "output_type": "execute_result",
          "data": {
            "text/plain": [
              "   Unnamed: 0      ID               Name  Age  \\\n",
              "0           0  158023           L. Messi   31   \n",
              "1           1   20801  Cristiano Ronaldo   33   \n",
              "2           2  190871          Neymar Jr   26   \n",
              "3           3  193080             De Gea   27   \n",
              "4           4  192985       K. De Bruyne   27   \n",
              "\n",
              "                                            Photo Nationality  \\\n",
              "0  https://cdn.sofifa.org/players/4/19/158023.png   Argentina   \n",
              "1   https://cdn.sofifa.org/players/4/19/20801.png    Portugal   \n",
              "2  https://cdn.sofifa.org/players/4/19/190871.png      Brazil   \n",
              "3  https://cdn.sofifa.org/players/4/19/193080.png       Spain   \n",
              "4  https://cdn.sofifa.org/players/4/19/192985.png     Belgium   \n",
              "\n",
              "                                  Flag  Overall  Potential  \\\n",
              "0  https://cdn.sofifa.org/flags/52.png       94         94   \n",
              "1  https://cdn.sofifa.org/flags/38.png       94         94   \n",
              "2  https://cdn.sofifa.org/flags/54.png       92         93   \n",
              "3  https://cdn.sofifa.org/flags/45.png       91         93   \n",
              "4   https://cdn.sofifa.org/flags/7.png       91         92   \n",
              "\n",
              "                  Club  ... Composure Marking StandingTackle  SlidingTackle  \\\n",
              "0         FC Barcelona  ...      96.0    33.0           28.0           26.0   \n",
              "1             Juventus  ...      95.0    28.0           31.0           23.0   \n",
              "2  Paris Saint-Germain  ...      94.0    27.0           24.0           33.0   \n",
              "3    Manchester United  ...      68.0    15.0           21.0           13.0   \n",
              "4      Manchester City  ...      88.0    68.0           58.0           51.0   \n",
              "\n",
              "  GKDiving  GKHandling  GKKicking  GKPositioning GKReflexes Release Clause  \n",
              "0      6.0        11.0       15.0           14.0        8.0        €226.5M  \n",
              "1      7.0        11.0       15.0           14.0       11.0        €127.1M  \n",
              "2      9.0         9.0       15.0           15.0       11.0        €228.1M  \n",
              "3     90.0        85.0       87.0           88.0       94.0        €138.6M  \n",
              "4     15.0        13.0        5.0           10.0       13.0        €196.4M  \n",
              "\n",
              "[5 rows x 89 columns]"
            ],
            "text/html": [
              "\n",
              "  <div id=\"df-d6b7c5a0-ee48-40f6-97f8-b0fe8ab361ba\">\n",
              "    <div class=\"colab-df-container\">\n",
              "      <div>\n",
              "<style scoped>\n",
              "    .dataframe tbody tr th:only-of-type {\n",
              "        vertical-align: middle;\n",
              "    }\n",
              "\n",
              "    .dataframe tbody tr th {\n",
              "        vertical-align: top;\n",
              "    }\n",
              "\n",
              "    .dataframe thead th {\n",
              "        text-align: right;\n",
              "    }\n",
              "</style>\n",
              "<table border=\"1\" class=\"dataframe\">\n",
              "  <thead>\n",
              "    <tr style=\"text-align: right;\">\n",
              "      <th></th>\n",
              "      <th>Unnamed: 0</th>\n",
              "      <th>ID</th>\n",
              "      <th>Name</th>\n",
              "      <th>Age</th>\n",
              "      <th>Photo</th>\n",
              "      <th>Nationality</th>\n",
              "      <th>Flag</th>\n",
              "      <th>Overall</th>\n",
              "      <th>Potential</th>\n",
              "      <th>Club</th>\n",
              "      <th>...</th>\n",
              "      <th>Composure</th>\n",
              "      <th>Marking</th>\n",
              "      <th>StandingTackle</th>\n",
              "      <th>SlidingTackle</th>\n",
              "      <th>GKDiving</th>\n",
              "      <th>GKHandling</th>\n",
              "      <th>GKKicking</th>\n",
              "      <th>GKPositioning</th>\n",
              "      <th>GKReflexes</th>\n",
              "      <th>Release Clause</th>\n",
              "    </tr>\n",
              "  </thead>\n",
              "  <tbody>\n",
              "    <tr>\n",
              "      <th>0</th>\n",
              "      <td>0</td>\n",
              "      <td>158023</td>\n",
              "      <td>L. Messi</td>\n",
              "      <td>31</td>\n",
              "      <td>https://cdn.sofifa.org/players/4/19/158023.png</td>\n",
              "      <td>Argentina</td>\n",
              "      <td>https://cdn.sofifa.org/flags/52.png</td>\n",
              "      <td>94</td>\n",
              "      <td>94</td>\n",
              "      <td>FC Barcelona</td>\n",
              "      <td>...</td>\n",
              "      <td>96.0</td>\n",
              "      <td>33.0</td>\n",
              "      <td>28.0</td>\n",
              "      <td>26.0</td>\n",
              "      <td>6.0</td>\n",
              "      <td>11.0</td>\n",
              "      <td>15.0</td>\n",
              "      <td>14.0</td>\n",
              "      <td>8.0</td>\n",
              "      <td>€226.5M</td>\n",
              "    </tr>\n",
              "    <tr>\n",
              "      <th>1</th>\n",
              "      <td>1</td>\n",
              "      <td>20801</td>\n",
              "      <td>Cristiano Ronaldo</td>\n",
              "      <td>33</td>\n",
              "      <td>https://cdn.sofifa.org/players/4/19/20801.png</td>\n",
              "      <td>Portugal</td>\n",
              "      <td>https://cdn.sofifa.org/flags/38.png</td>\n",
              "      <td>94</td>\n",
              "      <td>94</td>\n",
              "      <td>Juventus</td>\n",
              "      <td>...</td>\n",
              "      <td>95.0</td>\n",
              "      <td>28.0</td>\n",
              "      <td>31.0</td>\n",
              "      <td>23.0</td>\n",
              "      <td>7.0</td>\n",
              "      <td>11.0</td>\n",
              "      <td>15.0</td>\n",
              "      <td>14.0</td>\n",
              "      <td>11.0</td>\n",
              "      <td>€127.1M</td>\n",
              "    </tr>\n",
              "    <tr>\n",
              "      <th>2</th>\n",
              "      <td>2</td>\n",
              "      <td>190871</td>\n",
              "      <td>Neymar Jr</td>\n",
              "      <td>26</td>\n",
              "      <td>https://cdn.sofifa.org/players/4/19/190871.png</td>\n",
              "      <td>Brazil</td>\n",
              "      <td>https://cdn.sofifa.org/flags/54.png</td>\n",
              "      <td>92</td>\n",
              "      <td>93</td>\n",
              "      <td>Paris Saint-Germain</td>\n",
              "      <td>...</td>\n",
              "      <td>94.0</td>\n",
              "      <td>27.0</td>\n",
              "      <td>24.0</td>\n",
              "      <td>33.0</td>\n",
              "      <td>9.0</td>\n",
              "      <td>9.0</td>\n",
              "      <td>15.0</td>\n",
              "      <td>15.0</td>\n",
              "      <td>11.0</td>\n",
              "      <td>€228.1M</td>\n",
              "    </tr>\n",
              "    <tr>\n",
              "      <th>3</th>\n",
              "      <td>3</td>\n",
              "      <td>193080</td>\n",
              "      <td>De Gea</td>\n",
              "      <td>27</td>\n",
              "      <td>https://cdn.sofifa.org/players/4/19/193080.png</td>\n",
              "      <td>Spain</td>\n",
              "      <td>https://cdn.sofifa.org/flags/45.png</td>\n",
              "      <td>91</td>\n",
              "      <td>93</td>\n",
              "      <td>Manchester United</td>\n",
              "      <td>...</td>\n",
              "      <td>68.0</td>\n",
              "      <td>15.0</td>\n",
              "      <td>21.0</td>\n",
              "      <td>13.0</td>\n",
              "      <td>90.0</td>\n",
              "      <td>85.0</td>\n",
              "      <td>87.0</td>\n",
              "      <td>88.0</td>\n",
              "      <td>94.0</td>\n",
              "      <td>€138.6M</td>\n",
              "    </tr>\n",
              "    <tr>\n",
              "      <th>4</th>\n",
              "      <td>4</td>\n",
              "      <td>192985</td>\n",
              "      <td>K. De Bruyne</td>\n",
              "      <td>27</td>\n",
              "      <td>https://cdn.sofifa.org/players/4/19/192985.png</td>\n",
              "      <td>Belgium</td>\n",
              "      <td>https://cdn.sofifa.org/flags/7.png</td>\n",
              "      <td>91</td>\n",
              "      <td>92</td>\n",
              "      <td>Manchester City</td>\n",
              "      <td>...</td>\n",
              "      <td>88.0</td>\n",
              "      <td>68.0</td>\n",
              "      <td>58.0</td>\n",
              "      <td>51.0</td>\n",
              "      <td>15.0</td>\n",
              "      <td>13.0</td>\n",
              "      <td>5.0</td>\n",
              "      <td>10.0</td>\n",
              "      <td>13.0</td>\n",
              "      <td>€196.4M</td>\n",
              "    </tr>\n",
              "  </tbody>\n",
              "</table>\n",
              "<p>5 rows × 89 columns</p>\n",
              "</div>\n",
              "      <button class=\"colab-df-convert\" onclick=\"convertToInteractive('df-d6b7c5a0-ee48-40f6-97f8-b0fe8ab361ba')\"\n",
              "              title=\"Convert this dataframe to an interactive table.\"\n",
              "              style=\"display:none;\">\n",
              "        \n",
              "  <svg xmlns=\"http://www.w3.org/2000/svg\" height=\"24px\"viewBox=\"0 0 24 24\"\n",
              "       width=\"24px\">\n",
              "    <path d=\"M0 0h24v24H0V0z\" fill=\"none\"/>\n",
              "    <path d=\"M18.56 5.44l.94 2.06.94-2.06 2.06-.94-2.06-.94-.94-2.06-.94 2.06-2.06.94zm-11 1L8.5 8.5l.94-2.06 2.06-.94-2.06-.94L8.5 2.5l-.94 2.06-2.06.94zm10 10l.94 2.06.94-2.06 2.06-.94-2.06-.94-.94-2.06-.94 2.06-2.06.94z\"/><path d=\"M17.41 7.96l-1.37-1.37c-.4-.4-.92-.59-1.43-.59-.52 0-1.04.2-1.43.59L10.3 9.45l-7.72 7.72c-.78.78-.78 2.05 0 2.83L4 21.41c.39.39.9.59 1.41.59.51 0 1.02-.2 1.41-.59l7.78-7.78 2.81-2.81c.8-.78.8-2.07 0-2.86zM5.41 20L4 18.59l7.72-7.72 1.47 1.35L5.41 20z\"/>\n",
              "  </svg>\n",
              "      </button>\n",
              "      \n",
              "  <style>\n",
              "    .colab-df-container {\n",
              "      display:flex;\n",
              "      flex-wrap:wrap;\n",
              "      gap: 12px;\n",
              "    }\n",
              "\n",
              "    .colab-df-convert {\n",
              "      background-color: #E8F0FE;\n",
              "      border: none;\n",
              "      border-radius: 50%;\n",
              "      cursor: pointer;\n",
              "      display: none;\n",
              "      fill: #1967D2;\n",
              "      height: 32px;\n",
              "      padding: 0 0 0 0;\n",
              "      width: 32px;\n",
              "    }\n",
              "\n",
              "    .colab-df-convert:hover {\n",
              "      background-color: #E2EBFA;\n",
              "      box-shadow: 0px 1px 2px rgba(60, 64, 67, 0.3), 0px 1px 3px 1px rgba(60, 64, 67, 0.15);\n",
              "      fill: #174EA6;\n",
              "    }\n",
              "\n",
              "    [theme=dark] .colab-df-convert {\n",
              "      background-color: #3B4455;\n",
              "      fill: #D2E3FC;\n",
              "    }\n",
              "\n",
              "    [theme=dark] .colab-df-convert:hover {\n",
              "      background-color: #434B5C;\n",
              "      box-shadow: 0px 1px 3px 1px rgba(0, 0, 0, 0.15);\n",
              "      filter: drop-shadow(0px 1px 2px rgba(0, 0, 0, 0.3));\n",
              "      fill: #FFFFFF;\n",
              "    }\n",
              "  </style>\n",
              "\n",
              "      <script>\n",
              "        const buttonEl =\n",
              "          document.querySelector('#df-d6b7c5a0-ee48-40f6-97f8-b0fe8ab361ba button.colab-df-convert');\n",
              "        buttonEl.style.display =\n",
              "          google.colab.kernel.accessAllowed ? 'block' : 'none';\n",
              "\n",
              "        async function convertToInteractive(key) {\n",
              "          const element = document.querySelector('#df-d6b7c5a0-ee48-40f6-97f8-b0fe8ab361ba');\n",
              "          const dataTable =\n",
              "            await google.colab.kernel.invokeFunction('convertToInteractive',\n",
              "                                                     [key], {});\n",
              "          if (!dataTable) return;\n",
              "\n",
              "          const docLinkHtml = 'Like what you see? Visit the ' +\n",
              "            '<a target=\"_blank\" href=https://colab.research.google.com/notebooks/data_table.ipynb>data table notebook</a>'\n",
              "            + ' to learn more about interactive tables.';\n",
              "          element.innerHTML = '';\n",
              "          dataTable['output_type'] = 'display_data';\n",
              "          await google.colab.output.renderOutput(dataTable, element);\n",
              "          const docLink = document.createElement('div');\n",
              "          docLink.innerHTML = docLinkHtml;\n",
              "          element.appendChild(docLink);\n",
              "        }\n",
              "      </script>\n",
              "    </div>\n",
              "  </div>\n",
              "  "
            ]
          },
          "metadata": {},
          "execution_count": 11
        }
      ]
    },
    {
      "cell_type": "markdown",
      "metadata": {
        "id": "aHaTVDM1s97Q"
      },
      "source": [
        "\n",
        "\n",
        "\n",
        "\n",
        " \n",
        " \n",
        " \n",
        " \n",
        " \n",
        " \n",
        " \n",
        " \n",
        " \n",
        " \n",
        " \n",
        " \n",
        " \n",
        " \n",
        " \n",
        " \n",
        " \n",
        " \n",
        " \n",
        " \n",
        " \n",
        " \n",
        " \n",
        " \n",
        " \n",
        " \n",
        " \n",
        " \n",
        " \n",
        " \n",
        " \n",
        " \n",
        " \n",
        " \n",
        " \n",
        " \n",
        " \n",
        " \n",
        " \n",
        " \n",
        " \n",
        " \n",
        " \n",
        " \n",
        " \n",
        " \n",
        " \n",
        " \n",
        " \n",
        " \n",
        " \n",
        " \n",
        " \n",
        " \n",
        " \n",
        " \n",
        " \n",
        " \n",
        " \n",
        " \n",
        " \n",
        " \n",
        " \n",
        " \n",
        " \n",
        " \n",
        " \n",
        " \n",
        " \n",
        " \n",
        " \n",
        " \n",
        " \n",
        " \n",
        " \n",
        " \n",
        " \n",
        " \n",
        " \n",
        " \n",
        " \n",
        " \n",
        " \n",
        " \n",
        " \n",
        " \n",
        " \n",
        " \n",
        " \n",
        " \n",
        " \n",
        " \n",
        " \n",
        " \n",
        " \n",
        " \n",
        " \n",
        " \n",
        " \n",
        " \n",
        " \n",
        " \n",
        " \n",
        " \n",
        " \n",
        " \n",
        " \n",
        " \n",
        " \n",
        " \n",
        " \n",
        " \n",
        " \n",
        " \n",
        " \n",
        " \n",
        " \n",
        " \n",
        " \n",
        " \n",
        " \n",
        " \n",
        " \n",
        " \n",
        " \n",
        " \n",
        " \n",
        " \n",
        " \n",
        " \n",
        " \n",
        " \n",
        " \n",
        " \n",
        " \n",
        " \n",
        " \n",
        " \n",
        " \n",
        " \n",
        " \n",
        " \n",
        " \n",
        " \n",
        " \n",
        " \n",
        " \n",
        " \n",
        " \n",
        " \n",
        " \n",
        " \n",
        " \n",
        " \n",
        " \n",
        " \n",
        " \n",
        " \n",
        " \n",
        " \n",
        " \n",
        " \n",
        " \n",
        " \n",
        " \n",
        " \n",
        " \n",
        " \n",
        " \n",
        " \n",
        " \n",
        " \n",
        " \n",
        " \n",
        " \n",
        " \n",
        " \n",
        " \n",
        " \n",
        " \n",
        " \n",
        " \n",
        " \n",
        " \n",
        " \n",
        " \n",
        " \n",
        " \n",
        " \n",
        " \n",
        " \n",
        " \n",
        " \n",
        " \n",
        " \n",
        " \n",
        " \n",
        " \n",
        " \n",
        " \n",
        " \n",
        " \n",
        " \n",
        " \n",
        " \n",
        " \n",
        " \n",
        " \n",
        " \n",
        " \n",
        " \n",
        " \n",
        " \n",
        " \n",
        " \n",
        " \n",
        " \n",
        " \n",
        " \n",
        " \n",
        " \n",
        " \n",
        " \n",
        " \n",
        " \n",
        " \n",
        " \n",
        " \n",
        " \n",
        " \n",
        " \n",
        " \n",
        " \n",
        " \n",
        " \n",
        " \n",
        " \n",
        " \n",
        " \n",
        " \n",
        " \n",
        " \n",
        " \n",
        " \n",
        " \n",
        " \n",
        " \n",
        " \n",
        " \n",
        " \n",
        " \n",
        " \n",
        " \n",
        " \n",
        " \n",
        " \n",
        " \n",
        " \n",
        " \n",
        " \n",
        " \n",
        " \n",
        " \n",
        " \n",
        " \n",
        " \n",
        " \n",
        " \n",
        " \n",
        " \n",
        " \n",
        " \n",
        " \n",
        " \n",
        " \n",
        " \n",
        " \n",
        " \n",
        " \n",
        " \n",
        " \n",
        " \n",
        " \n",
        " \n",
        " \n",
        " \n",
        " \n",
        " \n",
        " \n",
        "## 0204 EJERCICIO 1: Importar una tabla de varias formas\n",
        "\n",
        "[Kaggle](https://www.kaggle.com/) es un sitio web imprescindible si estás aprendiendo ciencia de datos. Hay competiciones de machine learning, cursos, posts... \n",
        "\n",
        "Y también es un buen sitio para buscar datos, como haremos en esta ocasión. Yo me he fijado en [este](https://www.kaggle.com/miguelsxvi/air-quality-madrid-2001-2020?select=calidad_aire_madrid.csv), que contiene la evolución diaria de la concentración de diversas partículas contaminantes en Madrid. \n",
        "\n",
        "Leed la descripción de la página para familiarizaros con Kaggle y descargad el csv a vuestro pc. Luego, probad a cargarlo en este Notebook utilizando las 3 formas que hemos visto. (Para traerlo desde GitHub podéis utilizar [esta copia del archivo en mi GitHub personal](https://github.com/JotaBlanco/TheValley/blob/main/Data/calidad_aire_madrid.csv)). Comparad la velocidad y sencillez de cada método."
      ]
    },
    {
      "cell_type": "code",
      "metadata": {
        "id": "tpwgbGlMrAYq"
      },
      "source": [
        "# DESDE GITHUB\n",
        "url = 'https://raw.githubusercontent.com/JotaBlanco/TheValley/main/Data/calidad_aire_madrid.csv'\n",
        "\n",
        "# carga el archivo en un dataframe df_covid\n",
        "df_aire = pd.read_csv(url)\n",
        "\n",
        "df_aire.head()"
      ],
      "execution_count": null,
      "outputs": []
    },
    {
      "cell_type": "code",
      "metadata": {
        "id": "QcnvlCCkT-xR"
      },
      "source": [
        "# DESDE LOCAL\n",
        "# Generamos un objeto para subir el archivo\n",
        "# Esto genera una variable (uploaded) con la información del datasets en bytes\n",
        "from google.colab import files\n",
        "uploaded = files.upload()\n",
        "# Convertimos los bytes a formato tabular (como el file row que veíamos para Github)\n",
        "import io\n",
        "buffer_io = io.BytesIO(uploaded['calidad_aire_madrid.csv'])\n",
        "\n",
        "\n",
        "# Cargamos en un dataframe\n",
        "df_aire = pd.read_csv(buffer_io)\n",
        "df_aire.head(3)"
      ],
      "execution_count": null,
      "outputs": []
    },
    {
      "cell_type": "code",
      "metadata": {
        "id": "sKT6_Q6br8KV"
      },
      "source": [
        "# DESDE GOOGLE DRIVE\n",
        "# Primero emparejamos Colab con Google Drive\n",
        "from google.colab import drive\n",
        "drive.mount('/content/drive')\n",
        "# Importamos el archivos usando read_csv()\n",
        "dir_archivo = '/content/drive/My Drive/Data/Clases/calidad_aire_madrid.csv'\n",
        "df_aire = pd.read_csv(dir_archivo)\n",
        "df_aire.head()"
      ],
      "execution_count": null,
      "outputs": []
    },
    {
      "cell_type": "markdown",
      "metadata": {
        "id": "v27Qct_pU329"
      },
      "source": [
        "## 0205 CHULETA\n",
        "Dado que los dataframes importados hasta ahora se usan más tarde a lo largo de este notebook, si habéis tenido cualquier problema al importarlos podéis hacerlo ahora desde mi github:"
      ]
    },
    {
      "cell_type": "code",
      "metadata": {
        "id": "EM-5g0LdaVTx"
      },
      "source": [
        "url_covid = 'https://raw.githubusercontent.com/CSSEGISandData/COVID-19/master/csse_covid_19_data/csse_covid_19_time_series/time_series_covid19_confirmed_global.csv'\n",
        "url_sp500 = 'https://raw.githubusercontent.com/JotaBlanco/TheValley/main/Data/sp500.csv'\n",
        "url_fifa = 'https://raw.githubusercontent.com/JotaBlanco/TheValley/main/Data/fifa19.csv'\n",
        "url_aire = 'https://raw.githubusercontent.com/JotaBlanco/TheValley/main/Data/calidad_aire_madrid.csv'\n",
        "\n",
        "df_covid = pd.read_csv(url_covid)\n",
        "df_sp500 = pd.read_csv(url_sp500)\n",
        "df_fifa19 = pd.read_csv(url_fifa)\n",
        "df_aire = pd.read_csv(url_aire)"
      ],
      "execution_count": null,
      "outputs": []
    },
    {
      "cell_type": "markdown",
      "metadata": {
        "id": "KBOQJ0AjdYrM"
      },
      "source": [
        "# 03 Basic checks\n",
        "Una vez se han importado los datos, empezamos realizando comprobaciones básicas: tamaño de la tabla, columnas presentes, etc.\n",
        "\n",
        "El método dataframe.[info()](https://pandas.pydata.org/pandas-docs/stable/reference/api/pandas.DataFrame.info.html) es muy útil para esto."
      ]
    },
    {
      "cell_type": "code",
      "metadata": {
        "id": "9mYRz8Tty_br"
      },
      "source": [
        "df_sp500.info()"
      ],
      "execution_count": null,
      "outputs": []
    },
    {
      "cell_type": "markdown",
      "metadata": {
        "id": "J93MDkTffXXG"
      },
      "source": [
        "## 0301 Vista previa\n",
        "Una buena primera comprobación suele ser visualizar la tabla. \n",
        "\n",
        "Aquí son muy útiles los métodos dataframe.[head()](https://pandas.pydata.org/pandas-docs/stable/reference/api/pandas.DataFrame.head.html) y dataframe.[tail()](https://pandas.pydata.org/pandas-docs/stable/reference/api/pandas.DataFrame.tail.html)."
      ]
    },
    {
      "cell_type": "code",
      "metadata": {
        "id": "Xr6XXUD3fIAO"
      },
      "source": [
        "df_sp500.head()"
      ],
      "execution_count": null,
      "outputs": []
    },
    {
      "cell_type": "code",
      "metadata": {
        "id": "qt-maoAZgOl3"
      },
      "source": [
        "df_sp500.head(2)"
      ],
      "execution_count": null,
      "outputs": []
    },
    {
      "cell_type": "code",
      "metadata": {
        "id": "TgGVIgGIgUD8"
      },
      "source": [
        "df_sp500.tail()"
      ],
      "execution_count": null,
      "outputs": []
    },
    {
      "cell_type": "markdown",
      "metadata": {
        "id": "gKN9znvm22-_"
      },
      "source": [
        "### iloc[filas,columnas]\n",
        "Filtra el dataframe para quedarse con datos concretos utilizando indices."
      ]
    },
    {
      "cell_type": "code",
      "metadata": {
        "id": "NM7tpUM7gcco"
      },
      "source": [
        "df_sp500.iloc[1:3]"
      ],
      "execution_count": null,
      "outputs": []
    },
    {
      "cell_type": "code",
      "metadata": {
        "id": "P-ZqQ-C-3QFL"
      },
      "source": [
        "df_sp500.iloc[-5:,:5]"
      ],
      "execution_count": null,
      "outputs": []
    },
    {
      "cell_type": "markdown",
      "metadata": {
        "id": "uAmUX3JH3b9M"
      },
      "source": [
        "### loc[filas,columnas]\n",
        "Filtra el dataframe para quedarse con datos concretos utilizando valores."
      ]
    },
    {
      "cell_type": "code",
      "metadata": {
        "id": "Q3wx14th2zUi"
      },
      "source": [
        "df_sp500.loc[2:5, ['Date','Open','Close']]"
      ],
      "execution_count": null,
      "outputs": []
    },
    {
      "cell_type": "code",
      "metadata": {
        "id": "5eFFA4O7gmj8"
      },
      "source": [
        "# Admite filtros!\n",
        "filtro_posterior_2018 = df_sp500['Date'] > '2018-12-31'\n",
        "filtro_posterior_2018"
      ],
      "execution_count": null,
      "outputs": []
    },
    {
      "cell_type": "code",
      "metadata": {
        "id": "Nkq6MfbghCZP"
      },
      "source": [
        "df_sp500.loc[filtro_posterior_2018, ['Date','Open','Close']]"
      ],
      "execution_count": null,
      "outputs": []
    },
    {
      "cell_type": "markdown",
      "metadata": {
        "id": "roYXoEuoeOB1"
      },
      "source": [
        "## 0302 Tamaño\n",
        "El tamaño de las tablas se puede comprobar con dataframe.[shape](https://pandas.pydata.org/pandas-docs/stable/reference/api/pandas.DataFrame.shape.html), que devuelve un tupple (filas, columnas)."
      ]
    },
    {
      "cell_type": "code",
      "metadata": {
        "id": "s6HaXEYPeJGU"
      },
      "source": [
        "df_covid.shape"
      ],
      "execution_count": null,
      "outputs": []
    },
    {
      "cell_type": "code",
      "metadata": {
        "id": "TgbFNU3qexBi"
      },
      "source": [
        "# filas\n",
        "df_covid.shape[0]"
      ],
      "execution_count": null,
      "outputs": []
    },
    {
      "cell_type": "code",
      "metadata": {
        "id": "ZhFEBHdIe9uT"
      },
      "source": [
        "# filas\n",
        "len(df_covid)"
      ],
      "execution_count": null,
      "outputs": []
    },
    {
      "cell_type": "code",
      "metadata": {
        "id": "B8Q_T8bVe3ou"
      },
      "source": [
        "# columnas\n",
        "df_covid.shape[1]"
      ],
      "execution_count": null,
      "outputs": []
    },
    {
      "cell_type": "code",
      "metadata": {
        "id": "dc4WBjcqelS4"
      },
      "source": [
        "df_sp500.shape"
      ],
      "execution_count": null,
      "outputs": []
    },
    {
      "cell_type": "code",
      "metadata": {
        "id": "YBNbfdQEeoC4"
      },
      "source": [
        "df_fifa19.shape"
      ],
      "execution_count": null,
      "outputs": []
    },
    {
      "cell_type": "code",
      "metadata": {
        "id": "YoTcd-RD9ACK"
      },
      "source": [
        "df_aire.shape"
      ],
      "execution_count": null,
      "outputs": []
    },
    {
      "cell_type": "markdown",
      "metadata": {
        "id": "ArizLXfs43CD"
      },
      "source": [
        "## 0303 Tipos de datos\n",
        "Qué tipos de datos contiene nuestro dataframe?"
      ]
    },
    {
      "cell_type": "code",
      "metadata": {
        "id": "Bf1-1v6desoJ"
      },
      "source": [
        "df_fifa19.info()"
      ],
      "execution_count": null,
      "outputs": []
    },
    {
      "cell_type": "code",
      "metadata": {
        "id": "zf0zSKJo7B2e"
      },
      "source": [
        "df_fifa19.head(2)"
      ],
      "execution_count": null,
      "outputs": []
    },
    {
      "cell_type": "code",
      "metadata": {
        "id": "llks32JF7LYx"
      },
      "source": [
        "type(df_fifa19)"
      ],
      "execution_count": null,
      "outputs": []
    },
    {
      "cell_type": "code",
      "metadata": {
        "id": "f3-tHTGT9GLs"
      },
      "source": [
        "type(df_fifa19['ID'])"
      ],
      "execution_count": null,
      "outputs": []
    },
    {
      "cell_type": "code",
      "metadata": {
        "id": "6zPHfGmG9IqI"
      },
      "source": [
        "type(df_fifa19['ID'][0])"
      ],
      "execution_count": null,
      "outputs": []
    },
    {
      "cell_type": "code",
      "metadata": {
        "id": "UyOCzVC-9LNE"
      },
      "source": [
        "type(df_fifa19['Name'][0])"
      ],
      "execution_count": null,
      "outputs": []
    },
    {
      "cell_type": "markdown",
      "metadata": {
        "id": "kWtOKi7tDFx0"
      },
      "source": [
        "## 0304 Variables\n",
        "El método dataframe.[columns](https://www.google.com/search?q=dataframe+columns&oq=dataframe+columns&aqs=chrome..69i57j0l5.5054j0j4&sourceid=chrome&ie=UTF-8) devuelve las columnas de nuestra tabla en orden. Es útil en lugar del método info() cuando tenemos muchas columnas, o para realizar operaciones con ellas. "
      ]
    },
    {
      "cell_type": "code",
      "metadata": {
        "id": "lBKkhpqmDSEb"
      },
      "source": [
        "df_fifa19.columns"
      ],
      "execution_count": null,
      "outputs": []
    },
    {
      "cell_type": "markdown",
      "metadata": {
        "id": "b0_f4lM4f-mC"
      },
      "source": [
        "## 0305 EJEMPLO 4: Comprobaciones básicas\n",
        "Hagamos las comprobaciones básicas del dataframe sobre la calidad del aire de Madrid:\n",
        "\n",
        "\n",
        "*   Número de filas y columnas\n",
        "*   Nombre de las columnas\n",
        "*   Tipos de dato de cada columna\n",
        "*   Vista previa de los primeros y últimos valores"
      ]
    },
    {
      "cell_type": "code",
      "metadata": {
        "id": "f5VsFfTxga6j"
      },
      "source": [
        "# info()\n",
        "df_aire.info()"
      ],
      "execution_count": null,
      "outputs": []
    },
    {
      "cell_type": "code",
      "metadata": {
        "id": "6emzzDpcifuc"
      },
      "source": [
        "# Vista previas\n",
        "display(df_aire.head())\n",
        "display(df_aire.tail())"
      ],
      "execution_count": null,
      "outputs": []
    },
    {
      "cell_type": "markdown",
      "metadata": {
        "id": "WJV8LAGGKkqG"
      },
      "source": [
        "# 04 Limpieza de Nulos\n",
        "Los nulos son habituales y un poco molestos. Constituyen una pérdida de información y pueden impedir ciertos cálculos.\n",
        "\n",
        "Es importante detectarlos y, cuando sea posible, corregirlos."
      ]
    },
    {
      "cell_type": "markdown",
      "metadata": {
        "id": "5Xe-BGZXM9Z7"
      },
      "source": [
        "## 0401 Nulos por variable\n",
        "Podemos ver el número de nulos por variable.\n",
        "\n",
        "Dataframe[.isna()](https://pandas.pydata.org/pandas-docs/stable/reference/api/pandas.DataFrame.isna.html) es un método muy útil."
      ]
    },
    {
      "cell_type": "code",
      "metadata": {
        "id": "_qvjjkpeLZPQ"
      },
      "source": [
        "# Método isna()\n",
        "df_fifa19.isna().head()"
      ],
      "execution_count": null,
      "outputs": []
    },
    {
      "cell_type": "code",
      "metadata": {
        "id": "auxOC7qZLZTH"
      },
      "source": [
        "df_fifa19.isna().sum()"
      ],
      "execution_count": null,
      "outputs": []
    },
    {
      "cell_type": "code",
      "metadata": {
        "id": "-j-hOnq3LZW4"
      },
      "source": [
        "pd.DataFrame(df_fifa19.isna().sum())"
      ],
      "execution_count": null,
      "outputs": []
    },
    {
      "cell_type": "markdown",
      "metadata": {
        "id": "X5lZQU62jSnp"
      },
      "source": [
        "### 040101 EJEMPLO 5: Función buscadora de nulos\n",
        "vamos a crear una función que, dado un dataframe, muestra una tabla con el número de nulos por variable ordenado de mayor a menor."
      ]
    },
    {
      "cell_type": "code",
      "metadata": {
        "id": "R7vAgPryKzJH"
      },
      "source": [
        "def contador_nulos(df):\n",
        "  \"\"\"\n",
        "  Función que devuelve un dataframe indicando el número de nulos en cada\n",
        "  variables. \n",
        "  \"\"\"\n",
        "  df_nulos = pd.DataFrame(df.isna().sum())\n",
        "  df_nulos.columns = ['# Nulos']\n",
        "  return df_nulos.sort_values('# Nulos', ascending=False)"
      ],
      "execution_count": null,
      "outputs": []
    },
    {
      "cell_type": "code",
      "metadata": {
        "id": "iWk5NEiOMV73"
      },
      "source": [
        "contador_nulos(df_covid)"
      ],
      "execution_count": null,
      "outputs": []
    },
    {
      "cell_type": "code",
      "metadata": {
        "id": "qWMIkT2FMbkd"
      },
      "source": [
        "contador_nulos(df_sp500)"
      ],
      "execution_count": null,
      "outputs": []
    },
    {
      "cell_type": "code",
      "metadata": {
        "id": "ePhK1OT9Mfcy"
      },
      "source": [
        "df_contador = contador_nulos(df_fifa19)\n",
        "df_contador.head()"
      ],
      "execution_count": null,
      "outputs": []
    },
    {
      "cell_type": "markdown",
      "metadata": {
        "id": "e10yfv33N5DA"
      },
      "source": [
        "## 0402 Explorar Nulos\n",
        "Cuando sea posible es recomendable entender la causa de los nulos. Hay algún patrón que se repite entre los nulos?"
      ]
    },
    {
      "cell_type": "code",
      "metadata": {
        "id": "XUmdd32nPBl5"
      },
      "source": [
        "# La columna 'Lat' solo tenía un nulo, podemos entender por qué?\n",
        "filtro_lat_nulo = df_covid['Lat'].isna()\n",
        "df_covid.loc[filtro_lat_nulo, ['Province/State', 'Country/Region', 'Lat', 'Long']]"
      ],
      "execution_count": null,
      "outputs": []
    },
    {
      "cell_type": "markdown",
      "metadata": {
        "id": "3mDf8BDVkW3Q"
      },
      "source": [
        "### EJEMPLO 6: Entender nulos en 'Province/State'\n",
        "En esta columna hay muchos nulos: 188. Para entender cuándo están presentes, vamos a qué paises pertenencen y a cuáles no."
      ]
    },
    {
      "cell_type": "code",
      "metadata": {
        "id": "AJK90IjBO6cI"
      },
      "source": [
        "filtro_col_nulos = df_covid['Province/State'].isna()\n",
        "filtro_col_nulos"
      ],
      "execution_count": null,
      "outputs": []
    },
    {
      "cell_type": "code",
      "metadata": {
        "id": "DOY9LxhmN4Ir"
      },
      "source": [
        "filtro_col_no_nulos = df_covid['Province/State'].notnull()\n",
        "filtro_col_no_nulos"
      ],
      "execution_count": null,
      "outputs": []
    },
    {
      "cell_type": "code",
      "metadata": {
        "id": "-0h9MFzeOuxe"
      },
      "source": [
        "df_covid.loc[filtro_col_nulos, 'Country/Region']"
      ],
      "execution_count": null,
      "outputs": []
    },
    {
      "cell_type": "code",
      "metadata": {
        "id": "pdtzv52wlL_P"
      },
      "source": [
        "paises_provincia_nulos = df_covid.loc[filtro_col_nulos, 'Country/Region'].unique()\n",
        "paises_provincia_nulos"
      ],
      "execution_count": null,
      "outputs": []
    },
    {
      "cell_type": "code",
      "metadata": {
        "id": "f99RJL4YfYfx"
      },
      "source": [
        "paises_provincia_no_nulos = df_covid.loc[filtro_col_no_nulos, 'Country/Region'].unique()\n",
        "paises_provincia_no_nulos"
      ],
      "execution_count": null,
      "outputs": []
    },
    {
      "cell_type": "markdown",
      "metadata": {
        "id": "Ly6PBQLTPRhs"
      },
      "source": [
        "## 0403 Tratamiento de Nulos\n",
        "Una vez hemos detectado los nulos presentes en la tabla podemos corregirlos de varias formas."
      ]
    },
    {
      "cell_type": "markdown",
      "metadata": {
        "id": "iApBnShqUCgY"
      },
      "source": [
        "### 040301 Prescindir de Nulos\n",
        "Si tenemos pocas filas con nulos y consideramos que no son muy decisivas, podemos prescindir de dichas filas con el método dataframe.[dropna()](https://pandas.pydata.org/pandas-docs/stable/reference/api/pandas.DataFrame.dropna.html)."
      ]
    },
    {
      "cell_type": "code",
      "metadata": {
        "id": "MAq3sI7uVhIZ"
      },
      "source": [
        "# Tamaño del dataframe original\n",
        "df_covid.shape"
      ],
      "execution_count": null,
      "outputs": []
    },
    {
      "cell_type": "code",
      "metadata": {
        "id": "pe3wr5XvUaYz"
      },
      "source": [
        "# Eliminamos filas con nulos en la columna 'Lat'\n",
        "df_covid_drop_null_lat = df_covid.dropna(subset=['Lat'])\n",
        "df_covid_drop_null_lat.shape"
      ],
      "execution_count": null,
      "outputs": []
    },
    {
      "cell_type": "markdown",
      "metadata": {
        "id": "Px3kdZPhXNli"
      },
      "source": [
        "#### 04030101 EJEMPLO 7: Eliminar filas\n",
        "En el dataframe de jugadores del Fifa, si hay ciertas filas con con gran presencia de nulos y éstas no suponen un número significativo para el total, podemos eliminarlas."
      ]
    },
    {
      "cell_type": "code",
      "metadata": {
        "id": "DR2HvE0KXM6c"
      },
      "source": [
        "df_fifa19.shape"
      ],
      "execution_count": null,
      "outputs": []
    },
    {
      "cell_type": "code",
      "metadata": {
        "id": "2lrdX3bqXb3E"
      },
      "source": [
        "# Parece que hay 48 jugadores de los que no tenemos datos. Son poquitos \n",
        "# (comparado con el total de 18207) así que podemos prescindir de ellos\n",
        "df_contador.head(50)"
      ],
      "execution_count": null,
      "outputs": []
    },
    {
      "cell_type": "code",
      "metadata": {
        "id": "oLFP3z_pYC7s"
      },
      "source": [
        "# Eliminamos aquellas filas que no tienen informado el peso del jugardor\n",
        "df_fifa19.dropna(axis=0, subset=['Weight'], inplace=True)\n",
        "df_contador = contador_nulos(df_fifa19)\n",
        "df_contador.head(50)"
      ],
      "execution_count": null,
      "outputs": []
    },
    {
      "cell_type": "code",
      "metadata": {
        "id": "Sj7uSjGmZj_n"
      },
      "source": [
        "df_fifa19.shape"
      ],
      "execution_count": null,
      "outputs": []
    },
    {
      "cell_type": "markdown",
      "metadata": {
        "id": "Bdqa5LmYVuQD"
      },
      "source": [
        "### 040302 Rellenar Nulos con Valores\n",
        "Podemos sustituir los nulos con valores concretos: 0, la media o mediana, etc.\n",
        "\n",
        "Para esto podemos utilizar el método dataframe.[fillna()](https://pandas.pydata.org/pandas-docs/stable/reference/api/pandas.DataFrame.fillna.html#pandas.DataFrame.fillna)."
      ]
    },
    {
      "cell_type": "code",
      "metadata": {
        "id": "kQT4se6ylNFG"
      },
      "source": [
        "df_contador = contador_nulos(df_fifa19)\n",
        "df_contador.head(50)"
      ],
      "execution_count": null,
      "outputs": []
    },
    {
      "cell_type": "code",
      "metadata": {
        "id": "Y4hph9MSYWp_"
      },
      "source": [
        "# Nulos en columna 'Club'\n",
        "df_fifa19['Club'] = df_fifa19['Club'].fillna('Unknown')"
      ],
      "execution_count": null,
      "outputs": []
    },
    {
      "cell_type": "code",
      "metadata": {
        "id": "MdK76ilRkz-u"
      },
      "source": [
        "# Nulos en columna 'Jersey Number'\n",
        "mediana_dorsal = df_fifa19['Jersey Number'].median()\n",
        "df_fifa19['Jersey Number'] = df_fifa19['Jersey Number'].fillna(mediana_dorsal)"
      ],
      "execution_count": null,
      "outputs": []
    },
    {
      "cell_type": "markdown",
      "metadata": {
        "id": "AX1SgTxG-LZe"
      },
      "source": [
        "# 05 Limpieza de datos\n",
        "Es habitual que algunos de los datos se encuentren en formatos no apropiados.\n"
      ]
    },
    {
      "cell_type": "markdown",
      "metadata": {
        "id": "ObFdY6I5_CZt"
      },
      "source": [
        "## 0501 Limpieza de Formatos\n",
        "A veces los datos se encuentran en formatos no adecuados. Un formato correspondiente con el tipo de dato permitirá realizar ciertas operaciones con mayor facilidad.\n",
        "\n",
        "Para esto nos serán de utilidad los métodos:\n",
        "\n",
        "*   [astype()](https://pandas.pydata.org/pandas-docs/stable/reference/api/pandas.DataFrame.astype.html)\n",
        "*   [to_datetime()](https://pandas.pydata.org/pandas-docs/stable/reference/api/pandas.to_datetime.html)"
      ]
    },
    {
      "cell_type": "code",
      "metadata": {
        "id": "d07H-0uF-Ks0"
      },
      "source": [
        "df_sp500.loc[:5,'Date']"
      ],
      "execution_count": null,
      "outputs": []
    },
    {
      "cell_type": "code",
      "metadata": {
        "id": "rd20qWh1_fkJ"
      },
      "source": [
        "df_sp500.loc[:5,'Date'][0]"
      ],
      "execution_count": null,
      "outputs": []
    },
    {
      "cell_type": "code",
      "metadata": {
        "id": "VsMoNQJO_kGc"
      },
      "source": [
        "type(df_sp500.loc[:5,'Date'][0])"
      ],
      "execution_count": null,
      "outputs": []
    },
    {
      "cell_type": "code",
      "metadata": {
        "id": "zZjdNJML_ooA"
      },
      "source": [
        "# Cambiamos el formato de la columna 'Date'\n",
        "df_sp500['Date'] = pd.to_datetime(\n",
        "    df_sp500['Date'], format='%Y-%m-%d', errors='ignore')"
      ],
      "execution_count": null,
      "outputs": []
    },
    {
      "cell_type": "markdown",
      "metadata": {
        "id": "GsU8DNL4Dkcl"
      },
      "source": [
        "## 0502 Eliminación de variables\n",
        "Se pueden eliminar columnas o filas no necesarias con el método dataframe.[drop()](https://pandas.pydata.org/pandas-docs/stable/reference/api/pandas.DataFrame.drop.html)."
      ]
    },
    {
      "cell_type": "code",
      "metadata": {
        "id": "onlfIXIOEV27"
      },
      "source": [
        "df_fifa19.head(3)"
      ],
      "execution_count": null,
      "outputs": []
    },
    {
      "cell_type": "code",
      "metadata": {
        "id": "mzFmAfgQEoQk"
      },
      "source": [
        "df_fifa19.columns"
      ],
      "execution_count": null,
      "outputs": []
    },
    {
      "cell_type": "code",
      "metadata": {
        "id": "G_l2pcPqEt-6"
      },
      "source": [
        "cols_to_drop = ['Unnamed: 0', 'ID', 'Photo', 'Flag', 'Club Logo', \n",
        "                'LS', 'ST', 'RS', 'LW', 'LF', 'CF', 'RF', 'RW', 'LAM', 'CAM', \n",
        "                'RAM', 'LM', 'LCM', 'CM', 'RCM', 'RM', 'LWB', 'LDM', 'CDM', \n",
        "                'RDM', 'RWB', 'LB', 'LCB', 'CB', 'RCB', 'RB']\n",
        "\n",
        "df_fifa19_clean = df_fifa19.drop(cols_to_drop, axis=1)"
      ],
      "execution_count": null,
      "outputs": []
    },
    {
      "cell_type": "code",
      "metadata": {
        "id": "uheiOkVHGkS7"
      },
      "source": [
        "df_fifa19.shape, df_fifa19_clean.shape"
      ],
      "execution_count": null,
      "outputs": []
    },
    {
      "cell_type": "markdown",
      "metadata": {
        "id": "-coYyqFwKZnN"
      },
      "source": [
        "# 06 Transformación de variables\n",
        "A veces querremos crear nuevas variables o modificar variables existentes de manera un poco más personalizada/compleja que lo visto hasta ahora. Cómo lo hacemos?\n",
        "\n",
        "Para cambiar los valores en una columna debemos tratar de evitar iterar sobre las filas del dataframe. Son procesos lentos que llevarán mucho tiempo para dataframes grandes. El orden (atendiendo a la eficiencia computacional) en que debemos intentar las operaciones es:\n",
        "\n",
        "\n",
        "\n",
        "1.   Vectorización\n",
        "2.   List comprehensions\n",
        "3.   Dataframe.[apply()](https://pandas.pydata.org/pandas-docs/stable/reference/api/pandas.DataFrame.apply.html)\n",
        "4.   Dataframe.[itertuples()](https://pandas.pydata.org/pandas-docs/stable/reference/api/pandas.DataFrame.itertuples.html), dataframe.[iteritems()](https://pandas.pydata.org/pandas-docs/stable/reference/api/pandas.DataFrame.iteritems.html#pandas.DataFrame.iteritems), dataframe.[iterrows()](https://pandas.pydata.org/pandas-docs/stable/reference/api/pandas.DataFrame.iterrows.html#pandas.DataFrame.iterrows)\n",
        "\n"
      ]
    },
    {
      "cell_type": "markdown",
      "metadata": {
        "id": "WrKV6Xq5Nfcb"
      },
      "source": [
        "## 0601 Iteracion\n",
        "Aunque sea el menos eficiente, iterar sobre el dataframe es lo más sencillo conceptualmente. Veamos cómo podemos modificar una variable así."
      ]
    },
    {
      "cell_type": "code",
      "metadata": {
        "id": "QzVKH-j7NSqR"
      },
      "source": [
        "for index, row in df_fifa19_clean.head(1).iterrows():\n",
        "  print('Index: ', index)\n",
        "  print('Row: ', row)"
      ],
      "execution_count": null,
      "outputs": []
    },
    {
      "cell_type": "code",
      "metadata": {
        "id": "_XKijnbpOjpu"
      },
      "source": [
        "for index, row in df_fifa19_clean.head(1).iterrows():\n",
        "  print('Index: ', index)\n",
        "  print('Peso: ', row['Weight'])"
      ],
      "execution_count": null,
      "outputs": []
    },
    {
      "cell_type": "code",
      "metadata": {
        "id": "cOKu_xP6PJd1"
      },
      "source": [
        "%%timeit \n",
        "for index, row in df_fifa19_clean.iterrows():\n",
        "  \n",
        "  # Si el string contine 'lbs' al final del mismo\n",
        "  if row['Weight'][-3:] == 'lbs':\n",
        "\n",
        "    # Nos quedamos con la parte anterior (el peso) con formato numérico (float)\n",
        "    peso_libras = float(row['Weight'][:-3])\n",
        "\n",
        "    # Convertimos el peso en kgs\n",
        "    peso_kgs = peso_libras*0.453592\n",
        "\n",
        "    # Populamos la columna\n",
        "    df_fifa19_clean.loc[index, 'Weight_kg'] = peso_kgs\n",
        "  \n",
        "  else:\n",
        "    # Si no contenía 'lbs' al final, lo dejamos como nulo\n",
        "    df_fifa19_clean.loc[index, 'Weight_kg'] = np.NaN"
      ],
      "execution_count": null,
      "outputs": []
    },
    {
      "cell_type": "code",
      "metadata": {
        "id": "ffkz3ADBWeLb"
      },
      "source": [
        "df_fifa19_clean.head()"
      ],
      "execution_count": null,
      "outputs": []
    },
    {
      "cell_type": "code",
      "metadata": {
        "id": "V-UlKXXXIPXg"
      },
      "source": [
        "df_fifa19_clean['Weight_kg'].isna().sum()"
      ],
      "execution_count": null,
      "outputs": []
    },
    {
      "cell_type": "markdown",
      "metadata": {
        "id": "Fn0NZQa4Jcc3"
      },
      "source": [
        "## 0602 Dataframe.apply()\n",
        "La siguiente opción en eficiencia es utilizar el método [.apply()](https://pandas.pydata.org/pandas-docs/stable/reference/api/pandas.DataFrame.apply.html). Más información sobre [cómo crear funciones para aplicar sobre un dataframe con .apply()](https://queirozf.com/entries/pandas-dataframes-apply-examples).\n",
        "\n",
        "Veamos cómo podemos modificar una variable así."
      ]
    },
    {
      "cell_type": "code",
      "metadata": {
        "id": "k0yrxVDsI2CB"
      },
      "source": [
        "def limpiar_peso(valor_original):\n",
        "  \"\"\"\n",
        "  Función que limpia la columna Weight al convertirla en formato númerico\n",
        "  y definir los valores en Kg\n",
        "  \"\"\"\n",
        "  # Si el string contine 'lbs' al final del mismo\n",
        "  if valor_original[-3:] == 'lbs':\n",
        "\n",
        "    # Nos quedamos con la parte anterior (el peso) con formato numérico (float)\n",
        "    peso_libras = float(valor_original[:-3])\n",
        "\n",
        "    # Convertimos el peso en kgs\n",
        "    peso_kgs = peso_libras*0.453592\n",
        "  \n",
        "  else:\n",
        "    # Si no contenía 'lbs' al final, lo dejamos como nulo\n",
        "    peso_kgs = np.NaN\n",
        "  \n",
        "  return peso_kgs"
      ],
      "execution_count": null,
      "outputs": []
    },
    {
      "cell_type": "code",
      "metadata": {
        "id": "oWdQaxstI0kh"
      },
      "source": [
        "%%timeit \n",
        "df_fifa19_clean['Weight_kg'] = df_fifa19_clean['Weight'].apply(limpiar_peso)"
      ],
      "execution_count": null,
      "outputs": []
    },
    {
      "cell_type": "code",
      "metadata": {
        "id": "i-BzoSAoJ7Em"
      },
      "source": [
        "df_fifa19_clean.head()"
      ],
      "execution_count": null,
      "outputs": []
    },
    {
      "cell_type": "markdown",
      "metadata": {
        "id": "9aGUhuqqLSBi"
      },
      "source": [
        "## 0603 List Comprehensions\n",
        "Método conciso y eficiente de crear listas. [Info extra sobre cuándo y por qué usar list comprehensions.](https://realpython.com/list-comprehension-python/#benefits-of-using-list-comprehensions) \n",
        "\n",
        "Las list comprehensions utilizan la sintaxis: \n",
        "*   [expression for item in list]\n",
        "\n",
        "O si incluímos condiciones:\n",
        "\n",
        "*   [expression if condicion else expresion for item in list]\n",
        "\n",
        "Veamos cómo podemos modificar una variable utilizando list comprehensions."
      ]
    },
    {
      "cell_type": "code",
      "metadata": {
        "id": "6jMUdUDFPQlc"
      },
      "source": [
        "# [expresion for item in list]"
      ],
      "execution_count": null,
      "outputs": []
    },
    {
      "cell_type": "code",
      "metadata": {
        "id": "I4vuE1I9PUJZ"
      },
      "source": [
        "[x for x in df_fifa19_clean['Weight']][:5]"
      ],
      "execution_count": null,
      "outputs": []
    },
    {
      "cell_type": "code",
      "metadata": {
        "id": "hZWMUQvwOnMq"
      },
      "source": [
        "[x[:-3] for x in df_fifa19_clean['Weight']][:5]"
      ],
      "execution_count": null,
      "outputs": []
    },
    {
      "cell_type": "code",
      "metadata": {
        "id": "4RpRQxmBPi54"
      },
      "source": [
        "[float(x[:-3]) for x in df_fifa19_clean['Weight']][:5]"
      ],
      "execution_count": null,
      "outputs": []
    },
    {
      "cell_type": "code",
      "metadata": {
        "id": "GahCybMsPmxy"
      },
      "source": [
        "[float(x[:-3])*0.453592 for x in df_fifa19_clean['Weight']][:5]"
      ],
      "execution_count": null,
      "outputs": []
    },
    {
      "cell_type": "code",
      "metadata": {
        "id": "984V8JbAP1HS"
      },
      "source": [
        "[float(x[:-3])*0.453592 if x[-3:]=='lbs' else np.NaN for x in df_fifa19_clean['Weight']][:5]"
      ],
      "execution_count": null,
      "outputs": []
    },
    {
      "cell_type": "code",
      "metadata": {
        "id": "15GrgLULLRVS"
      },
      "source": [
        "%%timeit \n",
        "df_fifa19_clean['Weight_kg'] = [float(x[:-3])*0.453592 if x[-3:]=='lbs' else np.NaN for x in df_fifa19_clean['Weight']]"
      ],
      "execution_count": null,
      "outputs": []
    },
    {
      "cell_type": "code",
      "metadata": {
        "id": "oVAUfUCaQhEV"
      },
      "source": [
        "df_fifa19_clean.head()"
      ],
      "execution_count": null,
      "outputs": []
    },
    {
      "cell_type": "markdown",
      "metadata": {
        "id": "dPxmtnU2RCue"
      },
      "source": [
        "## 0604 Vectorización\n",
        "Consiste en realizar operaciones con vectores en la medida de lo posible en lugar de elemento por elemento. [Más información sobre vectorización aquí](https://stackoverflow.com/questions/1422149/what-is-vectorization)."
      ]
    },
    {
      "cell_type": "code",
      "metadata": {
        "id": "P3McUkJlRB4W"
      },
      "source": [
        "# Vectorizamos la función que habíamos creado\n",
        "limpiar_peso_vectorizada = np.vectorize(limpiar_peso)"
      ],
      "execution_count": null,
      "outputs": []
    },
    {
      "cell_type": "code",
      "metadata": {
        "id": "DgucTGuyhulF"
      },
      "source": [
        "%%timeit\n",
        "df_fifa19_clean['Weight_kg'] = limpiar_peso_vectorizada(np.array(df_fifa19_clean['Weight']))"
      ],
      "execution_count": null,
      "outputs": []
    },
    {
      "cell_type": "code",
      "metadata": {
        "id": "45z3cbVTigxI"
      },
      "source": [
        "df_fifa19_clean.head()"
      ],
      "execution_count": null,
      "outputs": []
    },
    {
      "cell_type": "markdown",
      "metadata": {
        "id": "K0wyx1Z9iqWC"
      },
      "source": [
        "## 0605 EJEMPLO 8: Limpieza de columnas con precios\n",
        "Las columnas ['Value', 'Wage', 'Release Clasue'] continen valores monetarios en formatos un poco extraños: son strings, con el tipo de moneda antecediendo a la cifra, que contiene abreviaturas tipo M, K para indicar millones, miles, etc.\n",
        "\n",
        "Limpiemos estas columnas utilizando las distintas formas que hemos aprendido:"
      ]
    },
    {
      "cell_type": "markdown",
      "metadata": {
        "id": "PTrY-g8IqRPx"
      },
      "source": [
        "### 060501 Exploramos las columnas\n",
        "Para entender el formato."
      ]
    },
    {
      "cell_type": "code",
      "metadata": {
        "id": "RzFnesCFjgID"
      },
      "source": [
        "# Primero echamos un ojo a las columnas\n",
        "df_fifa19_clean[['Value','Wage','Release Clause']].head()"
      ],
      "execution_count": null,
      "outputs": []
    },
    {
      "cell_type": "code",
      "metadata": {
        "id": "pC-mU5hIkaEi"
      },
      "source": [
        "# Contienen nulos?\n",
        "df_fifa19_clean[['Value','Wage','Release Clause']].isna().sum()"
      ],
      "execution_count": null,
      "outputs": []
    },
    {
      "cell_type": "code",
      "metadata": {
        "id": "roOIITCEnb8l"
      },
      "source": [
        "# Release Clause sí tiene nulos: los rellenamos con un formato similar\n",
        "df_fifa19_clean['Release Clause'] = df_fifa19_clean['Release Clause'].fillna('€0M')"
      ],
      "execution_count": null,
      "outputs": []
    },
    {
      "cell_type": "code",
      "metadata": {
        "id": "PapLY0eEjy2d"
      },
      "source": [
        "# Todos los valores empiezan por el string '€'?\n",
        "for columna in ['Value','Wage','Release Clause']:\n",
        "  lista_valores = [x[:1] for x in df_fifa19_clean[columna]]\n",
        "  lista_sin_duplicados = list(set(lista_valores))\n",
        "  print('En la columna ' + columna + ' los valores empiezan por ', lista_sin_duplicados)"
      ],
      "execution_count": null,
      "outputs": []
    },
    {
      "cell_type": "code",
      "metadata": {
        "id": "1oxm4OZRkHS8"
      },
      "source": [
        "# Todos los valores acaban por el string 'M'?\n",
        "for columna in ['Value','Wage','Release Clause']:\n",
        "  lista_valores = [x[-1:] for x in df_fifa19_clean[columna]]\n",
        "  lista_sin_duplicados = list(set(lista_valores))\n",
        "  print('En la columna ' + columna + ' los valores acaban por ', lista_sin_duplicados)"
      ],
      "execution_count": null,
      "outputs": []
    },
    {
      "cell_type": "markdown",
      "metadata": {
        "id": "AZeYzFGTqbcs"
      },
      "source": [
        "### 060502 Iteración\n",
        "Usamos primero el menos eficiente de los métodos, la iteración sobre las filas del dataframe."
      ]
    },
    {
      "cell_type": "code",
      "metadata": {
        "id": "-ikKCvaNqsvd"
      },
      "source": [
        "for index, row in df_fifa19_clean.loc[:3,['Value','Wage','Release Clause']].iterrows():\n",
        "  print(index)\n",
        "  print(row)"
      ],
      "execution_count": null,
      "outputs": []
    },
    {
      "cell_type": "code",
      "metadata": {
        "id": "uc196Sk9rNDU"
      },
      "source": [
        "def limpieza_cols_dinero(valor_original):\n",
        "  \"\"\"\n",
        "  Esta función convierte los valores originales de ['Value','Wage','Release Clause']\n",
        "  en valores numéricos en €.\n",
        "  \"\"\"\n",
        "  if valor_original[-1]=='M':\n",
        "    valor_final = float(valor_original[1:-1])*1000000\n",
        "  elif valor_original[-1]=='K':\n",
        "    valor_final = float(valor_original[1:-1])*1000\n",
        "  else:\n",
        "    valor_final = float(valor_original[1:])\n",
        "  \n",
        "  return valor_final"
      ],
      "execution_count": null,
      "outputs": []
    },
    {
      "cell_type": "code",
      "metadata": {
        "id": "1vvBmE-IkKHX"
      },
      "source": [
        "%%timeit \n",
        "for index, row in df_fifa19_clean.iterrows():\n",
        "  \n",
        "  for columna in ['Value','Wage','Release Clause']:\n",
        "    valor_orig = row[columna]\n",
        "    df_fifa19_clean.loc[index, columna+'_€'] = limpieza_cols_dinero(valor_orig)"
      ],
      "execution_count": null,
      "outputs": []
    },
    {
      "cell_type": "markdown",
      "metadata": {
        "id": "g7qNzPa9stt_"
      },
      "source": [
        "### 060503 Dataframe.apply()"
      ]
    },
    {
      "cell_type": "code",
      "metadata": {
        "id": "NZyNGdhZioUR"
      },
      "source": [
        "%%timeit \n",
        "for columna in ['Value','Wage','Release Clause']:\n",
        "  df_fifa19_clean[columna+'_€'] = df_fifa19_clean[columna].apply(limpieza_cols_dinero)"
      ],
      "execution_count": null,
      "outputs": []
    },
    {
      "cell_type": "markdown",
      "metadata": {
        "id": "JSFO-OX5-UGz"
      },
      "source": [
        "### 060503 Vectorización"
      ]
    },
    {
      "cell_type": "code",
      "metadata": {
        "id": "0e-C8WKe-b_H"
      },
      "source": [
        "limpieza_cols_dinero_vectorizada = np.vectorize(limpieza_cols_dinero)"
      ],
      "execution_count": null,
      "outputs": []
    },
    {
      "cell_type": "code",
      "metadata": {
        "id": "PJSvWrb8-Tg9"
      },
      "source": [
        "%%timeit \n",
        "for columna in ['Value','Wage','Release Clause']:\n",
        "  df_fifa19_clean[columna+'_€'] = limpieza_cols_dinero_vectorizada(np.array(df_fifa19_clean[columna]))"
      ],
      "execution_count": null,
      "outputs": []
    },
    {
      "cell_type": "markdown",
      "metadata": {
        "id": "dtbiYDZ2_yki"
      },
      "source": [
        "## 0606 EJERCICIO 2: Limpieza variable altura\n",
        "La variable de altura de los jugadores: 'Height' está expresada en formato string y con pies y pulgadas como unidades. \n",
        "\n",
        "Crea la variable 'Height_cm' que contenga la altura de los jugadores en formato numérico (float) y con cm como unidades.\n",
        "\n",
        "Para este ejercicio te vendrá bien la función [.split()](https://pandas.pydata.org/pandas-docs/stable/reference/api/pandas.Series.str.split.html)."
      ]
    },
    {
      "cell_type": "code",
      "metadata": {
        "id": "gd3VB3Yp_-4v"
      },
      "source": [
        "# Lee la documentación de la  función split() y prueba estas ejecuciones\n",
        "string_de_prueba = 'izq.derecha'\n",
        "\n",
        "display(string_de_prueba.split('.'))\n",
        "\n",
        "display(string_de_prueba.split('.')[0])\n",
        "\n",
        "display(string_de_prueba.split('.')[1])"
      ],
      "execution_count": null,
      "outputs": []
    },
    {
      "cell_type": "code",
      "metadata": {
        "id": "-yVia_Lbc9eO"
      },
      "source": [
        "# Explora la columna, hay alguna que no contenga el separador \"'\"?\n",
        "[x for x in df_fifa19_clean['Height'] if \"'\" not in x]"
      ],
      "execution_count": null,
      "outputs": []
    },
    {
      "cell_type": "code",
      "metadata": {
        "id": "e8-1oHNpBzY5"
      },
      "source": [
        "# Define la función que pasará al altura de un string de pies'pulgadas \n",
        "# al valor numérico (float) de la altura en cm\n",
        "\n",
        "def limpieza_altura(altura_original):\n",
        "  \"\"\"\n",
        "  A partir de un string con la altura en formato: pies'pulgadas \n",
        "  devuelve un float de la altura en cm.\n",
        "  \"\"\"\n",
        "  pies = float(altura_original.split(\"'\")[0])\n",
        "  pulgadas = float(altura_original.split(\"'\")[1])\n",
        "  altura_cm = (12*pies+pulgadas)*2.54\n",
        "  return altura_cm"
      ],
      "execution_count": null,
      "outputs": []
    },
    {
      "cell_type": "code",
      "metadata": {
        "id": "4ofXfZnNE3u_"
      },
      "source": [
        "## Iteración\n",
        "%%timeit\n",
        "for index, row in df_fifa19_clean.iterrows():\n",
        "  df_fifa19_clean.loc[index, 'Height_cm'] = limpieza_altura(row['Height'])"
      ],
      "execution_count": null,
      "outputs": []
    },
    {
      "cell_type": "code",
      "metadata": {
        "id": "OdJEwne6GKbz"
      },
      "source": [
        "## Datafrane.apply()\n",
        "%%timeit\n",
        "df_fifa19_clean['Height_cm'] = df_fifa19_clean['Height'].apply(limpieza_altura)"
      ],
      "execution_count": null,
      "outputs": []
    },
    {
      "cell_type": "code",
      "metadata": {
        "id": "VW9RGaBGHM_V"
      },
      "source": [
        "## Vectorización\n",
        "limpieza_vectorizada = np.vectorize(limpieza_altura)"
      ],
      "execution_count": null,
      "outputs": []
    },
    {
      "cell_type": "code",
      "metadata": {
        "id": "Q5jg5tEAGA2f"
      },
      "source": [
        "%%timeit\n",
        "df_fifa19_clean['Height_cm'] = limpieza_vectorizada(np.array(df_fifa19_clean['Height']))"
      ],
      "execution_count": null,
      "outputs": []
    },
    {
      "cell_type": "markdown",
      "metadata": {
        "id": "9Qa0K1jE8b-K"
      },
      "source": [
        "## 0607 Creación de nuevas variables\n",
        "Además de los métodos de transformación que hemos visto, existen otros propios de las distintas clases que nos permiten también generar variables nuevas.\n",
        "\n",
        "Por ejemplo, los métodos propios de los formatos de fechas:"
      ]
    },
    {
      "cell_type": "markdown",
      "metadata": {
        "id": "5_UCU0pneJh5"
      },
      "source": [
        "### 060701 Métodos propios de timedate"
      ]
    },
    {
      "cell_type": "code",
      "metadata": {
        "id": "B9xdOMWM8bUa"
      },
      "source": [
        "# Nueva variable año\n",
        "df_sp500['Year'] = df_sp500['Date'].dt.year\n",
        "df_sp500.head()"
      ],
      "execution_count": null,
      "outputs": []
    },
    {
      "cell_type": "code",
      "metadata": {
        "id": "BotuSeRBeQJU"
      },
      "source": [
        "# Nueva variable día de la semana\n",
        "df_sp500['Day of Week'] = df_sp500['Date'].dt.dayofweek\n",
        "df_sp500.head()"
      ],
      "execution_count": null,
      "outputs": []
    },
    {
      "cell_type": "markdown",
      "metadata": {
        "id": "9zd7-7jmejqQ"
      },
      "source": [
        "### 060702 Operaciones con columnas"
      ]
    },
    {
      "cell_type": "code",
      "metadata": {
        "id": "kTngEsyX9QUF"
      },
      "source": [
        "# Nueva variable volatilidad diaria\n",
        "df_sp500['Volatilidad Diaria'] = (df_sp500['High']-df_sp500['Low'])/df_sp500['Close']\n",
        "df_sp500.head()"
      ],
      "execution_count": null,
      "outputs": []
    },
    {
      "cell_type": "code",
      "metadata": {
        "id": "1j2sC92a-G2L"
      },
      "source": [
        "df_sp500.tail()"
      ],
      "execution_count": null,
      "outputs": []
    },
    {
      "cell_type": "markdown",
      "metadata": {
        "id": "RVKI3mQUexq4"
      },
      "source": [
        "### 060703 Variables dummy\n",
        "Variables binarias que adoptan un 1 si se cumple cierta condición."
      ]
    },
    {
      "cell_type": "code",
      "metadata": {
        "id": "YgN_80pB-OxA"
      },
      "source": [
        "filtro_movilidad_diaria_disponible = df_sp500['High'] != df_sp500['Low']\n",
        "filtro_movilidad_diaria_disponible"
      ],
      "execution_count": null,
      "outputs": []
    },
    {
      "cell_type": "code",
      "metadata": {
        "id": "9zUFTxQD-s6O"
      },
      "source": [
        "# Nueva variable movilidad diaria disponible\n",
        "df_sp500['Dummy Movilidad'] = filtro_movilidad_diaria_disponible.astype(int)\n",
        "df_sp500['Dummy Movilidad']"
      ],
      "execution_count": null,
      "outputs": []
    },
    {
      "cell_type": "markdown",
      "metadata": {
        "id": "f1JcBlRWfFFz"
      },
      "source": [
        "### 060704 Operaciones de ventana\n",
        "A veces queremos realizar operaciones entre distintas filas. Por ejemplo:\n",
        "\n",
        "\n",
        "*   Comparar un valor hoy con el correspondiente ayer (ver método [.shift()](https://pandas.pydata.org/pandas-docs/stable/reference/api/pandas.DataFrame.shift.html))\n",
        "*   Calcular un estadístico respecto a los n últimos registros (ver método [.rolling()](https://pandas.pydata.org/pandas-docs/stable/reference/api/pandas.DataFrame.rolling.html))\n"
      ]
    },
    {
      "cell_type": "code",
      "metadata": {
        "id": "AAC1GjOSgUqY"
      },
      "source": [
        "df_sp500['Close'][:3]"
      ],
      "execution_count": null,
      "outputs": []
    },
    {
      "cell_type": "code",
      "metadata": {
        "id": "zGXppMA7gX5J"
      },
      "source": [
        "df_sp500['Close'].shift(1)[:3]"
      ],
      "execution_count": null,
      "outputs": []
    },
    {
      "cell_type": "code",
      "metadata": {
        "id": "VQs9VDHKf57c"
      },
      "source": [
        "# Variación respecto a ayer\n",
        "df_sp500['Variacion'] = df_sp500['Close']/df_sp500['Close'].shift(1)"
      ],
      "execution_count": null,
      "outputs": []
    },
    {
      "cell_type": "code",
      "metadata": {
        "id": "VPPVDTNWgqgo"
      },
      "source": [
        "df_sp500['Variacion'].head()"
      ],
      "execution_count": null,
      "outputs": []
    },
    {
      "cell_type": "code",
      "metadata": {
        "id": "ru-uWslxg5sz"
      },
      "source": [
        "# Variación media ultimos n días\n",
        "df_sp500['Variacion ult7'] = df_sp500['Variacion'].rolling(7).mean()"
      ],
      "execution_count": null,
      "outputs": []
    },
    {
      "cell_type": "code",
      "metadata": {
        "id": "GH_4nReug9DR"
      },
      "source": [
        "# También podemos crear nuestra propia función\n",
        "df_sp500['Variacion ac ult 250'] = df_sp500['Variacion'].rolling(7).agg(lambda x:x.prod())"
      ],
      "execution_count": null,
      "outputs": []
    },
    {
      "cell_type": "code",
      "metadata": {
        "id": "OBp9iv7qjl38"
      },
      "source": [
        "df_sp500.tail()"
      ],
      "execution_count": null,
      "outputs": []
    },
    {
      "cell_type": "markdown",
      "metadata": {
        "id": "p6NrtOOUhNz-"
      },
      "source": [
        "## 0608 Guardamos la tabla\n",
        "Hemos realizado cierto trabajo para limpiar el dataframe de los jugadores del fifa. Para no tener que repetirlo en el futuro, podemos guardar la tabla modificada y cargar ésta en adelante."
      ]
    },
    {
      "cell_type": "code",
      "metadata": {
        "id": "Xr8DShthh3_J"
      },
      "source": [
        "# Lo más sencillo es guardar el archivo en el Drive Personal\n",
        "drive.mount('/content/drive')\n",
        "df_fifa19_clean.to_csv(f\"/content/drive/My Drive/Data/Clases/Fifa19_Clean.csv\", sep=\",\", index=False)"
      ],
      "execution_count": null,
      "outputs": []
    },
    {
      "cell_type": "markdown",
      "metadata": {
        "id": "I1BXptro9Zae"
      },
      "source": [
        "# 07 Distribución de variables\n",
        "Hasta ahora hemos importado el dataset, nos hemos familiarizado con sus características principales, hemos identificado y limpiado los nulos y hemos transformado algunas variables para crear otras con más sentido.\n",
        "\n",
        "Veamos ahora cuál es la [distribución](https://es.wikipedia.org/wiki/Distribuci%C3%B3n_de_probabilidad) de cada variable."
      ]
    },
    {
      "cell_type": "code",
      "metadata": {
        "id": "8trQ9bp72Wsq"
      },
      "source": [
        "# Importamos df_fifa19_clean para asegurar haber realizado las transformaciones correctamente\n",
        "# url de archivo raw de df_fifa19_clean\n",
        "url = 'https://raw.githubusercontent.com/JotaBlanco/TheValley/main/Data/Fifa19_Clean.csv'\n",
        "\n",
        "# carga el archivo en un dataframe df_covid\n",
        "df_fifa19_clean = pd.read_csv(url)\n",
        "\n",
        "df_fifa19_clean.head()"
      ],
      "execution_count": null,
      "outputs": []
    },
    {
      "cell_type": "markdown",
      "metadata": {
        "id": "MaViOOsBIhyj"
      },
      "source": [
        "## 0701 Variables numéricas\n",
        "En cuanto a las variables de tipo numérico, el método dataframe.[describe()](https://pandas.pydata.org/pandas-docs/stable/reference/api/pandas.DataFrame.describe.html) es muy útil para conocer sus estadísticos principales."
      ]
    },
    {
      "cell_type": "code",
      "metadata": {
        "id": "PzucmtY_I8an"
      },
      "source": [
        "df_fifa19_clean.describe()"
      ],
      "execution_count": null,
      "outputs": []
    },
    {
      "cell_type": "markdown",
      "metadata": {
        "id": "uulu_p6WDgnc"
      },
      "source": [
        "## 0702 Variables categóricas\n",
        "Aquellas que pueden adoptar valores finitos. Es muy útil el método dataframe[columna].[value_counts()](https://pandas.pydata.org/pandas-docs/stable/reference/api/pandas.Series.value_counts.html)."
      ]
    },
    {
      "cell_type": "code",
      "metadata": {
        "id": "w_gXwHy69O3z"
      },
      "source": [
        "df_fifa19_clean['Nationality'].value_counts()"
      ],
      "execution_count": null,
      "outputs": []
    },
    {
      "cell_type": "code",
      "metadata": {
        "id": "tjbhDGrlFADC"
      },
      "source": [
        "df_fifa19_clean['Preferred Foot'].value_counts()"
      ],
      "execution_count": null,
      "outputs": []
    },
    {
      "cell_type": "markdown",
      "metadata": {
        "id": "A6O4gYD5cyIz"
      },
      "source": [
        "El método dataframe[columna].[unique()](https://pandas.pydata.org/pandas-docs/stable/reference/api/pandas.unique.html) puede resultar útil también."
      ]
    },
    {
      "cell_type": "code",
      "metadata": {
        "id": "QXgTdif5cxZ7"
      },
      "source": [
        "df_fifa19_clean['Nationality'].unique()"
      ],
      "execution_count": null,
      "outputs": []
    },
    {
      "cell_type": "code",
      "metadata": {
        "id": "uHfSNt-hDn2c"
      },
      "source": [
        "df_fifa19_clean.head()"
      ],
      "execution_count": null,
      "outputs": []
    },
    {
      "cell_type": "markdown",
      "metadata": {
        "id": "pMrrVk4TM7X2"
      },
      "source": [
        "## 0703 Distribuciones respecto a otras\n",
        "A veces nos interesa entender la distribución de una variable respecto a otra. Para esto suele ser muy útil la operación [groupby()](https://pandas.pydata.org/pandas-docs/stable/reference/api/pandas.DataFrame.groupby.html).\n",
        "\n",
        "Por ejemplo, son mejores los zurdos de media? Es verdad que los jugadores españoles tienden a ser pequeñitos comparados con otras nacionalidades?"
      ]
    },
    {
      "cell_type": "code",
      "metadata": {
        "id": "96BOwi7zEBCl"
      },
      "source": [
        "# Son de media mejores los zurdos?\n",
        "df_fifa19_clean.groupby('Preferred Foot')['Overall'].mean().reset_index()"
      ],
      "execution_count": null,
      "outputs": []
    },
    {
      "cell_type": "code",
      "metadata": {
        "id": "DrWH5TuJPlNs"
      },
      "source": [
        "# Son de media mejores los zurdos?\n",
        "df_fifa19_clean.groupby('Preferred Foot')['Overall'].quantile(.25).reset_index()"
      ],
      "execution_count": null,
      "outputs": []
    },
    {
      "cell_type": "code",
      "metadata": {
        "id": "nGX7WslqN6Ik"
      },
      "source": [
        "# Cuales son los paises con jugadores más grandes y pesados (y menos)?\n",
        "df_fifa19_clean.groupby('Nationality')[['Height_cm','Weight_kg']].mean().reset_index().sort_values(['Height_cm','Weight_kg'], ascending=False).head(20)"
      ],
      "execution_count": null,
      "outputs": []
    },
    {
      "cell_type": "code",
      "metadata": {
        "id": "T4gXoAqASbPJ"
      },
      "source": [
        "df_sp500.groupby('Year')['Close'].mean().reset_index()"
      ],
      "execution_count": null,
      "outputs": []
    }
  ]
}