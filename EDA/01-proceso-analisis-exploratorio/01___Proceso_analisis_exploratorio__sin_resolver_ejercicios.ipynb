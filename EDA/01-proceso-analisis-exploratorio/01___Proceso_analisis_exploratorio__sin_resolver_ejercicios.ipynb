{
  "nbformat": 4,
  "nbformat_minor": 0,
  "metadata": {
    "colab": {
      "name": "01 _ Proceso-analisis-exploratorio.ipynb",
      "provenance": [],
      "toc_visible": true,
      "authorship_tag": "ABX9TyMrBp9vO9TS9ebLE0En0Hf4",
      "include_colab_link": true
    },
    "kernelspec": {
      "name": "python3",
      "display_name": "Python 3"
    }
  },
  "cells": [
    {
      "cell_type": "markdown",
      "metadata": {
        "id": "view-in-github",
        "colab_type": "text"
      },
      "source": [
        "<a href=\"https://colab.research.google.com/github/JotaBlanco/TheValley/blob/main/EDA/01-proceso-analisis-exploratorio/01___Proceso_analisis_exploratorio__sin_resolver_ejercicios.ipynb\" target=\"_parent\"><img src=\"https://colab.research.google.com/assets/colab-badge.svg\" alt=\"Open In Colab\"/></a>"
      ]
    },
    {
      "cell_type": "markdown",
      "metadata": {
        "id": "R53FGLN8jo1L"
      },
      "source": [
        "# INTRO: Proceso Análisis Exploratorio \n",
        "Introducción al EDA (Exploratory Data Analysis).\n",
        "\n",
        "Notebook por [Javier Blanco Cordero](https://www.linkedin.com/in/javier-blanco-cordero-71373656/).\n",
        "\n",
        "### Enlaces de interés\n",
        "*   [Slides de presentación](https://docs.google.com/presentation/d/1IT6OVy9YS_sbgHF2oU9D0L--fZiyUfij7NxVhu3cAdg/edit?usp=sharing)\n",
        "*   [Enlace a este notebook en Colab](https://colab.research.google.com/github/JotaBlanco/TheValley/blob/main/Notebooks/01-proceso-analisis-exploratorio/01___Proceso_analisis_exploratorio__sin_resolver_ejercicios.ipynb)\n",
        "*   [Enlace a este notebook resuelto](https://colab.research.google.com/drive/1B37GMOCjKQ0S8NoRI6lALEW9EZtE0Hit#scrollTo=R53FGLN8jo1L)\n",
        "\n",
        "\n"
      ]
    },
    {
      "cell_type": "markdown",
      "metadata": {
        "id": "cnHRaho3rsXS"
      },
      "source": [
        "# 01 Import\n",
        "Importamos todas las librerías necesarias para este análisis ([¿No sabes lo que es una librería de Python?](https://www.quora.com/What-is-a-Python-library-and-what-can-I-use-it-for))."
      ]
    },
    {
      "cell_type": "code",
      "metadata": {
        "id": "4be6xiUqjPHI"
      },
      "source": [
        "import pandas as pd\n",
        "import numpy as np\n",
        "import matplotlib.pyplot as plt"
      ],
      "execution_count": null,
      "outputs": []
    },
    {
      "cell_type": "markdown",
      "metadata": {
        "id": "B_0JTVo0sIvm"
      },
      "source": [
        "# 02 Load Data\n",
        "El primer paso para analizar datos es, claro, importarlos. Esto no es siempre trivial, especialmente trabajando con Colab ya que nuestro notebook está en la nube de Google y hay que conseguir hacer llegar los datos allí también. \n",
        "\n",
        "Vamos a ver [varias formas de importar](https://towardsdatascience.com/3-ways-to-load-csv-files-into-colab-7c14fcbdcb92) datos en Colab.\n",
        "\n",
        "\n",
        "*   Importar una tabla desde Github\n",
        "*   Cargar (y luego importar) una tabla de nuestro local\n",
        "*   Importar una tabla de Google Drive"
      ]
    },
    {
      "cell_type": "markdown",
      "metadata": {
        "id": "_dPwOUhOXNyg"
      },
      "source": [
        "## 0201 Importar una tabla desde GitHub\n",
        "\n",
        "Es posible importar una tabla que guardemos en GitHub ([¿No sabes lo que es GitHub?](https://guides.github.com/activities/hello-world/)). GitHub es un repositorio de código, más que un lugar donde guardar datos habitualmente. De todas formas, podemos importar una tabla (pequeña) desde gitHub así:\n",
        "\n",
        "1.   Las tablas deben ser pequeñas, pues GitHub no permite archivos mayores de 100MB \n",
        "2.   Localiza la tabla en un repositorio tuyo o público\n",
        "3.   Pulsa en la opción RAW y copia el link de la dirección resultante\n",
        "4.   Importa los datos utilizando pd.read_csv(link_raw)\n",
        "\n"
      ]
    },
    {
      "cell_type": "markdown",
      "metadata": {
        "id": "YUPn3Da-m0IV"
      },
      "source": [
        "### 020101 EJEMPLO 1: Covid-19\n",
        "La universidad Johns Hopkins (USA) viene recopilando datos de la mayor fiabilidad posible sobre los casos y muertes confirmados por covid-19 mundialmente. Los datos son públicos y se actualizan diariamente en [su repositorio de GitHub](https://github.com/CSSEGISandData/COVID-19).\n",
        "\n",
        "Dentro de este repositorio, hay diversos datasets, fuentes, código. Pongamos que nos interesa el dataset de casos confirmados a nivel mundial. \n",
        "\n",
        "¿Cómo podemos cargalo en este notebook en un Dataframe llamado df_covid?"
      ]
    },
    {
      "cell_type": "code",
      "metadata": {
        "id": "Vv9n9Pmgkn2O"
      },
      "source": [
        "# url de archivo raw de casos confirmados\n",
        "url = 'https://raw.githubusercontent.com/CSSEGISandData/COVID-19/master/csse_covid_19_data/csse_covid_19_time_series/time_series_covid19_confirmed_global.csv'\n",
        "\n",
        "# carga el archivo en un dataframe df_covid\n",
        "df_covid = pd.read_csv(url)\n",
        "\n",
        "df_covid.head()"
      ],
      "execution_count": null,
      "outputs": []
    },
    {
      "cell_type": "markdown",
      "metadata": {
        "id": "xewz8mV20Yp-"
      },
      "source": [
        "## 0202 Importar una tabla local\n",
        "\n",
        "Es posible importar una tabla que guardemos en nuestro local (en nuestro PC). \n",
        "\n",
        "1.   Primero tendremos que subir el archivo de nuestro local a la nube de Google \n",
        "2.   Luego generemos un buffer de los datos\n",
        "3.   Finalmente los importaremos utilizando pd.read_csv()"
      ]
    },
    {
      "cell_type": "markdown",
      "metadata": {
        "id": "X9uX8-ujlaWO"
      },
      "source": [
        "### 020201 EJEMPLO 2: SP500\n",
        "Descargad [ese dataset](https://drive.google.com/file/d/1OfTfaCTGtiS27G-uNpDsRgHqFUIaZ3XP/view?usp=sharing) de mi Google Drive personal a vuestro PC. Recoge la evolución diaria histórica del [SP&500](https://en.wikipedia.org/wiki/S%26P_500_Index). \n",
        "\n",
        "\n",
        "Ahora que está en vuestro local, ¿Cómo podríamos cargarlo a este notebook?"
      ]
    },
    {
      "cell_type": "code",
      "metadata": {
        "id": "QPHiytPq1eYG"
      },
      "source": [
        "# Subimos el archivo\n",
        "from google.colab import files\n",
        "uploaded = files.upload()"
      ],
      "execution_count": null,
      "outputs": []
    },
    {
      "cell_type": "code",
      "metadata": {
        "id": "Kyjci7SKFRJe"
      },
      "source": [
        "# Cargamos el archivo ya subido en un dataframe\n",
        "df_sp500 = pd.read_csv(\"sp500.csv\")\n",
        "df_sp500.head(3)"
      ],
      "execution_count": null,
      "outputs": []
    },
    {
      "cell_type": "markdown",
      "metadata": {
        "id": "gn4n_Pr8IXvR"
      },
      "source": [
        "## 0203 Importar una tabla de Google Drive\n",
        "\n",
        "Es posible importar una tabla guardada en Google Drive. Requiere:\n",
        "\n",
        "1.   Emparejar Colab y Google Drive \n",
        "2.   Importarlo utilizando pd.read_csv()"
      ]
    },
    {
      "cell_type": "markdown",
      "metadata": {
        "id": "AblkT14d4Gvt"
      },
      "source": [
        "### 020301 EJEMPLO 3: Fifa19\n",
        "Descargad [este dataset](https://drive.google.com/file/d/1_qzowEIMZsLYL1VbeXb9pzSpMkPSRqWb/view?usp=sharing) con las características de los jugadores del Fifa 19 de mi Google Drive personal a vuestro pc y luego subidlo a vuestro Google Drive. \n",
        "\n",
        "¿Cómo podríamos cargarlo desde ahí a este notebook?"
      ]
    },
    {
      "cell_type": "code",
      "metadata": {
        "id": "HAe4wephIW8a"
      },
      "source": [
        "# Primero emparejamos Colab con Google Drive\n",
        "from google.colab import drive\n",
        "drive.mount('/content/drive')"
      ],
      "execution_count": null,
      "outputs": []
    },
    {
      "cell_type": "code",
      "metadata": {
        "id": "nIRDFybWHzFC"
      },
      "source": [
        "# Importamos el archivos usando read_csv()\n",
        "dir_archivo = 'drive/My Drive/Data/Clases/fifa19.csv'\n",
        "df_fifa19 = pd.read_csv(dir_archivo)\n",
        "df_fifa19.head()"
      ],
      "execution_count": null,
      "outputs": []
    },
    {
      "cell_type": "markdown",
      "metadata": {
        "id": "aHaTVDM1s97Q"
      },
      "source": [
        "## 0204 EJERCICIO 1: Importar una tabla de varias formas\n",
        "\n",
        "[Kaggle](https://www.kaggle.com/) es un sitio web imprescindible si estás aprendiendo ciencia de datos. Hay competiciones de machine learning, cursos, posts... \n",
        "\n",
        "Y también es un buen sitio para buscar datos, como haremos en esta ocasión. Yo me he fijado en [este](https://www.kaggle.com/miguelsxvi/air-quality-madrid-2001-2020?select=calidad_aire_madrid.csv), que contiene la evolución diaria de la concentración de diversas partículas contaminantes en Madrid. \n",
        "\n",
        "Leed la descripción de la página para familiarizaros con Kaggle y descargad el csv a vuestro pc. Luego, probad a cargarlo en este Notebook utilizando las 3 formas que hemos visto. (Para traerlo desde GitHub podéis utilizar [esta copia del archivo en mi GitHub personal](https://github.com/JotaBlanco/TheValley/blob/main/Data/calidad_aire_madrid.csv)). Comparad la velocidad y sencillez de cada método."
      ]
    },
    {
      "cell_type": "code",
      "metadata": {
        "id": "tpwgbGlMrAYq"
      },
      "source": [
        "# DESDE GITHUB\n",
        "\n",
        "# url de archivo raw\n",
        "\n",
        "\n",
        "# carga el archivo en un dataframe df_aire\n",
        "\n",
        "\n",
        "# visualiza la tabla\n"
      ],
      "execution_count": null,
      "outputs": []
    },
    {
      "cell_type": "code",
      "metadata": {
        "id": "QcnvlCCkT-xR"
      },
      "source": [
        "# DESDE LOCAL\n",
        "\n",
        "# Subimos el archivo\n",
        "\n",
        "# Cargamos el archivo ya subido en un dataframe df_aire_2\n",
        "\n",
        "# Lo visualizamos\n"
      ],
      "execution_count": null,
      "outputs": []
    },
    {
      "cell_type": "code",
      "metadata": {
        "id": "sKT6_Q6br8KV"
      },
      "source": [
        "# DESDE GOOGLE DRIVE\n",
        "\n",
        "# Primero emparejamos Colab con Google Drive\n",
        "\n",
        "# Importamos el archivo usando read_csv() como df_aire_3\n",
        "\n",
        "# Visualizamos\n"
      ],
      "execution_count": null,
      "outputs": []
    },
    {
      "cell_type": "markdown",
      "metadata": {
        "id": "h7Kzm-MgRC7x"
      },
      "source": [
        "## 0205 CHULETA\n",
        "Dado que los dataframes importados hasta ahora se usan más tarde a lo largo de este notebook, si habéis tenido cualquier problema al importarlos podéis hacerlo ahora desde mi github:"
      ]
    },
    {
      "cell_type": "code",
      "metadata": {
        "id": "xjTiu9XqRDPw"
      },
      "source": [
        "url_covid = 'https://raw.githubusercontent.com/CSSEGISandData/COVID-19/master/csse_covid_19_data/csse_covid_19_time_series/time_series_covid19_confirmed_global.csv'\n",
        "url_sp500 = 'https://raw.githubusercontent.com/JotaBlanco/TheValley/main/Data/sp500.csv'\n",
        "url_fifa = 'https://raw.githubusercontent.com/JotaBlanco/TheValley/main/Data/fifa19.csv'\n",
        "url_aire = 'https://raw.githubusercontent.com/JotaBlanco/TheValley/main/Data/calidad_aire_madrid.csv'\n",
        "\n",
        "df_covid = pd.read_csv(url_covid)\n",
        "df_sp500 = pd.read_csv(url_sp500)\n",
        "df_fifa19 = pd.read_csv(url_fifa)\n",
        "df_aire = pd.read_csv(url_aire)"
      ],
      "execution_count": null,
      "outputs": []
    },
    {
      "cell_type": "markdown",
      "metadata": {
        "id": "KBOQJ0AjdYrM"
      },
      "source": [
        "# 03 Basic checks\n",
        "Una vez se han importado los datos, empezamos realizando comprobaciones básicas: tamaño de la tabla, columnas presentes, etc.\n",
        "\n",
        "El método dataframe.[info()](https://pandas.pydata.org/pandas-docs/stable/reference/api/pandas.DataFrame.info.html) es muy útil para esto."
      ]
    },
    {
      "cell_type": "code",
      "metadata": {
        "id": "9mYRz8Tty_br"
      },
      "source": [
        "df_sp500.info()"
      ],
      "execution_count": null,
      "outputs": []
    },
    {
      "cell_type": "markdown",
      "metadata": {
        "id": "J93MDkTffXXG"
      },
      "source": [
        "## 0301 Vista previa\n",
        "Una buena primera comprobación suele ser visualizar la tabla. \n",
        "\n",
        "Aquí son muy útiles los métodos dataframe.[head()](https://pandas.pydata.org/pandas-docs/stable/reference/api/pandas.DataFrame.head.html) y dataframe.[tail()](https://pandas.pydata.org/pandas-docs/stable/reference/api/pandas.DataFrame.tail.html)."
      ]
    },
    {
      "cell_type": "code",
      "metadata": {
        "id": "Xr6XXUD3fIAO"
      },
      "source": [
        "df_sp500.head()"
      ],
      "execution_count": null,
      "outputs": []
    },
    {
      "cell_type": "code",
      "metadata": {
        "id": "qt-maoAZgOl3"
      },
      "source": [
        "df_sp500.head(2)"
      ],
      "execution_count": null,
      "outputs": []
    },
    {
      "cell_type": "code",
      "metadata": {
        "id": "TgGVIgGIgUD8"
      },
      "source": [
        "df_sp500.tail()"
      ],
      "execution_count": null,
      "outputs": []
    },
    {
      "cell_type": "markdown",
      "metadata": {
        "id": "gKN9znvm22-_"
      },
      "source": [
        "### iloc[filas,columnas]\n",
        "Filtra el dataframe para quedarse con datos concretos utilizando indices."
      ]
    },
    {
      "cell_type": "code",
      "metadata": {
        "id": "NM7tpUM7gcco"
      },
      "source": [
        "df_sp500.iloc[1:3]"
      ],
      "execution_count": null,
      "outputs": []
    },
    {
      "cell_type": "code",
      "metadata": {
        "id": "P-ZqQ-C-3QFL"
      },
      "source": [
        "df_sp500.iloc[-5:,:5]"
      ],
      "execution_count": null,
      "outputs": []
    },
    {
      "cell_type": "markdown",
      "metadata": {
        "id": "uAmUX3JH3b9M"
      },
      "source": [
        "### loc[filas,columnas]\n",
        "Filtra el dataframe para quedarse con datos concretos utilizando valores."
      ]
    },
    {
      "cell_type": "code",
      "metadata": {
        "id": "Q3wx14th2zUi"
      },
      "source": [
        "df_sp500.loc[2:5, ['Date','Open','Close']]"
      ],
      "execution_count": null,
      "outputs": []
    },
    {
      "cell_type": "code",
      "metadata": {
        "id": "5eFFA4O7gmj8"
      },
      "source": [
        "# Admite filtros!\n",
        "filtro_posterior_2018 = df_sp500['Date'] > '2018-12-31'\n",
        "filtro_posterior_2018"
      ],
      "execution_count": null,
      "outputs": []
    },
    {
      "cell_type": "code",
      "metadata": {
        "id": "Nkq6MfbghCZP"
      },
      "source": [
        "df_sp500.loc[filtro_posterior_2018, ['Date','Open','Close']]"
      ],
      "execution_count": null,
      "outputs": []
    },
    {
      "cell_type": "markdown",
      "metadata": {
        "id": "roYXoEuoeOB1"
      },
      "source": [
        "## 0302 Tamaño\n",
        "El tamaño de las tablas se puede comprobar con dataframe.[shape](https://pandas.pydata.org/pandas-docs/stable/reference/api/pandas.DataFrame.shape.html), que devuelve un tupple (filas, columnas)."
      ]
    },
    {
      "cell_type": "code",
      "metadata": {
        "id": "s6HaXEYPeJGU"
      },
      "source": [
        "df_covid.shape"
      ],
      "execution_count": null,
      "outputs": []
    },
    {
      "cell_type": "code",
      "metadata": {
        "id": "TgbFNU3qexBi"
      },
      "source": [
        "# filas\n",
        "df_covid.shape[0]"
      ],
      "execution_count": null,
      "outputs": []
    },
    {
      "cell_type": "code",
      "metadata": {
        "id": "ZhFEBHdIe9uT"
      },
      "source": [
        "# filas\n",
        "len(df_covid)"
      ],
      "execution_count": null,
      "outputs": []
    },
    {
      "cell_type": "code",
      "metadata": {
        "id": "B8Q_T8bVe3ou"
      },
      "source": [
        "# columnas\n",
        "df_covid.shape[1]"
      ],
      "execution_count": null,
      "outputs": []
    },
    {
      "cell_type": "code",
      "metadata": {
        "id": "dc4WBjcqelS4"
      },
      "source": [
        "df_sp500.shape"
      ],
      "execution_count": null,
      "outputs": []
    },
    {
      "cell_type": "code",
      "metadata": {
        "id": "YBNbfdQEeoC4"
      },
      "source": [
        "df_fifa19.shape"
      ],
      "execution_count": null,
      "outputs": []
    },
    {
      "cell_type": "code",
      "metadata": {
        "id": "YoTcd-RD9ACK"
      },
      "source": [
        "df_aire.shape"
      ],
      "execution_count": null,
      "outputs": []
    },
    {
      "cell_type": "markdown",
      "metadata": {
        "id": "ArizLXfs43CD"
      },
      "source": [
        "## 0303 Tipos de datos\n",
        "Qué tipos de datos contiene nuestro dataframe?"
      ]
    },
    {
      "cell_type": "code",
      "metadata": {
        "id": "Bf1-1v6desoJ"
      },
      "source": [
        "df_fifa19.info()"
      ],
      "execution_count": null,
      "outputs": []
    },
    {
      "cell_type": "code",
      "metadata": {
        "id": "zf0zSKJo7B2e"
      },
      "source": [
        "df_fifa19.head(2)"
      ],
      "execution_count": null,
      "outputs": []
    },
    {
      "cell_type": "code",
      "metadata": {
        "id": "llks32JF7LYx"
      },
      "source": [
        "type(df_fifa19)"
      ],
      "execution_count": null,
      "outputs": []
    },
    {
      "cell_type": "code",
      "metadata": {
        "id": "f3-tHTGT9GLs"
      },
      "source": [
        "type(df_fifa19['ID'])"
      ],
      "execution_count": null,
      "outputs": []
    },
    {
      "cell_type": "code",
      "metadata": {
        "id": "6zPHfGmG9IqI"
      },
      "source": [
        "type(df_fifa19['ID'][0])"
      ],
      "execution_count": null,
      "outputs": []
    },
    {
      "cell_type": "code",
      "metadata": {
        "id": "UyOCzVC-9LNE"
      },
      "source": [
        "type(df_fifa19['Name'][0])"
      ],
      "execution_count": null,
      "outputs": []
    },
    {
      "cell_type": "markdown",
      "metadata": {
        "id": "kWtOKi7tDFx0"
      },
      "source": [
        "## 0304 Variables\n",
        "El método dataframe.[columns](https://www.google.com/search?q=dataframe+columns&oq=dataframe+columns&aqs=chrome..69i57j0l5.5054j0j4&sourceid=chrome&ie=UTF-8) devuelve las columnas de nuestra tabla en orden. Es útil en lugar del método info() cuando tenemos muchas columnas, o para realizar operaciones con ellas. "
      ]
    },
    {
      "cell_type": "code",
      "metadata": {
        "id": "lBKkhpqmDSEb"
      },
      "source": [
        "df_fifa19.columns"
      ],
      "execution_count": null,
      "outputs": []
    },
    {
      "cell_type": "markdown",
      "metadata": {
        "id": "b0_f4lM4f-mC"
      },
      "source": [
        "## 0305 EJEMPLO 4: Comprobaciones básicas\n",
        "Hagamos las comprobaciones básicas del dataframe sobre la calidad del aire de Madrid:\n",
        "\n",
        "\n",
        "*   Número de filas y columnas\n",
        "*   Nombre de las columnas\n",
        "*   Tipos de dato de cada columna\n",
        "*   Vista previa de los primeros y últimos valores"
      ]
    },
    {
      "cell_type": "code",
      "metadata": {
        "id": "f5VsFfTxga6j"
      },
      "source": [
        "# info()\n",
        "df_aire.info()"
      ],
      "execution_count": null,
      "outputs": []
    },
    {
      "cell_type": "code",
      "metadata": {
        "id": "6emzzDpcifuc"
      },
      "source": [
        "# Vista previas\n",
        "display(df_aire.head())\n",
        "display(df_aire.tail())"
      ],
      "execution_count": null,
      "outputs": []
    },
    {
      "cell_type": "markdown",
      "metadata": {
        "id": "WJV8LAGGKkqG"
      },
      "source": [
        "# 04 Limpieza de Nulos\n",
        "Los nulos son habituales y un poco molestos. Constituyen una pérdida de información y pueden impedir ciertos cálculos.\n",
        "\n",
        "Es importante detectarlos y, cuando sea posible, corregirlos."
      ]
    },
    {
      "cell_type": "markdown",
      "metadata": {
        "id": "5Xe-BGZXM9Z7"
      },
      "source": [
        "## 0401 Nulos por variable\n",
        "Podemos ver el número de nulos por variable.\n",
        "\n",
        "Dataframe[.isna()](https://pandas.pydata.org/pandas-docs/stable/reference/api/pandas.DataFrame.isna.html) es un método muy útil."
      ]
    },
    {
      "cell_type": "code",
      "metadata": {
        "id": "_qvjjkpeLZPQ"
      },
      "source": [
        "# Método isna()\n",
        "df_fifa19.isna().head()"
      ],
      "execution_count": null,
      "outputs": []
    },
    {
      "cell_type": "code",
      "metadata": {
        "id": "auxOC7qZLZTH"
      },
      "source": [
        "df_fifa19.isna().sum()"
      ],
      "execution_count": null,
      "outputs": []
    },
    {
      "cell_type": "code",
      "metadata": {
        "id": "-j-hOnq3LZW4"
      },
      "source": [
        "pd.DataFrame(df_fifa19.isna().sum())"
      ],
      "execution_count": null,
      "outputs": []
    },
    {
      "cell_type": "markdown",
      "metadata": {
        "id": "X5lZQU62jSnp"
      },
      "source": [
        "### 040101 EJEMPLO 5: Función buscadora de nulos\n",
        "vamos a crear una función que, dado un dataframe, muestra una tabla con el número de nulos por variable ordenado de mayor a menor."
      ]
    },
    {
      "cell_type": "code",
      "metadata": {
        "id": "R7vAgPryKzJH"
      },
      "source": [
        "def contador_nulos(df):\n",
        "  \"\"\"\n",
        "  Función que devuelve un dataframe indicando el número de nulos en cada\n",
        "  variables. \n",
        "  \"\"\"\n",
        "  df_nulos = pd.DataFrame(df.isna().sum())\n",
        "  df_nulos.columns = ['# Nulos']\n",
        "  return df_nulos.sort_values('# Nulos', ascending=False)"
      ],
      "execution_count": null,
      "outputs": []
    },
    {
      "cell_type": "code",
      "metadata": {
        "id": "iWk5NEiOMV73"
      },
      "source": [
        "contador_nulos(df_covid)"
      ],
      "execution_count": null,
      "outputs": []
    },
    {
      "cell_type": "code",
      "metadata": {
        "id": "qWMIkT2FMbkd"
      },
      "source": [
        "contador_nulos(df_sp500)"
      ],
      "execution_count": null,
      "outputs": []
    },
    {
      "cell_type": "code",
      "metadata": {
        "id": "ePhK1OT9Mfcy"
      },
      "source": [
        "df_contador = contador_nulos(df_fifa19)\n",
        "df_contador.head()"
      ],
      "execution_count": null,
      "outputs": []
    },
    {
      "cell_type": "markdown",
      "metadata": {
        "id": "e10yfv33N5DA"
      },
      "source": [
        "## 0402 Explorar Nulos\n",
        "Cuando sea posible es recomendable entender la causa de los nulos. Hay algún patrón que se repite entre los nulos?"
      ]
    },
    {
      "cell_type": "code",
      "metadata": {
        "id": "XUmdd32nPBl5"
      },
      "source": [
        "# La columna 'Lat' solo tenía un nulo, podemos entender por qué?\n",
        "filtro_lat_nulo = df_covid['Lat'].isna()\n",
        "df_covid.loc[filtro_lat_nulo, ['Province/State', 'Country/Region', 'Lat', 'Long']]"
      ],
      "execution_count": null,
      "outputs": []
    },
    {
      "cell_type": "markdown",
      "metadata": {
        "id": "3mDf8BDVkW3Q"
      },
      "source": [
        "### EJEMPLO 6: Entender nulos en 'Province/State'\n",
        "En esta columna hay muchos nulos: 188. Para entender cuándo están presentes, vamos a qué paises pertenencen y a cuáles no."
      ]
    },
    {
      "cell_type": "code",
      "metadata": {
        "id": "AJK90IjBO6cI"
      },
      "source": [
        "filtro_col_nulos = df_covid['Province/State'].isna()\n",
        "filtro_col_nulos"
      ],
      "execution_count": null,
      "outputs": []
    },
    {
      "cell_type": "code",
      "metadata": {
        "id": "DOY9LxhmN4Ir"
      },
      "source": [
        "filtro_col_no_nulos = df_covid['Province/State'].isna()==False\n",
        "filtro_col_no_nulos"
      ],
      "execution_count": null,
      "outputs": []
    },
    {
      "cell_type": "code",
      "metadata": {
        "id": "-0h9MFzeOuxe"
      },
      "source": [
        "df_covid.loc[filtro_col_nulos, 'Country/Region']"
      ],
      "execution_count": null,
      "outputs": []
    },
    {
      "cell_type": "code",
      "metadata": {
        "id": "pdtzv52wlL_P"
      },
      "source": [
        "paises_provincia_nulos = df_covid.loc[filtro_col_nulos, 'Country/Region'].unique()\n",
        "paises_provincia_nulos"
      ],
      "execution_count": null,
      "outputs": []
    },
    {
      "cell_type": "code",
      "metadata": {
        "id": "f99RJL4YfYfx"
      },
      "source": [
        "paises_provincia_no_nulos = df_covid.loc[filtro_col_no_nulos, 'Country/Region'].unique()\n",
        "paises_provincia_no_nulos"
      ],
      "execution_count": null,
      "outputs": []
    },
    {
      "cell_type": "markdown",
      "metadata": {
        "id": "Ly6PBQLTPRhs"
      },
      "source": [
        "## 0403 Tratamiento de Nulos\n",
        "Una vez hemos detectado los nulos presentes en la tabla podemos corregirlos de varias formas."
      ]
    },
    {
      "cell_type": "markdown",
      "metadata": {
        "id": "iApBnShqUCgY"
      },
      "source": [
        "### 040301 Prescindir de Nulos\n",
        "Si tenemos pocas filas con nulos y consideramos que no son muy decisivas, podemos prescindir de dichas filas con el método dataframe.[dropna()](https://pandas.pydata.org/pandas-docs/stable/reference/api/pandas.DataFrame.dropna.html)."
      ]
    },
    {
      "cell_type": "code",
      "metadata": {
        "id": "MAq3sI7uVhIZ"
      },
      "source": [
        "# Tamaño del dataframe original\n",
        "df_covid.shape"
      ],
      "execution_count": null,
      "outputs": []
    },
    {
      "cell_type": "code",
      "metadata": {
        "id": "pe3wr5XvUaYz"
      },
      "source": [
        "# Eliminamos filas con nulos en la columna 'Lat'\n",
        "df_covid_drop_null_lat = df_covid.dropna(subset=['Lat'])\n",
        "df_covid_drop_null_lat.shape"
      ],
      "execution_count": null,
      "outputs": []
    },
    {
      "cell_type": "markdown",
      "metadata": {
        "id": "Px3kdZPhXNli"
      },
      "source": [
        "#### 04030101 EJEMPLO 7: Eliminar filas\n",
        "En el dataframe de jugadores del Fifa, si hay ciertas filas con con gran presencia de nulos y éstas no suponen un número significativo para el total, podemos eliminarlas."
      ]
    },
    {
      "cell_type": "code",
      "metadata": {
        "id": "DR2HvE0KXM6c"
      },
      "source": [
        "df_fifa19.shape"
      ],
      "execution_count": null,
      "outputs": []
    },
    {
      "cell_type": "code",
      "metadata": {
        "id": "2lrdX3bqXb3E"
      },
      "source": [
        "# Parece que hay 48 jugadores de los que no tenemos datos. Son poquitos \n",
        "# (comparado con el total de 18207) así que podemos prescindir de ellos\n",
        "df_contador.head(50)"
      ],
      "execution_count": null,
      "outputs": []
    },
    {
      "cell_type": "code",
      "metadata": {
        "id": "oLFP3z_pYC7s"
      },
      "source": [
        "# Eliminamos aquellas filas que no tienen informado el peso del jugardor\n",
        "df_fifa19.dropna(axis=0, subset=['Weight'], inplace=True)\n",
        "df_contador = contador_nulos(df_fifa19)\n",
        "df_contador.head(50)"
      ],
      "execution_count": null,
      "outputs": []
    },
    {
      "cell_type": "code",
      "metadata": {
        "id": "Sj7uSjGmZj_n"
      },
      "source": [
        "df_fifa19.shape"
      ],
      "execution_count": null,
      "outputs": []
    },
    {
      "cell_type": "markdown",
      "metadata": {
        "id": "Bdqa5LmYVuQD"
      },
      "source": [
        "### 040302 Rellenar Nulos con Valores\n",
        "Podemos sustituir los nulos con valores concretos: 0, la media o mediana, etc.\n",
        "\n",
        "Para esto podemos utilizar el método dataframe.[fillna()](https://pandas.pydata.org/pandas-docs/stable/reference/api/pandas.DataFrame.fillna.html#pandas.DataFrame.fillna)."
      ]
    },
    {
      "cell_type": "code",
      "metadata": {
        "id": "kQT4se6ylNFG"
      },
      "source": [
        "df_contador = contador_nulos(df_fifa19)\n",
        "df_contador.head(50)"
      ],
      "execution_count": null,
      "outputs": []
    },
    {
      "cell_type": "code",
      "metadata": {
        "id": "Y4hph9MSYWp_"
      },
      "source": [
        "# Nulos en columna 'Club'\n",
        "df_fifa19['Club'] = df_fifa19['Club'].fillna('Unknown')"
      ],
      "execution_count": null,
      "outputs": []
    },
    {
      "cell_type": "code",
      "metadata": {
        "id": "MdK76ilRkz-u"
      },
      "source": [
        "# Nulos en columna 'Jersey Number'\n",
        "mediana_dorsal = df_fifa19['Jersey Number'].median()\n",
        "df_fifa19['Jersey Number'] = df_fifa19['Jersey Number'].fillna(mediana_dorsal)"
      ],
      "execution_count": null,
      "outputs": []
    },
    {
      "cell_type": "markdown",
      "metadata": {
        "id": "AX1SgTxG-LZe"
      },
      "source": [
        "# 05 Limpieza de datos\n",
        "Es habitual que algunos de los datos se encuentren en formatos no apropiados.\n"
      ]
    },
    {
      "cell_type": "markdown",
      "metadata": {
        "id": "ObFdY6I5_CZt"
      },
      "source": [
        "## 0501 Limpieza de Formatos\n",
        "A veces los datos se encuentran en formatos no adecuados. Un formato correspondiente con el tipo de dato permitirá realizar ciertas operaciones con mayor facilidad.\n",
        "\n",
        "Para esto nos serán de utilidad los métodos:\n",
        "\n",
        "*   [astype()](https://pandas.pydata.org/pandas-docs/stable/reference/api/pandas.DataFrame.astype.html)\n",
        "*   [to_datetime()](https://pandas.pydata.org/pandas-docs/stable/reference/api/pandas.to_datetime.html)"
      ]
    },
    {
      "cell_type": "code",
      "metadata": {
        "id": "d07H-0uF-Ks0"
      },
      "source": [
        "df_sp500.loc[:5,'Date']"
      ],
      "execution_count": null,
      "outputs": []
    },
    {
      "cell_type": "code",
      "metadata": {
        "id": "rd20qWh1_fkJ"
      },
      "source": [
        "df_sp500.loc[:5,'Date'][0]"
      ],
      "execution_count": null,
      "outputs": []
    },
    {
      "cell_type": "code",
      "metadata": {
        "id": "VsMoNQJO_kGc"
      },
      "source": [
        "type(df_sp500.loc[:5,'Date'][0])"
      ],
      "execution_count": null,
      "outputs": []
    },
    {
      "cell_type": "code",
      "metadata": {
        "id": "zZjdNJML_ooA"
      },
      "source": [
        "# Cambiamos el formato de la columna 'Date'\n",
        "df_sp500['Date'] = pd.to_datetime(\n",
        "    df_sp500['Date'], format='%Y-%m-%d', errors='ignore')"
      ],
      "execution_count": null,
      "outputs": []
    },
    {
      "cell_type": "markdown",
      "metadata": {
        "id": "GsU8DNL4Dkcl"
      },
      "source": [
        "## 0502 Eliminación de variables\n",
        "Se pueden eliminar columnas o filas no necesarias con el método dataframe.[drop()](https://pandas.pydata.org/pandas-docs/stable/reference/api/pandas.DataFrame.drop.html)."
      ]
    },
    {
      "cell_type": "code",
      "metadata": {
        "id": "onlfIXIOEV27"
      },
      "source": [
        "df_fifa19.head(3)"
      ],
      "execution_count": null,
      "outputs": []
    },
    {
      "cell_type": "code",
      "metadata": {
        "id": "mzFmAfgQEoQk"
      },
      "source": [
        "df_fifa19.columns"
      ],
      "execution_count": null,
      "outputs": []
    },
    {
      "cell_type": "code",
      "metadata": {
        "id": "G_l2pcPqEt-6"
      },
      "source": [
        "cols_to_drop = ['Unnamed: 0', 'ID', 'Photo', 'Flag', 'Club Logo', \n",
        "                'LS', 'ST', 'RS', 'LW', 'LF', 'CF', 'RF', 'RW', 'LAM', 'CAM', \n",
        "                'RAM', 'LM', 'LCM', 'CM', 'RCM', 'RM', 'LWB', 'LDM', 'CDM', \n",
        "                'RDM', 'RWB', 'LB', 'LCB', 'CB', 'RCB', 'RB']\n",
        "\n",
        "df_fifa19_clean = df_fifa19.drop(cols_to_drop, axis=1)"
      ],
      "execution_count": null,
      "outputs": []
    },
    {
      "cell_type": "code",
      "metadata": {
        "id": "uheiOkVHGkS7"
      },
      "source": [
        "df_fifa19.shape, df_fifa19_clean.shape"
      ],
      "execution_count": null,
      "outputs": []
    },
    {
      "cell_type": "markdown",
      "metadata": {
        "id": "-coYyqFwKZnN"
      },
      "source": [
        "# 06 Transformación de variables\n",
        "A veces querremos crear nuevas variables o modificar variables existentes de manera un poco más personalizada/compleja que lo visto hasta ahora. Cómo lo hacemos?\n",
        "\n",
        "Para cambiar los valores en una columna debemos tratar de evitar iterar sobre las filas del dataframe. Son procesos lentos que llevarán mucho tiempo para dataframes grandes. El orden (atendiendo a la eficiencia computacional) en que debemos intentar las operaciones es:\n",
        "\n",
        "\n",
        "\n",
        "1.   Vectorización\n",
        "2.   List comprehensions\n",
        "3.   Dataframe.[apply()](https://pandas.pydata.org/pandas-docs/stable/reference/api/pandas.DataFrame.apply.html)\n",
        "4.   Dataframe.[itertuples()](https://pandas.pydata.org/pandas-docs/stable/reference/api/pandas.DataFrame.itertuples.html), dataframe.[iteritems()](https://pandas.pydata.org/pandas-docs/stable/reference/api/pandas.DataFrame.iteritems.html#pandas.DataFrame.iteritems), dataframe.[iterrows()](https://pandas.pydata.org/pandas-docs/stable/reference/api/pandas.DataFrame.iterrows.html#pandas.DataFrame.iterrows)\n",
        "\n"
      ]
    },
    {
      "cell_type": "markdown",
      "metadata": {
        "id": "WrKV6Xq5Nfcb"
      },
      "source": [
        "## 0601 Iteracion\n",
        "Aunque sea el menos eficiente, iterar sobre el dataframe es lo más sencillo conceptualmente. Veamos cómo podemos modificar una variable así."
      ]
    },
    {
      "cell_type": "code",
      "metadata": {
        "id": "QzVKH-j7NSqR"
      },
      "source": [
        "for index, row in df_fifa19_clean.head(1).iterrows():\n",
        "  print('Index: ', index)\n",
        "  print('Row: ', row)"
      ],
      "execution_count": null,
      "outputs": []
    },
    {
      "cell_type": "code",
      "metadata": {
        "id": "_XKijnbpOjpu"
      },
      "source": [
        "for index, row in df_fifa19_clean.head(1).iterrows():\n",
        "  print('Index: ', index)\n",
        "  print('Peso: ', row['Weight'])"
      ],
      "execution_count": null,
      "outputs": []
    },
    {
      "cell_type": "code",
      "metadata": {
        "id": "cOKu_xP6PJd1"
      },
      "source": [
        "%%timeit \n",
        "for index, row in df_fifa19_clean.iterrows():\n",
        "  \n",
        "  # Si el string contine 'lbs' al final del mismo\n",
        "  if row['Weight'][-3:] == 'lbs':\n",
        "\n",
        "    # Nos quedamos con la parte anterior (el peso) con formato numérico (float)\n",
        "    peso_libras = float(row['Weight'][:-3])\n",
        "\n",
        "    # Convertimos el peso en kgs\n",
        "    peso_kgs = peso_libras*0.453592\n",
        "\n",
        "    # Populamos la columna\n",
        "    df_fifa19_clean.loc[index, 'Weight_kg'] = peso_kgs\n",
        "  \n",
        "  else:\n",
        "    # Si no contenía 'lbs' al final, lo dejamos como nulo\n",
        "    df_fifa19_clean.loc[index, 'Weight_kg'] = np.NaN"
      ],
      "execution_count": null,
      "outputs": []
    },
    {
      "cell_type": "code",
      "metadata": {
        "id": "ffkz3ADBWeLb"
      },
      "source": [
        "df_fifa19_clean.head()"
      ],
      "execution_count": null,
      "outputs": []
    },
    {
      "cell_type": "code",
      "metadata": {
        "id": "V-UlKXXXIPXg"
      },
      "source": [
        "df_fifa19_clean['Weight_kg'].isna().sum()"
      ],
      "execution_count": null,
      "outputs": []
    },
    {
      "cell_type": "markdown",
      "metadata": {
        "id": "Fn0NZQa4Jcc3"
      },
      "source": [
        "## 0602 Dataframe.apply()\n",
        "La siguiente opción en eficiencia es utilizar el método [.apply()](https://pandas.pydata.org/pandas-docs/stable/reference/api/pandas.DataFrame.apply.html). Más información sobre [cómo crear funciones para aplicar sobre un dataframe con .apply()](https://queirozf.com/entries/pandas-dataframes-apply-examples).\n",
        "\n",
        "Veamos cómo podemos modificar una variable así."
      ]
    },
    {
      "cell_type": "code",
      "metadata": {
        "id": "k0yrxVDsI2CB"
      },
      "source": [
        "def limpiar_peso(valor_original):\n",
        "  \"\"\"\n",
        "  Función que limpia la columna Weight al convertirla en formato númerico\n",
        "  y definir los valores en Kg\n",
        "  \"\"\"\n",
        "  # Si el string contine 'lbs' al final del mismo\n",
        "  if valor_original[-3:] == 'lbs':\n",
        "\n",
        "    # Nos quedamos con la parte anterior (el peso) con formato numérico (float)\n",
        "    peso_libras = float(valor_original[:-3])\n",
        "\n",
        "    # Convertimos el peso en kgs\n",
        "    peso_kgs = peso_libras*0.453592\n",
        "  \n",
        "  else:\n",
        "    # Si no contenía 'lbs' al final, lo dejamos como nulo\n",
        "    peso_kgs = np.NaN\n",
        "  \n",
        "  return peso_kgs"
      ],
      "execution_count": null,
      "outputs": []
    },
    {
      "cell_type": "code",
      "metadata": {
        "id": "oWdQaxstI0kh"
      },
      "source": [
        "%%timeit \n",
        "df_fifa19_clean['Weight_kg'] = df_fifa19_clean['Weight'].apply(limpiar_peso)"
      ],
      "execution_count": null,
      "outputs": []
    },
    {
      "cell_type": "code",
      "metadata": {
        "id": "i-BzoSAoJ7Em"
      },
      "source": [
        "df_fifa19_clean.head()"
      ],
      "execution_count": null,
      "outputs": []
    },
    {
      "cell_type": "markdown",
      "metadata": {
        "id": "9aGUhuqqLSBi"
      },
      "source": [
        "## 0603 List Comprehensions\n",
        "Método conciso y eficiente de crear listas. [Info extra sobre cuándo y por qué usar list comprehensions.](https://realpython.com/list-comprehension-python/#benefits-of-using-list-comprehensions) \n",
        "\n",
        "Las list comprehensions utilizan la sintaxis: \n",
        "*   [expression for item in list]\n",
        "\n",
        "O si incluímos condiciones:\n",
        "\n",
        "*   [expression if condicion else expresion for item in list]\n",
        "\n",
        "Veamos cómo podemos modificar una variable utilizando list comprehensions."
      ]
    },
    {
      "cell_type": "code",
      "metadata": {
        "id": "6jMUdUDFPQlc"
      },
      "source": [
        "# [expresion for item in list]"
      ],
      "execution_count": null,
      "outputs": []
    },
    {
      "cell_type": "code",
      "metadata": {
        "id": "I4vuE1I9PUJZ"
      },
      "source": [
        "[x for x in df_fifa19_clean['Weight']][:5]"
      ],
      "execution_count": null,
      "outputs": []
    },
    {
      "cell_type": "code",
      "metadata": {
        "id": "hZWMUQvwOnMq"
      },
      "source": [
        "[x[:-3] for x in df_fifa19_clean['Weight']][:5]"
      ],
      "execution_count": null,
      "outputs": []
    },
    {
      "cell_type": "code",
      "metadata": {
        "id": "4RpRQxmBPi54"
      },
      "source": [
        "[float(x[:-3]) for x in df_fifa19_clean['Weight']][:5]"
      ],
      "execution_count": null,
      "outputs": []
    },
    {
      "cell_type": "code",
      "metadata": {
        "id": "GahCybMsPmxy"
      },
      "source": [
        "[float(x[:-3])*0.453592 for x in df_fifa19_clean['Weight']][:5]"
      ],
      "execution_count": null,
      "outputs": []
    },
    {
      "cell_type": "code",
      "metadata": {
        "id": "984V8JbAP1HS"
      },
      "source": [
        "[float(x[:-3])*0.453592 if x[-3:]=='lbs' else np.NaN for x in df_fifa19_clean['Weight']][:5]"
      ],
      "execution_count": null,
      "outputs": []
    },
    {
      "cell_type": "code",
      "metadata": {
        "id": "15GrgLULLRVS"
      },
      "source": [
        "%%timeit \n",
        "df_fifa19_clean['Weight_kg'] = [float(x[:-3])*0.453592 if x[-3:]=='lbs' else np.NaN for x in df_fifa19_clean['Weight']]"
      ],
      "execution_count": null,
      "outputs": []
    },
    {
      "cell_type": "code",
      "metadata": {
        "id": "oVAUfUCaQhEV"
      },
      "source": [
        "df_fifa19_clean.head()"
      ],
      "execution_count": null,
      "outputs": []
    },
    {
      "cell_type": "markdown",
      "metadata": {
        "id": "dPxmtnU2RCue"
      },
      "source": [
        "## 0604 Vectorización\n",
        "Consiste en realizar operaciones con vectores en la medida de lo posible en lugar de elemento por elemento. [Más información sobre vectorización aquí](https://stackoverflow.com/questions/1422149/what-is-vectorization)."
      ]
    },
    {
      "cell_type": "code",
      "metadata": {
        "id": "P3McUkJlRB4W"
      },
      "source": [
        "# Vectorizamos la función que habíamos creado\n",
        "limpiar_peso_vectorizada = np.vectorize(limpiar_peso)"
      ],
      "execution_count": null,
      "outputs": []
    },
    {
      "cell_type": "code",
      "metadata": {
        "id": "DgucTGuyhulF"
      },
      "source": [
        "%%timeit\n",
        "df_fifa19_clean['Weight_kg'] = limpiar_peso_vectorizada(np.array(df_fifa19_clean['Weight']))"
      ],
      "execution_count": null,
      "outputs": []
    },
    {
      "cell_type": "code",
      "metadata": {
        "id": "45z3cbVTigxI"
      },
      "source": [
        "df_fifa19_clean.head()"
      ],
      "execution_count": null,
      "outputs": []
    },
    {
      "cell_type": "markdown",
      "metadata": {
        "id": "K0wyx1Z9iqWC"
      },
      "source": [
        "## 0605 EJEMPLO 8: Limpieza de columnas con precios\n",
        "Las columnas ['Value', 'Wage', 'Release Clasue'] continen valores monetarios en formatos un poco extraños: son strings, con el tipo de moneda antecediendo a la cifra, que contiene abreviaturas tipo M, K para indicar millones, miles, etc.\n",
        "\n",
        "Limpiemos estas columnas utilizando las distintas formas que hemos aprendido:"
      ]
    },
    {
      "cell_type": "markdown",
      "metadata": {
        "id": "PTrY-g8IqRPx"
      },
      "source": [
        "### 060501 Exploramos las columnas\n",
        "Para entender el formato."
      ]
    },
    {
      "cell_type": "code",
      "metadata": {
        "id": "RzFnesCFjgID"
      },
      "source": [
        "# Primero echamos un ojo a las columnas\n",
        "df_fifa19_clean[['Value','Wage','Release Clause']].head()"
      ],
      "execution_count": null,
      "outputs": []
    },
    {
      "cell_type": "code",
      "metadata": {
        "id": "pC-mU5hIkaEi"
      },
      "source": [
        "# Contienen nulos?\n",
        "df_fifa19_clean[['Value','Wage','Release Clause']].isna().sum()"
      ],
      "execution_count": null,
      "outputs": []
    },
    {
      "cell_type": "code",
      "metadata": {
        "id": "roOIITCEnb8l"
      },
      "source": [
        "# Release Clause sí tiene nulos: los rellenamos con un formato similar\n",
        "df_fifa19_clean['Release Clause'] = df_fifa19_clean['Release Clause'].fillna('€0M')"
      ],
      "execution_count": null,
      "outputs": []
    },
    {
      "cell_type": "code",
      "metadata": {
        "id": "PapLY0eEjy2d"
      },
      "source": [
        "# Todos los valores empiezan por el string '€'?\n",
        "for columna in ['Value','Wage','Release Clause']:\n",
        "  lista_valores = [x[:1] for x in df_fifa19_clean[columna]]\n",
        "  lista_sin_duplicados = list(set(lista_valores))\n",
        "  print('En la columna ' + columna + ' los valores empiezan por ', lista_sin_duplicados)"
      ],
      "execution_count": null,
      "outputs": []
    },
    {
      "cell_type": "code",
      "metadata": {
        "id": "1oxm4OZRkHS8"
      },
      "source": [
        "# Todos los valores acaban por el string 'M'?\n",
        "for columna in ['Value','Wage','Release Clause']:\n",
        "  lista_valores = [x[-1:] for x in df_fifa19_clean[columna]]\n",
        "  lista_sin_duplicados = list(set(lista_valores))\n",
        "  print('En la columna ' + columna + ' los valores acaban por ', lista_sin_duplicados)"
      ],
      "execution_count": null,
      "outputs": []
    },
    {
      "cell_type": "markdown",
      "metadata": {
        "id": "AZeYzFGTqbcs"
      },
      "source": [
        "### 060502 Iteración\n",
        "Usamos primero el menos eficiente de los métodos, la iteración sobre las filas del dataframe."
      ]
    },
    {
      "cell_type": "code",
      "metadata": {
        "id": "-ikKCvaNqsvd"
      },
      "source": [
        "for index, row in df_fifa19_clean.loc[:3,['Value','Wage','Release Clause']].iterrows():\n",
        "  print(index)\n",
        "  print(row)"
      ],
      "execution_count": null,
      "outputs": []
    },
    {
      "cell_type": "code",
      "metadata": {
        "id": "uc196Sk9rNDU"
      },
      "source": [
        "def limpieza_cols_dinero(valor_original):\n",
        "  \"\"\"\n",
        "  Esta función convierte los valores originales de ['Value','Wage','Release Clause']\n",
        "  en valores numéricos en €.\n",
        "  \"\"\"\n",
        "  if valor_original[-1]=='M':\n",
        "    valor_final = float(valor_original[1:-1])*1000000\n",
        "  elif valor_original[-1]=='K':\n",
        "    valor_final = float(valor_original[1:-1])*1000\n",
        "  else:\n",
        "    valor_final = float(valor_original[1:])\n",
        "  \n",
        "  return valor_final"
      ],
      "execution_count": null,
      "outputs": []
    },
    {
      "cell_type": "code",
      "metadata": {
        "id": "1vvBmE-IkKHX"
      },
      "source": [
        "%%timeit \n",
        "for index, row in df_fifa19_clean.iterrows():\n",
        "  \n",
        "  for columna in ['Value','Wage','Release Clause']:\n",
        "    valor_orig = row[columna]\n",
        "    df_fifa19_clean.loc[index, columna+'_€'] = limpieza_cols_dinero(valor_orig)"
      ],
      "execution_count": null,
      "outputs": []
    },
    {
      "cell_type": "markdown",
      "metadata": {
        "id": "g7qNzPa9stt_"
      },
      "source": [
        "### 060503 Dataframe.apply()"
      ]
    },
    {
      "cell_type": "code",
      "metadata": {
        "id": "NZyNGdhZioUR"
      },
      "source": [
        "%%timeit \n",
        "for columna in ['Value','Wage','Release Clause']:\n",
        "  df_fifa19_clean[columna+'_€'] = df_fifa19_clean[columna].apply(limpieza_cols_dinero)"
      ],
      "execution_count": null,
      "outputs": []
    },
    {
      "cell_type": "markdown",
      "metadata": {
        "id": "JSFO-OX5-UGz"
      },
      "source": [
        "### 060503 Vectorización"
      ]
    },
    {
      "cell_type": "code",
      "metadata": {
        "id": "0e-C8WKe-b_H"
      },
      "source": [
        "limpieza_cols_dinero_vectorizada = np.vectorize(limpieza_cols_dinero)"
      ],
      "execution_count": null,
      "outputs": []
    },
    {
      "cell_type": "code",
      "metadata": {
        "id": "PJSvWrb8-Tg9"
      },
      "source": [
        "%%timeit \n",
        "for columna in ['Value','Wage','Release Clause']:\n",
        "  df_fifa19_clean[columna+'_€'] = limpieza_cols_dinero_vectorizada(np.array(df_fifa19_clean[columna]))"
      ],
      "execution_count": null,
      "outputs": []
    },
    {
      "cell_type": "markdown",
      "metadata": {
        "id": "dtbiYDZ2_yki"
      },
      "source": [
        "## 0606 EJERCICIO 2: Limpieza variable altura\n",
        "La variable de altura de los jugadores: 'Height' está expresada en formato string y con pies y pulgadas como unidades. \n",
        "\n",
        "Crea la variable 'Height_cm' que contenga la altura de los jugadores en formato numérico (float) y con cm como unidades.\n",
        "\n",
        "Para este ejercicio te vendrá bien la función [.split()](https://pandas.pydata.org/pandas-docs/stable/reference/api/pandas.Series.str.split.html)."
      ]
    },
    {
      "cell_type": "code",
      "metadata": {
        "id": "gd3VB3Yp_-4v"
      },
      "source": [
        "# Lee la documentación de la  función split() y prueba estas ejecuciones\n",
        "string_de_prueba = 'izq.derecha'\n",
        "\n",
        "display(string_de_prueba.split('.'))\n",
        "\n",
        "display(string_de_prueba.split('.')[0])\n",
        "\n",
        "display(string_de_prueba.split('.')[1])"
      ],
      "execution_count": null,
      "outputs": []
    },
    {
      "cell_type": "code",
      "metadata": {
        "id": "xbeX4EEHC8XM"
      },
      "source": [
        "# Explora la columna, hay alguna que no contenga el separador \"'\"?\n"
      ],
      "execution_count": null,
      "outputs": []
    },
    {
      "cell_type": "code",
      "metadata": {
        "id": "e8-1oHNpBzY5"
      },
      "source": [
        "# Define la función que pasará al altura de un string de pies'pulgadas \n",
        "# al valor numérico (float) de la altura en cm\n"
      ],
      "execution_count": null,
      "outputs": []
    },
    {
      "cell_type": "code",
      "metadata": {
        "id": "4ofXfZnNE3u_"
      },
      "source": [
        "## Iteración\n",
        "%%timeit\n"
      ],
      "execution_count": null,
      "outputs": []
    },
    {
      "cell_type": "code",
      "metadata": {
        "id": "OdJEwne6GKbz"
      },
      "source": [
        "## Datafrane.apply()\n",
        "%%timeit\n"
      ],
      "execution_count": null,
      "outputs": []
    },
    {
      "cell_type": "code",
      "metadata": {
        "id": "VW9RGaBGHM_V"
      },
      "source": [
        "## Vectorización\n",
        "%%timeit"
      ],
      "execution_count": null,
      "outputs": []
    },
    {
      "cell_type": "markdown",
      "metadata": {
        "id": "9Qa0K1jE8b-K"
      },
      "source": [
        "## 0607 Creación de nuevas variables\n",
        "Además de los métodos de transformación que hemos visto, existen otros propios de las distintas clases que nos permiten también generar variables nuevas.\n",
        "\n",
        "Por ejemplo, los métodos propios de los formatos de fechas:"
      ]
    },
    {
      "cell_type": "markdown",
      "metadata": {
        "id": "5_UCU0pneJh5"
      },
      "source": [
        "### 060701 Métodos propios de timedate"
      ]
    },
    {
      "cell_type": "code",
      "metadata": {
        "id": "B9xdOMWM8bUa"
      },
      "source": [
        "# Nueva variable año\n",
        "df_sp500['Year'] = df_sp500['Date'].dt.year\n",
        "df_sp500.head()"
      ],
      "execution_count": null,
      "outputs": []
    },
    {
      "cell_type": "code",
      "metadata": {
        "id": "BotuSeRBeQJU"
      },
      "source": [
        "# Nueva variable día de la semana\n",
        "df_sp500['Day of Week'] = df_sp500['Date'].dt.dayofweek\n",
        "df_sp500.head()"
      ],
      "execution_count": null,
      "outputs": []
    },
    {
      "cell_type": "markdown",
      "metadata": {
        "id": "9zd7-7jmejqQ"
      },
      "source": [
        "### 060702 Operaciones con columnas"
      ]
    },
    {
      "cell_type": "code",
      "metadata": {
        "id": "kTngEsyX9QUF"
      },
      "source": [
        "# Nueva variable volatilidad diaria\n",
        "df_sp500['Volatilidad Diaria'] = (df_sp500['High']-df_sp500['Low'])/df_sp500['Close']\n",
        "df_sp500.head()"
      ],
      "execution_count": null,
      "outputs": []
    },
    {
      "cell_type": "code",
      "metadata": {
        "id": "1j2sC92a-G2L"
      },
      "source": [
        "df_sp500.tail()"
      ],
      "execution_count": null,
      "outputs": []
    },
    {
      "cell_type": "markdown",
      "metadata": {
        "id": "RVKI3mQUexq4"
      },
      "source": [
        "### 060703 Variables dummy\n",
        "Variables binarias que adoptan un 1 si se cumple cierta condición."
      ]
    },
    {
      "cell_type": "code",
      "metadata": {
        "id": "YgN_80pB-OxA"
      },
      "source": [
        "filtro_movilidad_diaria_disponible = df_sp500['High'] != df_sp500['Low']\n",
        "filtro_movilidad_diaria_disponible"
      ],
      "execution_count": null,
      "outputs": []
    },
    {
      "cell_type": "code",
      "metadata": {
        "id": "9zUFTxQD-s6O"
      },
      "source": [
        "# Nueva variable movilidad diaria disponible\n",
        "df_sp500['Dummy Movilidad'] = filtro_movilidad_diaria_disponible.astype(int)\n",
        "df_sp500['Dummy Movilidad']"
      ],
      "execution_count": null,
      "outputs": []
    },
    {
      "cell_type": "markdown",
      "metadata": {
        "id": "f1JcBlRWfFFz"
      },
      "source": [
        "### 060704 Operaciones de ventana\n",
        "A veces queremos realizar operaciones entre distintas filas. Por ejemplo:\n",
        "\n",
        "\n",
        "*   Comparar un valor hoy con el correspondiente ayer (ver método [.shift()](https://pandas.pydata.org/pandas-docs/stable/reference/api/pandas.DataFrame.shift.html))\n",
        "*   Calcular un estadístico respecto a los n últimos registros (ver método [.rolling()](https://pandas.pydata.org/pandas-docs/stable/reference/api/pandas.DataFrame.rolling.html))\n"
      ]
    },
    {
      "cell_type": "code",
      "metadata": {
        "id": "AAC1GjOSgUqY"
      },
      "source": [
        "df_sp500['Close'][:3]"
      ],
      "execution_count": null,
      "outputs": []
    },
    {
      "cell_type": "code",
      "metadata": {
        "id": "zGXppMA7gX5J"
      },
      "source": [
        "df_sp500['Close'].shift(1)[:3]"
      ],
      "execution_count": null,
      "outputs": []
    },
    {
      "cell_type": "code",
      "metadata": {
        "id": "VQs9VDHKf57c"
      },
      "source": [
        "# Variación respecto a ayer\n",
        "df_sp500['Variacion'] = df_sp500['Close']/df_sp500['Close'].shift(1)"
      ],
      "execution_count": null,
      "outputs": []
    },
    {
      "cell_type": "code",
      "metadata": {
        "id": "VPPVDTNWgqgo"
      },
      "source": [
        "df_sp500['Variacion'].head()"
      ],
      "execution_count": null,
      "outputs": []
    },
    {
      "cell_type": "code",
      "metadata": {
        "id": "ru-uWslxg5sz"
      },
      "source": [
        "# Variación media ultimos n días\n",
        "df_sp500['Variacion ult7'] = df_sp500['Variacion'].rolling(7).mean()"
      ],
      "execution_count": null,
      "outputs": []
    },
    {
      "cell_type": "code",
      "metadata": {
        "id": "GH_4nReug9DR"
      },
      "source": [
        "# También podemos crear nuestra propia función\n",
        "df_sp500['Variacion ac ult 250'] = df_sp500['Variacion'].rolling(7).agg(lambda x:x.prod())"
      ],
      "execution_count": null,
      "outputs": []
    },
    {
      "cell_type": "code",
      "metadata": {
        "id": "OBp9iv7qjl38"
      },
      "source": [
        "df_sp500.tail()"
      ],
      "execution_count": null,
      "outputs": []
    },
    {
      "cell_type": "markdown",
      "metadata": {
        "id": "p6NrtOOUhNz-"
      },
      "source": [
        "## 0608 Guardamos la tabla\n",
        "Hemos realizado cierto trabajo para limpiar el dataframe de los jugadores del fifa. Para no tener que repetirlo en el futuro, podemos guardar la tabla modificada y cargar ésta en adelante."
      ]
    },
    {
      "cell_type": "code",
      "metadata": {
        "id": "Xr8DShthh3_J"
      },
      "source": [
        "# Lo más sencillo es guardar el archivo en el Drive Personal\n",
        "drive.mount('/content/drive')\n",
        "df_fifa19_clean.to_csv(f\"/content/drive/My Drive/Data/Clases/Fifa19_Clean.csv\", sep=\",\", index=False)"
      ],
      "execution_count": null,
      "outputs": []
    },
    {
      "cell_type": "markdown",
      "metadata": {
        "id": "I1BXptro9Zae"
      },
      "source": [
        "# 07 Distribución de variables\n",
        "Hasta ahora hemos importado el dataset, nos hemos familiarizado con sus características principales, hemos identificado y limpiado los nulos y hemos transformado algunas variables para crear otras con más sentido.\n",
        "\n",
        "Veamos ahora cuál es la [distribución](https://es.wikipedia.org/wiki/Distribuci%C3%B3n_de_probabilidad) de cada variable."
      ]
    },
    {
      "cell_type": "code",
      "metadata": {
        "id": "rAwjqReJRSeW"
      },
      "source": [
        "# Importamos df_fifa19_clean para asegurar haber realizado las transformaciones correctamente\n",
        "# url de archivo raw de df_fifa19_clean\n",
        "url = 'https://raw.githubusercontent.com/JotaBlanco/TheValley/main/Data/Fifa19_Clean.csv'\n",
        "\n",
        "# carga el archivo en un dataframe df_covid\n",
        "df_fifa19_clean = pd.read_csv(url)\n",
        "\n",
        "df_fifa19_clean.head()"
      ],
      "execution_count": null,
      "outputs": []
    },
    {
      "cell_type": "markdown",
      "metadata": {
        "id": "MaViOOsBIhyj"
      },
      "source": [
        "## 0701 Variables numéricas\n",
        "En cuanto a las variables de tipo numérico, el método dataframe.[describe()](https://pandas.pydata.org/pandas-docs/stable/reference/api/pandas.DataFrame.describe.html) es muy útil para conocer sus estadísticos principales."
      ]
    },
    {
      "cell_type": "code",
      "metadata": {
        "id": "PzucmtY_I8an"
      },
      "source": [
        "df_fifa19_clean.describe()"
      ],
      "execution_count": null,
      "outputs": []
    },
    {
      "cell_type": "markdown",
      "metadata": {
        "id": "uulu_p6WDgnc"
      },
      "source": [
        "## 0702 Variables categóricas\n",
        "Aquellas que pueden adoptar valores finitos. Es muy útil el método dataframe[columna].[value_counts()](https://pandas.pydata.org/pandas-docs/stable/reference/api/pandas.Series.value_counts.html)."
      ]
    },
    {
      "cell_type": "code",
      "metadata": {
        "id": "w_gXwHy69O3z"
      },
      "source": [
        "df_fifa19_clean['Nationality'].value_counts()"
      ],
      "execution_count": null,
      "outputs": []
    },
    {
      "cell_type": "code",
      "metadata": {
        "id": "tjbhDGrlFADC"
      },
      "source": [
        "df_fifa19_clean['Preferred Foot'].value_counts()"
      ],
      "execution_count": null,
      "outputs": []
    },
    {
      "cell_type": "markdown",
      "metadata": {
        "id": "A6O4gYD5cyIz"
      },
      "source": [
        "El método dataframe[columna].[unique()](https://pandas.pydata.org/pandas-docs/stable/reference/api/pandas.unique.html) puede resultar útil también."
      ]
    },
    {
      "cell_type": "code",
      "metadata": {
        "id": "QXgTdif5cxZ7"
      },
      "source": [
        "df_fifa19_clean['Nationality'].unique()"
      ],
      "execution_count": null,
      "outputs": []
    },
    {
      "cell_type": "code",
      "metadata": {
        "id": "uHfSNt-hDn2c"
      },
      "source": [
        "df_fifa19_clean.head()"
      ],
      "execution_count": null,
      "outputs": []
    },
    {
      "cell_type": "markdown",
      "metadata": {
        "id": "pMrrVk4TM7X2"
      },
      "source": [
        "## 0703 Distribuciones respecto a otras\n",
        "A veces nos interesa entender la distribución de una variable respecto a otra. Para esto suele ser muy útil la operación [groupby()](https://pandas.pydata.org/pandas-docs/stable/reference/api/pandas.DataFrame.groupby.html).\n",
        "\n",
        "Por ejemplo, son mejores los zurdos de media? Es verdad que los jugadores españoles tienden a ser pequeñitos comparados con otras nacionalidades?"
      ]
    },
    {
      "cell_type": "code",
      "metadata": {
        "id": "96BOwi7zEBCl"
      },
      "source": [
        "# Son de media mejores los zurdos?\n",
        "df_fifa19_clean.groupby('Preferred Foot')['Overall'].mean().reset_index()"
      ],
      "execution_count": null,
      "outputs": []
    },
    {
      "cell_type": "code",
      "metadata": {
        "id": "DrWH5TuJPlNs"
      },
      "source": [
        "# Son de media mejores los zurdos?\n",
        "df_fifa19_clean.groupby('Preferred Foot')['Overall'].quantile(.25).reset_index()"
      ],
      "execution_count": null,
      "outputs": []
    },
    {
      "cell_type": "code",
      "metadata": {
        "id": "nGX7WslqN6Ik"
      },
      "source": [
        "# Cuales son los paises con jugadores más grandes y pesados (y menos)?\n",
        "df_fifa19_clean.groupby('Nationality')[['Height_cm','Weight_kg']].mean().reset_index().sort_values(['Height_cm','Weight_kg'], ascending=False).head(20)"
      ],
      "execution_count": null,
      "outputs": []
    },
    {
      "cell_type": "code",
      "metadata": {
        "id": "T4gXoAqASbPJ"
      },
      "source": [
        "# Cual es la media anual del sp500?\n",
        "df_sp500.groupby('Year')['Close'].mean().reset_index()"
      ],
      "execution_count": null,
      "outputs": []
    }
  ]
}